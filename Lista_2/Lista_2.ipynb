{
 "cells": [
  {
   "cell_type": "markdown",
   "metadata": {},
   "source": [
    "# Zadanie 1"
   ]
  },
  {
   "cell_type": "markdown",
   "metadata": {},
   "source": [
    "Powtórz zadanie 5 z listy 1, ale usuń ostatnią 9 z $x_4$ i ostatnią 7 z $x_5$. Jaki wpływ nawyniki mają niewielkie zmiany danych?"
   ]
  },
  {
   "cell_type": "code",
   "execution_count": 1,
   "metadata": {},
   "outputs": [
    {
     "data": {
      "text/plain": [
       "ascending"
      ]
     },
     "execution_count": 1,
     "metadata": {},
     "output_type": "execute_result"
    }
   ],
   "source": [
    "\"Dodawanie w przód\"\n",
    "function front(vector_1, vector_2, my_type)\n",
    "  sum::my_type = 0.0\n",
    "  for i = 1:length(vector_1)\n",
    "    sum += my_type(vector_1[i]) * my_type(vector_2[i])\n",
    "  end\n",
    "  return sum\n",
    "end\n",
    "\n",
    "\"Dodawanie w tył\"\n",
    "function back(vector_1, vector_2, my_type)\n",
    "  sum::my_type = 0.0\n",
    "  for i = length(vector_1):-1:1\n",
    "    sum += my_type(vector_1[i]) * my_type(vector_2[i])\n",
    "  end\n",
    "  return sum\n",
    "end\n",
    "\n",
    "\"Dodawanie od największego do najmniejszego\"\n",
    "function descending(vector_1, vector_2, my_type)\n",
    "    \n",
    "    positives = zeros(my_type, 0)\n",
    "    negatives = zeros(my_type, 0)\n",
    "    \n",
    "    for i = 1 : length(vector_1)\n",
    "        \n",
    "        mul = my_type(vector_1[i]) * my_type(vector_2[i])\n",
    "        \n",
    "        if mul < 0.0\n",
    "            push!(negatives, mul)\n",
    "        else\n",
    "            push!(positives, mul)\n",
    "        end\n",
    "    end\n",
    "    \n",
    "    return my_type(sum(sort(positives, rev=true)) + sum(sort(negatives, rev=true)))\n",
    "    \n",
    "    \n",
    "end\n",
    "\n",
    "\"Dodawanie od najmniejszego do największego\"\n",
    "function ascending(vector_1, vector_2, my_type)\n",
    "    \n",
    "    positives = zeros(my_type, 0)\n",
    "    negatives = zeros(my_type, 0)\n",
    "    \n",
    "    for i = 1 : length(vector_1)\n",
    "        \n",
    "        mul = my_type(vector_1[i]) * my_type(vector_2[i])\n",
    "        \n",
    "        if mul < 0.0\n",
    "            push!(negatives, mul)\n",
    "        else\n",
    "            push!(positives, mul)\n",
    "        end\n",
    "    end\n",
    "    \n",
    "    return my_type(sum(sort(positives)) + sum(sort(negatives)))\n",
    "        \n",
    "end"
   ]
  },
  {
   "cell_type": "markdown",
   "metadata": {},
   "source": [
    "Wyniki z zadania 5. z poprzedniej listy bez modyfikacji"
   ]
  },
  {
   "cell_type": "code",
   "execution_count": 2,
   "metadata": {},
   "outputs": [
    {
     "name": "stdout",
     "output_type": "stream",
     "text": [
      "Float32\n",
      "W przód: -0.4999443, błąd: 0.49994429944939167\n",
      "W tył: -0.4543457, błąd: 0.4543457031149343\n",
      "Malejąco: -0.5, błąd: 0.4999999999899343\n",
      "Rosnąco: -0.5, błąd: 0.4999999999899343\n",
      "\n",
      "Float64\n",
      "W przód: 1.0251881368296672e-10, błąd: 1.1258452438296672e-10\n",
      "W tył: -1.5643308870494366e-10, błąd: 1.4636737800494365e-10\n",
      "Malejąco: 0.0, błąd: 1.0065710700000004e-11\n",
      "Rosnąco: 0.0, błąd: 1.0065710700000004e-11\n"
     ]
    }
   ],
   "source": [
    "x =  [2.718281828,-3.141592654,1.414213562,0.5772156649,0.3010299957]\n",
    "y =  [1486.2497,878366.9879,-22.37492,4773714.647,0.000185049]\n",
    "result = -1.00657107000000 * (1/10)^11\n",
    "\n",
    "println(\"Float32\")\n",
    "f = front(x, y, Float32)\n",
    "b = back(x, y, Float32)\n",
    "d = descending(x, y, Float32)\n",
    "a = ascending(x, y, Float32)\n",
    "\n",
    "println(\"W przód: \", f, \", błąd: \", abs(result - f))\n",
    "println(\"W tył: \", b, \", błąd: \", abs(result - b))\n",
    "println(\"Malejąco: \", d, \", błąd: \", abs(result - d))\n",
    "println(\"Rosnąco: \", a, \", błąd: \", abs(result - a))\n",
    "\n",
    "\n",
    "println(\"\\nFloat64\")\n",
    "f = front(x, y, Float64)\n",
    "b = back(x, y, Float64)\n",
    "d = descending(x, y, Float64)\n",
    "a = ascending(x, y, Float64)\n",
    "\n",
    "println(\"W przód: \", f, \", błąd: \", abs(result - f))\n",
    "println(\"W tył: \", b, \", błąd: \", abs(result - b))\n",
    "println(\"Malejąco: \", d, \", błąd: \", abs(result - d))\n",
    "println(\"Rosnąco: \", a, \", błąd: \", abs(result - a))\n"
   ]
  },
  {
   "cell_type": "markdown",
   "metadata": {},
   "source": [
    "Eksperyment dla zmodyfikowanych danych, zgodnie z treścią zadania:"
   ]
  },
  {
   "cell_type": "code",
   "execution_count": 3,
   "metadata": {},
   "outputs": [
    {
     "name": "stdout",
     "output_type": "stream",
     "text": [
      "Float32\n",
      "W przód: -0.4999443, błąd: 0.49994429944939167\n",
      "W tył: -0.4543457, błąd: 0.4543457031149343\n",
      "Malejąco: -0.5, błąd: 0.4999999999899343\n",
      "Rosnąco: -0.5, błąd: 0.4999999999899343\n",
      "\n",
      "Float64\n",
      "W przód: -0.004296342739891585, błąd: 0.004296342729825875\n",
      "W tył: -0.004296342998713953, błąd: 0.004296342988648243\n",
      "Malejąco: -0.004296342842280865, błąd: 0.004296342832215154\n",
      "Rosnąco: -0.004296342842280865, błąd: 0.004296342832215154\n"
     ]
    }
   ],
   "source": [
    "x =  [2.718281828,-3.141592654,1.414213562,0.577215664,0.301029995]\n",
    "y =  [1486.2497,878366.9879,-22.37492,4773714.647,0.000185049]\n",
    "result = -1.00657107000000 * (1/10)^11\n",
    "\n",
    "println(\"Float32\")\n",
    "f = front(x, y, Float32)\n",
    "b = back(x, y, Float32)\n",
    "d = descending(x, y, Float32)\n",
    "a = ascending(x, y, Float32)\n",
    "\n",
    "println(\"W przód: \", f, \", błąd: \", abs(result - f))\n",
    "println(\"W tył: \", b, \", błąd: \", abs(result - b))\n",
    "println(\"Malejąco: \", d, \", błąd: \", abs(result - d))\n",
    "println(\"Rosnąco: \", a, \", błąd: \", abs(result - a))\n",
    "\n",
    "\n",
    "println(\"\\nFloat64\")\n",
    "f = front(x, y, Float64)\n",
    "b = back(x, y, Float64)\n",
    "d = descending(x, y, Float64)\n",
    "a = ascending(x, y, Float64)\n",
    "\n",
    "println(\"W przód: \", f, \", błąd: \", abs(result - f))\n",
    "println(\"W tył: \", b, \", błąd: \", abs(result - b))\n",
    "println(\"Malejąco: \", d, \", błąd: \", abs(result - d))\n",
    "println(\"Rosnąco: \", a, \", błąd: \", abs(result - a))"
   ]
  },
  {
   "cell_type": "markdown",
   "metadata": {},
   "source": [
    "Na podstawie powyższych eksperymentów można zauważyć, że niewielka zmiana danych wpływa na otrzymywane wyniki. W przypadku Float32 zmiany są praktycznie niewidoczne, ponieważ dokonana perturbacja danych pojawiła się na bitach, które nie mają znaczenia w tej arytmetyce (powodem jest jej precyzja). Natomiast w przypadku arytmetyki Float64, dokonana zmiana ma wielki wpływ na wynik, różnica między wynikami sięga 10 rzędów! "
   ]
  },
  {
   "cell_type": "markdown",
   "metadata": {},
   "source": [
    "Zadanie to jest zatem źle uwarunkowane, ponieważ niewielkie względne zmiany danych powodują duże względne odkształcenia wyników."
   ]
  },
  {
   "cell_type": "markdown",
   "metadata": {},
   "source": [
    "# Zadanie 2\n"
   ]
  },
  {
   "cell_type": "markdown",
   "metadata": {},
   "source": [
    "Narysować wykres funkcji $f(x) = e^xln(1 + e^{−x})$ w co najmniej dwóch dowolnychprogramach do wizualizacji. Następnie policzyć granicę funkcji $\\lim_{x\\to\\infty} f(x)$. Porównać wykres funkcji z policzoną granicą. Wyjaśnić zjawisko."
   ]
  },
  {
   "cell_type": "markdown",
   "metadata": {},
   "source": [
    "Wykres wykonany przez Wolfram Alpha:\n",
    "![wolfram](wolfram.jpg)"
   ]
  },
  {
   "cell_type": "markdown",
   "metadata": {},
   "source": [
    "Wykres wykonany przez stronę Desmos:\n",
    "![desmos](desmos.jpg)"
   ]
  },
  {
   "cell_type": "markdown",
   "metadata": {},
   "source": [
    "Korzystając z twierdzenia de l'Hospitala policzę granicę podanej funkcji:"
   ]
  },
  {
   "cell_type": "markdown",
   "metadata": {},
   "source": [
    "$\\lim_{x\\to\\infty}e^xln(1 + e^{−x}) = \\lim_{x\\to\\infty}\\frac{ln(1 + e^{−x})}{e^{-x}} \\stackrel{H}{=} \\lim_{x\\to\\infty}\\frac{-\\frac{1}{1+e^x}}{-e^{-x}} = \\lim_{x\\to\\infty}\\frac{e^x}{1+e^x} = 1$"
   ]
  },
  {
   "cell_type": "markdown",
   "metadata": {},
   "source": [
    "Łatwo zauważyć, że wyliczona granica nie pokrywa się z wykresami funkcji. W okolicach argumentu x = 35, funkcja zaczyna przyjmować wartości w okolicach jedynki, po czym zaczyna zbiegać do 0. Różnica ta wynika z błędu obliczeń, który generuje niedokładna wartość $ln(1 + e^{−x})$, która dla dużych x, jest bardzo bliska zeru. Problemem jest także mnożenie: $e^x * ln(1 + e^{−x})$; dla dużych x, przemnażamy dużą liczbę ($e^x$) przez znacznie mniejszą ($ln(1 + e^{−x}$))."
   ]
  },
  {
   "cell_type": "markdown",
   "metadata": {},
   "source": [
    "Jest to kolejny przykład zadania źle uwarunkowanego"
   ]
  },
  {
   "cell_type": "markdown",
   "metadata": {},
   "source": [
    "# Zadanie 3"
   ]
  },
  {
   "cell_type": "markdown",
   "metadata": {},
   "source": [
    "Rozwiązywanie układu równań liniowych\n",
    "$Ax=b$, dla danej macierzy współczynników $A∈\\mathbb{R}^{n×n}$ i wektora prawych stron $b∈\\mathbb{A}n$."
   ]
  },
  {
   "cell_type": "markdown",
   "metadata": {},
   "source": [
    "Generowanie macierzy będzie się odbywało na 2 sposoby:"
   ]
  },
  {
   "cell_type": "markdown",
   "metadata": {},
   "source": [
    "- Macierz Hilberta ( $H_n$ ):"
   ]
  },
  {
   "cell_type": "code",
   "execution_count": 4,
   "metadata": {},
   "outputs": [
    {
     "data": {
      "text/plain": [
       "hilb (generic function with 1 method)"
      ]
     },
     "execution_count": 4,
     "metadata": {},
     "output_type": "execute_result"
    }
   ],
   "source": [
    "function hilb(n::Int)\n",
    "# Function generates the Hilbert matrix  A of size n,\n",
    "#  A (i, j) = 1 / (i + j - 1)\n",
    "# Inputs:\n",
    "#\tn: size of matrix A, n>=1\n",
    "#\n",
    "#\n",
    "# Usage: hilb(10)\n",
    "#\n",
    "# Pawel Zielinski\n",
    "        if n < 1\n",
    "         error(\"size n should be >= 1\")\n",
    "        end\n",
    "        return [1 / (i + j - 1) for i in 1:n, j in 1:n]\n",
    "end\n"
   ]
  },
  {
   "cell_type": "markdown",
   "metadata": {},
   "source": [
    "- Losowa macierz ze wskaźnikiem uwarunkowania ( $R_n$ )"
   ]
  },
  {
   "cell_type": "code",
   "execution_count": 5,
   "metadata": {},
   "outputs": [
    {
     "data": {
      "text/plain": [
       "matcond (generic function with 1 method)"
      ]
     },
     "execution_count": 5,
     "metadata": {},
     "output_type": "execute_result"
    }
   ],
   "source": [
    "using LinearAlgebra\n",
    "\n",
    "function matcond(n::Int, c::Float64)\n",
    "# Function generates a random square matrix A of size n with\n",
    "# a given condition number c.\n",
    "# Inputs:\n",
    "#\tn: size of matrix A, n>1\n",
    "#\tc: condition of matrix A, c>= 1.0\n",
    "#\n",
    "# Usage: matcond(10, 100.0)\n",
    "#\n",
    "# Pawel Zielinski\n",
    "        if n < 2\n",
    "         error(\"size n should be > 1\")\n",
    "        end\n",
    "        if c< 1.0\n",
    "         error(\"condition number  c of a matrix  should be >= 1.0\")\n",
    "        end\n",
    "        (U,S,V)=svd(rand(n,n))\n",
    "        return U*diagm(0 =>[LinRange(1.0,c,n);])*V'\n",
    "end\n",
    "\n",
    "\n",
    "\n",
    "\n"
   ]
  },
  {
   "cell_type": "markdown",
   "metadata": {},
   "source": [
    "Oto funkcja, której zadaniem jest obliczenie błędów względnych podczas rozwiązywania równania z wykorzystaniem 2 typów macierzy oraz dwóch sposobów rozwiązywania równań (eliminacja gaussa, metoda inwersji)"
   ]
  },
  {
   "cell_type": "code",
   "execution_count": 6,
   "metadata": {},
   "outputs": [
    {
     "data": {
      "text/plain": [
       "equation (generic function with 1 method)"
      ]
     },
     "execution_count": 6,
     "metadata": {},
     "output_type": "execute_result"
    }
   ],
   "source": [
    "function equation(A, n)\n",
    "    x = ones(n, 1)\n",
    "    b = A * x\n",
    "    \n",
    "    gauss = A \\ b\n",
    "    inverse = inv(A) * b\n",
    "    \n",
    "    gauss_err = norm(gauss - x) / norm(x)\n",
    "    inverse_err = norm(inverse - x) / norm(x)\n",
    "    println(n, \"   \", rank(A), \"      \", cond(A), \"    \", gauss_err, \"    \", inverse_err)\n",
    "      \n",
    "end"
   ]
  },
  {
   "cell_type": "code",
   "execution_count": 7,
   "metadata": {},
   "outputs": [
    {
     "name": "stdout",
     "output_type": "stream",
     "text": [
      "Macierz Hilberta\n",
      "Wyniki w postaci: \n",
      "n rank(A)     cond(A)             eliminacja gaussa              inv\n",
      "2   2      19.28147006790397    5.661048867003676e-16    1.1240151438116956e-15\n",
      "3   3      524.0567775860644    8.022593772267726e-15    9.825526038180824e-15\n",
      "4   4      15513.73873892924    4.4515459601812086e-13    2.950477637286781e-13\n",
      "5   5      476607.25024259434    1.6828426299227195e-12    8.500055777753297e-12\n",
      "6   6      1.4951058642254665e7    2.618913302311624e-10    3.3474135070361745e-10\n",
      "7   7      4.75367356583129e8    1.2606867224171548e-8    5.163959183577243e-9\n",
      "8   8      1.5257575538060041e10    1.026543065687064e-7    2.698715074276819e-7\n",
      "9   9      4.931537564468762e11    4.83235712050215e-6    9.175846868614517e-6\n",
      "10   10      1.6024416992541715e13    0.0006329153722983848    0.00045521422517408853\n",
      "11   10      5.222677939280335e14    0.011543958596122112    0.00804446677343116\n",
      "12   11      1.7514731907091464e16    0.2975640310734787    0.34392937091205217\n",
      "13   11      3.344143497338461e18    2.375017867706776    5.585796893150773\n",
      "14   11      6.200786263161444e17    5.281004646755168    4.800641929017436\n",
      "15   12      3.674392953467974e17    1.177294734836712    4.8273577212576475\n",
      "16   12      7.865467778431645e17    20.564655823804095    31.736467496266126\n",
      "17   12      1.263684342666052e18    17.742214635179074    15.910335962604142\n",
      "18   12      2.2446309929189128e18    4.2764564411159425    6.281223433472033\n",
      "19   13      6.471953976541591e18    22.119937292648906    22.92561401563632\n",
      "20   13      1.3553657908688225e18    14.930069669294001    21.53949860251383\n",
      "21   13      3.290126328601399e18    18.369045244503365    24.078535940725146\n",
      "22   13      1.0361032753348465e19    26.107666116830583    29.771863032425237\n",
      "23   13      6.313778670724671e17    19.168073735741196    22.059131843353537\n",
      "24   13      2.129502667338134e18    43.568421268948946    266.074869121832\n",
      "25   13      1.3719347461445998e18    15.005265568240205    14.069789072137178\n",
      "26   14      5.838636705219328e18    24.519367683389167    34.28575327831834\n",
      "27   14      4.424587877361583e18    36.23226335747055    25.35953705817198\n",
      "28   14      9.235324245161374e18    15.540302851384247    19.16796153218139\n",
      "29   14      8.05926200352767e18    74.31967901622606    259.70924634707876\n",
      "30   14      5.507991645999902e18    13.509830142173607    36.83745198728502\n"
     ]
    }
   ],
   "source": [
    "println(\"Macierz Hilberta\")\n",
    "println(\"Wyniki w postaci: \")\n",
    "println(\"n rank(A)     cond(A)             eliminacja gaussa              inv\")\n",
    "for i in 2:1:30\n",
    "    A = hilb(i)\n",
    "    equation(A, i)   \n",
    "end\n"
   ]
  },
  {
   "cell_type": "code",
   "execution_count": 8,
   "metadata": {},
   "outputs": [
    {
     "name": "stdout",
     "output_type": "stream",
     "text": [
      "Macierz losowa\n",
      "n rank(A)     cond(A)             eliminacja gaussa              inv\n",
      "5   5      1.0000000000000007    2.432376777795247e-16    1.9229626863835638e-16\n",
      "5   5      10.0    2.164223099578636e-16    1.4895204919483638e-16\n",
      "5   5      999.9999999999169    2.9400248559719575e-14    2.7427677275726196e-14\n",
      "5   5      1.0000000003677098e7    2.2435608721750656e-10    2.204680673843925e-10\n",
      "5   5      1.0000295264502603e12    3.7058235604933582e-6    3.878868837352276e-6\n",
      "5   4      8.939518109076832e15    0.08520665491261811    0.12273549116888462\n",
      "10   10      1.000000000000001    2.579925170969555e-16    1.7554167342883504e-16\n",
      "10   10      9.999999999999998    5.450279209566124e-16    3.5108334685767007e-16\n",
      "10   10      1000.0000000000622    1.565516822363131e-14    1.428913534767437e-14\n",
      "10   10      9.999999999234391e6    2.35384808695596e-10    2.236478770168728e-10\n",
      "10   10      1.0000174019753434e12    2.2716807898175887e-5    2.7637993556423488e-5\n",
      "10   9      1.9546576916458452e16    0.11313729236058533    0.06232732139163577\n",
      "20   20      1.0000000000000013    5.277940006822452e-16    5.135906591666907e-16\n",
      "20   20      9.999999999999986    6.730369402342473e-16    7.01727702304055e-16\n",
      "20   20      999.9999999999466    2.8178676422279394e-15    3.530439392270031e-15\n",
      "20   20      9.999999998623595e6    7.575860251886168e-11    1.461996820392241e-10\n",
      "20   20      1.0000303103226792e12    5.2204753341536915e-5    5.459316933197674e-5\n",
      "20   19      3.2117400541183224e16    0.23626766642251196    0.21630892441425065\n"
     ]
    }
   ],
   "source": [
    "println(\"Macierz losowa\")\n",
    "println(\"n rank(A)     cond(A)             eliminacja gaussa              inv\")\n",
    "c = [1, 10, 10^3, 10^7,10^12, 10^16]\n",
    "n = [5, 10, 20]\n",
    "for i in n\n",
    "    for j in c\n",
    "        A = matcond(i, Float64(j))\n",
    "        equation(A, i)     \n",
    "    end\n",
    "  \n",
    "end"
   ]
  },
  {
   "cell_type": "markdown",
   "metadata": {},
   "source": [
    "W przypadku macierzy Hilberta, błąd każdej z metod rośnie proporcjonalnie do rozmiaru macierzy, podobnie jak wskaźnik uwarunkowania. Podobnie jest w przypadku macierzy losowej, jednak zarówno błędy, jak i wskaźnik są znacznie mniejsze (porównując względem rozmiaru macierzy)"
   ]
  },
  {
   "cell_type": "markdown",
   "metadata": {},
   "source": [
    "Na podstawie powyższych obserwacji można stwierdzić, że opisane zadanie jest źle uwarunkowane dla macierzy Hilberta. "
   ]
  },
  {
   "cell_type": "markdown",
   "metadata": {},
   "source": [
    "# Zadanie 4\n"
   ]
  },
  {
   "cell_type": "markdown",
   "metadata": {},
   "source": [
    "\"Złośliwy wielomian\""
   ]
  },
  {
   "cell_type": "code",
   "execution_count": 9,
   "metadata": {},
   "outputs": [
    {
     "data": {
      "text/plain": [
       "21-element Array{Float64,1}:\n",
       "     1.0\n",
       "  -210.0\n",
       " 20615.0\n",
       "    -1.25685e6\n",
       "     5.3327946e7\n",
       "    -1.67228082e9\n",
       "     4.017177163e10\n",
       "    -7.561111845e11\n",
       "     1.1310276995381e13\n",
       "    -1.3558518289953e14\n",
       "     1.307535010540395e15\n",
       "    -1.014229986551145e16\n",
       "     6.30308120992949e16\n",
       "    -3.1133364316139066e17\n",
       "     1.2066478037803732e18\n",
       "    -3.599979517947607e18\n",
       "     8.037811822645051e18\n",
       "    -1.2870931245150988e19\n",
       "     1.3803759753640704e19\n",
       "    -8.7529480367616e18\n",
       "     2.43290200817664e18"
      ]
     },
     "execution_count": 9,
     "metadata": {},
     "output_type": "execute_result"
    }
   ],
   "source": [
    "P =[1, -210.0, 20615.0,-1256850.0,\n",
    "      53327946.0,-1672280820.0, 40171771630.0, -756111184500.0,          \n",
    "      11310276995381.0, -135585182899530.0,\n",
    "      1307535010540395.0,     -10142299865511450.0,\n",
    "      63030812099294896.0,     -311333643161390640.0,\n",
    "      1206647803780373360.0,     -3599979517947607200.0,\n",
    "      8037811822645051776.0,      -12870931245150988800.0,\n",
    "      13803759753640704000.0,      -8752948036761600000.0,\n",
    "      2432902008176640000.0]"
   ]
  },
  {
   "cell_type": "code",
   "execution_count": 10,
   "metadata": {},
   "outputs": [
    {
     "data": {
      "text/html": [
       "2.43290200817664e18 &#45; 8.7529480367616e18&#8729;x &#43; 1.3803759753640704e19&#8729;x<sup>2</sup> &#45; 1.2870931245150988e19&#8729;x<sup>3</sup> &#43; 8.037811822645051e18&#8729;x<sup>4</sup> &#45; 3.599979517947607e18&#8729;x<sup>5</sup> &#43; 1.2066478037803732e18&#8729;x<sup>6</sup> &#45; 3.1133364316139066e17&#8729;x<sup>7</sup> &#43; 6.30308120992949e16&#8729;x<sup>8</sup> &#45; 1.014229986551145e16&#8729;x<sup>9</sup> &#43; 1.307535010540395e15&#8729;x<sup>10</sup> &#45; 1.3558518289953e14&#8729;x<sup>11</sup> &#43; 1.1310276995381e13&#8729;x<sup>12</sup> &#45; 7.561111845e11&#8729;x<sup>13</sup> &#43; 4.017177163e10&#8729;x<sup>14</sup> &#45; 1.67228082e9&#8729;x<sup>15</sup> &#43; 5.3327946e7&#8729;x<sup>16</sup> &#45; 1.25685e6&#8729;x<sup>17</sup> &#43; 20615.0&#8729;x<sup>18</sup> &#45; 210.0&#8729;x<sup>19</sup> &#43; 1.0&#8729;x<sup>20</sup>"
      ],
      "text/latex": [
       "$2.43290200817664e18 - 8.7529480367616e18\\cdot x + 1.3803759753640704e19\\cdot x^{2} - 1.2870931245150988e19\\cdot x^{3} + 8.037811822645051e18\\cdot x^{4} - 3.599979517947607e18\\cdot x^{5} + 1.2066478037803732e18\\cdot x^{6} - 3.1133364316139066e17\\cdot x^{7} + 6.30308120992949e16\\cdot x^{8} - 1.014229986551145e16\\cdot x^{9} + 1.307535010540395e15\\cdot x^{10} - 1.3558518289953e14\\cdot x^{11} + 1.1310276995381e13\\cdot x^{12} - 7.561111845e11\\cdot x^{13} + 4.017177163e10\\cdot x^{14} - 1.67228082e9\\cdot x^{15} + 5.3327946e7\\cdot x^{16} - 1.25685e6\\cdot x^{17} + 20615.0\\cdot x^{18} - 210.0\\cdot x^{19} + 1.0\\cdot x^{20}$"
      ],
      "text/plain": [
       "Polynomial(2.43290200817664e18 - 8.7529480367616e18*x + 1.3803759753640704e19*x^2 - 1.2870931245150988e19*x^3 + 8.037811822645051e18*x^4 - 3.599979517947607e18*x^5 + 1.2066478037803732e18*x^6 - 3.1133364316139066e17*x^7 + 6.30308120992949e16*x^8 - 1.014229986551145e16*x^9 + 1.307535010540395e15*x^10 - 1.3558518289953e14*x^11 + 1.1310276995381e13*x^12 - 7.561111845e11*x^13 + 4.017177163e10*x^14 - 1.67228082e9*x^15 + 5.3327946e7*x^16 - 1.25685e6*x^17 + 20615.0*x^18 - 210.0*x^19 + 1.0*x^20)"
      ]
     },
     "execution_count": 10,
     "metadata": {},
     "output_type": "execute_result"
    }
   ],
   "source": [
    "using Polynomials\n",
    "\n",
    "poly = Polynomial(reverse(P))\n"
   ]
  },
  {
   "cell_type": "markdown",
   "metadata": {},
   "source": [
    "Celem pierwszej części zadania jest wyznaczenie miejsc zerwoych badanego wielomianu w postaci naturalnej. "
   ]
  },
  {
   "cell_type": "code",
   "execution_count": 11,
   "metadata": {},
   "outputs": [
    {
     "data": {
      "text/plain": [
       "20-element Array{Float64,1}:\n",
       "  0.9999999999996989\n",
       "  2.0000000000283182\n",
       "  2.9999999995920965\n",
       "  3.9999999837375317\n",
       "  5.000000665769791\n",
       "  5.999989245824773\n",
       "  7.000102002793008\n",
       "  7.999355829607762\n",
       "  9.002915294362053\n",
       "  9.990413042481725\n",
       " 11.025022932909318\n",
       " 11.953283253846857\n",
       " 13.07431403244734\n",
       " 13.914755591802127\n",
       " 15.075493799699476\n",
       " 15.946286716607972\n",
       " 17.025427146237412\n",
       " 17.99092135271648\n",
       " 19.00190981829944\n",
       " 19.999809291236637"
      ]
     },
     "execution_count": 11,
     "metadata": {},
     "output_type": "execute_result"
    }
   ],
   "source": [
    "result = roots(poly)"
   ]
  },
  {
   "cell_type": "markdown",
   "metadata": {},
   "source": [
    "Otrzymany wynik należy porównać z wielomianem w postaci zaproponowanej przez Wilkinsona."
   ]
  },
  {
   "cell_type": "code",
   "execution_count": 12,
   "metadata": {},
   "outputs": [
    {
     "data": {
      "text/html": [
       "2432902008176640000 &#45; 8752948036761600000&#8729;x &#45; 4642984320068847616&#8729;x<sup>2</sup> &#43; 5575812828558562816&#8729;x<sup>3</sup> &#43; 8037811822645051776&#8729;x<sup>4</sup> &#45; 3599979517947607200&#8729;x<sup>5</sup> &#43; 1206647803780373360&#8729;x<sup>6</sup> &#45; 311333643161390640&#8729;x<sup>7</sup> &#43; 63030812099294896&#8729;x<sup>8</sup> &#45; 10142299865511450&#8729;x<sup>9</sup> &#43; 1307535010540395&#8729;x<sup>10</sup> &#45; 135585182899530&#8729;x<sup>11</sup> &#43; 11310276995381&#8729;x<sup>12</sup> &#45; 756111184500&#8729;x<sup>13</sup> &#43; 40171771630&#8729;x<sup>14</sup> &#45; 1672280820&#8729;x<sup>15</sup> &#43; 53327946&#8729;x<sup>16</sup> &#45; 1256850&#8729;x<sup>17</sup> &#43; 20615&#8729;x<sup>18</sup> &#45; 210&#8729;x<sup>19</sup> &#43; x<sup>20</sup>"
      ],
      "text/latex": [
       "$2432902008176640000 - 8752948036761600000\\cdot x - 4642984320068847616\\cdot x^{2} + 5575812828558562816\\cdot x^{3} + 8037811822645051776\\cdot x^{4} - 3599979517947607200\\cdot x^{5} + 1206647803780373360\\cdot x^{6} - 311333643161390640\\cdot x^{7} + 63030812099294896\\cdot x^{8} - 10142299865511450\\cdot x^{9} + 1307535010540395\\cdot x^{10} - 135585182899530\\cdot x^{11} + 11310276995381\\cdot x^{12} - 756111184500\\cdot x^{13} + 40171771630\\cdot x^{14} - 1672280820\\cdot x^{15} + 53327946\\cdot x^{16} - 1256850\\cdot x^{17} + 20615\\cdot x^{18} - 210\\cdot x^{19} + x^{20}$"
      ],
      "text/plain": [
       "Polynomial(2432902008176640000 - 8752948036761600000*x - 4642984320068847616*x^2 + 5575812828558562816*x^3 + 8037811822645051776*x^4 - 3599979517947607200*x^5 + 1206647803780373360*x^6 - 311333643161390640*x^7 + 63030812099294896*x^8 - 10142299865511450*x^9 + 1307535010540395*x^10 - 135585182899530*x^11 + 11310276995381*x^12 - 756111184500*x^13 + 40171771630*x^14 - 1672280820*x^15 + 53327946*x^16 - 1256850*x^17 + 20615*x^18 - 210*x^19 + x^20)"
      ]
     },
     "execution_count": 12,
     "metadata": {},
     "output_type": "execute_result"
    }
   ],
   "source": [
    "p = fromroots(collect(1:20))"
   ]
  },
  {
   "cell_type": "code",
   "execution_count": 13,
   "metadata": {},
   "outputs": [
    {
     "data": {
      "text/plain": [
       "compare (generic function with 1 method)"
      ]
     },
     "execution_count": 13,
     "metadata": {},
     "output_type": "execute_result"
    }
   ],
   "source": [
    "function compare(result)\n",
    "    for i in 1:20\n",
    "   \n",
    "        println(\"Dla \", result[i])\n",
    "        println(\"P(zk) = \", abs(poly(result[i])), \", p(zk) = \",\n",
    "            abs(p(result[i])), \", zk - k = \", abs(result[i] -  i))\n",
    "        println(\"\")\n",
    "    end\n",
    "end"
   ]
  },
  {
   "cell_type": "code",
   "execution_count": 14,
   "metadata": {},
   "outputs": [
    {
     "name": "stdout",
     "output_type": "stream",
     "text": [
      "Dla 0.9999999999996989\n",
      "P(zk) = 35696.50964788257, p(zk) = 5.518479490350445e6, zk - k = 3.0109248427834245e-13\n",
      "\n",
      "Dla 2.0000000000283182\n",
      "P(zk) = 176252.60026668405, p(zk) = 7.37869762990174e19, zk - k = 2.8318236644508943e-11\n",
      "\n",
      "Dla 2.9999999995920965\n",
      "P(zk) = 279157.6968824087, p(zk) = 3.3204139316875795e20, zk - k = 4.0790348876384996e-10\n",
      "\n",
      "Dla 3.9999999837375317\n",
      "P(zk) = 3.0271092988991085e6, p(zk) = 8.854437035384718e20, zk - k = 1.626246826091915e-8\n",
      "\n",
      "Dla 5.000000665769791\n",
      "P(zk) = 2.2917473756567076e7, p(zk) = 1.8446752056545688e21, zk - k = 6.657697912970661e-7\n",
      "\n",
      "Dla 5.999989245824773\n",
      "P(zk) = 1.2902417284205095e8, p(zk) = 3.320394888870117e21, zk - k = 1.0754175226779239e-5\n",
      "\n",
      "Dla 7.000102002793008\n",
      "P(zk) = 4.805112754602064e8, p(zk) = 5.423593016891273e21, zk - k = 0.00010200279300764947\n",
      "\n",
      "Dla 7.999355829607762\n",
      "P(zk) = 1.6379520218961136e9, p(zk) = 8.262050140110275e21, zk - k = 0.0006441703922384079\n",
      "\n",
      "Dla 9.002915294362053\n",
      "P(zk) = 4.877071372550003e9, p(zk) = 1.196559421646277e22, zk - k = 0.002915294362052734\n",
      "\n",
      "Dla 9.990413042481725\n",
      "P(zk) = 1.3638638195458128e10, p(zk) = 1.655260133520688e22, zk - k = 0.009586957518274986\n",
      "\n",
      "Dla 11.025022932909318\n",
      "P(zk) = 3.585631295130865e10, p(zk) = 2.24783329792479e22, zk - k = 0.025022932909317674\n",
      "\n",
      "Dla 11.953283253846857\n",
      "P(zk) = 7.533332360358197e10, p(zk) = 2.886944688412679e22, zk - k = 0.04671674615314281\n",
      "\n",
      "Dla 13.07431403244734\n",
      "P(zk) = 1.9605988124330817e11, p(zk) = 3.807325552826988e22, zk - k = 0.07431403244734014\n",
      "\n",
      "Dla 13.914755591802127\n",
      "P(zk) = 3.5751347823104315e11, p(zk) = 4.612719853150334e22, zk - k = 0.08524440819787316\n",
      "\n",
      "Dla 15.075493799699476\n",
      "P(zk) = 8.21627123645597e11, p(zk) = 5.901011420218566e22, zk - k = 0.07549379969947623\n",
      "\n",
      "Dla 15.946286716607972\n",
      "P(zk) = 1.5514978880494067e12, p(zk) = 7.010874106897764e22, zk - k = 0.05371328339202819\n",
      "\n",
      "Dla 17.025427146237412\n",
      "P(zk) = 3.694735918486229e12, p(zk) = 8.568905825736165e22, zk - k = 0.025427146237412046\n",
      "\n",
      "Dla 17.99092135271648\n",
      "P(zk) = 7.650109016515867e12, p(zk) = 1.0144799361044434e23, zk - k = 0.009078647283519814\n",
      "\n",
      "Dla 19.00190981829944\n",
      "P(zk) = 1.1435273749721195e13, p(zk) = 1.1990376202371257e23, zk - k = 0.0019098182994383706\n",
      "\n",
      "Dla 19.999809291236637\n",
      "P(zk) = 2.7924106393680727e13, p(zk) = 1.4019117414318134e23, zk - k = 0.00019070876336257925\n",
      "\n"
     ]
    }
   ],
   "source": [
    "compare(result)"
   ]
  },
  {
   "cell_type": "markdown",
   "metadata": {},
   "source": [
    "Drugą częścią zadania jest powtórzenie eksperymentu Wilkinsona, tj. zmiana współczynnika −210 na $−210−2^{−23}$"
   ]
  },
  {
   "cell_type": "code",
   "execution_count": 15,
   "metadata": {},
   "outputs": [
    {
     "data": {
      "text/plain": [
       "21-element Array{Float64,1}:\n",
       "     1.0\n",
       "  -210.0000001192093\n",
       " 20615.0\n",
       "    -1.25685e6\n",
       "     5.3327946e7\n",
       "    -1.67228082e9\n",
       "     4.017177163e10\n",
       "    -7.561111845e11\n",
       "     1.1310276995381e13\n",
       "    -1.3558518289953e14\n",
       "     1.307535010540395e15\n",
       "    -1.014229986551145e16\n",
       "     6.30308120992949e16\n",
       "    -3.1133364316139066e17\n",
       "     1.2066478037803732e18\n",
       "    -3.599979517947607e18\n",
       "     8.037811822645051e18\n",
       "    -1.2870931245150988e19\n",
       "     1.3803759753640704e19\n",
       "    -8.7529480367616e18\n",
       "     2.43290200817664e18"
      ]
     },
     "execution_count": 15,
     "metadata": {},
     "output_type": "execute_result"
    }
   ],
   "source": [
    "Pw = [1, -210.0-(1.0/(2.0^23)), 20615.0, -1256850.0,\n",
    "    53327946.0, -1672280820.0, 40171771630.0, -756111184500.0,\n",
    "    11310276995381.0, -135585182899530.0, 1307535010540395.0,\n",
    "    -10142299865511450.0, 63030812099294896.0, -311333643161390640.0,\n",
    "    1206647803780373360.0, -3599979517947607200.0, 8037811822645051776.0,\n",
    "    -12870931245150988800.0, 13803759753640704000.0, -8752948036761600000.0,\n",
    "    2432902008176640000.0]"
   ]
  },
  {
   "cell_type": "code",
   "execution_count": 16,
   "metadata": {},
   "outputs": [
    {
     "name": "stdout",
     "output_type": "stream",
     "text": [
      "Dla 0.9999999999998357 + 0.0im\n",
      "P(zk) = 20259.872313418207, p(zk) = 3.0131001276845885e6, zk - k = 1.6431300764452317e-13\n",
      "\n",
      "Dla 2.0000000000550373 + 0.0im\n",
      "P(zk) = 346541.4137593836, p(zk) = 7.37869763029606e19, zk - k = 5.503730804434781e-11\n",
      "\n",
      "Dla 2.99999999660342 + 0.0im\n",
      "P(zk) = 2.3655796995492927e6, p(zk) = 3.320413920110016e20, zk - k = 3.3965799062229962e-9\n",
      "\n",
      "Dla 4.000000089724362 + 0.0im\n",
      "P(zk) = 1.0018343680854071e7, p(zk) = 8.854437817429642e20, zk - k = 8.972436216225788e-8\n",
      "\n",
      "Dla 4.99999857388791 + 0.0im\n",
      "P(zk) = 4.6254074679189965e7, p(zk) = 1.844672697408419e21, zk - k = 1.4261120897529622e-6\n",
      "\n",
      "Dla 6.000020476673031 + 0.0im\n",
      "P(zk) = 2.0241763473292372e8, p(zk) = 3.320450195282313e21, zk - k = 2.0476673030955794e-5\n",
      "\n",
      "Dla 6.99960207042242 + 0.0im\n",
      "P(zk) = 1.710626634091394e9, p(zk) = 5.422366528916004e21, zk - k = 0.00039792957757978087\n",
      "\n",
      "Dla 8.007772029099446 + 0.0im\n",
      "P(zk) = 1.869950954754733e10, p(zk) = 8.289399860984408e21, zk - k = 0.007772029099445632\n",
      "\n",
      "Dla 8.915816367932559 + 0.0im\n",
      "P(zk) = 1.3757318900886914e11, p(zk) = 1.160747250177049e22, zk - k = 0.0841836320674414\n",
      "\n",
      "Dla 10.095455630535774 - 0.6449328236240688im\n",
      "P(zk) = 1.491101451791542e12, p(zk) = 1.7212892853670706e22, zk - k = 0.6519586830380407\n",
      "\n",
      "Dla 10.095455630535774 + 0.6449328236240688im\n",
      "P(zk) = 1.491101451791542e12, p(zk) = 1.7212892853670706e22, zk - k = 1.1109180272716561\n",
      "\n",
      "Dla 11.793890586174369 - 1.6524771364075785im\n",
      "P(zk) = 3.2967412333942234e13, p(zk) = 2.8568401004080956e22, zk - k = 1.665281290598479\n",
      "\n",
      "Dla 11.793890586174369 + 1.6524771364075785im\n",
      "P(zk) = 3.2967412333942234e13, p(zk) = 2.8568401004080956e22, zk - k = 2.0458202766784277\n",
      "\n",
      "Dla 13.992406684487216 - 2.5188244257108443im\n",
      "P(zk) = 9.545851019861934e14, p(zk) = 4.934647147686795e22, zk - k = 2.518835871190904\n",
      "\n",
      "Dla 13.992406684487216 + 2.5188244257108443im\n",
      "P(zk) = 9.545851019861934e14, p(zk) = 4.934647147686795e22, zk - k = 2.7128805312847097\n",
      "\n",
      "Dla 16.73074487979267 - 2.812624896721978im\n",
      "P(zk) = 2.7421389712291324e16, p(zk) = 8.484694713563005e22, zk - k = 2.9060018735375106\n",
      "\n",
      "Dla 16.73074487979267 + 2.812624896721978im\n",
      "P(zk) = 2.7421389712291324e16, p(zk) = 8.484694713563005e22, zk - k = 2.825483521349608\n",
      "\n",
      "Dla 19.5024423688181 - 1.940331978642903im\n",
      "P(zk) = 4.252503605694188e17, p(zk) = 1.3181947820607215e23, zk - k = 2.4540214463129764\n",
      "\n",
      "Dla 19.5024423688181 + 1.940331978642903im\n",
      "P(zk) = 4.252503605694188e17, p(zk) = 1.3181947820607215e23, zk - k = 2.0043294443099486\n",
      "\n",
      "Dla 20.84691021519479 + 0.0im\n",
      "P(zk) = 1.3743593159265196e18, p(zk) = 1.5911084081430876e23, zk - k = 0.8469102151947894\n",
      "\n"
     ]
    }
   ],
   "source": [
    "w = Polynomial(reverse(Pw))\n",
    "\n",
    "compare(roots(w))"
   ]
  },
  {
   "cell_type": "markdown",
   "metadata": {},
   "source": [
    "Błędy w pierwszym eksperymencie wynikają z ograniczeń architektury Float64, w której możliwe jest zapisanie tylko 15-17 cyfr znaczących w systemie dziesiętnym. "
   ]
  },
  {
   "cell_type": "markdown",
   "metadata": {},
   "source": [
    "W przypadku drugiego, wprowadzenie małej zmiany danych powoduje duży błąd bezwzględny wyników. Ponadto zaburzenie to powoduje, że w wyniku pojawiają się pierwiastki zespolone. Jest to kolejny przykład zadania źle uwarunkowanego."
   ]
  },
  {
   "cell_type": "markdown",
   "metadata": {},
   "source": [
    "# Zadanie 5"
   ]
  },
  {
   "cell_type": "markdown",
   "metadata": {},
   "source": [
    "Eksperymenty związane z równaniem rekurencyjnym (model logistyczny, model wzrostu populacji) w postaci\n",
    "$p_{n+1} := p_n + rp_n(1-p_n)$ \n",
    "\n",
    "dla $n = 0, 1, \\dots$"
   ]
  },
  {
   "cell_type": "code",
   "execution_count": 17,
   "metadata": {},
   "outputs": [
    {
     "data": {
      "text/plain": [
       "simulation (generic function with 1 method)"
      ]
     },
     "execution_count": 17,
     "metadata": {},
     "output_type": "execute_result"
    }
   ],
   "source": [
    "function simulation(my_type, mod::Bool)\n",
    "    result = []\n",
    "    p::my_type = 0.01\n",
    "    r::my_type = 3.0\n",
    "    one::my_type = 1.0\n",
    "    \n",
    "    for i in 1:40\n",
    "        p = p + r * p * (one - p)\n",
    "        \n",
    "        if mod == true && i == 10\n",
    "            p = trunc(p, digits=3)\n",
    "        end\n",
    "        append!(result, p)\n",
    "    end\n",
    "\n",
    "    return result\n",
    "end"
   ]
  },
  {
   "cell_type": "markdown",
   "metadata": {},
   "source": [
    "Symulacja dla danych $p_0 = 0.01, r = 3$  dla 40 iteracji, Float32"
   ]
  },
  {
   "cell_type": "code",
   "execution_count": 18,
   "metadata": {},
   "outputs": [
    {
     "data": {
      "text/plain": [
       "40-element Array{Any,1}:\n",
       " 0.0397f0\n",
       " 0.15407173f0\n",
       " 0.5450726f0\n",
       " 1.2889781f0\n",
       " 0.1715188f0\n",
       " 0.5978191f0\n",
       " 1.3191134f0\n",
       " 0.056273222f0\n",
       " 0.21559286f0\n",
       " 0.7229306f0\n",
       " 1.3238364f0\n",
       " 0.037716985f0\n",
       " 0.14660022f0\n",
       " ⋮\n",
       " 1.1065198f0\n",
       " 0.7529209f0\n",
       " 1.3110139f0\n",
       " 0.0877831f0\n",
       " 0.3280148f0\n",
       " 0.9892781f0\n",
       " 1.021099f0\n",
       " 0.95646656f0\n",
       " 1.0813814f0\n",
       " 0.81736827f0\n",
       " 1.2652004f0\n",
       " 0.25860548f0"
      ]
     },
     "execution_count": 18,
     "metadata": {},
     "output_type": "execute_result"
    }
   ],
   "source": [
    "s1 = simulation(Float32, false)"
   ]
  },
  {
   "cell_type": "markdown",
   "metadata": {},
   "source": [
    "Symulacja dla danych $p_0 = 0.01, r = 3$  dla 40 iteracji, gdzie po pierwszych 10 iteracjach wynik zostaje obcięty do 3 cyfr po przecinku, Float32"
   ]
  },
  {
   "cell_type": "code",
   "execution_count": 19,
   "metadata": {},
   "outputs": [
    {
     "data": {
      "text/plain": [
       "40-element Array{Any,1}:\n",
       " 0.0397f0\n",
       " 0.15407173f0\n",
       " 0.5450726f0\n",
       " 1.2889781f0\n",
       " 0.1715188f0\n",
       " 0.5978191f0\n",
       " 1.3191134f0\n",
       " 0.056273222f0\n",
       " 0.21559286f0\n",
       " 0.722f0\n",
       " 1.3241479f0\n",
       " 0.036488414f0\n",
       " 0.14195944f0\n",
       " ⋮\n",
       " 0.59798557f0\n",
       " 1.3191822f0\n",
       " 0.05600393f0\n",
       " 0.21460639f0\n",
       " 0.7202578f0\n",
       " 1.3247173f0\n",
       " 0.034241438f0\n",
       " 0.13344833f0\n",
       " 0.48036796f0\n",
       " 1.2292118f0\n",
       " 0.3839622f0\n",
       " 1.093568f0"
      ]
     },
     "execution_count": 19,
     "metadata": {},
     "output_type": "execute_result"
    }
   ],
   "source": [
    "s2 = simulation(Float32, true)"
   ]
  },
  {
   "cell_type": "code",
   "execution_count": 20,
   "metadata": {},
   "outputs": [
    {
     "name": "stdout",
     "output_type": "stream",
     "text": [
      "Bez modyfikacji      Z modyfikacją\n",
      "0.0397           0.0397\n",
      "0.15407173           0.15407173\n",
      "0.5450726           0.5450726\n",
      "1.2889781           1.2889781\n",
      "0.1715188           0.1715188\n",
      "0.5978191           0.5978191\n",
      "1.3191134           1.3191134\n",
      "0.056273222           0.056273222\n",
      "0.21559286           0.21559286\n",
      "0.7229306           0.722\n",
      "1.3238364           1.3241479\n",
      "0.037716985           0.036488414\n",
      "0.14660022           0.14195944\n",
      "0.521926           0.50738037\n",
      "1.2704837           1.2572169\n",
      "0.2395482           0.28708452\n",
      "0.7860428           0.9010855\n",
      "1.2905813           1.1684768\n",
      "0.16552472           0.577893\n",
      "0.5799036           1.3096911\n",
      "1.3107498           0.09289217\n",
      "0.088804245           0.34568182\n",
      "0.3315584           1.0242395\n",
      "0.9964407           0.94975823\n",
      "1.0070806           1.0929108\n",
      "0.9856885           0.7882812\n",
      "1.0280086           1.2889631\n",
      "0.9416294           0.17157483\n",
      "1.1065198           0.59798557\n",
      "0.7529209           1.3191822\n",
      "1.3110139           0.05600393\n",
      "0.0877831           0.21460639\n",
      "0.3280148           0.7202578\n",
      "0.9892781           1.3247173\n",
      "1.021099           0.034241438\n",
      "0.95646656           0.13344833\n",
      "1.0813814           0.48036796\n",
      "0.81736827           1.2292118\n",
      "1.2652004           0.3839622\n",
      "0.25860548           1.093568\n"
     ]
    }
   ],
   "source": [
    "println(\"Bez modyfikacji\", \"      \", \"Z modyfikacją\")\n",
    "for i in 1:length(s1)\n",
    "    println(s1[i], \"           \", s2[i])\n",
    "end"
   ]
  },
  {
   "cell_type": "markdown",
   "metadata": {},
   "source": [
    "Symulacja dla danych $p_0 = 0.01, r = 3$  dla 40 iteracji, Float64"
   ]
  },
  {
   "cell_type": "code",
   "execution_count": 21,
   "metadata": {},
   "outputs": [
    {
     "data": {
      "text/plain": [
       "40-element Array{Any,1}:\n",
       " 0.0397\n",
       " 0.15407173000000002\n",
       " 0.5450726260444213\n",
       " 1.2889780011888006\n",
       " 0.17151914210917552\n",
       " 0.5978201201070994\n",
       " 1.3191137924137974\n",
       " 0.056271577646256565\n",
       " 0.21558683923263022\n",
       " 0.722914301179573\n",
       " 1.3238419441684408\n",
       " 0.03769529725473175\n",
       " 0.14651838271355924\n",
       " ⋮\n",
       " 1.2321124623871897\n",
       " 0.37414648963928676\n",
       " 1.0766291714289444\n",
       " 0.8291255674004515\n",
       " 1.2541546500504441\n",
       " 0.29790694147232066\n",
       " 0.9253821285571046\n",
       " 1.1325322626697856\n",
       " 0.6822410727153098\n",
       " 1.3326056469620293\n",
       " 0.0029091569028512065\n",
       " 0.011611238029748606"
      ]
     },
     "execution_count": 21,
     "metadata": {},
     "output_type": "execute_result"
    }
   ],
   "source": [
    "s3 = simulation(Float64, false)"
   ]
  },
  {
   "cell_type": "code",
   "execution_count": 22,
   "metadata": {},
   "outputs": [
    {
     "name": "stdout",
     "output_type": "stream",
     "text": [
      "Float32                  Float64\n",
      "0.0397           0.0397\n",
      "0.15407173           0.15407173000000002\n",
      "0.5450726           0.5450726260444213\n",
      "1.2889781           1.2889780011888006\n",
      "0.1715188           0.17151914210917552\n",
      "0.5978191           0.5978201201070994\n",
      "1.3191134           1.3191137924137974\n",
      "0.056273222           0.056271577646256565\n",
      "0.21559286           0.21558683923263022\n",
      "0.7229306           0.722914301179573\n",
      "1.3238364           1.3238419441684408\n",
      "0.037716985           0.03769529725473175\n",
      "0.14660022           0.14651838271355924\n",
      "0.521926           0.521670621435246\n",
      "1.2704837           1.2702617739350768\n",
      "0.2395482           0.24035217277824272\n",
      "0.7860428           0.7881011902353041\n",
      "1.2905813           1.2890943027903075\n",
      "0.16552472           0.17108484670194324\n",
      "0.5799036           0.5965293124946907\n",
      "1.3107498           1.3185755879825978\n",
      "0.088804245           0.058377608259430724\n",
      "0.3315584           0.22328659759944824\n",
      "0.9964407           0.7435756763951792\n",
      "1.0070806           1.315588346001072\n",
      "0.9856885           0.07003529560277899\n",
      "1.0280086           0.26542635452061003\n",
      "0.9416294           0.8503519690601384\n",
      "1.1065198           1.2321124623871897\n",
      "0.7529209           0.37414648963928676\n",
      "1.3110139           1.0766291714289444\n",
      "0.0877831           0.8291255674004515\n",
      "0.3280148           1.2541546500504441\n",
      "0.9892781           0.29790694147232066\n",
      "1.021099           0.9253821285571046\n",
      "0.95646656           1.1325322626697856\n",
      "1.0813814           0.6822410727153098\n",
      "0.81736827           1.3326056469620293\n",
      "1.2652004           0.0029091569028512065\n",
      "0.25860548           0.011611238029748606\n"
     ]
    }
   ],
   "source": [
    "println(\"Float32\", \"                  \", \"Float64\")\n",
    "for i in 1:length(s1)\n",
    "    println(s1[i], \"           \", s3[i])\n",
    "end"
   ]
  },
  {
   "cell_type": "markdown",
   "metadata": {},
   "source": [
    "Na podstawie powyższych eksperymentów można zaobserwować, że zarówno wybór arytmetyki, jak i drobna manipulacja danych wpływa na otrzymywany wynik."
   ]
  },
  {
   "cell_type": "markdown",
   "metadata": {},
   "source": [
    "Analizując wyniki pierwszego eksperymentu, można zauważyć, że mamy do czynienia z numeryczną niestabilnością. Raz popełniony błąd (obcięcie wyniku) kumuluje się, powodując poważną utratę dokładności obliczeń."
   ]
  },
  {
   "cell_type": "markdown",
   "metadata": {},
   "source": [
    "Drugi eksperyment obrazuje fakt, że dokładność obliczeń ściśle zależy od arytmetyki. Wyniki zwracane przez Float64 są dokładniejsze."
   ]
  },
  {
   "cell_type": "markdown",
   "metadata": {},
   "source": [
    "# Zadanie 6"
   ]
  },
  {
   "cell_type": "markdown",
   "metadata": {},
   "source": [
    "Eksperymenty związane z równaniem rekurencyjnym w postaci $x_{n+1} := x_n^2 + c$ dla $n = 0,1, \\dots$, gdzie $c$ to pewna stała."
   ]
  },
  {
   "cell_type": "code",
   "execution_count": 23,
   "metadata": {},
   "outputs": [
    {
     "data": {
      "text/plain": [
       "recursion (generic function with 1 method)"
      ]
     },
     "execution_count": 23,
     "metadata": {},
     "output_type": "execute_result"
    }
   ],
   "source": [
    "function recursion(input)\n",
    "    c::Float64 = input[1]\n",
    "    x::Float64 = input[2]\n",
    "    result = zeros(Float64, 0)\n",
    "    for i in 1:40\n",
    "        x = Float64(x*x) + c\n",
    "        append!(result, x)\n",
    "    end\n",
    "    return result\n",
    "end\n",
    "        \n",
    "        "
   ]
  },
  {
   "cell_type": "code",
   "execution_count": 24,
   "metadata": {},
   "outputs": [
    {
     "name": "stdout",
     "output_type": "stream",
     "text": [
      "Dla x = 1.0 dla c = -2.0\n",
      "[-1.0, -1.0, -1.0, -1.0, -1.0, -1.0, -1.0, -1.0, -1.0, -1.0, -1.0, -1.0, -1.0, -1.0, -1.0, -1.0, -1.0, -1.0, -1.0, -1.0, -1.0, -1.0, -1.0, -1.0, -1.0, -1.0, -1.0, -1.0, -1.0, -1.0, -1.0, -1.0, -1.0, -1.0, -1.0, -1.0, -1.0, -1.0, -1.0, -1.0]\n",
      "\n",
      "Dla x = 2.0 dla c = -2.0\n",
      "[2.0, 2.0, 2.0, 2.0, 2.0, 2.0, 2.0, 2.0, 2.0, 2.0, 2.0, 2.0, 2.0, 2.0, 2.0, 2.0, 2.0, 2.0, 2.0, 2.0, 2.0, 2.0, 2.0, 2.0, 2.0, 2.0, 2.0, 2.0, 2.0, 2.0, 2.0, 2.0, 2.0, 2.0, 2.0, 2.0, 2.0, 2.0, 2.0, 2.0]\n",
      "\n",
      "Dla x = 1.99999999999999 dla c = -2.0\n",
      "[1.99999999999996, 1.9999999999998401, 1.9999999999993605, 1.999999999997442, 1.9999999999897682, 1.9999999999590727, 1.999999999836291, 1.9999999993451638, 1.9999999973806553, 1.999999989522621, 1.9999999580904841, 1.9999998323619383, 1.9999993294477814, 1.9999973177915749, 1.9999892711734937, 1.9999570848090826, 1.999828341078044, 1.9993133937789613, 1.9972540465439481, 1.9890237264361752, 1.9562153843260486, 1.82677862987391, 1.3371201625639997, -0.21210967086482313, -1.9550094875256163, 1.822062096315173, 1.319910282828443, -0.2578368452837396, -1.9335201612141288, 1.7385002138215109, 1.0223829934574389, -0.9547330146890065, -1.0884848706628412, -0.8152006863380978, -1.3354478409938944, -0.21657906398474625, -1.953093509043491, 1.8145742550678174, 1.2926797271549244, -0.3289791230026702]\n",
      "\n",
      "Dla x = 1.0 dla c = -1.0\n",
      "[0.0, -1.0, 0.0, -1.0, 0.0, -1.0, 0.0, -1.0, 0.0, -1.0, 0.0, -1.0, 0.0, -1.0, 0.0, -1.0, 0.0, -1.0, 0.0, -1.0, 0.0, -1.0, 0.0, -1.0, 0.0, -1.0, 0.0, -1.0, 0.0, -1.0, 0.0, -1.0, 0.0, -1.0, 0.0, -1.0, 0.0, -1.0, 0.0, -1.0]\n",
      "\n",
      "Dla x = -1.0 dla c = -1.0\n",
      "[0.0, -1.0, 0.0, -1.0, 0.0, -1.0, 0.0, -1.0, 0.0, -1.0, 0.0, -1.0, 0.0, -1.0, 0.0, -1.0, 0.0, -1.0, 0.0, -1.0, 0.0, -1.0, 0.0, -1.0, 0.0, -1.0, 0.0, -1.0, 0.0, -1.0, 0.0, -1.0, 0.0, -1.0, 0.0, -1.0, 0.0, -1.0, 0.0, -1.0]\n",
      "\n",
      "Dla x = 0.75 dla c = -1.0\n",
      "[-0.4375, -0.80859375, -0.3461761474609375, -0.8801620749291033, -0.2253147218564956, -0.9492332761147301, -0.0989561875164966, -0.9902076729521999, -0.01948876442658909, -0.999620188061125, -0.0007594796206411569, -0.9999994231907058, -1.1536182557003727e-6, -0.9999999999986692, -2.6616486792363503e-12, -1.0, 0.0, -1.0, 0.0, -1.0, 0.0, -1.0, 0.0, -1.0, 0.0, -1.0, 0.0, -1.0, 0.0, -1.0, 0.0, -1.0, 0.0, -1.0, 0.0, -1.0, 0.0, -1.0, 0.0, -1.0]\n",
      "\n",
      "Dla x = 0.25 dla c = -1.0\n",
      "[-0.9375, -0.12109375, -0.9853363037109375, -0.029112368589267135, -0.9991524699951226, -0.0016943417026455965, -0.9999971292061947, -5.741579369278327e-6, -0.9999999999670343, -6.593148249578462e-11, -1.0, 0.0, -1.0, 0.0, -1.0, 0.0, -1.0, 0.0, -1.0, 0.0, -1.0, 0.0, -1.0, 0.0, -1.0, 0.0, -1.0, 0.0, -1.0, 0.0, -1.0, 0.0, -1.0, 0.0, -1.0, 0.0, -1.0, 0.0, -1.0, 0.0]\n",
      "\n"
     ]
    }
   ],
   "source": [
    "c = [[-2, 1], [-2, 2], [-2, 1.99999999999999], [-1, 1], [-1, -1], [-1, 0.75], [-1, 0.25]]\n",
    "for el in c\n",
    "    println(\"Dla x = \", el[2], \" dla c = \", el[1])\n",
    "    println(recursion(el))\n",
    "    println(\"\")\n",
    "end\n"
   ]
  },
  {
   "cell_type": "code",
   "execution_count": 25,
   "metadata": {},
   "outputs": [
    {
     "data": {
      "text/plain": [
       "40-element Array{Int64,1}:\n",
       "  1\n",
       "  2\n",
       "  3\n",
       "  4\n",
       "  5\n",
       "  6\n",
       "  7\n",
       "  8\n",
       "  9\n",
       " 10\n",
       " 11\n",
       " 12\n",
       " 13\n",
       "  ⋮\n",
       " 29\n",
       " 30\n",
       " 31\n",
       " 32\n",
       " 33\n",
       " 34\n",
       " 35\n",
       " 36\n",
       " 37\n",
       " 38\n",
       " 39\n",
       " 40"
      ]
     },
     "execution_count": 25,
     "metadata": {},
     "output_type": "execute_result"
    }
   ],
   "source": [
    "using Plots\n",
    "\n",
    "arg_x = [i for i in 1:40]"
   ]
  },
  {
   "cell_type": "code",
   "execution_count": 37,
   "metadata": {},
   "outputs": [
    {
     "data": {
      "image/svg+xml": [
       "<?xml version=\"1.0\" encoding=\"utf-8\"?>\n",
       "<svg xmlns=\"http://www.w3.org/2000/svg\" xmlns:xlink=\"http://www.w3.org/1999/xlink\" width=\"600\" height=\"400\" viewBox=\"0 0 2400 1600\">\n",
       "<defs>\n",
       "  <clipPath id=\"clip060\">\n",
       "    <rect x=\"0\" y=\"0\" width=\"2400\" height=\"1600\"/>\n",
       "  </clipPath>\n",
       "</defs>\n",
       "<path clip-path=\"url(#clip060)\" d=\"\n",
       "M0 1600 L2400 1600 L2400 0 L0 0  Z\n",
       "  \" fill=\"#ffffff\" fill-rule=\"evenodd\" fill-opacity=\"1\"/>\n",
       "<defs>\n",
       "  <clipPath id=\"clip061\">\n",
       "    <rect x=\"480\" y=\"0\" width=\"1681\" height=\"1600\"/>\n",
       "  </clipPath>\n",
       "</defs>\n",
       "<path clip-path=\"url(#clip060)\" d=\"\n",
       "M206.667 1486.45 L2352.76 1486.45 L2352.76 123.472 L206.667 123.472  Z\n",
       "  \" fill=\"#ffffff\" fill-rule=\"evenodd\" fill-opacity=\"1\"/>\n",
       "<defs>\n",
       "  <clipPath id=\"clip062\">\n",
       "    <rect x=\"206\" y=\"123\" width=\"2147\" height=\"1364\"/>\n",
       "  </clipPath>\n",
       "</defs>\n",
       "<polyline clip-path=\"url(#clip062)\" style=\"stroke:#000000; stroke-width:2; stroke-opacity:0.1; fill:none\" points=\"\n",
       "  215.493,1486.45 215.493,123.472 \n",
       "  \"/>\n",
       "<polyline clip-path=\"url(#clip062)\" style=\"stroke:#000000; stroke-width:2; stroke-opacity:0.1; fill:none\" points=\"\n",
       "  734.624,1486.45 734.624,123.472 \n",
       "  \"/>\n",
       "<polyline clip-path=\"url(#clip062)\" style=\"stroke:#000000; stroke-width:2; stroke-opacity:0.1; fill:none\" points=\"\n",
       "  1253.76,1486.45 1253.76,123.472 \n",
       "  \"/>\n",
       "<polyline clip-path=\"url(#clip062)\" style=\"stroke:#000000; stroke-width:2; stroke-opacity:0.1; fill:none\" points=\"\n",
       "  1772.89,1486.45 1772.89,123.472 \n",
       "  \"/>\n",
       "<polyline clip-path=\"url(#clip062)\" style=\"stroke:#000000; stroke-width:2; stroke-opacity:0.1; fill:none\" points=\"\n",
       "  2292.02,1486.45 2292.02,123.472 \n",
       "  \"/>\n",
       "<polyline clip-path=\"url(#clip060)\" style=\"stroke:#000000; stroke-width:4; stroke-opacity:1; fill:none\" points=\"\n",
       "  206.667,1486.45 2352.76,1486.45 \n",
       "  \"/>\n",
       "<polyline clip-path=\"url(#clip060)\" style=\"stroke:#000000; stroke-width:4; stroke-opacity:1; fill:none\" points=\"\n",
       "  215.493,1486.45 215.493,1470.09 \n",
       "  \"/>\n",
       "<polyline clip-path=\"url(#clip060)\" style=\"stroke:#000000; stroke-width:4; stroke-opacity:1; fill:none\" points=\"\n",
       "  734.624,1486.45 734.624,1470.09 \n",
       "  \"/>\n",
       "<polyline clip-path=\"url(#clip060)\" style=\"stroke:#000000; stroke-width:4; stroke-opacity:1; fill:none\" points=\"\n",
       "  1253.76,1486.45 1253.76,1470.09 \n",
       "  \"/>\n",
       "<polyline clip-path=\"url(#clip060)\" style=\"stroke:#000000; stroke-width:4; stroke-opacity:1; fill:none\" points=\"\n",
       "  1772.89,1486.45 1772.89,1470.09 \n",
       "  \"/>\n",
       "<polyline clip-path=\"url(#clip060)\" style=\"stroke:#000000; stroke-width:4; stroke-opacity:1; fill:none\" points=\"\n",
       "  2292.02,1486.45 2292.02,1470.09 \n",
       "  \"/>\n",
       "<path clip-path=\"url(#clip060)\" d=\"M 0 0 M215.493 1515.64 Q211.882 1515.64 210.053 1519.2 Q208.247 1522.75 208.247 1529.87 Q208.247 1536.98 210.053 1540.55 Q211.882 1544.09 215.493 1544.09 Q219.127 1544.09 220.932 1540.55 Q222.761 1536.98 222.761 1529.87 Q222.761 1522.75 220.932 1519.2 Q219.127 1515.64 215.493 1515.64 M215.493 1511.93 Q221.303 1511.93 224.358 1516.54 Q227.437 1521.12 227.437 1529.87 Q227.437 1538.6 224.358 1543.21 Q221.303 1547.79 215.493 1547.79 Q209.682 1547.79 206.604 1543.21 Q203.548 1538.6 203.548 1529.87 Q203.548 1521.12 206.604 1516.54 Q209.682 1511.93 215.493 1511.93 Z\" fill=\"#000000\" fill-rule=\"evenodd\" fill-opacity=\"1\" /><path clip-path=\"url(#clip060)\" d=\"M 0 0 M711.499 1543.18 L719.138 1543.18 L719.138 1516.82 L710.828 1518.49 L710.828 1514.23 L719.092 1512.56 L723.767 1512.56 L723.767 1543.18 L731.406 1543.18 L731.406 1547.12 L711.499 1547.12 L711.499 1543.18 Z\" fill=\"#000000\" fill-rule=\"evenodd\" fill-opacity=\"1\" /><path clip-path=\"url(#clip060)\" d=\"M 0 0 M746.476 1515.64 Q742.865 1515.64 741.036 1519.2 Q739.23 1522.75 739.23 1529.87 Q739.23 1536.98 741.036 1540.55 Q742.865 1544.09 746.476 1544.09 Q750.11 1544.09 751.915 1540.55 Q753.744 1536.98 753.744 1529.87 Q753.744 1522.75 751.915 1519.2 Q750.11 1515.64 746.476 1515.64 M746.476 1511.93 Q752.286 1511.93 755.341 1516.54 Q758.42 1521.12 758.42 1529.87 Q758.42 1538.6 755.341 1543.21 Q752.286 1547.79 746.476 1547.79 Q740.666 1547.79 737.587 1543.21 Q734.531 1538.6 734.531 1529.87 Q734.531 1521.12 737.587 1516.54 Q740.666 1511.93 746.476 1511.93 Z\" fill=\"#000000\" fill-rule=\"evenodd\" fill-opacity=\"1\" /><path clip-path=\"url(#clip060)\" d=\"M 0 0 M1234.9 1543.18 L1251.22 1543.18 L1251.22 1547.12 L1229.28 1547.12 L1229.28 1543.18 Q1231.94 1540.43 1236.52 1535.8 Q1241.13 1531.15 1242.31 1529.81 Q1244.55 1527.28 1245.43 1525.55 Q1246.34 1523.79 1246.34 1522.1 Q1246.34 1519.34 1244.39 1517.61 Q1242.47 1515.87 1239.37 1515.87 Q1237.17 1515.87 1234.72 1516.63 Q1232.29 1517.4 1229.51 1518.95 L1229.51 1514.23 Q1232.33 1513.09 1234.79 1512.51 Q1237.24 1511.93 1239.28 1511.93 Q1244.65 1511.93 1247.84 1514.62 Q1251.04 1517.31 1251.04 1521.8 Q1251.04 1523.93 1250.23 1525.85 Q1249.44 1527.74 1247.33 1530.34 Q1246.75 1531.01 1243.65 1534.23 Q1240.55 1537.42 1234.9 1543.18 Z\" fill=\"#000000\" fill-rule=\"evenodd\" fill-opacity=\"1\" /><path clip-path=\"url(#clip060)\" d=\"M 0 0 M1266.29 1515.64 Q1262.68 1515.64 1260.85 1519.2 Q1259.04 1522.75 1259.04 1529.87 Q1259.04 1536.98 1260.85 1540.55 Q1262.68 1544.09 1266.29 1544.09 Q1269.92 1544.09 1271.73 1540.55 Q1273.56 1536.98 1273.56 1529.87 Q1273.56 1522.75 1271.73 1519.2 Q1269.92 1515.64 1266.29 1515.64 M1266.29 1511.93 Q1272.1 1511.93 1275.16 1516.54 Q1278.23 1521.12 1278.23 1529.87 Q1278.23 1538.6 1275.16 1543.21 Q1272.1 1547.79 1266.29 1547.79 Q1260.48 1547.79 1257.4 1543.21 Q1254.35 1538.6 1254.35 1529.87 Q1254.35 1521.12 1257.4 1516.54 Q1260.48 1511.93 1266.29 1511.93 Z\" fill=\"#000000\" fill-rule=\"evenodd\" fill-opacity=\"1\" /><path clip-path=\"url(#clip060)\" d=\"M 0 0 M1763.63 1528.49 Q1766.98 1529.2 1768.86 1531.47 Q1770.76 1533.74 1770.76 1537.07 Q1770.76 1542.19 1767.24 1544.99 Q1763.72 1547.79 1757.24 1547.79 Q1755.06 1547.79 1752.75 1547.35 Q1750.46 1546.93 1748 1546.08 L1748 1541.56 Q1749.95 1542.7 1752.26 1543.28 Q1754.58 1543.86 1757.1 1543.86 Q1761.5 1543.86 1763.79 1542.12 Q1766.1 1540.38 1766.1 1537.07 Q1766.1 1534.02 1763.95 1532.31 Q1761.82 1530.57 1758 1530.57 L1753.97 1530.57 L1753.97 1526.73 L1758.19 1526.73 Q1761.64 1526.73 1763.47 1525.36 Q1765.29 1523.97 1765.29 1521.38 Q1765.29 1518.72 1763.4 1517.31 Q1761.52 1515.87 1758 1515.87 Q1756.08 1515.87 1753.88 1516.29 Q1751.68 1516.7 1749.04 1517.58 L1749.04 1513.42 Q1751.71 1512.68 1754.02 1512.31 Q1756.36 1511.93 1758.42 1511.93 Q1763.74 1511.93 1766.84 1514.37 Q1769.95 1516.77 1769.95 1520.89 Q1769.95 1523.76 1768.3 1525.75 Q1766.66 1527.72 1763.63 1528.49 Z\" fill=\"#000000\" fill-rule=\"evenodd\" fill-opacity=\"1\" /><path clip-path=\"url(#clip060)\" d=\"M 0 0 M1785.83 1515.64 Q1782.21 1515.64 1780.39 1519.2 Q1778.58 1522.75 1778.58 1529.87 Q1778.58 1536.98 1780.39 1540.55 Q1782.21 1544.09 1785.83 1544.09 Q1789.46 1544.09 1791.27 1540.55 Q1793.09 1536.98 1793.09 1529.87 Q1793.09 1522.75 1791.27 1519.2 Q1789.46 1515.64 1785.83 1515.64 M1785.83 1511.93 Q1791.64 1511.93 1794.69 1516.54 Q1797.77 1521.12 1797.77 1529.87 Q1797.77 1538.6 1794.69 1543.21 Q1791.64 1547.79 1785.83 1547.79 Q1780.02 1547.79 1776.94 1543.21 Q1773.88 1538.6 1773.88 1529.87 Q1773.88 1521.12 1776.94 1516.54 Q1780.02 1511.93 1785.83 1511.93 Z\" fill=\"#000000\" fill-rule=\"evenodd\" fill-opacity=\"1\" /><path clip-path=\"url(#clip060)\" d=\"M 0 0 M2281.52 1516.63 L2269.71 1535.08 L2281.52 1535.08 L2281.52 1516.63 M2280.29 1512.56 L2286.17 1512.56 L2286.17 1535.08 L2291.1 1535.08 L2291.1 1538.97 L2286.17 1538.97 L2286.17 1547.12 L2281.52 1547.12 L2281.52 1538.97 L2265.92 1538.97 L2265.92 1534.46 L2280.29 1512.56 Z\" fill=\"#000000\" fill-rule=\"evenodd\" fill-opacity=\"1\" /><path clip-path=\"url(#clip060)\" d=\"M 0 0 M2306.17 1515.64 Q2302.56 1515.64 2300.73 1519.2 Q2298.93 1522.75 2298.93 1529.87 Q2298.93 1536.98 2300.73 1540.55 Q2302.56 1544.09 2306.17 1544.09 Q2309.81 1544.09 2311.61 1540.55 Q2313.44 1536.98 2313.44 1529.87 Q2313.44 1522.75 2311.61 1519.2 Q2309.81 1515.64 2306.17 1515.64 M2306.17 1511.93 Q2311.98 1511.93 2315.04 1516.54 Q2318.12 1521.12 2318.12 1529.87 Q2318.12 1538.6 2315.04 1543.21 Q2311.98 1547.79 2306.17 1547.79 Q2300.36 1547.79 2297.28 1543.21 Q2294.23 1538.6 2294.23 1529.87 Q2294.23 1521.12 2297.28 1516.54 Q2300.36 1511.93 2306.17 1511.93 Z\" fill=\"#000000\" fill-rule=\"evenodd\" fill-opacity=\"1\" /><polyline clip-path=\"url(#clip062)\" style=\"stroke:#000000; stroke-width:2; stroke-opacity:0.1; fill:none\" points=\"\n",
       "  206.667,1447.87 2352.76,1447.87 \n",
       "  \"/>\n",
       "<polyline clip-path=\"url(#clip062)\" style=\"stroke:#000000; stroke-width:2; stroke-opacity:0.1; fill:none\" points=\"\n",
       "  206.667,1126.42 2352.76,1126.42 \n",
       "  \"/>\n",
       "<polyline clip-path=\"url(#clip062)\" style=\"stroke:#000000; stroke-width:2; stroke-opacity:0.1; fill:none\" points=\"\n",
       "  206.667,804.96 2352.76,804.96 \n",
       "  \"/>\n",
       "<polyline clip-path=\"url(#clip062)\" style=\"stroke:#000000; stroke-width:2; stroke-opacity:0.1; fill:none\" points=\"\n",
       "  206.667,483.503 2352.76,483.503 \n",
       "  \"/>\n",
       "<polyline clip-path=\"url(#clip062)\" style=\"stroke:#000000; stroke-width:2; stroke-opacity:0.1; fill:none\" points=\"\n",
       "  206.667,162.047 2352.76,162.047 \n",
       "  \"/>\n",
       "<polyline clip-path=\"url(#clip060)\" style=\"stroke:#000000; stroke-width:4; stroke-opacity:1; fill:none\" points=\"\n",
       "  206.667,1486.45 206.667,123.472 \n",
       "  \"/>\n",
       "<polyline clip-path=\"url(#clip060)\" style=\"stroke:#000000; stroke-width:4; stroke-opacity:1; fill:none\" points=\"\n",
       "  206.667,1447.87 232.42,1447.87 \n",
       "  \"/>\n",
       "<polyline clip-path=\"url(#clip060)\" style=\"stroke:#000000; stroke-width:4; stroke-opacity:1; fill:none\" points=\"\n",
       "  206.667,1126.42 232.42,1126.42 \n",
       "  \"/>\n",
       "<polyline clip-path=\"url(#clip060)\" style=\"stroke:#000000; stroke-width:4; stroke-opacity:1; fill:none\" points=\"\n",
       "  206.667,804.96 232.42,804.96 \n",
       "  \"/>\n",
       "<polyline clip-path=\"url(#clip060)\" style=\"stroke:#000000; stroke-width:4; stroke-opacity:1; fill:none\" points=\"\n",
       "  206.667,483.503 232.42,483.503 \n",
       "  \"/>\n",
       "<polyline clip-path=\"url(#clip060)\" style=\"stroke:#000000; stroke-width:4; stroke-opacity:1; fill:none\" points=\"\n",
       "  206.667,162.047 232.42,162.047 \n",
       "  \"/>\n",
       "<path clip-path=\"url(#clip060)\" d=\"M 0 0 M51.2236 1448.32 L80.8994 1448.32 L80.8994 1452.26 L51.2236 1452.26 L51.2236 1448.32 Z\" fill=\"#000000\" fill-rule=\"evenodd\" fill-opacity=\"1\" /><path clip-path=\"url(#clip060)\" d=\"M 0 0 M86.779 1461.22 L94.4178 1461.22 L94.4178 1434.85 L86.1077 1436.52 L86.1077 1432.26 L94.3715 1430.59 L99.0474 1430.59 L99.0474 1461.22 L106.686 1461.22 L106.686 1465.15 L86.779 1465.15 L86.779 1461.22 Z\" fill=\"#000000\" fill-rule=\"evenodd\" fill-opacity=\"1\" /><path clip-path=\"url(#clip060)\" d=\"M 0 0 M111.756 1459.27 L116.64 1459.27 L116.64 1465.15 L111.756 1465.15 L111.756 1459.27 Z\" fill=\"#000000\" fill-rule=\"evenodd\" fill-opacity=\"1\" /><path clip-path=\"url(#clip060)\" d=\"M 0 0 M131.709 1433.67 Q128.098 1433.67 126.27 1437.24 Q124.464 1440.78 124.464 1447.91 Q124.464 1455.01 126.27 1458.58 Q128.098 1462.12 131.709 1462.12 Q135.344 1462.12 137.149 1458.58 Q138.978 1455.01 138.978 1447.91 Q138.978 1440.78 137.149 1437.24 Q135.344 1433.67 131.709 1433.67 M131.709 1429.97 Q137.519 1429.97 140.575 1434.57 Q143.654 1439.16 143.654 1447.91 Q143.654 1456.63 140.575 1461.24 Q137.519 1465.82 131.709 1465.82 Q125.899 1465.82 122.82 1461.24 Q119.765 1456.63 119.765 1447.91 Q119.765 1439.16 122.82 1434.57 Q125.899 1429.97 131.709 1429.97 Z\" fill=\"#000000\" fill-rule=\"evenodd\" fill-opacity=\"1\" /><path clip-path=\"url(#clip060)\" d=\"M 0 0 M158.723 1433.67 Q155.112 1433.67 153.283 1437.24 Q151.478 1440.78 151.478 1447.91 Q151.478 1455.01 153.283 1458.58 Q155.112 1462.12 158.723 1462.12 Q162.357 1462.12 164.163 1458.58 Q165.992 1455.01 165.992 1447.91 Q165.992 1440.78 164.163 1437.24 Q162.357 1433.67 158.723 1433.67 M158.723 1429.97 Q164.533 1429.97 167.589 1434.57 Q170.667 1439.16 170.667 1447.91 Q170.667 1456.63 167.589 1461.24 Q164.533 1465.82 158.723 1465.82 Q152.913 1465.82 149.834 1461.24 Q146.779 1456.63 146.779 1447.91 Q146.779 1439.16 149.834 1434.57 Q152.913 1429.97 158.723 1429.97 Z\" fill=\"#000000\" fill-rule=\"evenodd\" fill-opacity=\"1\" /><path clip-path=\"url(#clip060)\" d=\"M 0 0 M51.8949 1126.87 L81.5707 1126.87 L81.5707 1130.8 L51.8949 1130.8 L51.8949 1126.87 Z\" fill=\"#000000\" fill-rule=\"evenodd\" fill-opacity=\"1\" /><path clip-path=\"url(#clip060)\" d=\"M 0 0 M96.64 1112.22 Q93.0289 1112.22 91.2002 1115.78 Q89.3947 1119.32 89.3947 1126.45 Q89.3947 1133.56 91.2002 1137.12 Q93.0289 1140.66 96.64 1140.66 Q100.274 1140.66 102.08 1137.12 Q103.909 1133.56 103.909 1126.45 Q103.909 1119.32 102.08 1115.78 Q100.274 1112.22 96.64 1112.22 M96.64 1108.51 Q102.45 1108.51 105.506 1113.12 Q108.584 1117.7 108.584 1126.45 Q108.584 1135.18 105.506 1139.78 Q102.45 1144.37 96.64 1144.37 Q90.8299 1144.37 87.7512 1139.78 Q84.6956 1135.18 84.6956 1126.45 Q84.6956 1117.7 87.7512 1113.12 Q90.8299 1108.51 96.64 1108.51 Z\" fill=\"#000000\" fill-rule=\"evenodd\" fill-opacity=\"1\" /><path clip-path=\"url(#clip060)\" d=\"M 0 0 M113.654 1137.82 L118.538 1137.82 L118.538 1143.7 L113.654 1143.7 L113.654 1137.82 Z\" fill=\"#000000\" fill-rule=\"evenodd\" fill-opacity=\"1\" /><path clip-path=\"url(#clip060)\" d=\"M 0 0 M122.427 1109.14 L144.649 1109.14 L144.649 1111.13 L132.103 1143.7 L127.219 1143.7 L139.024 1113.07 L122.427 1113.07 L122.427 1109.14 Z\" fill=\"#000000\" fill-rule=\"evenodd\" fill-opacity=\"1\" /><path clip-path=\"url(#clip060)\" d=\"M 0 0 M149.765 1109.14 L168.121 1109.14 L168.121 1113.07 L154.047 1113.07 L154.047 1121.54 Q155.066 1121.2 156.084 1121.03 Q157.103 1120.85 158.121 1120.85 Q163.908 1120.85 167.288 1124.02 Q170.667 1127.19 170.667 1132.61 Q170.667 1138.19 167.195 1141.29 Q163.723 1144.37 157.404 1144.37 Q155.228 1144.37 152.959 1144 Q150.714 1143.63 148.306 1142.89 L148.306 1138.19 Q150.39 1139.32 152.612 1139.88 Q154.834 1140.43 157.311 1140.43 Q161.316 1140.43 163.654 1138.33 Q165.992 1136.22 165.992 1132.61 Q165.992 1129 163.654 1126.89 Q161.316 1124.78 157.311 1124.78 Q155.436 1124.78 153.561 1125.2 Q151.709 1125.62 149.765 1126.5 L149.765 1109.14 Z\" fill=\"#000000\" fill-rule=\"evenodd\" fill-opacity=\"1\" /><path clip-path=\"url(#clip060)\" d=\"M 0 0 M50.9921 805.411 L80.6679 805.411 L80.6679 809.347 L50.9921 809.347 L50.9921 805.411 Z\" fill=\"#000000\" fill-rule=\"evenodd\" fill-opacity=\"1\" /><path clip-path=\"url(#clip060)\" d=\"M 0 0 M95.7373 790.759 Q92.1262 790.759 90.2975 794.323 Q88.4919 797.865 88.4919 804.995 Q88.4919 812.101 90.2975 815.666 Q92.1262 819.208 95.7373 819.208 Q99.3715 819.208 101.177 815.666 Q103.006 812.101 103.006 804.995 Q103.006 797.865 101.177 794.323 Q99.3715 790.759 95.7373 790.759 M95.7373 787.055 Q101.547 787.055 104.603 791.661 Q107.682 796.245 107.682 804.995 Q107.682 813.722 104.603 818.328 Q101.547 822.911 95.7373 822.911 Q89.9271 822.911 86.8484 818.328 Q83.7929 813.722 83.7929 804.995 Q83.7929 796.245 86.8484 791.661 Q89.9271 787.055 95.7373 787.055 Z\" fill=\"#000000\" fill-rule=\"evenodd\" fill-opacity=\"1\" /><path clip-path=\"url(#clip060)\" d=\"M 0 0 M112.751 816.36 L117.635 816.36 L117.635 822.24 L112.751 822.24 L112.751 816.36 Z\" fill=\"#000000\" fill-rule=\"evenodd\" fill-opacity=\"1\" /><path clip-path=\"url(#clip060)\" d=\"M 0 0 M122.751 787.68 L141.107 787.68 L141.107 791.615 L127.033 791.615 L127.033 800.087 Q128.052 799.74 129.07 799.578 Q130.089 799.393 131.107 799.393 Q136.894 799.393 140.274 802.564 Q143.654 805.735 143.654 811.152 Q143.654 816.731 140.181 819.833 Q136.709 822.911 130.39 822.911 Q128.214 822.911 125.945 822.541 Q123.7 822.171 121.293 821.43 L121.293 816.731 Q123.376 817.865 125.598 818.421 Q127.82 818.976 130.297 818.976 Q134.302 818.976 136.64 816.87 Q138.978 814.763 138.978 811.152 Q138.978 807.541 136.64 805.435 Q134.302 803.328 130.297 803.328 Q128.422 803.328 126.547 803.745 Q124.695 804.161 122.751 805.041 L122.751 787.68 Z\" fill=\"#000000\" fill-rule=\"evenodd\" fill-opacity=\"1\" /><path clip-path=\"url(#clip060)\" d=\"M 0 0 M158.723 790.759 Q155.112 790.759 153.283 794.323 Q151.478 797.865 151.478 804.995 Q151.478 812.101 153.283 815.666 Q155.112 819.208 158.723 819.208 Q162.357 819.208 164.163 815.666 Q165.992 812.101 165.992 804.995 Q165.992 797.865 164.163 794.323 Q162.357 790.759 158.723 790.759 M158.723 787.055 Q164.533 787.055 167.589 791.661 Q170.667 796.245 170.667 804.995 Q170.667 813.722 167.589 818.328 Q164.533 822.911 158.723 822.911 Q152.913 822.911 149.834 818.328 Q146.779 813.722 146.779 804.995 Q146.779 796.245 149.834 791.661 Q152.913 787.055 158.723 787.055 Z\" fill=\"#000000\" fill-rule=\"evenodd\" fill-opacity=\"1\" /><path clip-path=\"url(#clip060)\" d=\"M 0 0 M52.5893 483.955 L82.2651 483.955 L82.2651 487.89 L52.5893 487.89 L52.5893 483.955 Z\" fill=\"#000000\" fill-rule=\"evenodd\" fill-opacity=\"1\" /><path clip-path=\"url(#clip060)\" d=\"M 0 0 M97.3345 469.302 Q93.7234 469.302 91.8947 472.867 Q90.0891 476.409 90.0891 483.538 Q90.0891 490.645 91.8947 494.209 Q93.7234 497.751 97.3345 497.751 Q100.969 497.751 102.774 494.209 Q104.603 490.645 104.603 483.538 Q104.603 476.409 102.774 472.867 Q100.969 469.302 97.3345 469.302 M97.3345 465.598 Q103.145 465.598 106.2 470.205 Q109.279 474.788 109.279 483.538 Q109.279 492.265 106.2 496.871 Q103.145 501.455 97.3345 501.455 Q91.5243 501.455 88.4456 496.871 Q85.3901 492.265 85.3901 483.538 Q85.3901 474.788 88.4456 470.205 Q91.5243 465.598 97.3345 465.598 Z\" fill=\"#000000\" fill-rule=\"evenodd\" fill-opacity=\"1\" /><path clip-path=\"url(#clip060)\" d=\"M 0 0 M114.348 494.904 L119.233 494.904 L119.233 500.783 L114.348 500.783 L114.348 494.904 Z\" fill=\"#000000\" fill-rule=\"evenodd\" fill-opacity=\"1\" /><path clip-path=\"url(#clip060)\" d=\"M 0 0 M128.33 496.848 L144.649 496.848 L144.649 500.783 L122.705 500.783 L122.705 496.848 Q125.367 494.094 129.95 489.464 Q134.556 484.811 135.737 483.469 Q137.982 480.946 138.862 479.209 Q139.765 477.45 139.765 475.76 Q139.765 473.006 137.82 471.27 Q135.899 469.534 132.797 469.534 Q130.598 469.534 128.144 470.298 Q125.714 471.061 122.936 472.612 L122.936 467.89 Q125.76 466.756 128.214 466.177 Q130.668 465.598 132.705 465.598 Q138.075 465.598 141.269 468.284 Q144.464 470.969 144.464 475.46 Q144.464 477.589 143.654 479.51 Q142.867 481.409 140.76 484.001 Q140.181 484.672 137.08 487.89 Q133.978 491.084 128.33 496.848 Z\" fill=\"#000000\" fill-rule=\"evenodd\" fill-opacity=\"1\" /><path clip-path=\"url(#clip060)\" d=\"M 0 0 M149.765 466.223 L168.121 466.223 L168.121 470.159 L154.047 470.159 L154.047 478.631 Q155.066 478.284 156.084 478.122 Q157.103 477.936 158.121 477.936 Q163.908 477.936 167.288 481.108 Q170.667 484.279 170.667 489.696 Q170.667 495.274 167.195 498.376 Q163.723 501.455 157.404 501.455 Q155.228 501.455 152.959 501.084 Q150.714 500.714 148.306 499.973 L148.306 495.274 Q150.39 496.408 152.612 496.964 Q154.834 497.52 157.311 497.52 Q161.316 497.52 163.654 495.413 Q165.992 493.307 165.992 489.696 Q165.992 486.084 163.654 483.978 Q161.316 481.872 157.311 481.872 Q155.436 481.872 153.561 482.288 Q151.709 482.705 149.765 483.584 L149.765 466.223 Z\" fill=\"#000000\" fill-rule=\"evenodd\" fill-opacity=\"1\" /><path clip-path=\"url(#clip060)\" d=\"M 0 0 M94.7419 147.846 Q91.1308 147.846 89.3021 151.41 Q87.4966 154.952 87.4966 162.082 Q87.4966 169.188 89.3021 172.753 Q91.1308 176.295 94.7419 176.295 Q98.3761 176.295 100.182 172.753 Q102.01 169.188 102.01 162.082 Q102.01 154.952 100.182 151.41 Q98.3761 147.846 94.7419 147.846 M94.7419 144.142 Q100.552 144.142 103.608 148.748 Q106.686 153.332 106.686 162.082 Q106.686 170.808 103.608 175.415 Q100.552 179.998 94.7419 179.998 Q88.9317 179.998 85.8531 175.415 Q82.7975 170.808 82.7975 162.082 Q82.7975 153.332 85.8531 148.748 Q88.9317 144.142 94.7419 144.142 Z\" fill=\"#000000\" fill-rule=\"evenodd\" fill-opacity=\"1\" /><path clip-path=\"url(#clip060)\" d=\"M 0 0 M111.756 173.447 L116.64 173.447 L116.64 179.327 L111.756 179.327 L111.756 173.447 Z\" fill=\"#000000\" fill-rule=\"evenodd\" fill-opacity=\"1\" /><path clip-path=\"url(#clip060)\" d=\"M 0 0 M131.709 147.846 Q128.098 147.846 126.27 151.41 Q124.464 154.952 124.464 162.082 Q124.464 169.188 126.27 172.753 Q128.098 176.295 131.709 176.295 Q135.344 176.295 137.149 172.753 Q138.978 169.188 138.978 162.082 Q138.978 154.952 137.149 151.41 Q135.344 147.846 131.709 147.846 M131.709 144.142 Q137.519 144.142 140.575 148.748 Q143.654 153.332 143.654 162.082 Q143.654 170.808 140.575 175.415 Q137.519 179.998 131.709 179.998 Q125.899 179.998 122.82 175.415 Q119.765 170.808 119.765 162.082 Q119.765 153.332 122.82 148.748 Q125.899 144.142 131.709 144.142 Z\" fill=\"#000000\" fill-rule=\"evenodd\" fill-opacity=\"1\" /><path clip-path=\"url(#clip060)\" d=\"M 0 0 M158.723 147.846 Q155.112 147.846 153.283 151.41 Q151.478 154.952 151.478 162.082 Q151.478 169.188 153.283 172.753 Q155.112 176.295 158.723 176.295 Q162.357 176.295 164.163 172.753 Q165.992 169.188 165.992 162.082 Q165.992 154.952 164.163 151.41 Q162.357 147.846 158.723 147.846 M158.723 144.142 Q164.533 144.142 167.589 148.748 Q170.667 153.332 170.667 162.082 Q170.667 170.808 167.589 175.415 Q164.533 179.998 158.723 179.998 Q152.913 179.998 149.834 175.415 Q146.779 170.808 146.779 162.082 Q146.779 153.332 149.834 148.748 Q152.913 144.142 158.723 144.142 Z\" fill=\"#000000\" fill-rule=\"evenodd\" fill-opacity=\"1\" /><path clip-path=\"url(#clip060)\" d=\"M 0 0 M1040.06 28.9478 L1040.06 35.9153 Q1036.9 34.1734 1033.7 33.3227 Q1030.54 32.4315 1027.3 32.4315 Q1020.05 32.4315 1016.04 37.0496 Q1012.03 41.6271 1012.03 49.9314 Q1012.03 58.2358 1016.04 62.8538 Q1020.05 67.4314 1027.3 67.4314 Q1030.54 67.4314 1033.7 66.5807 Q1036.9 65.6895 1040.06 63.9476 L1040.06 70.8341 Q1036.94 72.2924 1033.58 73.0216 Q1030.26 73.7508 1026.49 73.7508 Q1016.24 73.7508 1010.21 67.3098 Q1004.17 60.8689 1004.17 49.9314 Q1004.17 38.832 1010.25 32.472 Q1016.36 26.1121 1026.98 26.1121 Q1030.42 26.1121 1033.7 26.8413 Q1036.98 27.5299 1040.06 28.9478 Z\" fill=\"#000000\" fill-rule=\"evenodd\" fill-opacity=\"1\" /><path clip-path=\"url(#clip060)\" d=\"M 0 0 M1075.22 34.9026 L1127.15 34.9026 L1127.15 41.7081 L1075.22 41.7081 L1075.22 34.9026 M1075.22 51.4303 L1127.15 51.4303 L1127.15 58.3168 L1075.22 58.3168 L1075.22 51.4303 Z\" fill=\"#000000\" fill-rule=\"evenodd\" fill-opacity=\"1\" /><path clip-path=\"url(#clip060)\" d=\"M 0 0 M1157.58 46.5287 L1179.41 46.5287 L1179.41 53.1722 L1157.58 53.1722 L1157.58 46.5287 Z\" fill=\"#000000\" fill-rule=\"evenodd\" fill-opacity=\"1\" /><path clip-path=\"url(#clip060)\" d=\"M 0 0 M1195.33 65.6895 L1223.89 65.6895 L1223.89 72.576 L1185.49 72.576 L1185.49 65.6895 Q1190.15 60.8689 1198.17 52.7671 Q1206.23 44.6248 1208.29 42.2752 Q1212.22 37.8598 1213.76 34.8216 Q1215.34 31.7429 1215.34 28.7857 Q1215.34 23.9651 1211.94 20.927 Q1208.58 17.8888 1203.15 17.8888 Q1199.3 17.8888 1195.01 19.2256 Q1190.75 20.5624 1185.89 23.2765 L1185.89 15.0127 Q1190.83 13.0277 1195.13 12.015 Q1199.42 11.0023 1202.99 11.0023 Q1212.39 11.0023 1217.98 15.7013 Q1223.57 20.4004 1223.57 28.2591 Q1223.57 31.9859 1222.15 35.3482 Q1220.77 38.6699 1217.08 43.2069 Q1216.07 44.3817 1210.64 50.0125 Q1205.22 55.6027 1195.33 65.6895 Z\" fill=\"#000000\" fill-rule=\"evenodd\" fill-opacity=\"1\" /><path clip-path=\"url(#clip060)\" d=\"M 0 0 M1348.54 27.2059 L1332.13 49.2833 L1349.39 72.576 L1340.6 72.576 L1327.39 54.752 L1314.18 72.576 L1305.39 72.576 L1323.02 48.8377 L1306.89 27.2059 L1315.68 27.2059 L1327.71 43.369 L1339.75 27.2059 L1348.54 27.2059 Z\" fill=\"#000000\" fill-rule=\"evenodd\" fill-opacity=\"1\" /><path clip-path=\"url(#clip060)\" d=\"M 0 0 M1375.76 17.4837 Q1369.44 17.4837 1366.24 23.7221 Q1363.08 29.92 1363.08 42.3968 Q1363.08 54.833 1366.24 61.0714 Q1369.44 67.2693 1375.76 67.2693 Q1382.12 67.2693 1385.28 61.0714 Q1388.48 54.833 1388.48 42.3968 Q1388.48 29.92 1385.28 23.7221 Q1382.12 17.4837 1375.76 17.4837 M1375.76 11.0023 Q1385.93 11.0023 1391.27 19.0636 Q1396.66 27.0843 1396.66 42.3968 Q1396.66 57.6687 1391.27 65.73 Q1385.93 73.7508 1375.76 73.7508 Q1365.59 73.7508 1360.2 65.73 Q1354.86 57.6687 1354.86 42.3968 Q1354.86 27.0843 1360.2 19.0636 Q1365.59 11.0023 1375.76 11.0023 Z\" fill=\"#000000\" fill-rule=\"evenodd\" fill-opacity=\"1\" /><path clip-path=\"url(#clip060)\" d=\"M 0 0 M1431.82 34.9026 L1483.76 34.9026 L1483.76 41.7081 L1431.82 41.7081 L1431.82 34.9026 M1431.82 51.4303 L1483.76 51.4303 L1483.76 58.3168 L1431.82 58.3168 L1431.82 51.4303 Z\" fill=\"#000000\" fill-rule=\"evenodd\" fill-opacity=\"1\" /><path clip-path=\"url(#clip060)\" d=\"M 0 0 M1520.42 65.6895 L1533.78 65.6895 L1533.78 19.5497 L1519.24 22.4663 L1519.24 15.0127 L1533.7 12.096 L1541.89 12.096 L1541.89 65.6895 L1555.25 65.6895 L1555.25 72.576 L1520.42 72.576 L1520.42 65.6895 Z\" fill=\"#000000\" fill-rule=\"evenodd\" fill-opacity=\"1\" /><circle clip-path=\"url(#clip062)\" cx=\"267.406\" cy=\"1447.87\" r=\"14\" fill=\"#009af9\" fill-rule=\"evenodd\" fill-opacity=\"1\" stroke=\"#000000\" stroke-opacity=\"1\" stroke-width=\"3.2\"/>\n",
       "<circle clip-path=\"url(#clip062)\" cx=\"319.319\" cy=\"1447.87\" r=\"14\" fill=\"#009af9\" fill-rule=\"evenodd\" fill-opacity=\"1\" stroke=\"#000000\" stroke-opacity=\"1\" stroke-width=\"3.2\"/>\n",
       "<circle clip-path=\"url(#clip062)\" cx=\"371.232\" cy=\"1447.87\" r=\"14\" fill=\"#009af9\" fill-rule=\"evenodd\" fill-opacity=\"1\" stroke=\"#000000\" stroke-opacity=\"1\" stroke-width=\"3.2\"/>\n",
       "<circle clip-path=\"url(#clip062)\" cx=\"423.145\" cy=\"1447.87\" r=\"14\" fill=\"#009af9\" fill-rule=\"evenodd\" fill-opacity=\"1\" stroke=\"#000000\" stroke-opacity=\"1\" stroke-width=\"3.2\"/>\n",
       "<circle clip-path=\"url(#clip062)\" cx=\"475.058\" cy=\"1447.87\" r=\"14\" fill=\"#009af9\" fill-rule=\"evenodd\" fill-opacity=\"1\" stroke=\"#000000\" stroke-opacity=\"1\" stroke-width=\"3.2\"/>\n",
       "<circle clip-path=\"url(#clip062)\" cx=\"526.971\" cy=\"1447.87\" r=\"14\" fill=\"#009af9\" fill-rule=\"evenodd\" fill-opacity=\"1\" stroke=\"#000000\" stroke-opacity=\"1\" stroke-width=\"3.2\"/>\n",
       "<circle clip-path=\"url(#clip062)\" cx=\"578.885\" cy=\"1447.87\" r=\"14\" fill=\"#009af9\" fill-rule=\"evenodd\" fill-opacity=\"1\" stroke=\"#000000\" stroke-opacity=\"1\" stroke-width=\"3.2\"/>\n",
       "<circle clip-path=\"url(#clip062)\" cx=\"630.798\" cy=\"1447.87\" r=\"14\" fill=\"#009af9\" fill-rule=\"evenodd\" fill-opacity=\"1\" stroke=\"#000000\" stroke-opacity=\"1\" stroke-width=\"3.2\"/>\n",
       "<circle clip-path=\"url(#clip062)\" cx=\"682.711\" cy=\"1447.87\" r=\"14\" fill=\"#009af9\" fill-rule=\"evenodd\" fill-opacity=\"1\" stroke=\"#000000\" stroke-opacity=\"1\" stroke-width=\"3.2\"/>\n",
       "<circle clip-path=\"url(#clip062)\" cx=\"734.624\" cy=\"1447.87\" r=\"14\" fill=\"#009af9\" fill-rule=\"evenodd\" fill-opacity=\"1\" stroke=\"#000000\" stroke-opacity=\"1\" stroke-width=\"3.2\"/>\n",
       "<circle clip-path=\"url(#clip062)\" cx=\"786.537\" cy=\"1447.87\" r=\"14\" fill=\"#009af9\" fill-rule=\"evenodd\" fill-opacity=\"1\" stroke=\"#000000\" stroke-opacity=\"1\" stroke-width=\"3.2\"/>\n",
       "<circle clip-path=\"url(#clip062)\" cx=\"838.45\" cy=\"1447.87\" r=\"14\" fill=\"#009af9\" fill-rule=\"evenodd\" fill-opacity=\"1\" stroke=\"#000000\" stroke-opacity=\"1\" stroke-width=\"3.2\"/>\n",
       "<circle clip-path=\"url(#clip062)\" cx=\"890.363\" cy=\"1447.87\" r=\"14\" fill=\"#009af9\" fill-rule=\"evenodd\" fill-opacity=\"1\" stroke=\"#000000\" stroke-opacity=\"1\" stroke-width=\"3.2\"/>\n",
       "<circle clip-path=\"url(#clip062)\" cx=\"942.276\" cy=\"1447.87\" r=\"14\" fill=\"#009af9\" fill-rule=\"evenodd\" fill-opacity=\"1\" stroke=\"#000000\" stroke-opacity=\"1\" stroke-width=\"3.2\"/>\n",
       "<circle clip-path=\"url(#clip062)\" cx=\"994.189\" cy=\"1447.87\" r=\"14\" fill=\"#009af9\" fill-rule=\"evenodd\" fill-opacity=\"1\" stroke=\"#000000\" stroke-opacity=\"1\" stroke-width=\"3.2\"/>\n",
       "<circle clip-path=\"url(#clip062)\" cx=\"1046.1\" cy=\"1447.87\" r=\"14\" fill=\"#009af9\" fill-rule=\"evenodd\" fill-opacity=\"1\" stroke=\"#000000\" stroke-opacity=\"1\" stroke-width=\"3.2\"/>\n",
       "<circle clip-path=\"url(#clip062)\" cx=\"1098.02\" cy=\"1447.87\" r=\"14\" fill=\"#009af9\" fill-rule=\"evenodd\" fill-opacity=\"1\" stroke=\"#000000\" stroke-opacity=\"1\" stroke-width=\"3.2\"/>\n",
       "<circle clip-path=\"url(#clip062)\" cx=\"1149.93\" cy=\"1447.87\" r=\"14\" fill=\"#009af9\" fill-rule=\"evenodd\" fill-opacity=\"1\" stroke=\"#000000\" stroke-opacity=\"1\" stroke-width=\"3.2\"/>\n",
       "<circle clip-path=\"url(#clip062)\" cx=\"1201.84\" cy=\"1447.87\" r=\"14\" fill=\"#009af9\" fill-rule=\"evenodd\" fill-opacity=\"1\" stroke=\"#000000\" stroke-opacity=\"1\" stroke-width=\"3.2\"/>\n",
       "<circle clip-path=\"url(#clip062)\" cx=\"1253.76\" cy=\"1447.87\" r=\"14\" fill=\"#009af9\" fill-rule=\"evenodd\" fill-opacity=\"1\" stroke=\"#000000\" stroke-opacity=\"1\" stroke-width=\"3.2\"/>\n",
       "<circle clip-path=\"url(#clip062)\" cx=\"1305.67\" cy=\"1447.87\" r=\"14\" fill=\"#009af9\" fill-rule=\"evenodd\" fill-opacity=\"1\" stroke=\"#000000\" stroke-opacity=\"1\" stroke-width=\"3.2\"/>\n",
       "<circle clip-path=\"url(#clip062)\" cx=\"1357.58\" cy=\"1447.87\" r=\"14\" fill=\"#009af9\" fill-rule=\"evenodd\" fill-opacity=\"1\" stroke=\"#000000\" stroke-opacity=\"1\" stroke-width=\"3.2\"/>\n",
       "<circle clip-path=\"url(#clip062)\" cx=\"1409.49\" cy=\"1447.87\" r=\"14\" fill=\"#009af9\" fill-rule=\"evenodd\" fill-opacity=\"1\" stroke=\"#000000\" stroke-opacity=\"1\" stroke-width=\"3.2\"/>\n",
       "<circle clip-path=\"url(#clip062)\" cx=\"1461.41\" cy=\"1447.87\" r=\"14\" fill=\"#009af9\" fill-rule=\"evenodd\" fill-opacity=\"1\" stroke=\"#000000\" stroke-opacity=\"1\" stroke-width=\"3.2\"/>\n",
       "<circle clip-path=\"url(#clip062)\" cx=\"1513.32\" cy=\"1447.87\" r=\"14\" fill=\"#009af9\" fill-rule=\"evenodd\" fill-opacity=\"1\" stroke=\"#000000\" stroke-opacity=\"1\" stroke-width=\"3.2\"/>\n",
       "<circle clip-path=\"url(#clip062)\" cx=\"1565.23\" cy=\"1447.87\" r=\"14\" fill=\"#009af9\" fill-rule=\"evenodd\" fill-opacity=\"1\" stroke=\"#000000\" stroke-opacity=\"1\" stroke-width=\"3.2\"/>\n",
       "<circle clip-path=\"url(#clip062)\" cx=\"1617.15\" cy=\"1447.87\" r=\"14\" fill=\"#009af9\" fill-rule=\"evenodd\" fill-opacity=\"1\" stroke=\"#000000\" stroke-opacity=\"1\" stroke-width=\"3.2\"/>\n",
       "<circle clip-path=\"url(#clip062)\" cx=\"1669.06\" cy=\"1447.87\" r=\"14\" fill=\"#009af9\" fill-rule=\"evenodd\" fill-opacity=\"1\" stroke=\"#000000\" stroke-opacity=\"1\" stroke-width=\"3.2\"/>\n",
       "<circle clip-path=\"url(#clip062)\" cx=\"1720.97\" cy=\"1447.87\" r=\"14\" fill=\"#009af9\" fill-rule=\"evenodd\" fill-opacity=\"1\" stroke=\"#000000\" stroke-opacity=\"1\" stroke-width=\"3.2\"/>\n",
       "<circle clip-path=\"url(#clip062)\" cx=\"1772.89\" cy=\"1447.87\" r=\"14\" fill=\"#009af9\" fill-rule=\"evenodd\" fill-opacity=\"1\" stroke=\"#000000\" stroke-opacity=\"1\" stroke-width=\"3.2\"/>\n",
       "<circle clip-path=\"url(#clip062)\" cx=\"1824.8\" cy=\"1447.87\" r=\"14\" fill=\"#009af9\" fill-rule=\"evenodd\" fill-opacity=\"1\" stroke=\"#000000\" stroke-opacity=\"1\" stroke-width=\"3.2\"/>\n",
       "<circle clip-path=\"url(#clip062)\" cx=\"1876.71\" cy=\"1447.87\" r=\"14\" fill=\"#009af9\" fill-rule=\"evenodd\" fill-opacity=\"1\" stroke=\"#000000\" stroke-opacity=\"1\" stroke-width=\"3.2\"/>\n",
       "<circle clip-path=\"url(#clip062)\" cx=\"1928.63\" cy=\"1447.87\" r=\"14\" fill=\"#009af9\" fill-rule=\"evenodd\" fill-opacity=\"1\" stroke=\"#000000\" stroke-opacity=\"1\" stroke-width=\"3.2\"/>\n",
       "<circle clip-path=\"url(#clip062)\" cx=\"1980.54\" cy=\"1447.87\" r=\"14\" fill=\"#009af9\" fill-rule=\"evenodd\" fill-opacity=\"1\" stroke=\"#000000\" stroke-opacity=\"1\" stroke-width=\"3.2\"/>\n",
       "<circle clip-path=\"url(#clip062)\" cx=\"2032.45\" cy=\"1447.87\" r=\"14\" fill=\"#009af9\" fill-rule=\"evenodd\" fill-opacity=\"1\" stroke=\"#000000\" stroke-opacity=\"1\" stroke-width=\"3.2\"/>\n",
       "<circle clip-path=\"url(#clip062)\" cx=\"2084.37\" cy=\"1447.87\" r=\"14\" fill=\"#009af9\" fill-rule=\"evenodd\" fill-opacity=\"1\" stroke=\"#000000\" stroke-opacity=\"1\" stroke-width=\"3.2\"/>\n",
       "<circle clip-path=\"url(#clip062)\" cx=\"2136.28\" cy=\"1447.87\" r=\"14\" fill=\"#009af9\" fill-rule=\"evenodd\" fill-opacity=\"1\" stroke=\"#000000\" stroke-opacity=\"1\" stroke-width=\"3.2\"/>\n",
       "<circle clip-path=\"url(#clip062)\" cx=\"2188.19\" cy=\"1447.87\" r=\"14\" fill=\"#009af9\" fill-rule=\"evenodd\" fill-opacity=\"1\" stroke=\"#000000\" stroke-opacity=\"1\" stroke-width=\"3.2\"/>\n",
       "<circle clip-path=\"url(#clip062)\" cx=\"2240.1\" cy=\"1447.87\" r=\"14\" fill=\"#009af9\" fill-rule=\"evenodd\" fill-opacity=\"1\" stroke=\"#000000\" stroke-opacity=\"1\" stroke-width=\"3.2\"/>\n",
       "<circle clip-path=\"url(#clip062)\" cx=\"2292.02\" cy=\"1447.87\" r=\"14\" fill=\"#009af9\" fill-rule=\"evenodd\" fill-opacity=\"1\" stroke=\"#000000\" stroke-opacity=\"1\" stroke-width=\"3.2\"/>\n",
       "<path clip-path=\"url(#clip060)\" d=\"\n",
       "M1991.75 289.865 L2281.22 289.865 L2281.22 168.905 L1991.75 168.905  Z\n",
       "  \" fill=\"#ffffff\" fill-rule=\"evenodd\" fill-opacity=\"1\"/>\n",
       "<polyline clip-path=\"url(#clip060)\" style=\"stroke:#000000; stroke-width:4; stroke-opacity:1; fill:none\" points=\"\n",
       "  1991.75,289.865 2281.22,289.865 2281.22,168.905 1991.75,168.905 1991.75,289.865 \n",
       "  \"/>\n",
       "<circle clip-path=\"url(#clip060)\" cx=\"2087.13\" cy=\"229.385\" r=\"23\" fill=\"#009af9\" fill-rule=\"evenodd\" fill-opacity=\"1\" stroke=\"#000000\" stroke-opacity=\"1\" stroke-width=\"5.12\"/>\n",
       "<path clip-path=\"url(#clip060)\" d=\"M 0 0 M2196.35 249.072 Q2194.55 253.702 2192.83 255.114 Q2191.12 256.526 2188.25 256.526 L2184.85 256.526 L2184.85 252.961 L2187.35 252.961 Q2189.11 252.961 2190.08 252.128 Q2191.05 251.294 2192.23 248.192 L2193 246.248 L2182.51 220.739 L2187.02 220.739 L2195.13 241.017 L2203.23 220.739 L2207.74 220.739 L2196.35 249.072 Z\" fill=\"#000000\" fill-rule=\"evenodd\" fill-opacity=\"1\" /><path clip-path=\"url(#clip060)\" d=\"M 0 0 M2213.62 242.729 L2221.26 242.729 L2221.26 216.364 L2212.95 218.031 L2212.95 213.771 L2221.21 212.105 L2225.89 212.105 L2225.89 242.729 L2233.53 242.729 L2233.53 246.665 L2213.62 246.665 L2213.62 242.729 Z\" fill=\"#000000\" fill-rule=\"evenodd\" fill-opacity=\"1\" /></svg>\n"
      ]
     },
     "execution_count": 37,
     "metadata": {},
     "output_type": "execute_result"
    }
   ],
   "source": [
    "plot(arg_x, recursion([-2, 1]), seriestype = :scatter, title = \"c = -2   x0 = 1\")"
   ]
  },
  {
   "cell_type": "code",
   "execution_count": 33,
   "metadata": {},
   "outputs": [
    {
     "data": {
      "image/svg+xml": [
       "<?xml version=\"1.0\" encoding=\"utf-8\"?>\n",
       "<svg xmlns=\"http://www.w3.org/2000/svg\" xmlns:xlink=\"http://www.w3.org/1999/xlink\" width=\"600\" height=\"400\" viewBox=\"0 0 2400 1600\">\n",
       "<defs>\n",
       "  <clipPath id=\"clip940\">\n",
       "    <rect x=\"0\" y=\"0\" width=\"2400\" height=\"1600\"/>\n",
       "  </clipPath>\n",
       "</defs>\n",
       "<path clip-path=\"url(#clip940)\" d=\"\n",
       "M0 1600 L2400 1600 L2400 0 L0 0  Z\n",
       "  \" fill=\"#ffffff\" fill-rule=\"evenodd\" fill-opacity=\"1\"/>\n",
       "<defs>\n",
       "  <clipPath id=\"clip941\">\n",
       "    <rect x=\"480\" y=\"0\" width=\"1681\" height=\"1600\"/>\n",
       "  </clipPath>\n",
       "</defs>\n",
       "<path clip-path=\"url(#clip940)\" d=\"\n",
       "M173.728 1486.45 L2352.76 1486.45 L2352.76 123.472 L173.728 123.472  Z\n",
       "  \" fill=\"#ffffff\" fill-rule=\"evenodd\" fill-opacity=\"1\"/>\n",
       "<defs>\n",
       "  <clipPath id=\"clip942\">\n",
       "    <rect x=\"173\" y=\"123\" width=\"2180\" height=\"1364\"/>\n",
       "  </clipPath>\n",
       "</defs>\n",
       "<polyline clip-path=\"url(#clip942)\" style=\"stroke:#000000; stroke-width:2; stroke-opacity:0.1; fill:none\" points=\"\n",
       "  182.688,1486.45 182.688,123.472 \n",
       "  \"/>\n",
       "<polyline clip-path=\"url(#clip942)\" style=\"stroke:#000000; stroke-width:2; stroke-opacity:0.1; fill:none\" points=\"\n",
       "  709.788,1486.45 709.788,123.472 \n",
       "  \"/>\n",
       "<polyline clip-path=\"url(#clip942)\" style=\"stroke:#000000; stroke-width:2; stroke-opacity:0.1; fill:none\" points=\"\n",
       "  1236.89,1486.45 1236.89,123.472 \n",
       "  \"/>\n",
       "<polyline clip-path=\"url(#clip942)\" style=\"stroke:#000000; stroke-width:2; stroke-opacity:0.1; fill:none\" points=\"\n",
       "  1763.99,1486.45 1763.99,123.472 \n",
       "  \"/>\n",
       "<polyline clip-path=\"url(#clip942)\" style=\"stroke:#000000; stroke-width:2; stroke-opacity:0.1; fill:none\" points=\"\n",
       "  2291.09,1486.45 2291.09,123.472 \n",
       "  \"/>\n",
       "<polyline clip-path=\"url(#clip940)\" style=\"stroke:#000000; stroke-width:4; stroke-opacity:1; fill:none\" points=\"\n",
       "  173.728,1486.45 2352.76,1486.45 \n",
       "  \"/>\n",
       "<polyline clip-path=\"url(#clip940)\" style=\"stroke:#000000; stroke-width:4; stroke-opacity:1; fill:none\" points=\"\n",
       "  182.688,1486.45 182.688,1470.09 \n",
       "  \"/>\n",
       "<polyline clip-path=\"url(#clip940)\" style=\"stroke:#000000; stroke-width:4; stroke-opacity:1; fill:none\" points=\"\n",
       "  709.788,1486.45 709.788,1470.09 \n",
       "  \"/>\n",
       "<polyline clip-path=\"url(#clip940)\" style=\"stroke:#000000; stroke-width:4; stroke-opacity:1; fill:none\" points=\"\n",
       "  1236.89,1486.45 1236.89,1470.09 \n",
       "  \"/>\n",
       "<polyline clip-path=\"url(#clip940)\" style=\"stroke:#000000; stroke-width:4; stroke-opacity:1; fill:none\" points=\"\n",
       "  1763.99,1486.45 1763.99,1470.09 \n",
       "  \"/>\n",
       "<polyline clip-path=\"url(#clip940)\" style=\"stroke:#000000; stroke-width:4; stroke-opacity:1; fill:none\" points=\"\n",
       "  2291.09,1486.45 2291.09,1470.09 \n",
       "  \"/>\n",
       "<path clip-path=\"url(#clip940)\" d=\"M 0 0 M182.688 1515.64 Q179.077 1515.64 177.249 1519.2 Q175.443 1522.75 175.443 1529.87 Q175.443 1536.98 177.249 1540.55 Q179.077 1544.09 182.688 1544.09 Q186.323 1544.09 188.128 1540.55 Q189.957 1536.98 189.957 1529.87 Q189.957 1522.75 188.128 1519.2 Q186.323 1515.64 182.688 1515.64 M182.688 1511.93 Q188.499 1511.93 191.554 1516.54 Q194.633 1521.12 194.633 1529.87 Q194.633 1538.6 191.554 1543.21 Q188.499 1547.79 182.688 1547.79 Q176.878 1547.79 173.8 1543.21 Q170.744 1538.6 170.744 1529.87 Q170.744 1521.12 173.8 1516.54 Q176.878 1511.93 182.688 1511.93 Z\" fill=\"#000000\" fill-rule=\"evenodd\" fill-opacity=\"1\" /><path clip-path=\"url(#clip940)\" d=\"M 0 0 M686.663 1543.18 L694.302 1543.18 L694.302 1516.82 L685.991 1518.49 L685.991 1514.23 L694.255 1512.56 L698.931 1512.56 L698.931 1543.18 L706.57 1543.18 L706.57 1547.12 L686.663 1547.12 L686.663 1543.18 Z\" fill=\"#000000\" fill-rule=\"evenodd\" fill-opacity=\"1\" /><path clip-path=\"url(#clip940)\" d=\"M 0 0 M721.639 1515.64 Q718.028 1515.64 716.2 1519.2 Q714.394 1522.75 714.394 1529.87 Q714.394 1536.98 716.2 1540.55 Q718.028 1544.09 721.639 1544.09 Q725.274 1544.09 727.079 1540.55 Q728.908 1536.98 728.908 1529.87 Q728.908 1522.75 727.079 1519.2 Q725.274 1515.64 721.639 1515.64 M721.639 1511.93 Q727.45 1511.93 730.505 1516.54 Q733.584 1521.12 733.584 1529.87 Q733.584 1538.6 730.505 1543.21 Q727.45 1547.79 721.639 1547.79 Q715.829 1547.79 712.751 1543.21 Q709.695 1538.6 709.695 1529.87 Q709.695 1521.12 712.751 1516.54 Q715.829 1511.93 721.639 1511.93 Z\" fill=\"#000000\" fill-rule=\"evenodd\" fill-opacity=\"1\" /><path clip-path=\"url(#clip940)\" d=\"M 0 0 M1218.03 1543.18 L1234.35 1543.18 L1234.35 1547.12 L1212.41 1547.12 L1212.41 1543.18 Q1215.07 1540.43 1219.65 1535.8 Q1224.26 1531.15 1225.44 1529.81 Q1227.69 1527.28 1228.57 1525.55 Q1229.47 1523.79 1229.47 1522.1 Q1229.47 1519.34 1227.52 1517.61 Q1225.6 1515.87 1222.5 1515.87 Q1220.3 1515.87 1217.85 1516.63 Q1215.42 1517.4 1212.64 1518.95 L1212.64 1514.23 Q1215.46 1513.09 1217.92 1512.51 Q1220.37 1511.93 1222.41 1511.93 Q1227.78 1511.93 1230.97 1514.62 Q1234.17 1517.31 1234.17 1521.8 Q1234.17 1523.93 1233.36 1525.85 Q1232.57 1527.74 1230.46 1530.34 Q1229.88 1531.01 1226.78 1534.23 Q1223.68 1537.42 1218.03 1543.18 Z\" fill=\"#000000\" fill-rule=\"evenodd\" fill-opacity=\"1\" /><path clip-path=\"url(#clip940)\" d=\"M 0 0 M1249.42 1515.64 Q1245.81 1515.64 1243.98 1519.2 Q1242.18 1522.75 1242.18 1529.87 Q1242.18 1536.98 1243.98 1540.55 Q1245.81 1544.09 1249.42 1544.09 Q1253.06 1544.09 1254.86 1540.55 Q1256.69 1536.98 1256.69 1529.87 Q1256.69 1522.75 1254.86 1519.2 Q1253.06 1515.64 1249.42 1515.64 M1249.42 1511.93 Q1255.23 1511.93 1258.29 1516.54 Q1261.37 1521.12 1261.37 1529.87 Q1261.37 1538.6 1258.29 1543.21 Q1255.23 1547.79 1249.42 1547.79 Q1243.61 1547.79 1240.53 1543.21 Q1237.48 1538.6 1237.48 1529.87 Q1237.48 1521.12 1240.53 1516.54 Q1243.61 1511.93 1249.42 1511.93 Z\" fill=\"#000000\" fill-rule=\"evenodd\" fill-opacity=\"1\" /><path clip-path=\"url(#clip940)\" d=\"M 0 0 M1754.73 1528.49 Q1758.08 1529.2 1759.96 1531.47 Q1761.86 1533.74 1761.86 1537.07 Q1761.86 1542.19 1758.34 1544.99 Q1754.82 1547.79 1748.34 1547.79 Q1746.16 1547.79 1743.85 1547.35 Q1741.56 1546.93 1739.1 1546.08 L1739.1 1541.56 Q1741.05 1542.7 1743.36 1543.28 Q1745.68 1543.86 1748.2 1543.86 Q1752.6 1543.86 1754.89 1542.12 Q1757.2 1540.38 1757.2 1537.07 Q1757.2 1534.02 1755.05 1532.31 Q1752.92 1530.57 1749.1 1530.57 L1745.07 1530.57 L1745.07 1526.73 L1749.29 1526.73 Q1752.74 1526.73 1754.56 1525.36 Q1756.39 1523.97 1756.39 1521.38 Q1756.39 1518.72 1754.5 1517.31 Q1752.62 1515.87 1749.1 1515.87 Q1747.18 1515.87 1744.98 1516.29 Q1742.78 1516.7 1740.14 1517.58 L1740.14 1513.42 Q1742.81 1512.68 1745.12 1512.31 Q1747.46 1511.93 1749.52 1511.93 Q1754.84 1511.93 1757.94 1514.37 Q1761.05 1516.77 1761.05 1520.89 Q1761.05 1523.76 1759.4 1525.75 Q1757.76 1527.72 1754.73 1528.49 Z\" fill=\"#000000\" fill-rule=\"evenodd\" fill-opacity=\"1\" /><path clip-path=\"url(#clip940)\" d=\"M 0 0 M1776.93 1515.64 Q1773.31 1515.64 1771.49 1519.2 Q1769.68 1522.75 1769.68 1529.87 Q1769.68 1536.98 1771.49 1540.55 Q1773.31 1544.09 1776.93 1544.09 Q1780.56 1544.09 1782.37 1540.55 Q1784.19 1536.98 1784.19 1529.87 Q1784.19 1522.75 1782.37 1519.2 Q1780.56 1515.64 1776.93 1515.64 M1776.93 1511.93 Q1782.74 1511.93 1785.79 1516.54 Q1788.87 1521.12 1788.87 1529.87 Q1788.87 1538.6 1785.79 1543.21 Q1782.74 1547.79 1776.93 1547.79 Q1771.12 1547.79 1768.04 1543.21 Q1764.98 1538.6 1764.98 1529.87 Q1764.98 1521.12 1768.04 1516.54 Q1771.12 1511.93 1776.93 1511.93 Z\" fill=\"#000000\" fill-rule=\"evenodd\" fill-opacity=\"1\" /><path clip-path=\"url(#clip940)\" d=\"M 0 0 M2280.59 1516.63 L2268.78 1535.08 L2280.59 1535.08 L2280.59 1516.63 M2279.36 1512.56 L2285.24 1512.56 L2285.24 1535.08 L2290.17 1535.08 L2290.17 1538.97 L2285.24 1538.97 L2285.24 1547.12 L2280.59 1547.12 L2280.59 1538.97 L2264.99 1538.97 L2264.99 1534.46 L2279.36 1512.56 Z\" fill=\"#000000\" fill-rule=\"evenodd\" fill-opacity=\"1\" /><path clip-path=\"url(#clip940)\" d=\"M 0 0 M2305.24 1515.64 Q2301.63 1515.64 2299.8 1519.2 Q2297.99 1522.75 2297.99 1529.87 Q2297.99 1536.98 2299.8 1540.55 Q2301.63 1544.09 2305.24 1544.09 Q2308.87 1544.09 2310.68 1540.55 Q2312.51 1536.98 2312.51 1529.87 Q2312.51 1522.75 2310.68 1519.2 Q2308.87 1515.64 2305.24 1515.64 M2305.24 1511.93 Q2311.05 1511.93 2314.11 1516.54 Q2317.18 1521.12 2317.18 1529.87 Q2317.18 1538.6 2314.11 1543.21 Q2311.05 1547.79 2305.24 1547.79 Q2299.43 1547.79 2296.35 1543.21 Q2293.3 1538.6 2293.3 1529.87 Q2293.3 1521.12 2296.35 1516.54 Q2299.43 1511.93 2305.24 1511.93 Z\" fill=\"#000000\" fill-rule=\"evenodd\" fill-opacity=\"1\" /><polyline clip-path=\"url(#clip942)\" style=\"stroke:#000000; stroke-width:2; stroke-opacity:0.1; fill:none\" points=\"\n",
       "  173.728,1447.87 2352.76,1447.87 \n",
       "  \"/>\n",
       "<polyline clip-path=\"url(#clip942)\" style=\"stroke:#000000; stroke-width:2; stroke-opacity:0.1; fill:none\" points=\"\n",
       "  173.728,1126.42 2352.76,1126.42 \n",
       "  \"/>\n",
       "<polyline clip-path=\"url(#clip942)\" style=\"stroke:#000000; stroke-width:2; stroke-opacity:0.1; fill:none\" points=\"\n",
       "  173.728,804.96 2352.76,804.96 \n",
       "  \"/>\n",
       "<polyline clip-path=\"url(#clip942)\" style=\"stroke:#000000; stroke-width:2; stroke-opacity:0.1; fill:none\" points=\"\n",
       "  173.728,483.503 2352.76,483.503 \n",
       "  \"/>\n",
       "<polyline clip-path=\"url(#clip942)\" style=\"stroke:#000000; stroke-width:2; stroke-opacity:0.1; fill:none\" points=\"\n",
       "  173.728,162.047 2352.76,162.047 \n",
       "  \"/>\n",
       "<polyline clip-path=\"url(#clip940)\" style=\"stroke:#000000; stroke-width:4; stroke-opacity:1; fill:none\" points=\"\n",
       "  173.728,1486.45 173.728,123.472 \n",
       "  \"/>\n",
       "<polyline clip-path=\"url(#clip940)\" style=\"stroke:#000000; stroke-width:4; stroke-opacity:1; fill:none\" points=\"\n",
       "  173.728,1447.87 199.876,1447.87 \n",
       "  \"/>\n",
       "<polyline clip-path=\"url(#clip940)\" style=\"stroke:#000000; stroke-width:4; stroke-opacity:1; fill:none\" points=\"\n",
       "  173.728,1126.42 199.876,1126.42 \n",
       "  \"/>\n",
       "<polyline clip-path=\"url(#clip940)\" style=\"stroke:#000000; stroke-width:4; stroke-opacity:1; fill:none\" points=\"\n",
       "  173.728,804.96 199.876,804.96 \n",
       "  \"/>\n",
       "<polyline clip-path=\"url(#clip940)\" style=\"stroke:#000000; stroke-width:4; stroke-opacity:1; fill:none\" points=\"\n",
       "  173.728,483.503 199.876,483.503 \n",
       "  \"/>\n",
       "<polyline clip-path=\"url(#clip940)\" style=\"stroke:#000000; stroke-width:4; stroke-opacity:1; fill:none\" points=\"\n",
       "  173.728,162.047 199.876,162.047 \n",
       "  \"/>\n",
       "<path clip-path=\"url(#clip940)\" d=\"M 0 0 M57.4273 1461.22 L73.7466 1461.22 L73.7466 1465.15 L51.8023 1465.15 L51.8023 1461.22 Q54.4643 1458.46 59.0476 1453.83 Q63.6541 1449.18 64.8346 1447.84 Q67.08 1445.32 67.9596 1443.58 Q68.8624 1441.82 68.8624 1440.13 Q68.8624 1437.38 66.918 1435.64 Q64.9967 1433.9 61.8948 1433.9 Q59.6958 1433.9 57.2421 1434.67 Q54.8115 1435.43 52.0338 1436.98 L52.0338 1432.26 Q54.8578 1431.13 57.3115 1430.55 Q59.7652 1429.97 61.8023 1429.97 Q67.1726 1429.97 70.367 1432.65 Q73.5614 1435.34 73.5614 1439.83 Q73.5614 1441.96 72.7513 1443.88 Q71.9642 1445.78 69.8578 1448.37 Q69.2791 1449.04 66.1772 1452.26 Q63.0754 1455.45 57.4273 1461.22 Z\" fill=\"#000000\" fill-rule=\"evenodd\" fill-opacity=\"1\" /><path clip-path=\"url(#clip940)\" d=\"M 0 0 M78.8161 1459.27 L83.7003 1459.27 L83.7003 1465.15 L78.8161 1465.15 L78.8161 1459.27 Z\" fill=\"#000000\" fill-rule=\"evenodd\" fill-opacity=\"1\" /><path clip-path=\"url(#clip940)\" d=\"M 0 0 M98.7696 1433.67 Q95.1586 1433.67 93.3299 1437.24 Q91.5243 1440.78 91.5243 1447.91 Q91.5243 1455.01 93.3299 1458.58 Q95.1586 1462.12 98.7696 1462.12 Q102.404 1462.12 104.209 1458.58 Q106.038 1455.01 106.038 1447.91 Q106.038 1440.78 104.209 1437.24 Q102.404 1433.67 98.7696 1433.67 M98.7696 1429.97 Q104.58 1429.97 107.635 1434.57 Q110.714 1439.16 110.714 1447.91 Q110.714 1456.63 107.635 1461.24 Q104.58 1465.82 98.7696 1465.82 Q92.9595 1465.82 89.8808 1461.24 Q86.8253 1456.63 86.8253 1447.91 Q86.8253 1439.16 89.8808 1434.57 Q92.9595 1429.97 98.7696 1429.97 Z\" fill=\"#000000\" fill-rule=\"evenodd\" fill-opacity=\"1\" /><path clip-path=\"url(#clip940)\" d=\"M 0 0 M125.783 1433.67 Q122.172 1433.67 120.344 1437.24 Q118.538 1440.78 118.538 1447.91 Q118.538 1455.01 120.344 1458.58 Q122.172 1462.12 125.783 1462.12 Q129.418 1462.12 131.223 1458.58 Q133.052 1455.01 133.052 1447.91 Q133.052 1440.78 131.223 1437.24 Q129.418 1433.67 125.783 1433.67 M125.783 1429.97 Q131.594 1429.97 134.649 1434.57 Q137.728 1439.16 137.728 1447.91 Q137.728 1456.63 134.649 1461.24 Q131.594 1465.82 125.783 1465.82 Q119.973 1465.82 116.895 1461.24 Q113.839 1456.63 113.839 1447.91 Q113.839 1439.16 116.895 1434.57 Q119.973 1429.97 125.783 1429.97 Z\" fill=\"#000000\" fill-rule=\"evenodd\" fill-opacity=\"1\" /><path clip-path=\"url(#clip940)\" d=\"M 0 0 M60.0199 1139.76 L76.3392 1139.76 L76.3392 1143.7 L54.3949 1143.7 L54.3949 1139.76 Q57.0569 1137.01 61.6402 1132.38 Q66.2467 1127.72 67.4272 1126.38 Q69.6726 1123.86 70.5522 1122.12 Q71.455 1120.36 71.455 1118.67 Q71.455 1115.92 69.5105 1114.18 Q67.5893 1112.45 64.4874 1112.45 Q62.2884 1112.45 59.8347 1113.21 Q57.4041 1113.97 54.6264 1115.53 L54.6264 1110.8 Q57.4504 1109.67 59.9041 1109.09 Q62.3578 1108.51 64.3948 1108.51 Q69.7652 1108.51 72.9596 1111.2 Q76.154 1113.88 76.154 1118.37 Q76.154 1120.5 75.3438 1122.42 Q74.5568 1124.32 72.4503 1126.91 Q71.8716 1127.59 68.7698 1130.8 Q65.668 1134 60.0199 1139.76 Z\" fill=\"#000000\" fill-rule=\"evenodd\" fill-opacity=\"1\" /><path clip-path=\"url(#clip940)\" d=\"M 0 0 M81.4086 1137.82 L86.2929 1137.82 L86.2929 1143.7 L81.4086 1143.7 L81.4086 1137.82 Z\" fill=\"#000000\" fill-rule=\"evenodd\" fill-opacity=\"1\" /><path clip-path=\"url(#clip940)\" d=\"M 0 0 M95.39 1139.76 L111.709 1139.76 L111.709 1143.7 L89.7651 1143.7 L89.7651 1139.76 Q92.4271 1137.01 97.0104 1132.38 Q101.617 1127.72 102.797 1126.38 Q105.043 1123.86 105.922 1122.12 Q106.825 1120.36 106.825 1118.67 Q106.825 1115.92 104.881 1114.18 Q102.959 1112.45 99.8576 1112.45 Q97.6585 1112.45 95.2049 1113.21 Q92.7743 1113.97 89.9965 1115.53 L89.9965 1110.8 Q92.8206 1109.67 95.2743 1109.09 Q97.728 1108.51 99.765 1108.51 Q105.135 1108.51 108.33 1111.2 Q111.524 1113.88 111.524 1118.37 Q111.524 1120.5 110.714 1122.42 Q109.927 1124.32 107.821 1126.91 Q107.242 1127.59 104.14 1130.8 Q101.038 1134 95.39 1139.76 Z\" fill=\"#000000\" fill-rule=\"evenodd\" fill-opacity=\"1\" /><path clip-path=\"url(#clip940)\" d=\"M 0 0 M116.825 1109.14 L135.181 1109.14 L135.181 1113.07 L121.107 1113.07 L121.107 1121.54 Q122.126 1121.2 123.145 1121.03 Q124.163 1120.85 125.182 1120.85 Q130.969 1120.85 134.348 1124.02 Q137.728 1127.19 137.728 1132.61 Q137.728 1138.19 134.256 1141.29 Q130.783 1144.37 124.464 1144.37 Q122.288 1144.37 120.02 1144 Q117.774 1143.63 115.367 1142.89 L115.367 1138.19 Q117.45 1139.32 119.672 1139.88 Q121.895 1140.43 124.371 1140.43 Q128.376 1140.43 130.714 1138.33 Q133.052 1136.22 133.052 1132.61 Q133.052 1129 130.714 1126.89 Q128.376 1124.78 124.371 1124.78 Q122.496 1124.78 120.621 1125.2 Q118.77 1125.62 116.825 1126.5 L116.825 1109.14 Z\" fill=\"#000000\" fill-rule=\"evenodd\" fill-opacity=\"1\" /><path clip-path=\"url(#clip940)\" d=\"M 0 0 M58.4226 818.305 L74.742 818.305 L74.742 822.24 L52.7977 822.24 L52.7977 818.305 Q55.4597 815.55 60.043 810.921 Q64.6495 806.268 65.83 804.925 Q68.0754 802.402 68.955 800.666 Q69.8578 798.907 69.8578 797.217 Q69.8578 794.462 67.9133 792.726 Q65.992 790.99 62.8902 790.99 Q60.6911 790.99 58.2375 791.754 Q55.8069 792.518 53.0292 794.069 L53.0292 789.347 Q55.8532 788.212 58.3069 787.634 Q60.7606 787.055 62.7976 787.055 Q68.168 787.055 71.3624 789.74 Q74.5568 792.425 74.5568 796.916 Q74.5568 799.046 73.7466 800.967 Q72.9596 802.865 70.8531 805.458 Q70.2744 806.129 67.1726 809.347 Q64.0708 812.541 58.4226 818.305 Z\" fill=\"#000000\" fill-rule=\"evenodd\" fill-opacity=\"1\" /><path clip-path=\"url(#clip940)\" d=\"M 0 0 M79.8114 816.36 L84.6956 816.36 L84.6956 822.24 L79.8114 822.24 L79.8114 816.36 Z\" fill=\"#000000\" fill-rule=\"evenodd\" fill-opacity=\"1\" /><path clip-path=\"url(#clip940)\" d=\"M 0 0 M89.8114 787.68 L108.168 787.68 L108.168 791.615 L94.0937 791.615 L94.0937 800.087 Q95.1123 799.74 96.1308 799.578 Q97.1493 799.393 98.1678 799.393 Q103.955 799.393 107.334 802.564 Q110.714 805.735 110.714 811.152 Q110.714 816.731 107.242 819.833 Q103.77 822.911 97.4502 822.911 Q95.2743 822.911 93.0058 822.541 Q90.7604 822.171 88.353 821.43 L88.353 816.731 Q90.4364 817.865 92.6586 818.421 Q94.8808 818.976 97.3576 818.976 Q101.362 818.976 103.7 816.87 Q106.038 814.763 106.038 811.152 Q106.038 807.541 103.7 805.435 Q101.362 803.328 97.3576 803.328 Q95.4826 803.328 93.6076 803.745 Q91.7558 804.161 89.8114 805.041 L89.8114 787.68 Z\" fill=\"#000000\" fill-rule=\"evenodd\" fill-opacity=\"1\" /><path clip-path=\"url(#clip940)\" d=\"M 0 0 M125.783 790.759 Q122.172 790.759 120.344 794.323 Q118.538 797.865 118.538 804.995 Q118.538 812.101 120.344 815.666 Q122.172 819.208 125.783 819.208 Q129.418 819.208 131.223 815.666 Q133.052 812.101 133.052 804.995 Q133.052 797.865 131.223 794.323 Q129.418 790.759 125.783 790.759 M125.783 787.055 Q131.594 787.055 134.649 791.661 Q137.728 796.245 137.728 804.995 Q137.728 813.722 134.649 818.328 Q131.594 822.911 125.783 822.911 Q119.973 822.911 116.895 818.328 Q113.839 813.722 113.839 804.995 Q113.839 796.245 116.895 791.661 Q119.973 787.055 125.783 787.055 Z\" fill=\"#000000\" fill-rule=\"evenodd\" fill-opacity=\"1\" /><path clip-path=\"url(#clip940)\" d=\"M 0 0 M59.3254 496.848 L75.6448 496.848 L75.6448 500.783 L53.7004 500.783 L53.7004 496.848 Q56.3625 494.094 60.9458 489.464 Q65.5522 484.811 66.7328 483.469 Q68.9781 480.946 69.8578 479.209 Q70.7605 477.45 70.7605 475.76 Q70.7605 473.006 68.8161 471.27 Q66.8948 469.534 63.793 469.534 Q61.5939 469.534 59.1402 470.298 Q56.7097 471.061 53.9319 472.612 L53.9319 467.89 Q56.756 466.756 59.2097 466.177 Q61.6634 465.598 63.7004 465.598 Q69.0707 465.598 72.2652 468.284 Q75.4596 470.969 75.4596 475.46 Q75.4596 477.589 74.6494 479.51 Q73.8624 481.409 71.7559 484.001 Q71.1772 484.672 68.0754 487.89 Q64.9735 491.084 59.3254 496.848 Z\" fill=\"#000000\" fill-rule=\"evenodd\" fill-opacity=\"1\" /><path clip-path=\"url(#clip940)\" d=\"M 0 0 M80.7142 494.904 L85.5984 494.904 L85.5984 500.783 L80.7142 500.783 L80.7142 494.904 Z\" fill=\"#000000\" fill-rule=\"evenodd\" fill-opacity=\"1\" /><path clip-path=\"url(#clip940)\" d=\"M 0 0 M89.4873 466.223 L111.709 466.223 L111.709 468.214 L99.1632 500.783 L94.2789 500.783 L106.084 470.159 L89.4873 470.159 L89.4873 466.223 Z\" fill=\"#000000\" fill-rule=\"evenodd\" fill-opacity=\"1\" /><path clip-path=\"url(#clip940)\" d=\"M 0 0 M116.825 466.223 L135.181 466.223 L135.181 470.159 L121.107 470.159 L121.107 478.631 Q122.126 478.284 123.145 478.122 Q124.163 477.936 125.182 477.936 Q130.969 477.936 134.348 481.108 Q137.728 484.279 137.728 489.696 Q137.728 495.274 134.256 498.376 Q130.783 501.455 124.464 501.455 Q122.288 501.455 120.02 501.084 Q117.774 500.714 115.367 499.973 L115.367 495.274 Q117.45 496.408 119.672 496.964 Q121.895 497.52 124.371 497.52 Q128.376 497.52 130.714 495.413 Q133.052 493.307 133.052 489.696 Q133.052 486.084 130.714 483.978 Q128.376 481.872 124.371 481.872 Q122.496 481.872 120.621 482.288 Q118.77 482.705 116.825 483.584 L116.825 466.223 Z\" fill=\"#000000\" fill-rule=\"evenodd\" fill-opacity=\"1\" /><path clip-path=\"url(#clip940)\" d=\"M 0 0 M66.617 160.693 Q69.9735 161.41 71.8485 163.679 Q73.7466 165.947 73.7466 169.281 Q73.7466 174.396 70.2281 177.197 Q66.7096 179.998 60.2282 179.998 Q58.0523 179.998 55.7375 179.558 Q53.4458 179.142 50.9921 178.285 L50.9921 173.771 Q52.9366 174.906 55.2514 175.484 Q57.5662 176.063 60.0893 176.063 Q64.4874 176.063 66.7791 174.327 Q69.0939 172.591 69.0939 169.281 Q69.0939 166.225 66.9411 164.512 Q64.8115 162.776 60.9921 162.776 L56.9643 162.776 L56.9643 158.934 L61.1773 158.934 Q64.6263 158.934 66.455 157.568 Q68.2837 156.179 68.2837 153.586 Q68.2837 150.924 66.3856 149.512 Q64.5106 148.077 60.9921 148.077 Q59.0708 148.077 56.8717 148.494 Q54.6727 148.91 52.0338 149.79 L52.0338 145.623 Q54.6958 144.883 57.0106 144.512 Q59.3486 144.142 61.4087 144.142 Q66.7328 144.142 69.8346 146.572 Q72.9365 148.98 72.9365 153.1 Q72.9365 155.971 71.2929 157.961 Q69.6494 159.929 66.617 160.693 Z\" fill=\"#000000\" fill-rule=\"evenodd\" fill-opacity=\"1\" /><path clip-path=\"url(#clip940)\" d=\"M 0 0 M78.8161 173.447 L83.7003 173.447 L83.7003 179.327 L78.8161 179.327 L78.8161 173.447 Z\" fill=\"#000000\" fill-rule=\"evenodd\" fill-opacity=\"1\" /><path clip-path=\"url(#clip940)\" d=\"M 0 0 M98.7696 147.846 Q95.1586 147.846 93.3299 151.41 Q91.5243 154.952 91.5243 162.082 Q91.5243 169.188 93.3299 172.753 Q95.1586 176.295 98.7696 176.295 Q102.404 176.295 104.209 172.753 Q106.038 169.188 106.038 162.082 Q106.038 154.952 104.209 151.41 Q102.404 147.846 98.7696 147.846 M98.7696 144.142 Q104.58 144.142 107.635 148.748 Q110.714 153.332 110.714 162.082 Q110.714 170.808 107.635 175.415 Q104.58 179.998 98.7696 179.998 Q92.9595 179.998 89.8808 175.415 Q86.8253 170.808 86.8253 162.082 Q86.8253 153.332 89.8808 148.748 Q92.9595 144.142 98.7696 144.142 Z\" fill=\"#000000\" fill-rule=\"evenodd\" fill-opacity=\"1\" /><path clip-path=\"url(#clip940)\" d=\"M 0 0 M125.783 147.846 Q122.172 147.846 120.344 151.41 Q118.538 154.952 118.538 162.082 Q118.538 169.188 120.344 172.753 Q122.172 176.295 125.783 176.295 Q129.418 176.295 131.223 172.753 Q133.052 169.188 133.052 162.082 Q133.052 154.952 131.223 151.41 Q129.418 147.846 125.783 147.846 M125.783 144.142 Q131.594 144.142 134.649 148.748 Q137.728 153.332 137.728 162.082 Q137.728 170.808 134.649 175.415 Q131.594 179.998 125.783 179.998 Q119.973 179.998 116.895 175.415 Q113.839 170.808 113.839 162.082 Q113.839 153.332 116.895 148.748 Q119.973 144.142 125.783 144.142 Z\" fill=\"#000000\" fill-rule=\"evenodd\" fill-opacity=\"1\" /><path clip-path=\"url(#clip940)\" d=\"M 0 0 M1023.91 28.9478 L1023.91 35.9153 Q1020.75 34.1734 1017.55 33.3227 Q1014.39 32.4315 1011.15 32.4315 Q1003.9 32.4315 999.893 37.0496 Q995.882 41.6271 995.882 49.9314 Q995.882 58.2358 999.893 62.8538 Q1003.9 67.4314 1011.15 67.4314 Q1014.39 67.4314 1017.55 66.5807 Q1020.75 65.6895 1023.91 63.9476 L1023.91 70.8341 Q1020.8 72.2924 1017.43 73.0216 Q1014.11 73.7508 1010.34 73.7508 Q1000.1 73.7508 994.059 67.3098 Q988.023 60.8689 988.023 49.9314 Q988.023 38.832 994.1 32.472 Q1000.22 26.1121 1010.83 26.1121 Q1014.27 26.1121 1017.55 26.8413 Q1020.84 27.5299 1023.91 28.9478 Z\" fill=\"#000000\" fill-rule=\"evenodd\" fill-opacity=\"1\" /><path clip-path=\"url(#clip940)\" d=\"M 0 0 M1059.08 34.9026 L1111.01 34.9026 L1111.01 41.7081 L1059.08 41.7081 L1059.08 34.9026 M1059.08 51.4303 L1111.01 51.4303 L1111.01 58.3168 L1059.08 58.3168 L1059.08 51.4303 Z\" fill=\"#000000\" fill-rule=\"evenodd\" fill-opacity=\"1\" /><path clip-path=\"url(#clip940)\" d=\"M 0 0 M1141.43 46.5287 L1163.27 46.5287 L1163.27 53.1722 L1141.43 53.1722 L1141.43 46.5287 Z\" fill=\"#000000\" fill-rule=\"evenodd\" fill-opacity=\"1\" /><path clip-path=\"url(#clip940)\" d=\"M 0 0 M1179.19 65.6895 L1207.74 65.6895 L1207.74 72.576 L1169.34 72.576 L1169.34 65.6895 Q1174 60.8689 1182.02 52.7671 Q1190.08 44.6248 1192.15 42.2752 Q1196.08 37.8598 1197.62 34.8216 Q1199.2 31.7429 1199.2 28.7857 Q1199.2 23.9651 1195.79 20.927 Q1192.43 17.8888 1187 17.8888 Q1183.16 17.8888 1178.86 19.2256 Q1174.61 20.5624 1169.75 23.2765 L1169.75 15.0127 Q1174.69 13.0277 1178.98 12.015 Q1183.28 11.0023 1186.84 11.0023 Q1196.24 11.0023 1201.83 15.7013 Q1207.42 20.4004 1207.42 28.2591 Q1207.42 31.9859 1206 35.3482 Q1204.63 38.6699 1200.94 43.2069 Q1199.93 44.3817 1194.5 50.0125 Q1189.07 55.6027 1179.19 65.6895 Z\" fill=\"#000000\" fill-rule=\"evenodd\" fill-opacity=\"1\" /><path clip-path=\"url(#clip940)\" d=\"M 0 0 M1332.39 27.2059 L1315.98 49.2833 L1333.24 72.576 L1324.45 72.576 L1311.25 54.752 L1298.04 72.576 L1289.25 72.576 L1306.87 48.8377 L1290.75 27.2059 L1299.54 27.2059 L1311.57 43.369 L1323.6 27.2059 L1332.39 27.2059 Z\" fill=\"#000000\" fill-rule=\"evenodd\" fill-opacity=\"1\" /><path clip-path=\"url(#clip940)\" d=\"M 0 0 M1359.61 17.4837 Q1353.29 17.4837 1350.09 23.7221 Q1346.93 29.92 1346.93 42.3968 Q1346.93 54.833 1350.09 61.0714 Q1353.29 67.2693 1359.61 67.2693 Q1365.97 67.2693 1369.13 61.0714 Q1372.33 54.833 1372.33 42.3968 Q1372.33 29.92 1369.13 23.7221 Q1365.97 17.4837 1359.61 17.4837 M1359.61 11.0023 Q1369.78 11.0023 1375.13 19.0636 Q1380.52 27.0843 1380.52 42.3968 Q1380.52 57.6687 1375.13 65.73 Q1369.78 73.7508 1359.61 73.7508 Q1349.45 73.7508 1344.06 65.73 Q1338.71 57.6687 1338.71 42.3968 Q1338.71 27.0843 1344.06 19.0636 Q1349.45 11.0023 1359.61 11.0023 Z\" fill=\"#000000\" fill-rule=\"evenodd\" fill-opacity=\"1\" /><path clip-path=\"url(#clip940)\" d=\"M 0 0 M1415.68 34.9026 L1467.61 34.9026 L1467.61 41.7081 L1415.68 41.7081 L1415.68 34.9026 M1415.68 51.4303 L1467.61 51.4303 L1467.61 58.3168 L1415.68 58.3168 L1415.68 51.4303 Z\" fill=\"#000000\" fill-rule=\"evenodd\" fill-opacity=\"1\" /><path clip-path=\"url(#clip940)\" d=\"M 0 0 M1509.9 65.6895 L1538.46 65.6895 L1538.46 72.576 L1500.06 72.576 L1500.06 65.6895 Q1504.72 60.8689 1512.74 52.7671 Q1520.8 44.6248 1522.86 42.2752 Q1526.79 37.8598 1528.33 34.8216 Q1529.91 31.7429 1529.91 28.7857 Q1529.91 23.9651 1526.51 20.927 Q1523.15 17.8888 1517.72 17.8888 Q1513.87 17.8888 1509.58 19.2256 Q1505.32 20.5624 1500.46 23.2765 L1500.46 15.0127 Q1505.4 13.0277 1509.7 12.015 Q1513.99 11.0023 1517.56 11.0023 Q1526.96 11.0023 1532.55 15.7013 Q1538.14 20.4004 1538.14 28.2591 Q1538.14 31.9859 1536.72 35.3482 Q1535.34 38.6699 1531.65 43.2069 Q1530.64 44.3817 1525.21 50.0125 Q1519.79 55.6027 1509.9 65.6895 Z\" fill=\"#000000\" fill-rule=\"evenodd\" fill-opacity=\"1\" /><circle clip-path=\"url(#clip942)\" cx=\"235.398\" cy=\"1447.87\" r=\"14\" fill=\"#009af9\" fill-rule=\"evenodd\" fill-opacity=\"1\" stroke=\"#000000\" stroke-opacity=\"1\" stroke-width=\"3.2\"/>\n",
       "<circle clip-path=\"url(#clip942)\" cx=\"288.108\" cy=\"1447.87\" r=\"14\" fill=\"#009af9\" fill-rule=\"evenodd\" fill-opacity=\"1\" stroke=\"#000000\" stroke-opacity=\"1\" stroke-width=\"3.2\"/>\n",
       "<circle clip-path=\"url(#clip942)\" cx=\"340.818\" cy=\"1447.87\" r=\"14\" fill=\"#009af9\" fill-rule=\"evenodd\" fill-opacity=\"1\" stroke=\"#000000\" stroke-opacity=\"1\" stroke-width=\"3.2\"/>\n",
       "<circle clip-path=\"url(#clip942)\" cx=\"393.528\" cy=\"1447.87\" r=\"14\" fill=\"#009af9\" fill-rule=\"evenodd\" fill-opacity=\"1\" stroke=\"#000000\" stroke-opacity=\"1\" stroke-width=\"3.2\"/>\n",
       "<circle clip-path=\"url(#clip942)\" cx=\"446.238\" cy=\"1447.87\" r=\"14\" fill=\"#009af9\" fill-rule=\"evenodd\" fill-opacity=\"1\" stroke=\"#000000\" stroke-opacity=\"1\" stroke-width=\"3.2\"/>\n",
       "<circle clip-path=\"url(#clip942)\" cx=\"498.948\" cy=\"1447.87\" r=\"14\" fill=\"#009af9\" fill-rule=\"evenodd\" fill-opacity=\"1\" stroke=\"#000000\" stroke-opacity=\"1\" stroke-width=\"3.2\"/>\n",
       "<circle clip-path=\"url(#clip942)\" cx=\"551.658\" cy=\"1447.87\" r=\"14\" fill=\"#009af9\" fill-rule=\"evenodd\" fill-opacity=\"1\" stroke=\"#000000\" stroke-opacity=\"1\" stroke-width=\"3.2\"/>\n",
       "<circle clip-path=\"url(#clip942)\" cx=\"604.368\" cy=\"1447.87\" r=\"14\" fill=\"#009af9\" fill-rule=\"evenodd\" fill-opacity=\"1\" stroke=\"#000000\" stroke-opacity=\"1\" stroke-width=\"3.2\"/>\n",
       "<circle clip-path=\"url(#clip942)\" cx=\"657.078\" cy=\"1447.87\" r=\"14\" fill=\"#009af9\" fill-rule=\"evenodd\" fill-opacity=\"1\" stroke=\"#000000\" stroke-opacity=\"1\" stroke-width=\"3.2\"/>\n",
       "<circle clip-path=\"url(#clip942)\" cx=\"709.788\" cy=\"1447.87\" r=\"14\" fill=\"#009af9\" fill-rule=\"evenodd\" fill-opacity=\"1\" stroke=\"#000000\" stroke-opacity=\"1\" stroke-width=\"3.2\"/>\n",
       "<circle clip-path=\"url(#clip942)\" cx=\"762.498\" cy=\"1447.87\" r=\"14\" fill=\"#009af9\" fill-rule=\"evenodd\" fill-opacity=\"1\" stroke=\"#000000\" stroke-opacity=\"1\" stroke-width=\"3.2\"/>\n",
       "<circle clip-path=\"url(#clip942)\" cx=\"815.208\" cy=\"1447.87\" r=\"14\" fill=\"#009af9\" fill-rule=\"evenodd\" fill-opacity=\"1\" stroke=\"#000000\" stroke-opacity=\"1\" stroke-width=\"3.2\"/>\n",
       "<circle clip-path=\"url(#clip942)\" cx=\"867.917\" cy=\"1447.87\" r=\"14\" fill=\"#009af9\" fill-rule=\"evenodd\" fill-opacity=\"1\" stroke=\"#000000\" stroke-opacity=\"1\" stroke-width=\"3.2\"/>\n",
       "<circle clip-path=\"url(#clip942)\" cx=\"920.627\" cy=\"1447.87\" r=\"14\" fill=\"#009af9\" fill-rule=\"evenodd\" fill-opacity=\"1\" stroke=\"#000000\" stroke-opacity=\"1\" stroke-width=\"3.2\"/>\n",
       "<circle clip-path=\"url(#clip942)\" cx=\"973.337\" cy=\"1447.87\" r=\"14\" fill=\"#009af9\" fill-rule=\"evenodd\" fill-opacity=\"1\" stroke=\"#000000\" stroke-opacity=\"1\" stroke-width=\"3.2\"/>\n",
       "<circle clip-path=\"url(#clip942)\" cx=\"1026.05\" cy=\"1447.87\" r=\"14\" fill=\"#009af9\" fill-rule=\"evenodd\" fill-opacity=\"1\" stroke=\"#000000\" stroke-opacity=\"1\" stroke-width=\"3.2\"/>\n",
       "<circle clip-path=\"url(#clip942)\" cx=\"1078.76\" cy=\"1447.87\" r=\"14\" fill=\"#009af9\" fill-rule=\"evenodd\" fill-opacity=\"1\" stroke=\"#000000\" stroke-opacity=\"1\" stroke-width=\"3.2\"/>\n",
       "<circle clip-path=\"url(#clip942)\" cx=\"1131.47\" cy=\"1447.87\" r=\"14\" fill=\"#009af9\" fill-rule=\"evenodd\" fill-opacity=\"1\" stroke=\"#000000\" stroke-opacity=\"1\" stroke-width=\"3.2\"/>\n",
       "<circle clip-path=\"url(#clip942)\" cx=\"1184.18\" cy=\"1447.87\" r=\"14\" fill=\"#009af9\" fill-rule=\"evenodd\" fill-opacity=\"1\" stroke=\"#000000\" stroke-opacity=\"1\" stroke-width=\"3.2\"/>\n",
       "<circle clip-path=\"url(#clip942)\" cx=\"1236.89\" cy=\"1447.87\" r=\"14\" fill=\"#009af9\" fill-rule=\"evenodd\" fill-opacity=\"1\" stroke=\"#000000\" stroke-opacity=\"1\" stroke-width=\"3.2\"/>\n",
       "<circle clip-path=\"url(#clip942)\" cx=\"1289.6\" cy=\"1447.87\" r=\"14\" fill=\"#009af9\" fill-rule=\"evenodd\" fill-opacity=\"1\" stroke=\"#000000\" stroke-opacity=\"1\" stroke-width=\"3.2\"/>\n",
       "<circle clip-path=\"url(#clip942)\" cx=\"1342.31\" cy=\"1447.87\" r=\"14\" fill=\"#009af9\" fill-rule=\"evenodd\" fill-opacity=\"1\" stroke=\"#000000\" stroke-opacity=\"1\" stroke-width=\"3.2\"/>\n",
       "<circle clip-path=\"url(#clip942)\" cx=\"1395.02\" cy=\"1447.87\" r=\"14\" fill=\"#009af9\" fill-rule=\"evenodd\" fill-opacity=\"1\" stroke=\"#000000\" stroke-opacity=\"1\" stroke-width=\"3.2\"/>\n",
       "<circle clip-path=\"url(#clip942)\" cx=\"1447.73\" cy=\"1447.87\" r=\"14\" fill=\"#009af9\" fill-rule=\"evenodd\" fill-opacity=\"1\" stroke=\"#000000\" stroke-opacity=\"1\" stroke-width=\"3.2\"/>\n",
       "<circle clip-path=\"url(#clip942)\" cx=\"1500.44\" cy=\"1447.87\" r=\"14\" fill=\"#009af9\" fill-rule=\"evenodd\" fill-opacity=\"1\" stroke=\"#000000\" stroke-opacity=\"1\" stroke-width=\"3.2\"/>\n",
       "<circle clip-path=\"url(#clip942)\" cx=\"1553.15\" cy=\"1447.87\" r=\"14\" fill=\"#009af9\" fill-rule=\"evenodd\" fill-opacity=\"1\" stroke=\"#000000\" stroke-opacity=\"1\" stroke-width=\"3.2\"/>\n",
       "<circle clip-path=\"url(#clip942)\" cx=\"1605.86\" cy=\"1447.87\" r=\"14\" fill=\"#009af9\" fill-rule=\"evenodd\" fill-opacity=\"1\" stroke=\"#000000\" stroke-opacity=\"1\" stroke-width=\"3.2\"/>\n",
       "<circle clip-path=\"url(#clip942)\" cx=\"1658.57\" cy=\"1447.87\" r=\"14\" fill=\"#009af9\" fill-rule=\"evenodd\" fill-opacity=\"1\" stroke=\"#000000\" stroke-opacity=\"1\" stroke-width=\"3.2\"/>\n",
       "<circle clip-path=\"url(#clip942)\" cx=\"1711.28\" cy=\"1447.87\" r=\"14\" fill=\"#009af9\" fill-rule=\"evenodd\" fill-opacity=\"1\" stroke=\"#000000\" stroke-opacity=\"1\" stroke-width=\"3.2\"/>\n",
       "<circle clip-path=\"url(#clip942)\" cx=\"1763.99\" cy=\"1447.87\" r=\"14\" fill=\"#009af9\" fill-rule=\"evenodd\" fill-opacity=\"1\" stroke=\"#000000\" stroke-opacity=\"1\" stroke-width=\"3.2\"/>\n",
       "<circle clip-path=\"url(#clip942)\" cx=\"1816.7\" cy=\"1447.87\" r=\"14\" fill=\"#009af9\" fill-rule=\"evenodd\" fill-opacity=\"1\" stroke=\"#000000\" stroke-opacity=\"1\" stroke-width=\"3.2\"/>\n",
       "<circle clip-path=\"url(#clip942)\" cx=\"1869.41\" cy=\"1447.87\" r=\"14\" fill=\"#009af9\" fill-rule=\"evenodd\" fill-opacity=\"1\" stroke=\"#000000\" stroke-opacity=\"1\" stroke-width=\"3.2\"/>\n",
       "<circle clip-path=\"url(#clip942)\" cx=\"1922.12\" cy=\"1447.87\" r=\"14\" fill=\"#009af9\" fill-rule=\"evenodd\" fill-opacity=\"1\" stroke=\"#000000\" stroke-opacity=\"1\" stroke-width=\"3.2\"/>\n",
       "<circle clip-path=\"url(#clip942)\" cx=\"1974.83\" cy=\"1447.87\" r=\"14\" fill=\"#009af9\" fill-rule=\"evenodd\" fill-opacity=\"1\" stroke=\"#000000\" stroke-opacity=\"1\" stroke-width=\"3.2\"/>\n",
       "<circle clip-path=\"url(#clip942)\" cx=\"2027.54\" cy=\"1447.87\" r=\"14\" fill=\"#009af9\" fill-rule=\"evenodd\" fill-opacity=\"1\" stroke=\"#000000\" stroke-opacity=\"1\" stroke-width=\"3.2\"/>\n",
       "<circle clip-path=\"url(#clip942)\" cx=\"2080.25\" cy=\"1447.87\" r=\"14\" fill=\"#009af9\" fill-rule=\"evenodd\" fill-opacity=\"1\" stroke=\"#000000\" stroke-opacity=\"1\" stroke-width=\"3.2\"/>\n",
       "<circle clip-path=\"url(#clip942)\" cx=\"2132.96\" cy=\"1447.87\" r=\"14\" fill=\"#009af9\" fill-rule=\"evenodd\" fill-opacity=\"1\" stroke=\"#000000\" stroke-opacity=\"1\" stroke-width=\"3.2\"/>\n",
       "<circle clip-path=\"url(#clip942)\" cx=\"2185.67\" cy=\"1447.87\" r=\"14\" fill=\"#009af9\" fill-rule=\"evenodd\" fill-opacity=\"1\" stroke=\"#000000\" stroke-opacity=\"1\" stroke-width=\"3.2\"/>\n",
       "<circle clip-path=\"url(#clip942)\" cx=\"2238.38\" cy=\"1447.87\" r=\"14\" fill=\"#009af9\" fill-rule=\"evenodd\" fill-opacity=\"1\" stroke=\"#000000\" stroke-opacity=\"1\" stroke-width=\"3.2\"/>\n",
       "<circle clip-path=\"url(#clip942)\" cx=\"2291.09\" cy=\"1447.87\" r=\"14\" fill=\"#009af9\" fill-rule=\"evenodd\" fill-opacity=\"1\" stroke=\"#000000\" stroke-opacity=\"1\" stroke-width=\"3.2\"/>\n",
       "<path clip-path=\"url(#clip940)\" d=\"\n",
       "M1986.99 289.865 L2280.12 289.865 L2280.12 168.905 L1986.99 168.905  Z\n",
       "  \" fill=\"#ffffff\" fill-rule=\"evenodd\" fill-opacity=\"1\"/>\n",
       "<polyline clip-path=\"url(#clip940)\" style=\"stroke:#000000; stroke-width:4; stroke-opacity:1; fill:none\" points=\"\n",
       "  1986.99,289.865 2280.12,289.865 2280.12,168.905 1986.99,168.905 1986.99,289.865 \n",
       "  \"/>\n",
       "<circle clip-path=\"url(#clip940)\" cx=\"2083.83\" cy=\"229.385\" r=\"23\" fill=\"#009af9\" fill-rule=\"evenodd\" fill-opacity=\"1\" stroke=\"#000000\" stroke-opacity=\"1\" stroke-width=\"5.12\"/>\n",
       "<path clip-path=\"url(#clip940)\" d=\"M 0 0 M2194.52 249.072 Q2192.72 253.702 2191 255.114 Q2189.29 256.526 2186.42 256.526 L2183.02 256.526 L2183.02 252.961 L2185.52 252.961 Q2187.28 252.961 2188.25 252.128 Q2189.22 251.294 2190.4 248.192 L2191.17 246.248 L2180.68 220.739 L2185.19 220.739 L2193.3 241.017 L2201.4 220.739 L2205.91 220.739 L2194.52 249.072 Z\" fill=\"#000000\" fill-rule=\"evenodd\" fill-opacity=\"1\" /><path clip-path=\"url(#clip940)\" d=\"M 0 0 M2211.79 242.729 L2219.43 242.729 L2219.43 216.364 L2211.12 218.031 L2211.12 213.771 L2219.38 212.105 L2224.06 212.105 L2224.06 242.729 L2231.7 242.729 L2231.7 246.665 L2211.79 246.665 L2211.79 242.729 Z\" fill=\"#000000\" fill-rule=\"evenodd\" fill-opacity=\"1\" /></svg>\n"
      ]
     },
     "execution_count": 33,
     "metadata": {},
     "output_type": "execute_result"
    }
   ],
   "source": [
    "plot(arg_x, recursion([-2, 2]), seriestype = :scatter, title = \"c = -2   x0 = 2\")"
   ]
  },
  {
   "cell_type": "code",
   "execution_count": 34,
   "metadata": {},
   "outputs": [
    {
     "data": {
      "image/svg+xml": [
       "<?xml version=\"1.0\" encoding=\"utf-8\"?>\n",
       "<svg xmlns=\"http://www.w3.org/2000/svg\" xmlns:xlink=\"http://www.w3.org/1999/xlink\" width=\"600\" height=\"400\" viewBox=\"0 0 2400 1600\">\n",
       "<defs>\n",
       "  <clipPath id=\"clip980\">\n",
       "    <rect x=\"0\" y=\"0\" width=\"2400\" height=\"1600\"/>\n",
       "  </clipPath>\n",
       "</defs>\n",
       "<path clip-path=\"url(#clip980)\" d=\"\n",
       "M0 1600 L2400 1600 L2400 0 L0 0  Z\n",
       "  \" fill=\"#ffffff\" fill-rule=\"evenodd\" fill-opacity=\"1\"/>\n",
       "<defs>\n",
       "  <clipPath id=\"clip981\">\n",
       "    <rect x=\"480\" y=\"0\" width=\"1681\" height=\"1600\"/>\n",
       "  </clipPath>\n",
       "</defs>\n",
       "<path clip-path=\"url(#clip980)\" d=\"\n",
       "M142.455 1486.45 L2352.76 1486.45 L2352.76 123.472 L142.455 123.472  Z\n",
       "  \" fill=\"#ffffff\" fill-rule=\"evenodd\" fill-opacity=\"1\"/>\n",
       "<defs>\n",
       "  <clipPath id=\"clip982\">\n",
       "    <rect x=\"142\" y=\"123\" width=\"2211\" height=\"1364\"/>\n",
       "  </clipPath>\n",
       "</defs>\n",
       "<polyline clip-path=\"url(#clip982)\" style=\"stroke:#000000; stroke-width:2; stroke-opacity:0.1; fill:none\" points=\"\n",
       "  151.544,1486.45 151.544,123.472 \n",
       "  \"/>\n",
       "<polyline clip-path=\"url(#clip982)\" style=\"stroke:#000000; stroke-width:2; stroke-opacity:0.1; fill:none\" points=\"\n",
       "  686.208,1486.45 686.208,123.472 \n",
       "  \"/>\n",
       "<polyline clip-path=\"url(#clip982)\" style=\"stroke:#000000; stroke-width:2; stroke-opacity:0.1; fill:none\" points=\"\n",
       "  1220.87,1486.45 1220.87,123.472 \n",
       "  \"/>\n",
       "<polyline clip-path=\"url(#clip982)\" style=\"stroke:#000000; stroke-width:2; stroke-opacity:0.1; fill:none\" points=\"\n",
       "  1755.54,1486.45 1755.54,123.472 \n",
       "  \"/>\n",
       "<polyline clip-path=\"url(#clip982)\" style=\"stroke:#000000; stroke-width:2; stroke-opacity:0.1; fill:none\" points=\"\n",
       "  2290.2,1486.45 2290.2,123.472 \n",
       "  \"/>\n",
       "<polyline clip-path=\"url(#clip980)\" style=\"stroke:#000000; stroke-width:4; stroke-opacity:1; fill:none\" points=\"\n",
       "  142.455,1486.45 2352.76,1486.45 \n",
       "  \"/>\n",
       "<polyline clip-path=\"url(#clip980)\" style=\"stroke:#000000; stroke-width:4; stroke-opacity:1; fill:none\" points=\"\n",
       "  151.544,1486.45 151.544,1470.09 \n",
       "  \"/>\n",
       "<polyline clip-path=\"url(#clip980)\" style=\"stroke:#000000; stroke-width:4; stroke-opacity:1; fill:none\" points=\"\n",
       "  686.208,1486.45 686.208,1470.09 \n",
       "  \"/>\n",
       "<polyline clip-path=\"url(#clip980)\" style=\"stroke:#000000; stroke-width:4; stroke-opacity:1; fill:none\" points=\"\n",
       "  1220.87,1486.45 1220.87,1470.09 \n",
       "  \"/>\n",
       "<polyline clip-path=\"url(#clip980)\" style=\"stroke:#000000; stroke-width:4; stroke-opacity:1; fill:none\" points=\"\n",
       "  1755.54,1486.45 1755.54,1470.09 \n",
       "  \"/>\n",
       "<polyline clip-path=\"url(#clip980)\" style=\"stroke:#000000; stroke-width:4; stroke-opacity:1; fill:none\" points=\"\n",
       "  2290.2,1486.45 2290.2,1470.09 \n",
       "  \"/>\n",
       "<path clip-path=\"url(#clip980)\" d=\"M 0 0 M151.544 1515.64 Q147.933 1515.64 146.104 1519.2 Q144.299 1522.75 144.299 1529.87 Q144.299 1536.98 146.104 1540.55 Q147.933 1544.09 151.544 1544.09 Q155.178 1544.09 156.984 1540.55 Q158.813 1536.98 158.813 1529.87 Q158.813 1522.75 156.984 1519.2 Q155.178 1515.64 151.544 1515.64 M151.544 1511.93 Q157.354 1511.93 160.41 1516.54 Q163.488 1521.12 163.488 1529.87 Q163.488 1538.6 160.41 1543.21 Q157.354 1547.79 151.544 1547.79 Q145.734 1547.79 142.655 1543.21 Q139.6 1538.6 139.6 1529.87 Q139.6 1521.12 142.655 1516.54 Q145.734 1511.93 151.544 1511.93 Z\" fill=\"#000000\" fill-rule=\"evenodd\" fill-opacity=\"1\" /><path clip-path=\"url(#clip980)\" d=\"M 0 0 M663.083 1543.18 L670.722 1543.18 L670.722 1516.82 L662.412 1518.49 L662.412 1514.23 L670.676 1512.56 L675.352 1512.56 L675.352 1543.18 L682.991 1543.18 L682.991 1547.12 L663.083 1547.12 L663.083 1543.18 Z\" fill=\"#000000\" fill-rule=\"evenodd\" fill-opacity=\"1\" /><path clip-path=\"url(#clip980)\" d=\"M 0 0 M698.06 1515.64 Q694.449 1515.64 692.62 1519.2 Q690.815 1522.75 690.815 1529.87 Q690.815 1536.98 692.62 1540.55 Q694.449 1544.09 698.06 1544.09 Q701.694 1544.09 703.5 1540.55 Q705.328 1536.98 705.328 1529.87 Q705.328 1522.75 703.5 1519.2 Q701.694 1515.64 698.06 1515.64 M698.06 1511.93 Q703.87 1511.93 706.926 1516.54 Q710.004 1521.12 710.004 1529.87 Q710.004 1538.6 706.926 1543.21 Q703.87 1547.79 698.06 1547.79 Q692.25 1547.79 689.171 1543.21 Q686.116 1538.6 686.116 1529.87 Q686.116 1521.12 689.171 1516.54 Q692.25 1511.93 698.06 1511.93 Z\" fill=\"#000000\" fill-rule=\"evenodd\" fill-opacity=\"1\" /><path clip-path=\"url(#clip980)\" d=\"M 0 0 M1202.02 1543.18 L1218.34 1543.18 L1218.34 1547.12 L1196.39 1547.12 L1196.39 1543.18 Q1199.06 1540.43 1203.64 1535.8 Q1208.24 1531.15 1209.43 1529.81 Q1211.67 1527.28 1212.55 1525.55 Q1213.45 1523.79 1213.45 1522.1 Q1213.45 1519.34 1211.51 1517.61 Q1209.59 1515.87 1206.49 1515.87 Q1204.29 1515.87 1201.83 1516.63 Q1199.4 1517.4 1196.62 1518.95 L1196.62 1514.23 Q1199.45 1513.09 1201.9 1512.51 Q1204.36 1511.93 1206.39 1511.93 Q1211.76 1511.93 1214.96 1514.62 Q1218.15 1517.31 1218.15 1521.8 Q1218.15 1523.93 1217.34 1525.85 Q1216.56 1527.74 1214.45 1530.34 Q1213.87 1531.01 1210.77 1534.23 Q1207.67 1537.42 1202.02 1543.18 Z\" fill=\"#000000\" fill-rule=\"evenodd\" fill-opacity=\"1\" /><path clip-path=\"url(#clip980)\" d=\"M 0 0 M1233.41 1515.64 Q1229.8 1515.64 1227.97 1519.2 Q1226.16 1522.75 1226.16 1529.87 Q1226.16 1536.98 1227.97 1540.55 Q1229.8 1544.09 1233.41 1544.09 Q1237.04 1544.09 1238.85 1540.55 Q1240.68 1536.98 1240.68 1529.87 Q1240.68 1522.75 1238.85 1519.2 Q1237.04 1515.64 1233.41 1515.64 M1233.41 1511.93 Q1239.22 1511.93 1242.27 1516.54 Q1245.35 1521.12 1245.35 1529.87 Q1245.35 1538.6 1242.27 1543.21 Q1239.22 1547.79 1233.41 1547.79 Q1227.6 1547.79 1224.52 1543.21 Q1221.46 1538.6 1221.46 1529.87 Q1221.46 1521.12 1224.52 1516.54 Q1227.6 1511.93 1233.41 1511.93 Z\" fill=\"#000000\" fill-rule=\"evenodd\" fill-opacity=\"1\" /><path clip-path=\"url(#clip980)\" d=\"M 0 0 M1746.28 1528.49 Q1749.63 1529.2 1751.51 1531.47 Q1753.41 1533.74 1753.41 1537.07 Q1753.41 1542.19 1749.89 1544.99 Q1746.37 1547.79 1739.89 1547.79 Q1737.71 1547.79 1735.4 1547.35 Q1733.11 1546.93 1730.65 1546.08 L1730.65 1541.56 Q1732.6 1542.7 1734.91 1543.28 Q1737.23 1543.86 1739.75 1543.86 Q1744.15 1543.86 1746.44 1542.12 Q1748.75 1540.38 1748.75 1537.07 Q1748.75 1534.02 1746.6 1532.31 Q1744.47 1530.57 1740.65 1530.57 L1736.62 1530.57 L1736.62 1526.73 L1740.84 1526.73 Q1744.29 1526.73 1746.11 1525.36 Q1747.94 1523.97 1747.94 1521.38 Q1747.94 1518.72 1746.05 1517.31 Q1744.17 1515.87 1740.65 1515.87 Q1738.73 1515.87 1736.53 1516.29 Q1734.33 1516.7 1731.69 1517.58 L1731.69 1513.42 Q1734.36 1512.68 1736.67 1512.31 Q1739.01 1511.93 1741.07 1511.93 Q1746.39 1511.93 1749.49 1514.37 Q1752.6 1516.77 1752.6 1520.89 Q1752.6 1523.76 1750.95 1525.75 Q1749.31 1527.72 1746.28 1528.49 Z\" fill=\"#000000\" fill-rule=\"evenodd\" fill-opacity=\"1\" /><path clip-path=\"url(#clip980)\" d=\"M 0 0 M1768.48 1515.64 Q1764.86 1515.64 1763.04 1519.2 Q1761.23 1522.75 1761.23 1529.87 Q1761.23 1536.98 1763.04 1540.55 Q1764.86 1544.09 1768.48 1544.09 Q1772.11 1544.09 1773.92 1540.55 Q1775.74 1536.98 1775.74 1529.87 Q1775.74 1522.75 1773.92 1519.2 Q1772.11 1515.64 1768.48 1515.64 M1768.48 1511.93 Q1774.29 1511.93 1777.34 1516.54 Q1780.42 1521.12 1780.42 1529.87 Q1780.42 1538.6 1777.34 1543.21 Q1774.29 1547.79 1768.48 1547.79 Q1762.67 1547.79 1759.59 1543.21 Q1756.53 1538.6 1756.53 1529.87 Q1756.53 1521.12 1759.59 1516.54 Q1762.67 1511.93 1768.48 1511.93 Z\" fill=\"#000000\" fill-rule=\"evenodd\" fill-opacity=\"1\" /><path clip-path=\"url(#clip980)\" d=\"M 0 0 M2279.7 1516.63 L2267.9 1535.08 L2279.7 1535.08 L2279.7 1516.63 M2278.48 1512.56 L2284.36 1512.56 L2284.36 1535.08 L2289.29 1535.08 L2289.29 1538.97 L2284.36 1538.97 L2284.36 1547.12 L2279.7 1547.12 L2279.7 1538.97 L2264.1 1538.97 L2264.1 1534.46 L2278.48 1512.56 Z\" fill=\"#000000\" fill-rule=\"evenodd\" fill-opacity=\"1\" /><path clip-path=\"url(#clip980)\" d=\"M 0 0 M2304.36 1515.64 Q2300.74 1515.64 2298.92 1519.2 Q2297.11 1522.75 2297.11 1529.87 Q2297.11 1536.98 2298.92 1540.55 Q2300.74 1544.09 2304.36 1544.09 Q2307.99 1544.09 2309.8 1540.55 Q2311.62 1536.98 2311.62 1529.87 Q2311.62 1522.75 2309.8 1519.2 Q2307.99 1515.64 2304.36 1515.64 M2304.36 1511.93 Q2310.17 1511.93 2313.22 1516.54 Q2316.3 1521.12 2316.3 1529.87 Q2316.3 1538.6 2313.22 1543.21 Q2310.17 1547.79 2304.36 1547.79 Q2298.55 1547.79 2295.47 1543.21 Q2292.41 1538.6 2292.41 1529.87 Q2292.41 1521.12 2295.47 1516.54 Q2298.55 1511.93 2304.36 1511.93 Z\" fill=\"#000000\" fill-rule=\"evenodd\" fill-opacity=\"1\" /><polyline clip-path=\"url(#clip982)\" style=\"stroke:#000000; stroke-width:2; stroke-opacity:0.1; fill:none\" points=\"\n",
       "  142.455,1462.5 2352.76,1462.5 \n",
       "  \"/>\n",
       "<polyline clip-path=\"url(#clip982)\" style=\"stroke:#000000; stroke-width:2; stroke-opacity:0.1; fill:none\" points=\"\n",
       "  142.455,1137.39 2352.76,1137.39 \n",
       "  \"/>\n",
       "<polyline clip-path=\"url(#clip982)\" style=\"stroke:#000000; stroke-width:2; stroke-opacity:0.1; fill:none\" points=\"\n",
       "  142.455,812.274 2352.76,812.274 \n",
       "  \"/>\n",
       "<polyline clip-path=\"url(#clip982)\" style=\"stroke:#000000; stroke-width:2; stroke-opacity:0.1; fill:none\" points=\"\n",
       "  142.455,487.16 2352.76,487.16 \n",
       "  \"/>\n",
       "<polyline clip-path=\"url(#clip982)\" style=\"stroke:#000000; stroke-width:2; stroke-opacity:0.1; fill:none\" points=\"\n",
       "  142.455,162.047 2352.76,162.047 \n",
       "  \"/>\n",
       "<polyline clip-path=\"url(#clip980)\" style=\"stroke:#000000; stroke-width:4; stroke-opacity:1; fill:none\" points=\"\n",
       "  142.455,1486.45 142.455,123.472 \n",
       "  \"/>\n",
       "<polyline clip-path=\"url(#clip980)\" style=\"stroke:#000000; stroke-width:4; stroke-opacity:1; fill:none\" points=\"\n",
       "  142.455,1462.5 168.978,1462.5 \n",
       "  \"/>\n",
       "<polyline clip-path=\"url(#clip980)\" style=\"stroke:#000000; stroke-width:4; stroke-opacity:1; fill:none\" points=\"\n",
       "  142.455,1137.39 168.978,1137.39 \n",
       "  \"/>\n",
       "<polyline clip-path=\"url(#clip980)\" style=\"stroke:#000000; stroke-width:4; stroke-opacity:1; fill:none\" points=\"\n",
       "  142.455,812.274 168.978,812.274 \n",
       "  \"/>\n",
       "<polyline clip-path=\"url(#clip980)\" style=\"stroke:#000000; stroke-width:4; stroke-opacity:1; fill:none\" points=\"\n",
       "  142.455,487.16 168.978,487.16 \n",
       "  \"/>\n",
       "<polyline clip-path=\"url(#clip980)\" style=\"stroke:#000000; stroke-width:4; stroke-opacity:1; fill:none\" points=\"\n",
       "  142.455,162.047 168.978,162.047 \n",
       "  \"/>\n",
       "<path clip-path=\"url(#clip980)\" d=\"M 0 0 M51.3625 1462.95 L81.0383 1462.95 L81.0383 1466.89 L51.3625 1466.89 L51.3625 1462.95 Z\" fill=\"#000000\" fill-rule=\"evenodd\" fill-opacity=\"1\" /><path clip-path=\"url(#clip980)\" d=\"M 0 0 M90.1354 1475.84 L106.455 1475.84 L106.455 1479.78 L84.5105 1479.78 L84.5105 1475.84 Q87.1725 1473.09 91.7558 1468.46 Q96.3623 1463.81 97.5428 1462.47 Q99.7882 1459.94 100.668 1458.21 Q101.571 1456.45 101.571 1454.76 Q101.571 1452 99.6261 1450.27 Q97.7048 1448.53 94.603 1448.53 Q92.4039 1448.53 89.9503 1449.29 Q87.5197 1450.06 84.7419 1451.61 L84.7419 1446.89 Q87.566 1445.75 90.0197 1445.17 Q92.4734 1444.6 94.5104 1444.6 Q99.8808 1444.6 103.075 1447.28 Q106.27 1449.97 106.27 1454.46 Q106.27 1456.59 105.459 1458.51 Q104.672 1460.41 102.566 1463 Q101.987 1463.67 98.8854 1466.89 Q95.7836 1470.08 90.1354 1475.84 Z\" fill=\"#000000\" fill-rule=\"evenodd\" fill-opacity=\"1\" /><path clip-path=\"url(#clip980)\" d=\"M 0 0 M50.9921 1137.84 L80.6679 1137.84 L80.6679 1141.77 L50.9921 1141.77 L50.9921 1137.84 Z\" fill=\"#000000\" fill-rule=\"evenodd\" fill-opacity=\"1\" /><path clip-path=\"url(#clip980)\" d=\"M 0 0 M86.5475 1150.73 L94.1863 1150.73 L94.1863 1124.37 L85.8762 1126.03 L85.8762 1121.77 L94.14 1120.11 L98.8159 1120.11 L98.8159 1150.73 L106.455 1150.73 L106.455 1154.67 L86.5475 1154.67 L86.5475 1150.73 Z\" fill=\"#000000\" fill-rule=\"evenodd\" fill-opacity=\"1\" /><path clip-path=\"url(#clip980)\" d=\"M 0 0 M94.5104 798.072 Q90.8993 798.072 89.0706 801.637 Q87.2651 805.179 87.2651 812.308 Q87.2651 819.415 89.0706 822.979 Q90.8993 826.521 94.5104 826.521 Q98.1447 826.521 99.9502 822.979 Q101.779 819.415 101.779 812.308 Q101.779 805.179 99.9502 801.637 Q98.1447 798.072 94.5104 798.072 M94.5104 794.369 Q100.321 794.369 103.376 798.975 Q106.455 803.558 106.455 812.308 Q106.455 821.035 103.376 825.641 Q100.321 830.225 94.5104 830.225 Q88.7003 830.225 85.6216 825.641 Q82.566 821.035 82.566 812.308 Q82.566 803.558 85.6216 798.975 Q88.7003 794.369 94.5104 794.369 Z\" fill=\"#000000\" fill-rule=\"evenodd\" fill-opacity=\"1\" /><path clip-path=\"url(#clip980)\" d=\"M 0 0 M86.5475 500.505 L94.1863 500.505 L94.1863 474.139 L85.8762 475.806 L85.8762 471.547 L94.14 469.88 L98.8159 469.88 L98.8159 500.505 L106.455 500.505 L106.455 504.44 L86.5475 504.44 L86.5475 500.505 Z\" fill=\"#000000\" fill-rule=\"evenodd\" fill-opacity=\"1\" /><path clip-path=\"url(#clip980)\" d=\"M 0 0 M90.1354 175.392 L106.455 175.392 L106.455 179.327 L84.5105 179.327 L84.5105 175.392 Q87.1725 172.637 91.7558 168.008 Q96.3623 163.355 97.5428 162.012 Q99.7882 159.489 100.668 157.753 Q101.571 155.994 101.571 154.304 Q101.571 151.549 99.6261 149.813 Q97.7048 148.077 94.603 148.077 Q92.4039 148.077 89.9503 148.841 Q87.5197 149.605 84.7419 151.156 L84.7419 146.434 Q87.566 145.299 90.0197 144.721 Q92.4734 144.142 94.5104 144.142 Q99.8808 144.142 103.075 146.827 Q106.27 149.512 106.27 154.003 Q106.27 156.133 105.459 158.054 Q104.672 159.952 102.566 162.545 Q101.987 163.216 98.8854 166.433 Q95.7836 169.628 90.1354 175.392 Z\" fill=\"#000000\" fill-rule=\"evenodd\" fill-opacity=\"1\" /><path clip-path=\"url(#clip980)\" d=\"M 0 0 M670.595 28.9478 L670.595 35.9153 Q667.435 34.1734 664.235 33.3227 Q661.075 32.4315 657.834 32.4315 Q650.583 32.4315 646.573 37.0496 Q642.562 41.6271 642.562 49.9314 Q642.562 58.2358 646.573 62.8538 Q650.583 67.4314 657.834 67.4314 Q661.075 67.4314 664.235 66.5807 Q667.435 65.6895 670.595 63.9476 L670.595 70.8341 Q667.475 72.2924 664.113 73.0216 Q660.791 73.7508 657.024 73.7508 Q646.775 73.7508 640.739 67.3098 Q634.704 60.8689 634.704 49.9314 Q634.704 38.832 640.78 32.472 Q646.897 26.1121 657.51 26.1121 Q660.953 26.1121 664.235 26.8413 Q667.516 27.5299 670.595 28.9478 Z\" fill=\"#000000\" fill-rule=\"evenodd\" fill-opacity=\"1\" /><path clip-path=\"url(#clip980)\" d=\"M 0 0 M705.756 34.9026 L757.689 34.9026 L757.689 41.7081 L705.756 41.7081 L705.756 34.9026 M705.756 51.4303 L757.689 51.4303 L757.689 58.3168 L705.756 58.3168 L705.756 51.4303 Z\" fill=\"#000000\" fill-rule=\"evenodd\" fill-opacity=\"1\" /><path clip-path=\"url(#clip980)\" d=\"M 0 0 M788.111 46.5287 L809.946 46.5287 L809.946 53.1722 L788.111 53.1722 L788.111 46.5287 Z\" fill=\"#000000\" fill-rule=\"evenodd\" fill-opacity=\"1\" /><path clip-path=\"url(#clip980)\" d=\"M 0 0 M825.866 65.6895 L854.425 65.6895 L854.425 72.576 L816.022 72.576 L816.022 65.6895 Q820.681 60.8689 828.701 52.7671 Q836.763 44.6248 838.829 42.2752 Q842.758 37.8598 844.297 34.8216 Q845.877 31.7429 845.877 28.7857 Q845.877 23.9651 842.474 20.927 Q839.112 17.8888 833.684 17.8888 Q829.836 17.8888 825.542 19.2256 Q821.288 20.5624 816.427 23.2765 L816.427 15.0127 Q821.369 13.0277 825.663 12.015 Q829.957 11.0023 833.522 11.0023 Q842.92 11.0023 848.51 15.7013 Q854.101 20.4004 854.101 28.2591 Q854.101 31.9859 852.683 35.3482 Q851.305 38.6699 847.619 43.2069 Q846.606 44.3817 841.178 50.0125 Q835.75 55.6027 825.866 65.6895 Z\" fill=\"#000000\" fill-rule=\"evenodd\" fill-opacity=\"1\" /><path clip-path=\"url(#clip980)\" d=\"M 0 0 M979.071 27.2059 L962.665 49.2833 L979.922 72.576 L971.131 72.576 L957.925 54.752 L944.719 72.576 L935.929 72.576 L953.55 48.8377 L937.428 27.2059 L946.218 27.2059 L958.249 43.369 L970.28 27.2059 L979.071 27.2059 Z\" fill=\"#000000\" fill-rule=\"evenodd\" fill-opacity=\"1\" /><path clip-path=\"url(#clip980)\" d=\"M 0 0 M1006.29 17.4837 Q999.974 17.4837 996.773 23.7221 Q993.614 29.92 993.614 42.3968 Q993.614 54.833 996.773 61.0714 Q999.974 67.2693 1006.29 67.2693 Q1012.65 67.2693 1015.81 61.0714 Q1019.01 54.833 1019.01 42.3968 Q1019.01 29.92 1015.81 23.7221 Q1012.65 17.4837 1006.29 17.4837 M1006.29 11.0023 Q1016.46 11.0023 1021.81 19.0636 Q1027.2 27.0843 1027.2 42.3968 Q1027.2 57.6687 1021.81 65.73 Q1016.46 73.7508 1006.29 73.7508 Q996.125 73.7508 990.738 65.73 Q985.39 57.6687 985.39 42.3968 Q985.39 27.0843 990.738 19.0636 Q996.125 11.0023 1006.29 11.0023 Z\" fill=\"#000000\" fill-rule=\"evenodd\" fill-opacity=\"1\" /><path clip-path=\"url(#clip980)\" d=\"M 0 0 M1062.36 34.9026 L1114.29 34.9026 L1114.29 41.7081 L1062.36 41.7081 L1062.36 34.9026 M1062.36 51.4303 L1114.29 51.4303 L1114.29 58.3168 L1062.36 58.3168 L1062.36 51.4303 Z\" fill=\"#000000\" fill-rule=\"evenodd\" fill-opacity=\"1\" /><path clip-path=\"url(#clip980)\" d=\"M 0 0 M1150.95 65.6895 L1164.32 65.6895 L1164.32 19.5497 L1149.78 22.4663 L1149.78 15.0127 L1164.24 12.096 L1172.42 12.096 L1172.42 65.6895 L1185.79 65.6895 L1185.79 72.576 L1150.95 72.576 L1150.95 65.6895 Z\" fill=\"#000000\" fill-rule=\"evenodd\" fill-opacity=\"1\" /><path clip-path=\"url(#clip980)\" d=\"M 0 0 M1194.66 62.2867 L1203.21 62.2867 L1203.21 72.576 L1194.66 72.576 L1194.66 62.2867 Z\" fill=\"#000000\" fill-rule=\"evenodd\" fill-opacity=\"1\" /><path clip-path=\"url(#clip980)\" d=\"M 0 0 M1212.32 71.3202 L1212.32 63.8666 Q1215.4 65.3249 1218.56 66.0946 Q1221.72 66.8642 1224.76 66.8642 Q1232.86 66.8642 1237.11 61.436 Q1241.41 55.9673 1242.02 44.8678 Q1239.67 48.3516 1236.06 50.215 Q1232.45 52.0784 1228.08 52.0784 Q1219.01 52.0784 1213.7 46.6097 Q1208.43 41.1005 1208.43 31.5808 Q1208.43 22.2638 1213.94 16.633 Q1219.45 11.0023 1228.61 11.0023 Q1239.1 11.0023 1244.61 19.0636 Q1250.16 27.0843 1250.16 42.3968 Q1250.16 56.6965 1243.35 65.2439 Q1236.59 73.7508 1225.12 73.7508 Q1222.04 73.7508 1218.88 73.1431 Q1215.72 72.5355 1212.32 71.3202 M1228.61 45.678 Q1234.12 45.678 1237.32 41.9107 Q1240.56 38.1433 1240.56 31.5808 Q1240.56 25.0589 1237.32 21.2916 Q1234.12 17.4837 1228.61 17.4837 Q1223.1 17.4837 1219.86 21.2916 Q1216.66 25.0589 1216.66 31.5808 Q1216.66 38.1433 1219.86 41.9107 Q1223.1 45.678 1228.61 45.678 Z\" fill=\"#000000\" fill-rule=\"evenodd\" fill-opacity=\"1\" /><path clip-path=\"url(#clip980)\" d=\"M 0 0 M1259.27 71.3202 L1259.27 63.8666 Q1262.35 65.3249 1265.51 66.0946 Q1268.67 66.8642 1271.71 66.8642 Q1279.81 66.8642 1284.06 61.436 Q1288.36 55.9673 1288.97 44.8678 Q1286.62 48.3516 1283.01 50.215 Q1279.4 52.0784 1275.03 52.0784 Q1265.96 52.0784 1260.65 46.6097 Q1255.38 41.1005 1255.38 31.5808 Q1255.38 22.2638 1260.89 16.633 Q1266.4 11.0023 1275.56 11.0023 Q1286.05 11.0023 1291.56 19.0636 Q1297.11 27.0843 1297.11 42.3968 Q1297.11 56.6965 1290.3 65.2439 Q1283.54 73.7508 1272.07 73.7508 Q1268.99 73.7508 1265.83 73.1431 Q1262.67 72.5355 1259.27 71.3202 M1275.56 45.678 Q1281.07 45.678 1284.27 41.9107 Q1287.51 38.1433 1287.51 31.5808 Q1287.51 25.0589 1284.27 21.2916 Q1281.07 17.4837 1275.56 17.4837 Q1270.05 17.4837 1266.81 21.2916 Q1263.61 25.0589 1263.61 31.5808 Q1263.61 38.1433 1266.81 41.9107 Q1270.05 45.678 1275.56 45.678 Z\" fill=\"#000000\" fill-rule=\"evenodd\" fill-opacity=\"1\" /><path clip-path=\"url(#clip980)\" d=\"M 0 0 M1306.22 71.3202 L1306.22 63.8666 Q1309.3 65.3249 1312.46 66.0946 Q1315.62 66.8642 1318.66 66.8642 Q1326.76 66.8642 1331.01 61.436 Q1335.31 55.9673 1335.92 44.8678 Q1333.57 48.3516 1329.96 50.215 Q1326.35 52.0784 1321.98 52.0784 Q1312.91 52.0784 1307.6 46.6097 Q1302.33 41.1005 1302.33 31.5808 Q1302.33 22.2638 1307.84 16.633 Q1313.35 11.0023 1322.51 11.0023 Q1333 11.0023 1338.51 19.0636 Q1344.06 27.0843 1344.06 42.3968 Q1344.06 56.6965 1337.25 65.2439 Q1330.49 73.7508 1319.02 73.7508 Q1315.94 73.7508 1312.78 73.1431 Q1309.62 72.5355 1306.22 71.3202 M1322.51 45.678 Q1328.02 45.678 1331.22 41.9107 Q1334.46 38.1433 1334.46 31.5808 Q1334.46 25.0589 1331.22 21.2916 Q1328.02 17.4837 1322.51 17.4837 Q1317 17.4837 1313.76 21.2916 Q1310.56 25.0589 1310.56 31.5808 Q1310.56 38.1433 1313.76 41.9107 Q1317 45.678 1322.51 45.678 Z\" fill=\"#000000\" fill-rule=\"evenodd\" fill-opacity=\"1\" /><path clip-path=\"url(#clip980)\" d=\"M 0 0 M1353.17 71.3202 L1353.17 63.8666 Q1356.25 65.3249 1359.41 66.0946 Q1362.57 66.8642 1365.61 66.8642 Q1373.71 66.8642 1377.96 61.436 Q1382.26 55.9673 1382.87 44.8678 Q1380.52 48.3516 1376.91 50.215 Q1373.3 52.0784 1368.93 52.0784 Q1359.86 52.0784 1354.55 46.6097 Q1349.28 41.1005 1349.28 31.5808 Q1349.28 22.2638 1354.79 16.633 Q1360.3 11.0023 1369.46 11.0023 Q1379.95 11.0023 1385.46 19.0636 Q1391.01 27.0843 1391.01 42.3968 Q1391.01 56.6965 1384.2 65.2439 Q1377.44 73.7508 1365.97 73.7508 Q1362.89 73.7508 1359.73 73.1431 Q1356.57 72.5355 1353.17 71.3202 M1369.46 45.678 Q1374.97 45.678 1378.17 41.9107 Q1381.41 38.1433 1381.41 31.5808 Q1381.41 25.0589 1378.17 21.2916 Q1374.97 17.4837 1369.46 17.4837 Q1363.95 17.4837 1360.71 21.2916 Q1357.51 25.0589 1357.51 31.5808 Q1357.51 38.1433 1360.71 41.9107 Q1363.95 45.678 1369.46 45.678 Z\" fill=\"#000000\" fill-rule=\"evenodd\" fill-opacity=\"1\" /><path clip-path=\"url(#clip980)\" d=\"M 0 0 M1400.12 71.3202 L1400.12 63.8666 Q1403.2 65.3249 1406.36 66.0946 Q1409.52 66.8642 1412.56 66.8642 Q1420.66 66.8642 1424.91 61.436 Q1429.21 55.9673 1429.82 44.8678 Q1427.47 48.3516 1423.86 50.215 Q1420.25 52.0784 1415.88 52.0784 Q1406.81 52.0784 1401.5 46.6097 Q1396.23 41.1005 1396.23 31.5808 Q1396.23 22.2638 1401.74 16.633 Q1407.25 11.0023 1416.41 11.0023 Q1426.9 11.0023 1432.41 19.0636 Q1437.96 27.0843 1437.96 42.3968 Q1437.96 56.6965 1431.15 65.2439 Q1424.39 73.7508 1412.92 73.7508 Q1409.84 73.7508 1406.68 73.1431 Q1403.52 72.5355 1400.12 71.3202 M1416.41 45.678 Q1421.92 45.678 1425.12 41.9107 Q1428.36 38.1433 1428.36 31.5808 Q1428.36 25.0589 1425.12 21.2916 Q1421.92 17.4837 1416.41 17.4837 Q1410.9 17.4837 1407.66 21.2916 Q1404.46 25.0589 1404.46 31.5808 Q1404.46 38.1433 1407.66 41.9107 Q1410.9 45.678 1416.41 45.678 Z\" fill=\"#000000\" fill-rule=\"evenodd\" fill-opacity=\"1\" /><path clip-path=\"url(#clip980)\" d=\"M 0 0 M1447.07 71.3202 L1447.07 63.8666 Q1450.15 65.3249 1453.31 66.0946 Q1456.47 66.8642 1459.51 66.8642 Q1467.61 66.8642 1471.86 61.436 Q1476.16 55.9673 1476.77 44.8678 Q1474.42 48.3516 1470.81 50.215 Q1467.2 52.0784 1462.83 52.0784 Q1453.76 52.0784 1448.45 46.6097 Q1443.18 41.1005 1443.18 31.5808 Q1443.18 22.2638 1448.69 16.633 Q1454.2 11.0023 1463.36 11.0023 Q1473.85 11.0023 1479.36 19.0636 Q1484.91 27.0843 1484.91 42.3968 Q1484.91 56.6965 1478.1 65.2439 Q1471.34 73.7508 1459.87 73.7508 Q1456.79 73.7508 1453.63 73.1431 Q1450.47 72.5355 1447.07 71.3202 M1463.36 45.678 Q1468.87 45.678 1472.07 41.9107 Q1475.31 38.1433 1475.31 31.5808 Q1475.31 25.0589 1472.07 21.2916 Q1468.87 17.4837 1463.36 17.4837 Q1457.85 17.4837 1454.61 21.2916 Q1451.41 25.0589 1451.41 31.5808 Q1451.41 38.1433 1454.61 41.9107 Q1457.85 45.678 1463.36 45.678 Z\" fill=\"#000000\" fill-rule=\"evenodd\" fill-opacity=\"1\" /><path clip-path=\"url(#clip980)\" d=\"M 0 0 M1494.02 71.3202 L1494.02 63.8666 Q1497.1 65.3249 1500.26 66.0946 Q1503.42 66.8642 1506.46 66.8642 Q1514.56 66.8642 1518.81 61.436 Q1523.11 55.9673 1523.71 44.8678 Q1521.37 48.3516 1517.76 50.215 Q1514.15 52.0784 1509.78 52.0784 Q1500.71 52.0784 1495.4 46.6097 Q1490.13 41.1005 1490.13 31.5808 Q1490.13 22.2638 1495.64 16.633 Q1501.15 11.0023 1510.31 11.0023 Q1520.8 11.0023 1526.31 19.0636 Q1531.86 27.0843 1531.86 42.3968 Q1531.86 56.6965 1525.05 65.2439 Q1518.29 73.7508 1506.82 73.7508 Q1503.74 73.7508 1500.58 73.1431 Q1497.42 72.5355 1494.02 71.3202 M1510.31 45.678 Q1515.82 45.678 1519.02 41.9107 Q1522.26 38.1433 1522.26 31.5808 Q1522.26 25.0589 1519.02 21.2916 Q1515.82 17.4837 1510.31 17.4837 Q1504.8 17.4837 1501.56 21.2916 Q1498.36 25.0589 1498.36 31.5808 Q1498.36 38.1433 1501.56 41.9107 Q1504.8 45.678 1510.31 45.678 Z\" fill=\"#000000\" fill-rule=\"evenodd\" fill-opacity=\"1\" /><path clip-path=\"url(#clip980)\" d=\"M 0 0 M1540.97 71.3202 L1540.97 63.8666 Q1544.05 65.3249 1547.21 66.0946 Q1550.37 66.8642 1553.41 66.8642 Q1561.51 66.8642 1565.76 61.436 Q1570.06 55.9673 1570.66 44.8678 Q1568.32 48.3516 1564.71 50.215 Q1561.1 52.0784 1556.73 52.0784 Q1547.66 52.0784 1542.35 46.6097 Q1537.08 41.1005 1537.08 31.5808 Q1537.08 22.2638 1542.59 16.633 Q1548.1 11.0023 1557.26 11.0023 Q1567.75 11.0023 1573.26 19.0636 Q1578.81 27.0843 1578.81 42.3968 Q1578.81 56.6965 1572 65.2439 Q1565.24 73.7508 1553.77 73.7508 Q1550.69 73.7508 1547.53 73.1431 Q1544.37 72.5355 1540.97 71.3202 M1557.26 45.678 Q1562.77 45.678 1565.97 41.9107 Q1569.21 38.1433 1569.21 31.5808 Q1569.21 25.0589 1565.97 21.2916 Q1562.77 17.4837 1557.26 17.4837 Q1551.75 17.4837 1548.51 21.2916 Q1545.31 25.0589 1545.31 31.5808 Q1545.31 38.1433 1548.51 41.9107 Q1551.75 45.678 1557.26 45.678 Z\" fill=\"#000000\" fill-rule=\"evenodd\" fill-opacity=\"1\" /><path clip-path=\"url(#clip980)\" d=\"M 0 0 M1587.92 71.3202 L1587.92 63.8666 Q1591 65.3249 1594.16 66.0946 Q1597.32 66.8642 1600.36 66.8642 Q1608.46 66.8642 1612.71 61.436 Q1617.01 55.9673 1617.61 44.8678 Q1615.27 48.3516 1611.66 50.215 Q1608.05 52.0784 1603.68 52.0784 Q1594.61 52.0784 1589.3 46.6097 Q1584.03 41.1005 1584.03 31.5808 Q1584.03 22.2638 1589.54 16.633 Q1595.05 11.0023 1604.21 11.0023 Q1614.7 11.0023 1620.21 19.0636 Q1625.76 27.0843 1625.76 42.3968 Q1625.76 56.6965 1618.95 65.2439 Q1612.19 73.7508 1600.72 73.7508 Q1597.64 73.7508 1594.48 73.1431 Q1591.32 72.5355 1587.92 71.3202 M1604.21 45.678 Q1609.72 45.678 1612.92 41.9107 Q1616.16 38.1433 1616.16 31.5808 Q1616.16 25.0589 1612.92 21.2916 Q1609.72 17.4837 1604.21 17.4837 Q1598.7 17.4837 1595.46 21.2916 Q1592.26 25.0589 1592.26 31.5808 Q1592.26 38.1433 1595.46 41.9107 Q1598.7 45.678 1604.21 45.678 Z\" fill=\"#000000\" fill-rule=\"evenodd\" fill-opacity=\"1\" /><path clip-path=\"url(#clip980)\" d=\"M 0 0 M1634.87 71.3202 L1634.87 63.8666 Q1637.95 65.3249 1641.11 66.0946 Q1644.27 66.8642 1647.31 66.8642 Q1655.41 66.8642 1659.66 61.436 Q1663.96 55.9673 1664.56 44.8678 Q1662.22 48.3516 1658.61 50.215 Q1655 52.0784 1650.63 52.0784 Q1641.56 52.0784 1636.25 46.6097 Q1630.98 41.1005 1630.98 31.5808 Q1630.98 22.2638 1636.49 16.633 Q1642 11.0023 1651.16 11.0023 Q1661.65 11.0023 1667.16 19.0636 Q1672.71 27.0843 1672.71 42.3968 Q1672.71 56.6965 1665.9 65.2439 Q1659.14 73.7508 1647.67 73.7508 Q1644.59 73.7508 1641.43 73.1431 Q1638.27 72.5355 1634.87 71.3202 M1651.16 45.678 Q1656.67 45.678 1659.87 41.9107 Q1663.11 38.1433 1663.11 31.5808 Q1663.11 25.0589 1659.87 21.2916 Q1656.67 17.4837 1651.16 17.4837 Q1645.65 17.4837 1642.41 21.2916 Q1639.21 25.0589 1639.21 31.5808 Q1639.21 38.1433 1642.41 41.9107 Q1645.65 45.678 1651.16 45.678 Z\" fill=\"#000000\" fill-rule=\"evenodd\" fill-opacity=\"1\" /><path clip-path=\"url(#clip980)\" d=\"M 0 0 M1681.82 71.3202 L1681.82 63.8666 Q1684.9 65.3249 1688.06 66.0946 Q1691.22 66.8642 1694.26 66.8642 Q1702.36 66.8642 1706.61 61.436 Q1710.91 55.9673 1711.51 44.8678 Q1709.17 48.3516 1705.56 50.215 Q1701.95 52.0784 1697.58 52.0784 Q1688.51 52.0784 1683.2 46.6097 Q1677.93 41.1005 1677.93 31.5808 Q1677.93 22.2638 1683.44 16.633 Q1688.95 11.0023 1698.11 11.0023 Q1708.6 11.0023 1714.11 19.0636 Q1719.66 27.0843 1719.66 42.3968 Q1719.66 56.6965 1712.85 65.2439 Q1706.09 73.7508 1694.62 73.7508 Q1691.54 73.7508 1688.38 73.1431 Q1685.22 72.5355 1681.82 71.3202 M1698.11 45.678 Q1703.62 45.678 1706.82 41.9107 Q1710.06 38.1433 1710.06 31.5808 Q1710.06 25.0589 1706.82 21.2916 Q1703.62 17.4837 1698.11 17.4837 Q1692.6 17.4837 1689.36 21.2916 Q1686.16 25.0589 1686.16 31.5808 Q1686.16 38.1433 1689.36 41.9107 Q1692.6 45.678 1698.11 45.678 Z\" fill=\"#000000\" fill-rule=\"evenodd\" fill-opacity=\"1\" /><path clip-path=\"url(#clip980)\" d=\"M 0 0 M1728.77 71.3202 L1728.77 63.8666 Q1731.85 65.3249 1735.01 66.0946 Q1738.17 66.8642 1741.21 66.8642 Q1749.31 66.8642 1753.56 61.436 Q1757.86 55.9673 1758.46 44.8678 Q1756.12 48.3516 1752.51 50.215 Q1748.9 52.0784 1744.53 52.0784 Q1735.46 52.0784 1730.15 46.6097 Q1724.88 41.1005 1724.88 31.5808 Q1724.88 22.2638 1730.39 16.633 Q1735.9 11.0023 1745.06 11.0023 Q1755.55 11.0023 1761.06 19.0636 Q1766.61 27.0843 1766.61 42.3968 Q1766.61 56.6965 1759.8 65.2439 Q1753.04 73.7508 1741.57 73.7508 Q1738.49 73.7508 1735.33 73.1431 Q1732.17 72.5355 1728.77 71.3202 M1745.06 45.678 Q1750.57 45.678 1753.77 41.9107 Q1757.01 38.1433 1757.01 31.5808 Q1757.01 25.0589 1753.77 21.2916 Q1750.57 17.4837 1745.06 17.4837 Q1739.55 17.4837 1736.31 21.2916 Q1733.11 25.0589 1733.11 31.5808 Q1733.11 38.1433 1736.31 41.9107 Q1739.55 45.678 1745.06 45.678 Z\" fill=\"#000000\" fill-rule=\"evenodd\" fill-opacity=\"1\" /><path clip-path=\"url(#clip980)\" d=\"M 0 0 M1775.72 71.3202 L1775.72 63.8666 Q1778.8 65.3249 1781.96 66.0946 Q1785.12 66.8642 1788.16 66.8642 Q1796.26 66.8642 1800.51 61.436 Q1804.81 55.9673 1805.41 44.8678 Q1803.07 48.3516 1799.46 50.215 Q1795.85 52.0784 1791.48 52.0784 Q1782.41 52.0784 1777.1 46.6097 Q1771.83 41.1005 1771.83 31.5808 Q1771.83 22.2638 1777.34 16.633 Q1782.85 11.0023 1792.01 11.0023 Q1802.5 11.0023 1808.01 19.0636 Q1813.56 27.0843 1813.56 42.3968 Q1813.56 56.6965 1806.75 65.2439 Q1799.99 73.7508 1788.52 73.7508 Q1785.44 73.7508 1782.28 73.1431 Q1779.12 72.5355 1775.72 71.3202 M1792.01 45.678 Q1797.52 45.678 1800.72 41.9107 Q1803.96 38.1433 1803.96 31.5808 Q1803.96 25.0589 1800.72 21.2916 Q1797.52 17.4837 1792.01 17.4837 Q1786.5 17.4837 1783.26 21.2916 Q1780.06 25.0589 1780.06 31.5808 Q1780.06 38.1433 1783.26 41.9107 Q1786.5 45.678 1792.01 45.678 Z\" fill=\"#000000\" fill-rule=\"evenodd\" fill-opacity=\"1\" /><path clip-path=\"url(#clip980)\" d=\"M 0 0 M1822.67 71.3202 L1822.67 63.8666 Q1825.75 65.3249 1828.91 66.0946 Q1832.07 66.8642 1835.11 66.8642 Q1843.21 66.8642 1847.46 61.436 Q1851.76 55.9673 1852.36 44.8678 Q1850.02 48.3516 1846.41 50.215 Q1842.8 52.0784 1838.43 52.0784 Q1829.36 52.0784 1824.05 46.6097 Q1818.78 41.1005 1818.78 31.5808 Q1818.78 22.2638 1824.29 16.633 Q1829.8 11.0023 1838.96 11.0023 Q1849.45 11.0023 1854.96 19.0636 Q1860.51 27.0843 1860.51 42.3968 Q1860.51 56.6965 1853.7 65.2439 Q1846.94 73.7508 1835.47 73.7508 Q1832.39 73.7508 1829.23 73.1431 Q1826.07 72.5355 1822.67 71.3202 M1838.96 45.678 Q1844.47 45.678 1847.67 41.9107 Q1850.91 38.1433 1850.91 31.5808 Q1850.91 25.0589 1847.67 21.2916 Q1844.47 17.4837 1838.96 17.4837 Q1833.45 17.4837 1830.21 21.2916 Q1827.01 25.0589 1827.01 31.5808 Q1827.01 38.1433 1830.21 41.9107 Q1833.45 45.678 1838.96 45.678 Z\" fill=\"#000000\" fill-rule=\"evenodd\" fill-opacity=\"1\" /><circle clip-path=\"url(#clip982)\" cx=\"205.01\" cy=\"162.047\" r=\"14\" fill=\"#009af9\" fill-rule=\"evenodd\" fill-opacity=\"1\" stroke=\"#000000\" stroke-opacity=\"1\" stroke-width=\"3.2\"/>\n",
       "<circle clip-path=\"url(#clip982)\" cx=\"258.477\" cy=\"162.047\" r=\"14\" fill=\"#009af9\" fill-rule=\"evenodd\" fill-opacity=\"1\" stroke=\"#000000\" stroke-opacity=\"1\" stroke-width=\"3.2\"/>\n",
       "<circle clip-path=\"url(#clip982)\" cx=\"311.943\" cy=\"162.047\" r=\"14\" fill=\"#009af9\" fill-rule=\"evenodd\" fill-opacity=\"1\" stroke=\"#000000\" stroke-opacity=\"1\" stroke-width=\"3.2\"/>\n",
       "<circle clip-path=\"url(#clip982)\" cx=\"365.41\" cy=\"162.047\" r=\"14\" fill=\"#009af9\" fill-rule=\"evenodd\" fill-opacity=\"1\" stroke=\"#000000\" stroke-opacity=\"1\" stroke-width=\"3.2\"/>\n",
       "<circle clip-path=\"url(#clip982)\" cx=\"418.876\" cy=\"162.047\" r=\"14\" fill=\"#009af9\" fill-rule=\"evenodd\" fill-opacity=\"1\" stroke=\"#000000\" stroke-opacity=\"1\" stroke-width=\"3.2\"/>\n",
       "<circle clip-path=\"url(#clip982)\" cx=\"472.343\" cy=\"162.047\" r=\"14\" fill=\"#009af9\" fill-rule=\"evenodd\" fill-opacity=\"1\" stroke=\"#000000\" stroke-opacity=\"1\" stroke-width=\"3.2\"/>\n",
       "<circle clip-path=\"url(#clip982)\" cx=\"525.809\" cy=\"162.047\" r=\"14\" fill=\"#009af9\" fill-rule=\"evenodd\" fill-opacity=\"1\" stroke=\"#000000\" stroke-opacity=\"1\" stroke-width=\"3.2\"/>\n",
       "<circle clip-path=\"url(#clip982)\" cx=\"579.275\" cy=\"162.047\" r=\"14\" fill=\"#009af9\" fill-rule=\"evenodd\" fill-opacity=\"1\" stroke=\"#000000\" stroke-opacity=\"1\" stroke-width=\"3.2\"/>\n",
       "<circle clip-path=\"url(#clip982)\" cx=\"632.742\" cy=\"162.047\" r=\"14\" fill=\"#009af9\" fill-rule=\"evenodd\" fill-opacity=\"1\" stroke=\"#000000\" stroke-opacity=\"1\" stroke-width=\"3.2\"/>\n",
       "<circle clip-path=\"url(#clip982)\" cx=\"686.208\" cy=\"162.047\" r=\"14\" fill=\"#009af9\" fill-rule=\"evenodd\" fill-opacity=\"1\" stroke=\"#000000\" stroke-opacity=\"1\" stroke-width=\"3.2\"/>\n",
       "<circle clip-path=\"url(#clip982)\" cx=\"739.675\" cy=\"162.047\" r=\"14\" fill=\"#009af9\" fill-rule=\"evenodd\" fill-opacity=\"1\" stroke=\"#000000\" stroke-opacity=\"1\" stroke-width=\"3.2\"/>\n",
       "<circle clip-path=\"url(#clip982)\" cx=\"793.141\" cy=\"162.047\" r=\"14\" fill=\"#009af9\" fill-rule=\"evenodd\" fill-opacity=\"1\" stroke=\"#000000\" stroke-opacity=\"1\" stroke-width=\"3.2\"/>\n",
       "<circle clip-path=\"url(#clip982)\" cx=\"846.607\" cy=\"162.047\" r=\"14\" fill=\"#009af9\" fill-rule=\"evenodd\" fill-opacity=\"1\" stroke=\"#000000\" stroke-opacity=\"1\" stroke-width=\"3.2\"/>\n",
       "<circle clip-path=\"url(#clip982)\" cx=\"900.074\" cy=\"162.048\" r=\"14\" fill=\"#009af9\" fill-rule=\"evenodd\" fill-opacity=\"1\" stroke=\"#000000\" stroke-opacity=\"1\" stroke-width=\"3.2\"/>\n",
       "<circle clip-path=\"url(#clip982)\" cx=\"953.54\" cy=\"162.05\" r=\"14\" fill=\"#009af9\" fill-rule=\"evenodd\" fill-opacity=\"1\" stroke=\"#000000\" stroke-opacity=\"1\" stroke-width=\"3.2\"/>\n",
       "<circle clip-path=\"url(#clip982)\" cx=\"1007.01\" cy=\"162.061\" r=\"14\" fill=\"#009af9\" fill-rule=\"evenodd\" fill-opacity=\"1\" stroke=\"#000000\" stroke-opacity=\"1\" stroke-width=\"3.2\"/>\n",
       "<circle clip-path=\"url(#clip982)\" cx=\"1060.47\" cy=\"162.103\" r=\"14\" fill=\"#009af9\" fill-rule=\"evenodd\" fill-opacity=\"1\" stroke=\"#000000\" stroke-opacity=\"1\" stroke-width=\"3.2\"/>\n",
       "<circle clip-path=\"url(#clip982)\" cx=\"1113.94\" cy=\"162.27\" r=\"14\" fill=\"#009af9\" fill-rule=\"evenodd\" fill-opacity=\"1\" stroke=\"#000000\" stroke-opacity=\"1\" stroke-width=\"3.2\"/>\n",
       "<circle clip-path=\"url(#clip982)\" cx=\"1167.41\" cy=\"162.94\" r=\"14\" fill=\"#009af9\" fill-rule=\"evenodd\" fill-opacity=\"1\" stroke=\"#000000\" stroke-opacity=\"1\" stroke-width=\"3.2\"/>\n",
       "<circle clip-path=\"url(#clip982)\" cx=\"1220.87\" cy=\"165.615\" r=\"14\" fill=\"#009af9\" fill-rule=\"evenodd\" fill-opacity=\"1\" stroke=\"#000000\" stroke-opacity=\"1\" stroke-width=\"3.2\"/>\n",
       "<circle clip-path=\"url(#clip982)\" cx=\"1274.34\" cy=\"176.282\" r=\"14\" fill=\"#009af9\" fill-rule=\"evenodd\" fill-opacity=\"1\" stroke=\"#000000\" stroke-opacity=\"1\" stroke-width=\"3.2\"/>\n",
       "<circle clip-path=\"url(#clip982)\" cx=\"1327.8\" cy=\"218.363\" r=\"14\" fill=\"#009af9\" fill-rule=\"evenodd\" fill-opacity=\"1\" stroke=\"#000000\" stroke-opacity=\"1\" stroke-width=\"3.2\"/>\n",
       "<circle clip-path=\"url(#clip982)\" cx=\"1381.27\" cy=\"377.558\" r=\"14\" fill=\"#009af9\" fill-rule=\"evenodd\" fill-opacity=\"1\" stroke=\"#000000\" stroke-opacity=\"1\" stroke-width=\"3.2\"/>\n",
       "<circle clip-path=\"url(#clip982)\" cx=\"1434.74\" cy=\"881.233\" r=\"14\" fill=\"#009af9\" fill-rule=\"evenodd\" fill-opacity=\"1\" stroke=\"#000000\" stroke-opacity=\"1\" stroke-width=\"3.2\"/>\n",
       "<circle clip-path=\"url(#clip982)\" cx=\"1488.2\" cy=\"1447.87\" r=\"14\" fill=\"#009af9\" fill-rule=\"evenodd\" fill-opacity=\"1\" stroke=\"#000000\" stroke-opacity=\"1\" stroke-width=\"3.2\"/>\n",
       "<circle clip-path=\"url(#clip982)\" cx=\"1541.67\" cy=\"219.897\" r=\"14\" fill=\"#009af9\" fill-rule=\"evenodd\" fill-opacity=\"1\" stroke=\"#000000\" stroke-opacity=\"1\" stroke-width=\"3.2\"/>\n",
       "<circle clip-path=\"url(#clip982)\" cx=\"1595.14\" cy=\"383.153\" r=\"14\" fill=\"#009af9\" fill-rule=\"evenodd\" fill-opacity=\"1\" stroke=\"#000000\" stroke-opacity=\"1\" stroke-width=\"3.2\"/>\n",
       "<circle clip-path=\"url(#clip982)\" cx=\"1648.6\" cy=\"896.1\" r=\"14\" fill=\"#009af9\" fill-rule=\"evenodd\" fill-opacity=\"1\" stroke=\"#000000\" stroke-opacity=\"1\" stroke-width=\"3.2\"/>\n",
       "<circle clip-path=\"url(#clip982)\" cx=\"1702.07\" cy=\"1440.89\" r=\"14\" fill=\"#009af9\" fill-rule=\"evenodd\" fill-opacity=\"1\" stroke=\"#000000\" stroke-opacity=\"1\" stroke-width=\"3.2\"/>\n",
       "<circle clip-path=\"url(#clip982)\" cx=\"1755.54\" cy=\"247.064\" r=\"14\" fill=\"#009af9\" fill-rule=\"evenodd\" fill-opacity=\"1\" stroke=\"#000000\" stroke-opacity=\"1\" stroke-width=\"3.2\"/>\n",
       "<circle clip-path=\"url(#clip982)\" cx=\"1809\" cy=\"479.883\" r=\"14\" fill=\"#009af9\" fill-rule=\"evenodd\" fill-opacity=\"1\" stroke=\"#000000\" stroke-opacity=\"1\" stroke-width=\"3.2\"/>\n",
       "<circle clip-path=\"url(#clip982)\" cx=\"1862.47\" cy=\"1122.67\" r=\"14\" fill=\"#009af9\" fill-rule=\"evenodd\" fill-opacity=\"1\" stroke=\"#000000\" stroke-opacity=\"1\" stroke-width=\"3.2\"/>\n",
       "<circle clip-path=\"url(#clip982)\" cx=\"1915.94\" cy=\"1166.15\" r=\"14\" fill=\"#009af9\" fill-rule=\"evenodd\" fill-opacity=\"1\" stroke=\"#000000\" stroke-opacity=\"1\" stroke-width=\"3.2\"/>\n",
       "<circle clip-path=\"url(#clip982)\" cx=\"1969.4\" cy=\"1077.31\" r=\"14\" fill=\"#009af9\" fill-rule=\"evenodd\" fill-opacity=\"1\" stroke=\"#000000\" stroke-opacity=\"1\" stroke-width=\"3.2\"/>\n",
       "<circle clip-path=\"url(#clip982)\" cx=\"2022.87\" cy=\"1246.45\" r=\"14\" fill=\"#009af9\" fill-rule=\"evenodd\" fill-opacity=\"1\" stroke=\"#000000\" stroke-opacity=\"1\" stroke-width=\"3.2\"/>\n",
       "<circle clip-path=\"url(#clip982)\" cx=\"2076.33\" cy=\"882.686\" r=\"14\" fill=\"#009af9\" fill-rule=\"evenodd\" fill-opacity=\"1\" stroke=\"#000000\" stroke-opacity=\"1\" stroke-width=\"3.2\"/>\n",
       "<circle clip-path=\"url(#clip982)\" cx=\"2129.8\" cy=\"1447.25\" r=\"14\" fill=\"#009af9\" fill-rule=\"evenodd\" fill-opacity=\"1\" stroke=\"#000000\" stroke-opacity=\"1\" stroke-width=\"3.2\"/>\n",
       "<circle clip-path=\"url(#clip982)\" cx=\"2183.27\" cy=\"222.331\" r=\"14\" fill=\"#009af9\" fill-rule=\"evenodd\" fill-opacity=\"1\" stroke=\"#000000\" stroke-opacity=\"1\" stroke-width=\"3.2\"/>\n",
       "<circle clip-path=\"url(#clip982)\" cx=\"2236.73\" cy=\"392.006\" r=\"14\" fill=\"#009af9\" fill-rule=\"evenodd\" fill-opacity=\"1\" stroke=\"#000000\" stroke-opacity=\"1\" stroke-width=\"3.2\"/>\n",
       "<circle clip-path=\"url(#clip982)\" cx=\"2290.2\" cy=\"919.229\" r=\"14\" fill=\"#009af9\" fill-rule=\"evenodd\" fill-opacity=\"1\" stroke=\"#000000\" stroke-opacity=\"1\" stroke-width=\"3.2\"/>\n",
       "<path clip-path=\"url(#clip980)\" d=\"\n",
       "M1982.47 289.865 L2279.08 289.865 L2279.08 168.905 L1982.47 168.905  Z\n",
       "  \" fill=\"#ffffff\" fill-rule=\"evenodd\" fill-opacity=\"1\"/>\n",
       "<polyline clip-path=\"url(#clip980)\" style=\"stroke:#000000; stroke-width:4; stroke-opacity:1; fill:none\" points=\"\n",
       "  1982.47,289.865 2279.08,289.865 2279.08,168.905 1982.47,168.905 1982.47,289.865 \n",
       "  \"/>\n",
       "<circle clip-path=\"url(#clip980)\" cx=\"2080.71\" cy=\"229.385\" r=\"23\" fill=\"#009af9\" fill-rule=\"evenodd\" fill-opacity=\"1\" stroke=\"#000000\" stroke-opacity=\"1\" stroke-width=\"5.12\"/>\n",
       "<path clip-path=\"url(#clip980)\" d=\"M 0 0 M2192.79 249.072 Q2190.98 253.702 2189.27 255.114 Q2187.55 256.526 2184.68 256.526 L2181.28 256.526 L2181.28 252.961 L2183.78 252.961 Q2185.54 252.961 2186.51 252.128 Q2187.48 251.294 2188.67 248.192 L2189.43 246.248 L2178.94 220.739 L2183.46 220.739 L2191.56 241.017 L2199.66 220.739 L2204.17 220.739 L2192.79 249.072 Z\" fill=\"#000000\" fill-rule=\"evenodd\" fill-opacity=\"1\" /><path clip-path=\"url(#clip980)\" d=\"M 0 0 M2210.05 242.729 L2217.69 242.729 L2217.69 216.364 L2209.38 218.031 L2209.38 213.771 L2217.65 212.105 L2222.32 212.105 L2222.32 242.729 L2229.96 242.729 L2229.96 246.665 L2210.05 246.665 L2210.05 242.729 Z\" fill=\"#000000\" fill-rule=\"evenodd\" fill-opacity=\"1\" /></svg>\n"
      ]
     },
     "execution_count": 34,
     "metadata": {},
     "output_type": "execute_result"
    }
   ],
   "source": [
    "plot(arg_x, recursion([-2, 1.99999999999999]), seriestype = :scatter, title = \"c = -2   x0 = 1.99999999999999\")"
   ]
  },
  {
   "cell_type": "code",
   "execution_count": 29,
   "metadata": {},
   "outputs": [
    {
     "data": {
      "image/svg+xml": [
       "<?xml version=\"1.0\" encoding=\"utf-8\"?>\n",
       "<svg xmlns=\"http://www.w3.org/2000/svg\" xmlns:xlink=\"http://www.w3.org/1999/xlink\" width=\"600\" height=\"400\" viewBox=\"0 0 2400 1600\">\n",
       "<defs>\n",
       "  <clipPath id=\"clip780\">\n",
       "    <rect x=\"0\" y=\"0\" width=\"2400\" height=\"1600\"/>\n",
       "  </clipPath>\n",
       "</defs>\n",
       "<path clip-path=\"url(#clip780)\" d=\"\n",
       "M0 1600 L2400 1600 L2400 0 L0 0  Z\n",
       "  \" fill=\"#ffffff\" fill-rule=\"evenodd\" fill-opacity=\"1\"/>\n",
       "<defs>\n",
       "  <clipPath id=\"clip781\">\n",
       "    <rect x=\"480\" y=\"0\" width=\"1681\" height=\"1600\"/>\n",
       "  </clipPath>\n",
       "</defs>\n",
       "<path clip-path=\"url(#clip780)\" d=\"\n",
       "M206.667 1486.45 L2352.76 1486.45 L2352.76 123.472 L206.667 123.472  Z\n",
       "  \" fill=\"#ffffff\" fill-rule=\"evenodd\" fill-opacity=\"1\"/>\n",
       "<defs>\n",
       "  <clipPath id=\"clip782\">\n",
       "    <rect x=\"206\" y=\"123\" width=\"2147\" height=\"1364\"/>\n",
       "  </clipPath>\n",
       "</defs>\n",
       "<polyline clip-path=\"url(#clip782)\" style=\"stroke:#000000; stroke-width:2; stroke-opacity:0.1; fill:none\" points=\"\n",
       "  215.493,1486.45 215.493,123.472 \n",
       "  \"/>\n",
       "<polyline clip-path=\"url(#clip782)\" style=\"stroke:#000000; stroke-width:2; stroke-opacity:0.1; fill:none\" points=\"\n",
       "  734.624,1486.45 734.624,123.472 \n",
       "  \"/>\n",
       "<polyline clip-path=\"url(#clip782)\" style=\"stroke:#000000; stroke-width:2; stroke-opacity:0.1; fill:none\" points=\"\n",
       "  1253.76,1486.45 1253.76,123.472 \n",
       "  \"/>\n",
       "<polyline clip-path=\"url(#clip782)\" style=\"stroke:#000000; stroke-width:2; stroke-opacity:0.1; fill:none\" points=\"\n",
       "  1772.89,1486.45 1772.89,123.472 \n",
       "  \"/>\n",
       "<polyline clip-path=\"url(#clip782)\" style=\"stroke:#000000; stroke-width:2; stroke-opacity:0.1; fill:none\" points=\"\n",
       "  2292.02,1486.45 2292.02,123.472 \n",
       "  \"/>\n",
       "<polyline clip-path=\"url(#clip780)\" style=\"stroke:#000000; stroke-width:4; stroke-opacity:1; fill:none\" points=\"\n",
       "  206.667,1486.45 2352.76,1486.45 \n",
       "  \"/>\n",
       "<polyline clip-path=\"url(#clip780)\" style=\"stroke:#000000; stroke-width:4; stroke-opacity:1; fill:none\" points=\"\n",
       "  215.493,1486.45 215.493,1470.09 \n",
       "  \"/>\n",
       "<polyline clip-path=\"url(#clip780)\" style=\"stroke:#000000; stroke-width:4; stroke-opacity:1; fill:none\" points=\"\n",
       "  734.624,1486.45 734.624,1470.09 \n",
       "  \"/>\n",
       "<polyline clip-path=\"url(#clip780)\" style=\"stroke:#000000; stroke-width:4; stroke-opacity:1; fill:none\" points=\"\n",
       "  1253.76,1486.45 1253.76,1470.09 \n",
       "  \"/>\n",
       "<polyline clip-path=\"url(#clip780)\" style=\"stroke:#000000; stroke-width:4; stroke-opacity:1; fill:none\" points=\"\n",
       "  1772.89,1486.45 1772.89,1470.09 \n",
       "  \"/>\n",
       "<polyline clip-path=\"url(#clip780)\" style=\"stroke:#000000; stroke-width:4; stroke-opacity:1; fill:none\" points=\"\n",
       "  2292.02,1486.45 2292.02,1470.09 \n",
       "  \"/>\n",
       "<path clip-path=\"url(#clip780)\" d=\"M 0 0 M215.493 1515.64 Q211.882 1515.64 210.053 1519.2 Q208.247 1522.75 208.247 1529.87 Q208.247 1536.98 210.053 1540.55 Q211.882 1544.09 215.493 1544.09 Q219.127 1544.09 220.932 1540.55 Q222.761 1536.98 222.761 1529.87 Q222.761 1522.75 220.932 1519.2 Q219.127 1515.64 215.493 1515.64 M215.493 1511.93 Q221.303 1511.93 224.358 1516.54 Q227.437 1521.12 227.437 1529.87 Q227.437 1538.6 224.358 1543.21 Q221.303 1547.79 215.493 1547.79 Q209.682 1547.79 206.604 1543.21 Q203.548 1538.6 203.548 1529.87 Q203.548 1521.12 206.604 1516.54 Q209.682 1511.93 215.493 1511.93 Z\" fill=\"#000000\" fill-rule=\"evenodd\" fill-opacity=\"1\" /><path clip-path=\"url(#clip780)\" d=\"M 0 0 M711.499 1543.18 L719.138 1543.18 L719.138 1516.82 L710.828 1518.49 L710.828 1514.23 L719.092 1512.56 L723.767 1512.56 L723.767 1543.18 L731.406 1543.18 L731.406 1547.12 L711.499 1547.12 L711.499 1543.18 Z\" fill=\"#000000\" fill-rule=\"evenodd\" fill-opacity=\"1\" /><path clip-path=\"url(#clip780)\" d=\"M 0 0 M746.476 1515.64 Q742.865 1515.64 741.036 1519.2 Q739.23 1522.75 739.23 1529.87 Q739.23 1536.98 741.036 1540.55 Q742.865 1544.09 746.476 1544.09 Q750.11 1544.09 751.915 1540.55 Q753.744 1536.98 753.744 1529.87 Q753.744 1522.75 751.915 1519.2 Q750.11 1515.64 746.476 1515.64 M746.476 1511.93 Q752.286 1511.93 755.341 1516.54 Q758.42 1521.12 758.42 1529.87 Q758.42 1538.6 755.341 1543.21 Q752.286 1547.79 746.476 1547.79 Q740.666 1547.79 737.587 1543.21 Q734.531 1538.6 734.531 1529.87 Q734.531 1521.12 737.587 1516.54 Q740.666 1511.93 746.476 1511.93 Z\" fill=\"#000000\" fill-rule=\"evenodd\" fill-opacity=\"1\" /><path clip-path=\"url(#clip780)\" d=\"M 0 0 M1234.9 1543.18 L1251.22 1543.18 L1251.22 1547.12 L1229.28 1547.12 L1229.28 1543.18 Q1231.94 1540.43 1236.52 1535.8 Q1241.13 1531.15 1242.31 1529.81 Q1244.55 1527.28 1245.43 1525.55 Q1246.34 1523.79 1246.34 1522.1 Q1246.34 1519.34 1244.39 1517.61 Q1242.47 1515.87 1239.37 1515.87 Q1237.17 1515.87 1234.72 1516.63 Q1232.29 1517.4 1229.51 1518.95 L1229.51 1514.23 Q1232.33 1513.09 1234.79 1512.51 Q1237.24 1511.93 1239.28 1511.93 Q1244.65 1511.93 1247.84 1514.62 Q1251.04 1517.31 1251.04 1521.8 Q1251.04 1523.93 1250.23 1525.85 Q1249.44 1527.74 1247.33 1530.34 Q1246.75 1531.01 1243.65 1534.23 Q1240.55 1537.42 1234.9 1543.18 Z\" fill=\"#000000\" fill-rule=\"evenodd\" fill-opacity=\"1\" /><path clip-path=\"url(#clip780)\" d=\"M 0 0 M1266.29 1515.64 Q1262.68 1515.64 1260.85 1519.2 Q1259.04 1522.75 1259.04 1529.87 Q1259.04 1536.98 1260.85 1540.55 Q1262.68 1544.09 1266.29 1544.09 Q1269.92 1544.09 1271.73 1540.55 Q1273.56 1536.98 1273.56 1529.87 Q1273.56 1522.75 1271.73 1519.2 Q1269.92 1515.64 1266.29 1515.64 M1266.29 1511.93 Q1272.1 1511.93 1275.16 1516.54 Q1278.23 1521.12 1278.23 1529.87 Q1278.23 1538.6 1275.16 1543.21 Q1272.1 1547.79 1266.29 1547.79 Q1260.48 1547.79 1257.4 1543.21 Q1254.35 1538.6 1254.35 1529.87 Q1254.35 1521.12 1257.4 1516.54 Q1260.48 1511.93 1266.29 1511.93 Z\" fill=\"#000000\" fill-rule=\"evenodd\" fill-opacity=\"1\" /><path clip-path=\"url(#clip780)\" d=\"M 0 0 M1763.63 1528.49 Q1766.98 1529.2 1768.86 1531.47 Q1770.76 1533.74 1770.76 1537.07 Q1770.76 1542.19 1767.24 1544.99 Q1763.72 1547.79 1757.24 1547.79 Q1755.06 1547.79 1752.75 1547.35 Q1750.46 1546.93 1748 1546.08 L1748 1541.56 Q1749.95 1542.7 1752.26 1543.28 Q1754.58 1543.86 1757.1 1543.86 Q1761.5 1543.86 1763.79 1542.12 Q1766.1 1540.38 1766.1 1537.07 Q1766.1 1534.02 1763.95 1532.31 Q1761.82 1530.57 1758 1530.57 L1753.97 1530.57 L1753.97 1526.73 L1758.19 1526.73 Q1761.64 1526.73 1763.47 1525.36 Q1765.29 1523.97 1765.29 1521.38 Q1765.29 1518.72 1763.4 1517.31 Q1761.52 1515.87 1758 1515.87 Q1756.08 1515.87 1753.88 1516.29 Q1751.68 1516.7 1749.04 1517.58 L1749.04 1513.42 Q1751.71 1512.68 1754.02 1512.31 Q1756.36 1511.93 1758.42 1511.93 Q1763.74 1511.93 1766.84 1514.37 Q1769.95 1516.77 1769.95 1520.89 Q1769.95 1523.76 1768.3 1525.75 Q1766.66 1527.72 1763.63 1528.49 Z\" fill=\"#000000\" fill-rule=\"evenodd\" fill-opacity=\"1\" /><path clip-path=\"url(#clip780)\" d=\"M 0 0 M1785.83 1515.64 Q1782.21 1515.64 1780.39 1519.2 Q1778.58 1522.75 1778.58 1529.87 Q1778.58 1536.98 1780.39 1540.55 Q1782.21 1544.09 1785.83 1544.09 Q1789.46 1544.09 1791.27 1540.55 Q1793.09 1536.98 1793.09 1529.87 Q1793.09 1522.75 1791.27 1519.2 Q1789.46 1515.64 1785.83 1515.64 M1785.83 1511.93 Q1791.64 1511.93 1794.69 1516.54 Q1797.77 1521.12 1797.77 1529.87 Q1797.77 1538.6 1794.69 1543.21 Q1791.64 1547.79 1785.83 1547.79 Q1780.02 1547.79 1776.94 1543.21 Q1773.88 1538.6 1773.88 1529.87 Q1773.88 1521.12 1776.94 1516.54 Q1780.02 1511.93 1785.83 1511.93 Z\" fill=\"#000000\" fill-rule=\"evenodd\" fill-opacity=\"1\" /><path clip-path=\"url(#clip780)\" d=\"M 0 0 M2281.52 1516.63 L2269.71 1535.08 L2281.52 1535.08 L2281.52 1516.63 M2280.29 1512.56 L2286.17 1512.56 L2286.17 1535.08 L2291.1 1535.08 L2291.1 1538.97 L2286.17 1538.97 L2286.17 1547.12 L2281.52 1547.12 L2281.52 1538.97 L2265.92 1538.97 L2265.92 1534.46 L2280.29 1512.56 Z\" fill=\"#000000\" fill-rule=\"evenodd\" fill-opacity=\"1\" /><path clip-path=\"url(#clip780)\" d=\"M 0 0 M2306.17 1515.64 Q2302.56 1515.64 2300.73 1519.2 Q2298.93 1522.75 2298.93 1529.87 Q2298.93 1536.98 2300.73 1540.55 Q2302.56 1544.09 2306.17 1544.09 Q2309.81 1544.09 2311.61 1540.55 Q2313.44 1536.98 2313.44 1529.87 Q2313.44 1522.75 2311.61 1519.2 Q2309.81 1515.64 2306.17 1515.64 M2306.17 1511.93 Q2311.98 1511.93 2315.04 1516.54 Q2318.12 1521.12 2318.12 1529.87 Q2318.12 1538.6 2315.04 1543.21 Q2311.98 1547.79 2306.17 1547.79 Q2300.36 1547.79 2297.28 1543.21 Q2294.23 1538.6 2294.23 1529.87 Q2294.23 1521.12 2297.28 1516.54 Q2300.36 1511.93 2306.17 1511.93 Z\" fill=\"#000000\" fill-rule=\"evenodd\" fill-opacity=\"1\" /><polyline clip-path=\"url(#clip782)\" style=\"stroke:#000000; stroke-width:2; stroke-opacity:0.1; fill:none\" points=\"\n",
       "  206.667,1447.87 2352.76,1447.87 \n",
       "  \"/>\n",
       "<polyline clip-path=\"url(#clip782)\" style=\"stroke:#000000; stroke-width:2; stroke-opacity:0.1; fill:none\" points=\"\n",
       "  206.667,1126.42 2352.76,1126.42 \n",
       "  \"/>\n",
       "<polyline clip-path=\"url(#clip782)\" style=\"stroke:#000000; stroke-width:2; stroke-opacity:0.1; fill:none\" points=\"\n",
       "  206.667,804.96 2352.76,804.96 \n",
       "  \"/>\n",
       "<polyline clip-path=\"url(#clip782)\" style=\"stroke:#000000; stroke-width:2; stroke-opacity:0.1; fill:none\" points=\"\n",
       "  206.667,483.503 2352.76,483.503 \n",
       "  \"/>\n",
       "<polyline clip-path=\"url(#clip782)\" style=\"stroke:#000000; stroke-width:2; stroke-opacity:0.1; fill:none\" points=\"\n",
       "  206.667,162.047 2352.76,162.047 \n",
       "  \"/>\n",
       "<polyline clip-path=\"url(#clip780)\" style=\"stroke:#000000; stroke-width:4; stroke-opacity:1; fill:none\" points=\"\n",
       "  206.667,1486.45 206.667,123.472 \n",
       "  \"/>\n",
       "<polyline clip-path=\"url(#clip780)\" style=\"stroke:#000000; stroke-width:4; stroke-opacity:1; fill:none\" points=\"\n",
       "  206.667,1447.87 232.42,1447.87 \n",
       "  \"/>\n",
       "<polyline clip-path=\"url(#clip780)\" style=\"stroke:#000000; stroke-width:4; stroke-opacity:1; fill:none\" points=\"\n",
       "  206.667,1126.42 232.42,1126.42 \n",
       "  \"/>\n",
       "<polyline clip-path=\"url(#clip780)\" style=\"stroke:#000000; stroke-width:4; stroke-opacity:1; fill:none\" points=\"\n",
       "  206.667,804.96 232.42,804.96 \n",
       "  \"/>\n",
       "<polyline clip-path=\"url(#clip780)\" style=\"stroke:#000000; stroke-width:4; stroke-opacity:1; fill:none\" points=\"\n",
       "  206.667,483.503 232.42,483.503 \n",
       "  \"/>\n",
       "<polyline clip-path=\"url(#clip780)\" style=\"stroke:#000000; stroke-width:4; stroke-opacity:1; fill:none\" points=\"\n",
       "  206.667,162.047 232.42,162.047 \n",
       "  \"/>\n",
       "<path clip-path=\"url(#clip780)\" d=\"M 0 0 M51.2236 1448.32 L80.8994 1448.32 L80.8994 1452.26 L51.2236 1452.26 L51.2236 1448.32 Z\" fill=\"#000000\" fill-rule=\"evenodd\" fill-opacity=\"1\" /><path clip-path=\"url(#clip780)\" d=\"M 0 0 M86.779 1461.22 L94.4178 1461.22 L94.4178 1434.85 L86.1077 1436.52 L86.1077 1432.26 L94.3715 1430.59 L99.0474 1430.59 L99.0474 1461.22 L106.686 1461.22 L106.686 1465.15 L86.779 1465.15 L86.779 1461.22 Z\" fill=\"#000000\" fill-rule=\"evenodd\" fill-opacity=\"1\" /><path clip-path=\"url(#clip780)\" d=\"M 0 0 M111.756 1459.27 L116.64 1459.27 L116.64 1465.15 L111.756 1465.15 L111.756 1459.27 Z\" fill=\"#000000\" fill-rule=\"evenodd\" fill-opacity=\"1\" /><path clip-path=\"url(#clip780)\" d=\"M 0 0 M131.709 1433.67 Q128.098 1433.67 126.27 1437.24 Q124.464 1440.78 124.464 1447.91 Q124.464 1455.01 126.27 1458.58 Q128.098 1462.12 131.709 1462.12 Q135.344 1462.12 137.149 1458.58 Q138.978 1455.01 138.978 1447.91 Q138.978 1440.78 137.149 1437.24 Q135.344 1433.67 131.709 1433.67 M131.709 1429.97 Q137.519 1429.97 140.575 1434.57 Q143.654 1439.16 143.654 1447.91 Q143.654 1456.63 140.575 1461.24 Q137.519 1465.82 131.709 1465.82 Q125.899 1465.82 122.82 1461.24 Q119.765 1456.63 119.765 1447.91 Q119.765 1439.16 122.82 1434.57 Q125.899 1429.97 131.709 1429.97 Z\" fill=\"#000000\" fill-rule=\"evenodd\" fill-opacity=\"1\" /><path clip-path=\"url(#clip780)\" d=\"M 0 0 M158.723 1433.67 Q155.112 1433.67 153.283 1437.24 Q151.478 1440.78 151.478 1447.91 Q151.478 1455.01 153.283 1458.58 Q155.112 1462.12 158.723 1462.12 Q162.357 1462.12 164.163 1458.58 Q165.992 1455.01 165.992 1447.91 Q165.992 1440.78 164.163 1437.24 Q162.357 1433.67 158.723 1433.67 M158.723 1429.97 Q164.533 1429.97 167.589 1434.57 Q170.667 1439.16 170.667 1447.91 Q170.667 1456.63 167.589 1461.24 Q164.533 1465.82 158.723 1465.82 Q152.913 1465.82 149.834 1461.24 Q146.779 1456.63 146.779 1447.91 Q146.779 1439.16 149.834 1434.57 Q152.913 1429.97 158.723 1429.97 Z\" fill=\"#000000\" fill-rule=\"evenodd\" fill-opacity=\"1\" /><path clip-path=\"url(#clip780)\" d=\"M 0 0 M51.8949 1126.87 L81.5707 1126.87 L81.5707 1130.8 L51.8949 1130.8 L51.8949 1126.87 Z\" fill=\"#000000\" fill-rule=\"evenodd\" fill-opacity=\"1\" /><path clip-path=\"url(#clip780)\" d=\"M 0 0 M96.64 1112.22 Q93.0289 1112.22 91.2002 1115.78 Q89.3947 1119.32 89.3947 1126.45 Q89.3947 1133.56 91.2002 1137.12 Q93.0289 1140.66 96.64 1140.66 Q100.274 1140.66 102.08 1137.12 Q103.909 1133.56 103.909 1126.45 Q103.909 1119.32 102.08 1115.78 Q100.274 1112.22 96.64 1112.22 M96.64 1108.51 Q102.45 1108.51 105.506 1113.12 Q108.584 1117.7 108.584 1126.45 Q108.584 1135.18 105.506 1139.78 Q102.45 1144.37 96.64 1144.37 Q90.8299 1144.37 87.7512 1139.78 Q84.6956 1135.18 84.6956 1126.45 Q84.6956 1117.7 87.7512 1113.12 Q90.8299 1108.51 96.64 1108.51 Z\" fill=\"#000000\" fill-rule=\"evenodd\" fill-opacity=\"1\" /><path clip-path=\"url(#clip780)\" d=\"M 0 0 M113.654 1137.82 L118.538 1137.82 L118.538 1143.7 L113.654 1143.7 L113.654 1137.82 Z\" fill=\"#000000\" fill-rule=\"evenodd\" fill-opacity=\"1\" /><path clip-path=\"url(#clip780)\" d=\"M 0 0 M122.427 1109.14 L144.649 1109.14 L144.649 1111.13 L132.103 1143.7 L127.219 1143.7 L139.024 1113.07 L122.427 1113.07 L122.427 1109.14 Z\" fill=\"#000000\" fill-rule=\"evenodd\" fill-opacity=\"1\" /><path clip-path=\"url(#clip780)\" d=\"M 0 0 M149.765 1109.14 L168.121 1109.14 L168.121 1113.07 L154.047 1113.07 L154.047 1121.54 Q155.066 1121.2 156.084 1121.03 Q157.103 1120.85 158.121 1120.85 Q163.908 1120.85 167.288 1124.02 Q170.667 1127.19 170.667 1132.61 Q170.667 1138.19 167.195 1141.29 Q163.723 1144.37 157.404 1144.37 Q155.228 1144.37 152.959 1144 Q150.714 1143.63 148.306 1142.89 L148.306 1138.19 Q150.39 1139.32 152.612 1139.88 Q154.834 1140.43 157.311 1140.43 Q161.316 1140.43 163.654 1138.33 Q165.992 1136.22 165.992 1132.61 Q165.992 1129 163.654 1126.89 Q161.316 1124.78 157.311 1124.78 Q155.436 1124.78 153.561 1125.2 Q151.709 1125.62 149.765 1126.5 L149.765 1109.14 Z\" fill=\"#000000\" fill-rule=\"evenodd\" fill-opacity=\"1\" /><path clip-path=\"url(#clip780)\" d=\"M 0 0 M50.9921 805.411 L80.6679 805.411 L80.6679 809.347 L50.9921 809.347 L50.9921 805.411 Z\" fill=\"#000000\" fill-rule=\"evenodd\" fill-opacity=\"1\" /><path clip-path=\"url(#clip780)\" d=\"M 0 0 M95.7373 790.759 Q92.1262 790.759 90.2975 794.323 Q88.4919 797.865 88.4919 804.995 Q88.4919 812.101 90.2975 815.666 Q92.1262 819.208 95.7373 819.208 Q99.3715 819.208 101.177 815.666 Q103.006 812.101 103.006 804.995 Q103.006 797.865 101.177 794.323 Q99.3715 790.759 95.7373 790.759 M95.7373 787.055 Q101.547 787.055 104.603 791.661 Q107.682 796.245 107.682 804.995 Q107.682 813.722 104.603 818.328 Q101.547 822.911 95.7373 822.911 Q89.9271 822.911 86.8484 818.328 Q83.7929 813.722 83.7929 804.995 Q83.7929 796.245 86.8484 791.661 Q89.9271 787.055 95.7373 787.055 Z\" fill=\"#000000\" fill-rule=\"evenodd\" fill-opacity=\"1\" /><path clip-path=\"url(#clip780)\" d=\"M 0 0 M112.751 816.36 L117.635 816.36 L117.635 822.24 L112.751 822.24 L112.751 816.36 Z\" fill=\"#000000\" fill-rule=\"evenodd\" fill-opacity=\"1\" /><path clip-path=\"url(#clip780)\" d=\"M 0 0 M122.751 787.68 L141.107 787.68 L141.107 791.615 L127.033 791.615 L127.033 800.087 Q128.052 799.74 129.07 799.578 Q130.089 799.393 131.107 799.393 Q136.894 799.393 140.274 802.564 Q143.654 805.735 143.654 811.152 Q143.654 816.731 140.181 819.833 Q136.709 822.911 130.39 822.911 Q128.214 822.911 125.945 822.541 Q123.7 822.171 121.293 821.43 L121.293 816.731 Q123.376 817.865 125.598 818.421 Q127.82 818.976 130.297 818.976 Q134.302 818.976 136.64 816.87 Q138.978 814.763 138.978 811.152 Q138.978 807.541 136.64 805.435 Q134.302 803.328 130.297 803.328 Q128.422 803.328 126.547 803.745 Q124.695 804.161 122.751 805.041 L122.751 787.68 Z\" fill=\"#000000\" fill-rule=\"evenodd\" fill-opacity=\"1\" /><path clip-path=\"url(#clip780)\" d=\"M 0 0 M158.723 790.759 Q155.112 790.759 153.283 794.323 Q151.478 797.865 151.478 804.995 Q151.478 812.101 153.283 815.666 Q155.112 819.208 158.723 819.208 Q162.357 819.208 164.163 815.666 Q165.992 812.101 165.992 804.995 Q165.992 797.865 164.163 794.323 Q162.357 790.759 158.723 790.759 M158.723 787.055 Q164.533 787.055 167.589 791.661 Q170.667 796.245 170.667 804.995 Q170.667 813.722 167.589 818.328 Q164.533 822.911 158.723 822.911 Q152.913 822.911 149.834 818.328 Q146.779 813.722 146.779 804.995 Q146.779 796.245 149.834 791.661 Q152.913 787.055 158.723 787.055 Z\" fill=\"#000000\" fill-rule=\"evenodd\" fill-opacity=\"1\" /><path clip-path=\"url(#clip780)\" d=\"M 0 0 M52.5893 483.955 L82.2651 483.955 L82.2651 487.89 L52.5893 487.89 L52.5893 483.955 Z\" fill=\"#000000\" fill-rule=\"evenodd\" fill-opacity=\"1\" /><path clip-path=\"url(#clip780)\" d=\"M 0 0 M97.3345 469.302 Q93.7234 469.302 91.8947 472.867 Q90.0891 476.409 90.0891 483.538 Q90.0891 490.645 91.8947 494.209 Q93.7234 497.751 97.3345 497.751 Q100.969 497.751 102.774 494.209 Q104.603 490.645 104.603 483.538 Q104.603 476.409 102.774 472.867 Q100.969 469.302 97.3345 469.302 M97.3345 465.598 Q103.145 465.598 106.2 470.205 Q109.279 474.788 109.279 483.538 Q109.279 492.265 106.2 496.871 Q103.145 501.455 97.3345 501.455 Q91.5243 501.455 88.4456 496.871 Q85.3901 492.265 85.3901 483.538 Q85.3901 474.788 88.4456 470.205 Q91.5243 465.598 97.3345 465.598 Z\" fill=\"#000000\" fill-rule=\"evenodd\" fill-opacity=\"1\" /><path clip-path=\"url(#clip780)\" d=\"M 0 0 M114.348 494.904 L119.233 494.904 L119.233 500.783 L114.348 500.783 L114.348 494.904 Z\" fill=\"#000000\" fill-rule=\"evenodd\" fill-opacity=\"1\" /><path clip-path=\"url(#clip780)\" d=\"M 0 0 M128.33 496.848 L144.649 496.848 L144.649 500.783 L122.705 500.783 L122.705 496.848 Q125.367 494.094 129.95 489.464 Q134.556 484.811 135.737 483.469 Q137.982 480.946 138.862 479.209 Q139.765 477.45 139.765 475.76 Q139.765 473.006 137.82 471.27 Q135.899 469.534 132.797 469.534 Q130.598 469.534 128.144 470.298 Q125.714 471.061 122.936 472.612 L122.936 467.89 Q125.76 466.756 128.214 466.177 Q130.668 465.598 132.705 465.598 Q138.075 465.598 141.269 468.284 Q144.464 470.969 144.464 475.46 Q144.464 477.589 143.654 479.51 Q142.867 481.409 140.76 484.001 Q140.181 484.672 137.08 487.89 Q133.978 491.084 128.33 496.848 Z\" fill=\"#000000\" fill-rule=\"evenodd\" fill-opacity=\"1\" /><path clip-path=\"url(#clip780)\" d=\"M 0 0 M149.765 466.223 L168.121 466.223 L168.121 470.159 L154.047 470.159 L154.047 478.631 Q155.066 478.284 156.084 478.122 Q157.103 477.936 158.121 477.936 Q163.908 477.936 167.288 481.108 Q170.667 484.279 170.667 489.696 Q170.667 495.274 167.195 498.376 Q163.723 501.455 157.404 501.455 Q155.228 501.455 152.959 501.084 Q150.714 500.714 148.306 499.973 L148.306 495.274 Q150.39 496.408 152.612 496.964 Q154.834 497.52 157.311 497.52 Q161.316 497.52 163.654 495.413 Q165.992 493.307 165.992 489.696 Q165.992 486.084 163.654 483.978 Q161.316 481.872 157.311 481.872 Q155.436 481.872 153.561 482.288 Q151.709 482.705 149.765 483.584 L149.765 466.223 Z\" fill=\"#000000\" fill-rule=\"evenodd\" fill-opacity=\"1\" /><path clip-path=\"url(#clip780)\" d=\"M 0 0 M94.7419 147.846 Q91.1308 147.846 89.3021 151.41 Q87.4966 154.952 87.4966 162.082 Q87.4966 169.188 89.3021 172.753 Q91.1308 176.295 94.7419 176.295 Q98.3761 176.295 100.182 172.753 Q102.01 169.188 102.01 162.082 Q102.01 154.952 100.182 151.41 Q98.3761 147.846 94.7419 147.846 M94.7419 144.142 Q100.552 144.142 103.608 148.748 Q106.686 153.332 106.686 162.082 Q106.686 170.808 103.608 175.415 Q100.552 179.998 94.7419 179.998 Q88.9317 179.998 85.8531 175.415 Q82.7975 170.808 82.7975 162.082 Q82.7975 153.332 85.8531 148.748 Q88.9317 144.142 94.7419 144.142 Z\" fill=\"#000000\" fill-rule=\"evenodd\" fill-opacity=\"1\" /><path clip-path=\"url(#clip780)\" d=\"M 0 0 M111.756 173.447 L116.64 173.447 L116.64 179.327 L111.756 179.327 L111.756 173.447 Z\" fill=\"#000000\" fill-rule=\"evenodd\" fill-opacity=\"1\" /><path clip-path=\"url(#clip780)\" d=\"M 0 0 M131.709 147.846 Q128.098 147.846 126.27 151.41 Q124.464 154.952 124.464 162.082 Q124.464 169.188 126.27 172.753 Q128.098 176.295 131.709 176.295 Q135.344 176.295 137.149 172.753 Q138.978 169.188 138.978 162.082 Q138.978 154.952 137.149 151.41 Q135.344 147.846 131.709 147.846 M131.709 144.142 Q137.519 144.142 140.575 148.748 Q143.654 153.332 143.654 162.082 Q143.654 170.808 140.575 175.415 Q137.519 179.998 131.709 179.998 Q125.899 179.998 122.82 175.415 Q119.765 170.808 119.765 162.082 Q119.765 153.332 122.82 148.748 Q125.899 144.142 131.709 144.142 Z\" fill=\"#000000\" fill-rule=\"evenodd\" fill-opacity=\"1\" /><path clip-path=\"url(#clip780)\" d=\"M 0 0 M158.723 147.846 Q155.112 147.846 153.283 151.41 Q151.478 154.952 151.478 162.082 Q151.478 169.188 153.283 172.753 Q155.112 176.295 158.723 176.295 Q162.357 176.295 164.163 172.753 Q165.992 169.188 165.992 162.082 Q165.992 154.952 164.163 151.41 Q162.357 147.846 158.723 147.846 M158.723 144.142 Q164.533 144.142 167.589 148.748 Q170.667 153.332 170.667 162.082 Q170.667 170.808 167.589 175.415 Q164.533 179.998 158.723 179.998 Q152.913 179.998 149.834 175.415 Q146.779 170.808 146.779 162.082 Q146.779 153.332 149.834 148.748 Q152.913 144.142 158.723 144.142 Z\" fill=\"#000000\" fill-rule=\"evenodd\" fill-opacity=\"1\" /><path clip-path=\"url(#clip780)\" d=\"M 0 0 M1039.74 28.9478 L1039.74 35.9153 Q1036.58 34.1734 1033.38 33.3227 Q1030.22 32.4315 1026.98 32.4315 Q1019.72 32.4315 1015.71 37.0496 Q1011.7 41.6271 1011.7 49.9314 Q1011.7 58.2358 1015.71 62.8538 Q1019.72 67.4314 1026.98 67.4314 Q1030.22 67.4314 1033.38 66.5807 Q1036.58 65.6895 1039.74 63.9476 L1039.74 70.8341 Q1036.62 72.2924 1033.25 73.0216 Q1029.93 73.7508 1026.17 73.7508 Q1015.92 73.7508 1009.88 67.3098 Q1003.85 60.8689 1003.85 49.9314 Q1003.85 38.832 1009.92 32.472 Q1016.04 26.1121 1026.65 26.1121 Q1030.09 26.1121 1033.38 26.8413 Q1036.66 27.5299 1039.74 28.9478 Z\" fill=\"#000000\" fill-rule=\"evenodd\" fill-opacity=\"1\" /><path clip-path=\"url(#clip780)\" d=\"M 0 0 M1074.9 34.9026 L1126.83 34.9026 L1126.83 41.7081 L1074.9 41.7081 L1074.9 34.9026 M1074.9 51.4303 L1126.83 51.4303 L1126.83 58.3168 L1074.9 58.3168 L1074.9 51.4303 Z\" fill=\"#000000\" fill-rule=\"evenodd\" fill-opacity=\"1\" /><path clip-path=\"url(#clip780)\" d=\"M 0 0 M1157.25 46.5287 L1179.09 46.5287 L1179.09 53.1722 L1157.25 53.1722 L1157.25 46.5287 Z\" fill=\"#000000\" fill-rule=\"evenodd\" fill-opacity=\"1\" /><path clip-path=\"url(#clip780)\" d=\"M 0 0 M1189.38 65.6895 L1202.74 65.6895 L1202.74 19.5497 L1188.2 22.4663 L1188.2 15.0127 L1202.66 12.096 L1210.85 12.096 L1210.85 65.6895 L1224.21 65.6895 L1224.21 72.576 L1189.38 72.576 L1189.38 65.6895 Z\" fill=\"#000000\" fill-rule=\"evenodd\" fill-opacity=\"1\" /><path clip-path=\"url(#clip780)\" d=\"M 0 0 M1348.86 27.2059 L1332.45 49.2833 L1349.71 72.576 L1340.92 72.576 L1327.71 54.752 L1314.51 72.576 L1305.72 72.576 L1323.34 48.8377 L1307.22 27.2059 L1316.01 27.2059 L1328.04 43.369 L1340.07 27.2059 L1348.86 27.2059 Z\" fill=\"#000000\" fill-rule=\"evenodd\" fill-opacity=\"1\" /><path clip-path=\"url(#clip780)\" d=\"M 0 0 M1376.08 17.4837 Q1369.76 17.4837 1366.56 23.7221 Q1363.4 29.92 1363.4 42.3968 Q1363.4 54.833 1366.56 61.0714 Q1369.76 67.2693 1376.08 67.2693 Q1382.44 67.2693 1385.6 61.0714 Q1388.8 54.833 1388.8 42.3968 Q1388.8 29.92 1385.6 23.7221 Q1382.44 17.4837 1376.08 17.4837 M1376.08 11.0023 Q1386.25 11.0023 1391.6 19.0636 Q1396.99 27.0843 1396.99 42.3968 Q1396.99 57.6687 1391.6 65.73 Q1386.25 73.7508 1376.08 73.7508 Q1365.91 73.7508 1360.53 65.73 Q1355.18 57.6687 1355.18 42.3968 Q1355.18 27.0843 1360.53 19.0636 Q1365.91 11.0023 1376.08 11.0023 Z\" fill=\"#000000\" fill-rule=\"evenodd\" fill-opacity=\"1\" /><path clip-path=\"url(#clip780)\" d=\"M 0 0 M1432.15 34.9026 L1484.08 34.9026 L1484.08 41.7081 L1432.15 41.7081 L1432.15 34.9026 M1432.15 51.4303 L1484.08 51.4303 L1484.08 58.3168 L1432.15 58.3168 L1432.15 51.4303 Z\" fill=\"#000000\" fill-rule=\"evenodd\" fill-opacity=\"1\" /><path clip-path=\"url(#clip780)\" d=\"M 0 0 M1520.74 65.6895 L1534.11 65.6895 L1534.11 19.5497 L1519.57 22.4663 L1519.57 15.0127 L1534.03 12.096 L1542.21 12.096 L1542.21 65.6895 L1555.58 65.6895 L1555.58 72.576 L1520.74 72.576 L1520.74 65.6895 Z\" fill=\"#000000\" fill-rule=\"evenodd\" fill-opacity=\"1\" /><circle clip-path=\"url(#clip782)\" cx=\"267.406\" cy=\"162.047\" r=\"14\" fill=\"#009af9\" fill-rule=\"evenodd\" fill-opacity=\"1\" stroke=\"#000000\" stroke-opacity=\"1\" stroke-width=\"3.2\"/>\n",
       "<circle clip-path=\"url(#clip782)\" cx=\"319.319\" cy=\"1447.87\" r=\"14\" fill=\"#009af9\" fill-rule=\"evenodd\" fill-opacity=\"1\" stroke=\"#000000\" stroke-opacity=\"1\" stroke-width=\"3.2\"/>\n",
       "<circle clip-path=\"url(#clip782)\" cx=\"371.232\" cy=\"162.047\" r=\"14\" fill=\"#009af9\" fill-rule=\"evenodd\" fill-opacity=\"1\" stroke=\"#000000\" stroke-opacity=\"1\" stroke-width=\"3.2\"/>\n",
       "<circle clip-path=\"url(#clip782)\" cx=\"423.145\" cy=\"1447.87\" r=\"14\" fill=\"#009af9\" fill-rule=\"evenodd\" fill-opacity=\"1\" stroke=\"#000000\" stroke-opacity=\"1\" stroke-width=\"3.2\"/>\n",
       "<circle clip-path=\"url(#clip782)\" cx=\"475.058\" cy=\"162.047\" r=\"14\" fill=\"#009af9\" fill-rule=\"evenodd\" fill-opacity=\"1\" stroke=\"#000000\" stroke-opacity=\"1\" stroke-width=\"3.2\"/>\n",
       "<circle clip-path=\"url(#clip782)\" cx=\"526.971\" cy=\"1447.87\" r=\"14\" fill=\"#009af9\" fill-rule=\"evenodd\" fill-opacity=\"1\" stroke=\"#000000\" stroke-opacity=\"1\" stroke-width=\"3.2\"/>\n",
       "<circle clip-path=\"url(#clip782)\" cx=\"578.885\" cy=\"162.047\" r=\"14\" fill=\"#009af9\" fill-rule=\"evenodd\" fill-opacity=\"1\" stroke=\"#000000\" stroke-opacity=\"1\" stroke-width=\"3.2\"/>\n",
       "<circle clip-path=\"url(#clip782)\" cx=\"630.798\" cy=\"1447.87\" r=\"14\" fill=\"#009af9\" fill-rule=\"evenodd\" fill-opacity=\"1\" stroke=\"#000000\" stroke-opacity=\"1\" stroke-width=\"3.2\"/>\n",
       "<circle clip-path=\"url(#clip782)\" cx=\"682.711\" cy=\"162.047\" r=\"14\" fill=\"#009af9\" fill-rule=\"evenodd\" fill-opacity=\"1\" stroke=\"#000000\" stroke-opacity=\"1\" stroke-width=\"3.2\"/>\n",
       "<circle clip-path=\"url(#clip782)\" cx=\"734.624\" cy=\"1447.87\" r=\"14\" fill=\"#009af9\" fill-rule=\"evenodd\" fill-opacity=\"1\" stroke=\"#000000\" stroke-opacity=\"1\" stroke-width=\"3.2\"/>\n",
       "<circle clip-path=\"url(#clip782)\" cx=\"786.537\" cy=\"162.047\" r=\"14\" fill=\"#009af9\" fill-rule=\"evenodd\" fill-opacity=\"1\" stroke=\"#000000\" stroke-opacity=\"1\" stroke-width=\"3.2\"/>\n",
       "<circle clip-path=\"url(#clip782)\" cx=\"838.45\" cy=\"1447.87\" r=\"14\" fill=\"#009af9\" fill-rule=\"evenodd\" fill-opacity=\"1\" stroke=\"#000000\" stroke-opacity=\"1\" stroke-width=\"3.2\"/>\n",
       "<circle clip-path=\"url(#clip782)\" cx=\"890.363\" cy=\"162.047\" r=\"14\" fill=\"#009af9\" fill-rule=\"evenodd\" fill-opacity=\"1\" stroke=\"#000000\" stroke-opacity=\"1\" stroke-width=\"3.2\"/>\n",
       "<circle clip-path=\"url(#clip782)\" cx=\"942.276\" cy=\"1447.87\" r=\"14\" fill=\"#009af9\" fill-rule=\"evenodd\" fill-opacity=\"1\" stroke=\"#000000\" stroke-opacity=\"1\" stroke-width=\"3.2\"/>\n",
       "<circle clip-path=\"url(#clip782)\" cx=\"994.189\" cy=\"162.047\" r=\"14\" fill=\"#009af9\" fill-rule=\"evenodd\" fill-opacity=\"1\" stroke=\"#000000\" stroke-opacity=\"1\" stroke-width=\"3.2\"/>\n",
       "<circle clip-path=\"url(#clip782)\" cx=\"1046.1\" cy=\"1447.87\" r=\"14\" fill=\"#009af9\" fill-rule=\"evenodd\" fill-opacity=\"1\" stroke=\"#000000\" stroke-opacity=\"1\" stroke-width=\"3.2\"/>\n",
       "<circle clip-path=\"url(#clip782)\" cx=\"1098.02\" cy=\"162.047\" r=\"14\" fill=\"#009af9\" fill-rule=\"evenodd\" fill-opacity=\"1\" stroke=\"#000000\" stroke-opacity=\"1\" stroke-width=\"3.2\"/>\n",
       "<circle clip-path=\"url(#clip782)\" cx=\"1149.93\" cy=\"1447.87\" r=\"14\" fill=\"#009af9\" fill-rule=\"evenodd\" fill-opacity=\"1\" stroke=\"#000000\" stroke-opacity=\"1\" stroke-width=\"3.2\"/>\n",
       "<circle clip-path=\"url(#clip782)\" cx=\"1201.84\" cy=\"162.047\" r=\"14\" fill=\"#009af9\" fill-rule=\"evenodd\" fill-opacity=\"1\" stroke=\"#000000\" stroke-opacity=\"1\" stroke-width=\"3.2\"/>\n",
       "<circle clip-path=\"url(#clip782)\" cx=\"1253.76\" cy=\"1447.87\" r=\"14\" fill=\"#009af9\" fill-rule=\"evenodd\" fill-opacity=\"1\" stroke=\"#000000\" stroke-opacity=\"1\" stroke-width=\"3.2\"/>\n",
       "<circle clip-path=\"url(#clip782)\" cx=\"1305.67\" cy=\"162.047\" r=\"14\" fill=\"#009af9\" fill-rule=\"evenodd\" fill-opacity=\"1\" stroke=\"#000000\" stroke-opacity=\"1\" stroke-width=\"3.2\"/>\n",
       "<circle clip-path=\"url(#clip782)\" cx=\"1357.58\" cy=\"1447.87\" r=\"14\" fill=\"#009af9\" fill-rule=\"evenodd\" fill-opacity=\"1\" stroke=\"#000000\" stroke-opacity=\"1\" stroke-width=\"3.2\"/>\n",
       "<circle clip-path=\"url(#clip782)\" cx=\"1409.49\" cy=\"162.047\" r=\"14\" fill=\"#009af9\" fill-rule=\"evenodd\" fill-opacity=\"1\" stroke=\"#000000\" stroke-opacity=\"1\" stroke-width=\"3.2\"/>\n",
       "<circle clip-path=\"url(#clip782)\" cx=\"1461.41\" cy=\"1447.87\" r=\"14\" fill=\"#009af9\" fill-rule=\"evenodd\" fill-opacity=\"1\" stroke=\"#000000\" stroke-opacity=\"1\" stroke-width=\"3.2\"/>\n",
       "<circle clip-path=\"url(#clip782)\" cx=\"1513.32\" cy=\"162.047\" r=\"14\" fill=\"#009af9\" fill-rule=\"evenodd\" fill-opacity=\"1\" stroke=\"#000000\" stroke-opacity=\"1\" stroke-width=\"3.2\"/>\n",
       "<circle clip-path=\"url(#clip782)\" cx=\"1565.23\" cy=\"1447.87\" r=\"14\" fill=\"#009af9\" fill-rule=\"evenodd\" fill-opacity=\"1\" stroke=\"#000000\" stroke-opacity=\"1\" stroke-width=\"3.2\"/>\n",
       "<circle clip-path=\"url(#clip782)\" cx=\"1617.15\" cy=\"162.047\" r=\"14\" fill=\"#009af9\" fill-rule=\"evenodd\" fill-opacity=\"1\" stroke=\"#000000\" stroke-opacity=\"1\" stroke-width=\"3.2\"/>\n",
       "<circle clip-path=\"url(#clip782)\" cx=\"1669.06\" cy=\"1447.87\" r=\"14\" fill=\"#009af9\" fill-rule=\"evenodd\" fill-opacity=\"1\" stroke=\"#000000\" stroke-opacity=\"1\" stroke-width=\"3.2\"/>\n",
       "<circle clip-path=\"url(#clip782)\" cx=\"1720.97\" cy=\"162.047\" r=\"14\" fill=\"#009af9\" fill-rule=\"evenodd\" fill-opacity=\"1\" stroke=\"#000000\" stroke-opacity=\"1\" stroke-width=\"3.2\"/>\n",
       "<circle clip-path=\"url(#clip782)\" cx=\"1772.89\" cy=\"1447.87\" r=\"14\" fill=\"#009af9\" fill-rule=\"evenodd\" fill-opacity=\"1\" stroke=\"#000000\" stroke-opacity=\"1\" stroke-width=\"3.2\"/>\n",
       "<circle clip-path=\"url(#clip782)\" cx=\"1824.8\" cy=\"162.047\" r=\"14\" fill=\"#009af9\" fill-rule=\"evenodd\" fill-opacity=\"1\" stroke=\"#000000\" stroke-opacity=\"1\" stroke-width=\"3.2\"/>\n",
       "<circle clip-path=\"url(#clip782)\" cx=\"1876.71\" cy=\"1447.87\" r=\"14\" fill=\"#009af9\" fill-rule=\"evenodd\" fill-opacity=\"1\" stroke=\"#000000\" stroke-opacity=\"1\" stroke-width=\"3.2\"/>\n",
       "<circle clip-path=\"url(#clip782)\" cx=\"1928.63\" cy=\"162.047\" r=\"14\" fill=\"#009af9\" fill-rule=\"evenodd\" fill-opacity=\"1\" stroke=\"#000000\" stroke-opacity=\"1\" stroke-width=\"3.2\"/>\n",
       "<circle clip-path=\"url(#clip782)\" cx=\"1980.54\" cy=\"1447.87\" r=\"14\" fill=\"#009af9\" fill-rule=\"evenodd\" fill-opacity=\"1\" stroke=\"#000000\" stroke-opacity=\"1\" stroke-width=\"3.2\"/>\n",
       "<circle clip-path=\"url(#clip782)\" cx=\"2032.45\" cy=\"162.047\" r=\"14\" fill=\"#009af9\" fill-rule=\"evenodd\" fill-opacity=\"1\" stroke=\"#000000\" stroke-opacity=\"1\" stroke-width=\"3.2\"/>\n",
       "<circle clip-path=\"url(#clip782)\" cx=\"2084.37\" cy=\"1447.87\" r=\"14\" fill=\"#009af9\" fill-rule=\"evenodd\" fill-opacity=\"1\" stroke=\"#000000\" stroke-opacity=\"1\" stroke-width=\"3.2\"/>\n",
       "<circle clip-path=\"url(#clip782)\" cx=\"2136.28\" cy=\"162.047\" r=\"14\" fill=\"#009af9\" fill-rule=\"evenodd\" fill-opacity=\"1\" stroke=\"#000000\" stroke-opacity=\"1\" stroke-width=\"3.2\"/>\n",
       "<circle clip-path=\"url(#clip782)\" cx=\"2188.19\" cy=\"1447.87\" r=\"14\" fill=\"#009af9\" fill-rule=\"evenodd\" fill-opacity=\"1\" stroke=\"#000000\" stroke-opacity=\"1\" stroke-width=\"3.2\"/>\n",
       "<circle clip-path=\"url(#clip782)\" cx=\"2240.1\" cy=\"162.047\" r=\"14\" fill=\"#009af9\" fill-rule=\"evenodd\" fill-opacity=\"1\" stroke=\"#000000\" stroke-opacity=\"1\" stroke-width=\"3.2\"/>\n",
       "<circle clip-path=\"url(#clip782)\" cx=\"2292.02\" cy=\"1447.87\" r=\"14\" fill=\"#009af9\" fill-rule=\"evenodd\" fill-opacity=\"1\" stroke=\"#000000\" stroke-opacity=\"1\" stroke-width=\"3.2\"/>\n",
       "<path clip-path=\"url(#clip780)\" d=\"\n",
       "M1991.75 289.865 L2281.22 289.865 L2281.22 168.905 L1991.75 168.905  Z\n",
       "  \" fill=\"#ffffff\" fill-rule=\"evenodd\" fill-opacity=\"1\"/>\n",
       "<polyline clip-path=\"url(#clip780)\" style=\"stroke:#000000; stroke-width:4; stroke-opacity:1; fill:none\" points=\"\n",
       "  1991.75,289.865 2281.22,289.865 2281.22,168.905 1991.75,168.905 1991.75,289.865 \n",
       "  \"/>\n",
       "<circle clip-path=\"url(#clip780)\" cx=\"2087.13\" cy=\"229.385\" r=\"23\" fill=\"#009af9\" fill-rule=\"evenodd\" fill-opacity=\"1\" stroke=\"#000000\" stroke-opacity=\"1\" stroke-width=\"5.12\"/>\n",
       "<path clip-path=\"url(#clip780)\" d=\"M 0 0 M2196.35 249.072 Q2194.55 253.702 2192.83 255.114 Q2191.12 256.526 2188.25 256.526 L2184.85 256.526 L2184.85 252.961 L2187.35 252.961 Q2189.11 252.961 2190.08 252.128 Q2191.05 251.294 2192.23 248.192 L2193 246.248 L2182.51 220.739 L2187.02 220.739 L2195.13 241.017 L2203.23 220.739 L2207.74 220.739 L2196.35 249.072 Z\" fill=\"#000000\" fill-rule=\"evenodd\" fill-opacity=\"1\" /><path clip-path=\"url(#clip780)\" d=\"M 0 0 M2213.62 242.729 L2221.26 242.729 L2221.26 216.364 L2212.95 218.031 L2212.95 213.771 L2221.21 212.105 L2225.89 212.105 L2225.89 242.729 L2233.53 242.729 L2233.53 246.665 L2213.62 246.665 L2213.62 242.729 Z\" fill=\"#000000\" fill-rule=\"evenodd\" fill-opacity=\"1\" /></svg>\n"
      ]
     },
     "execution_count": 29,
     "metadata": {},
     "output_type": "execute_result"
    }
   ],
   "source": [
    "plot(arg_x, recursion([-1, 1]), seriestype = :scatter, title = \"c = -1   x0 = 1\")"
   ]
  },
  {
   "cell_type": "code",
   "execution_count": 30,
   "metadata": {},
   "outputs": [
    {
     "data": {
      "image/svg+xml": [
       "<?xml version=\"1.0\" encoding=\"utf-8\"?>\n",
       "<svg xmlns=\"http://www.w3.org/2000/svg\" xmlns:xlink=\"http://www.w3.org/1999/xlink\" width=\"600\" height=\"400\" viewBox=\"0 0 2400 1600\">\n",
       "<defs>\n",
       "  <clipPath id=\"clip820\">\n",
       "    <rect x=\"0\" y=\"0\" width=\"2400\" height=\"1600\"/>\n",
       "  </clipPath>\n",
       "</defs>\n",
       "<path clip-path=\"url(#clip820)\" d=\"\n",
       "M0 1600 L2400 1600 L2400 0 L0 0  Z\n",
       "  \" fill=\"#ffffff\" fill-rule=\"evenodd\" fill-opacity=\"1\"/>\n",
       "<defs>\n",
       "  <clipPath id=\"clip821\">\n",
       "    <rect x=\"480\" y=\"0\" width=\"1681\" height=\"1600\"/>\n",
       "  </clipPath>\n",
       "</defs>\n",
       "<path clip-path=\"url(#clip820)\" d=\"\n",
       "M206.667 1486.45 L2352.76 1486.45 L2352.76 123.472 L206.667 123.472  Z\n",
       "  \" fill=\"#ffffff\" fill-rule=\"evenodd\" fill-opacity=\"1\"/>\n",
       "<defs>\n",
       "  <clipPath id=\"clip822\">\n",
       "    <rect x=\"206\" y=\"123\" width=\"2147\" height=\"1364\"/>\n",
       "  </clipPath>\n",
       "</defs>\n",
       "<polyline clip-path=\"url(#clip822)\" style=\"stroke:#000000; stroke-width:2; stroke-opacity:0.1; fill:none\" points=\"\n",
       "  215.493,1486.45 215.493,123.472 \n",
       "  \"/>\n",
       "<polyline clip-path=\"url(#clip822)\" style=\"stroke:#000000; stroke-width:2; stroke-opacity:0.1; fill:none\" points=\"\n",
       "  734.624,1486.45 734.624,123.472 \n",
       "  \"/>\n",
       "<polyline clip-path=\"url(#clip822)\" style=\"stroke:#000000; stroke-width:2; stroke-opacity:0.1; fill:none\" points=\"\n",
       "  1253.76,1486.45 1253.76,123.472 \n",
       "  \"/>\n",
       "<polyline clip-path=\"url(#clip822)\" style=\"stroke:#000000; stroke-width:2; stroke-opacity:0.1; fill:none\" points=\"\n",
       "  1772.89,1486.45 1772.89,123.472 \n",
       "  \"/>\n",
       "<polyline clip-path=\"url(#clip822)\" style=\"stroke:#000000; stroke-width:2; stroke-opacity:0.1; fill:none\" points=\"\n",
       "  2292.02,1486.45 2292.02,123.472 \n",
       "  \"/>\n",
       "<polyline clip-path=\"url(#clip820)\" style=\"stroke:#000000; stroke-width:4; stroke-opacity:1; fill:none\" points=\"\n",
       "  206.667,1486.45 2352.76,1486.45 \n",
       "  \"/>\n",
       "<polyline clip-path=\"url(#clip820)\" style=\"stroke:#000000; stroke-width:4; stroke-opacity:1; fill:none\" points=\"\n",
       "  215.493,1486.45 215.493,1470.09 \n",
       "  \"/>\n",
       "<polyline clip-path=\"url(#clip820)\" style=\"stroke:#000000; stroke-width:4; stroke-opacity:1; fill:none\" points=\"\n",
       "  734.624,1486.45 734.624,1470.09 \n",
       "  \"/>\n",
       "<polyline clip-path=\"url(#clip820)\" style=\"stroke:#000000; stroke-width:4; stroke-opacity:1; fill:none\" points=\"\n",
       "  1253.76,1486.45 1253.76,1470.09 \n",
       "  \"/>\n",
       "<polyline clip-path=\"url(#clip820)\" style=\"stroke:#000000; stroke-width:4; stroke-opacity:1; fill:none\" points=\"\n",
       "  1772.89,1486.45 1772.89,1470.09 \n",
       "  \"/>\n",
       "<polyline clip-path=\"url(#clip820)\" style=\"stroke:#000000; stroke-width:4; stroke-opacity:1; fill:none\" points=\"\n",
       "  2292.02,1486.45 2292.02,1470.09 \n",
       "  \"/>\n",
       "<path clip-path=\"url(#clip820)\" d=\"M 0 0 M215.493 1515.64 Q211.882 1515.64 210.053 1519.2 Q208.247 1522.75 208.247 1529.87 Q208.247 1536.98 210.053 1540.55 Q211.882 1544.09 215.493 1544.09 Q219.127 1544.09 220.932 1540.55 Q222.761 1536.98 222.761 1529.87 Q222.761 1522.75 220.932 1519.2 Q219.127 1515.64 215.493 1515.64 M215.493 1511.93 Q221.303 1511.93 224.358 1516.54 Q227.437 1521.12 227.437 1529.87 Q227.437 1538.6 224.358 1543.21 Q221.303 1547.79 215.493 1547.79 Q209.682 1547.79 206.604 1543.21 Q203.548 1538.6 203.548 1529.87 Q203.548 1521.12 206.604 1516.54 Q209.682 1511.93 215.493 1511.93 Z\" fill=\"#000000\" fill-rule=\"evenodd\" fill-opacity=\"1\" /><path clip-path=\"url(#clip820)\" d=\"M 0 0 M711.499 1543.18 L719.138 1543.18 L719.138 1516.82 L710.828 1518.49 L710.828 1514.23 L719.092 1512.56 L723.767 1512.56 L723.767 1543.18 L731.406 1543.18 L731.406 1547.12 L711.499 1547.12 L711.499 1543.18 Z\" fill=\"#000000\" fill-rule=\"evenodd\" fill-opacity=\"1\" /><path clip-path=\"url(#clip820)\" d=\"M 0 0 M746.476 1515.64 Q742.865 1515.64 741.036 1519.2 Q739.23 1522.75 739.23 1529.87 Q739.23 1536.98 741.036 1540.55 Q742.865 1544.09 746.476 1544.09 Q750.11 1544.09 751.915 1540.55 Q753.744 1536.98 753.744 1529.87 Q753.744 1522.75 751.915 1519.2 Q750.11 1515.64 746.476 1515.64 M746.476 1511.93 Q752.286 1511.93 755.341 1516.54 Q758.42 1521.12 758.42 1529.87 Q758.42 1538.6 755.341 1543.21 Q752.286 1547.79 746.476 1547.79 Q740.666 1547.79 737.587 1543.21 Q734.531 1538.6 734.531 1529.87 Q734.531 1521.12 737.587 1516.54 Q740.666 1511.93 746.476 1511.93 Z\" fill=\"#000000\" fill-rule=\"evenodd\" fill-opacity=\"1\" /><path clip-path=\"url(#clip820)\" d=\"M 0 0 M1234.9 1543.18 L1251.22 1543.18 L1251.22 1547.12 L1229.28 1547.12 L1229.28 1543.18 Q1231.94 1540.43 1236.52 1535.8 Q1241.13 1531.15 1242.31 1529.81 Q1244.55 1527.28 1245.43 1525.55 Q1246.34 1523.79 1246.34 1522.1 Q1246.34 1519.34 1244.39 1517.61 Q1242.47 1515.87 1239.37 1515.87 Q1237.17 1515.87 1234.72 1516.63 Q1232.29 1517.4 1229.51 1518.95 L1229.51 1514.23 Q1232.33 1513.09 1234.79 1512.51 Q1237.24 1511.93 1239.28 1511.93 Q1244.65 1511.93 1247.84 1514.62 Q1251.04 1517.31 1251.04 1521.8 Q1251.04 1523.93 1250.23 1525.85 Q1249.44 1527.74 1247.33 1530.34 Q1246.75 1531.01 1243.65 1534.23 Q1240.55 1537.42 1234.9 1543.18 Z\" fill=\"#000000\" fill-rule=\"evenodd\" fill-opacity=\"1\" /><path clip-path=\"url(#clip820)\" d=\"M 0 0 M1266.29 1515.64 Q1262.68 1515.64 1260.85 1519.2 Q1259.04 1522.75 1259.04 1529.87 Q1259.04 1536.98 1260.85 1540.55 Q1262.68 1544.09 1266.29 1544.09 Q1269.92 1544.09 1271.73 1540.55 Q1273.56 1536.98 1273.56 1529.87 Q1273.56 1522.75 1271.73 1519.2 Q1269.92 1515.64 1266.29 1515.64 M1266.29 1511.93 Q1272.1 1511.93 1275.16 1516.54 Q1278.23 1521.12 1278.23 1529.87 Q1278.23 1538.6 1275.16 1543.21 Q1272.1 1547.79 1266.29 1547.79 Q1260.48 1547.79 1257.4 1543.21 Q1254.35 1538.6 1254.35 1529.87 Q1254.35 1521.12 1257.4 1516.54 Q1260.48 1511.93 1266.29 1511.93 Z\" fill=\"#000000\" fill-rule=\"evenodd\" fill-opacity=\"1\" /><path clip-path=\"url(#clip820)\" d=\"M 0 0 M1763.63 1528.49 Q1766.98 1529.2 1768.86 1531.47 Q1770.76 1533.74 1770.76 1537.07 Q1770.76 1542.19 1767.24 1544.99 Q1763.72 1547.79 1757.24 1547.79 Q1755.06 1547.79 1752.75 1547.35 Q1750.46 1546.93 1748 1546.08 L1748 1541.56 Q1749.95 1542.7 1752.26 1543.28 Q1754.58 1543.86 1757.1 1543.86 Q1761.5 1543.86 1763.79 1542.12 Q1766.1 1540.38 1766.1 1537.07 Q1766.1 1534.02 1763.95 1532.31 Q1761.82 1530.57 1758 1530.57 L1753.97 1530.57 L1753.97 1526.73 L1758.19 1526.73 Q1761.64 1526.73 1763.47 1525.36 Q1765.29 1523.97 1765.29 1521.38 Q1765.29 1518.72 1763.4 1517.31 Q1761.52 1515.87 1758 1515.87 Q1756.08 1515.87 1753.88 1516.29 Q1751.68 1516.7 1749.04 1517.58 L1749.04 1513.42 Q1751.71 1512.68 1754.02 1512.31 Q1756.36 1511.93 1758.42 1511.93 Q1763.74 1511.93 1766.84 1514.37 Q1769.95 1516.77 1769.95 1520.89 Q1769.95 1523.76 1768.3 1525.75 Q1766.66 1527.72 1763.63 1528.49 Z\" fill=\"#000000\" fill-rule=\"evenodd\" fill-opacity=\"1\" /><path clip-path=\"url(#clip820)\" d=\"M 0 0 M1785.83 1515.64 Q1782.21 1515.64 1780.39 1519.2 Q1778.58 1522.75 1778.58 1529.87 Q1778.58 1536.98 1780.39 1540.55 Q1782.21 1544.09 1785.83 1544.09 Q1789.46 1544.09 1791.27 1540.55 Q1793.09 1536.98 1793.09 1529.87 Q1793.09 1522.75 1791.27 1519.2 Q1789.46 1515.64 1785.83 1515.64 M1785.83 1511.93 Q1791.64 1511.93 1794.69 1516.54 Q1797.77 1521.12 1797.77 1529.87 Q1797.77 1538.6 1794.69 1543.21 Q1791.64 1547.79 1785.83 1547.79 Q1780.02 1547.79 1776.94 1543.21 Q1773.88 1538.6 1773.88 1529.87 Q1773.88 1521.12 1776.94 1516.54 Q1780.02 1511.93 1785.83 1511.93 Z\" fill=\"#000000\" fill-rule=\"evenodd\" fill-opacity=\"1\" /><path clip-path=\"url(#clip820)\" d=\"M 0 0 M2281.52 1516.63 L2269.71 1535.08 L2281.52 1535.08 L2281.52 1516.63 M2280.29 1512.56 L2286.17 1512.56 L2286.17 1535.08 L2291.1 1535.08 L2291.1 1538.97 L2286.17 1538.97 L2286.17 1547.12 L2281.52 1547.12 L2281.52 1538.97 L2265.92 1538.97 L2265.92 1534.46 L2280.29 1512.56 Z\" fill=\"#000000\" fill-rule=\"evenodd\" fill-opacity=\"1\" /><path clip-path=\"url(#clip820)\" d=\"M 0 0 M2306.17 1515.64 Q2302.56 1515.64 2300.73 1519.2 Q2298.93 1522.75 2298.93 1529.87 Q2298.93 1536.98 2300.73 1540.55 Q2302.56 1544.09 2306.17 1544.09 Q2309.81 1544.09 2311.61 1540.55 Q2313.44 1536.98 2313.44 1529.87 Q2313.44 1522.75 2311.61 1519.2 Q2309.81 1515.64 2306.17 1515.64 M2306.17 1511.93 Q2311.98 1511.93 2315.04 1516.54 Q2318.12 1521.12 2318.12 1529.87 Q2318.12 1538.6 2315.04 1543.21 Q2311.98 1547.79 2306.17 1547.79 Q2300.36 1547.79 2297.28 1543.21 Q2294.23 1538.6 2294.23 1529.87 Q2294.23 1521.12 2297.28 1516.54 Q2300.36 1511.93 2306.17 1511.93 Z\" fill=\"#000000\" fill-rule=\"evenodd\" fill-opacity=\"1\" /><polyline clip-path=\"url(#clip822)\" style=\"stroke:#000000; stroke-width:2; stroke-opacity:0.1; fill:none\" points=\"\n",
       "  206.667,1447.87 2352.76,1447.87 \n",
       "  \"/>\n",
       "<polyline clip-path=\"url(#clip822)\" style=\"stroke:#000000; stroke-width:2; stroke-opacity:0.1; fill:none\" points=\"\n",
       "  206.667,1126.42 2352.76,1126.42 \n",
       "  \"/>\n",
       "<polyline clip-path=\"url(#clip822)\" style=\"stroke:#000000; stroke-width:2; stroke-opacity:0.1; fill:none\" points=\"\n",
       "  206.667,804.96 2352.76,804.96 \n",
       "  \"/>\n",
       "<polyline clip-path=\"url(#clip822)\" style=\"stroke:#000000; stroke-width:2; stroke-opacity:0.1; fill:none\" points=\"\n",
       "  206.667,483.503 2352.76,483.503 \n",
       "  \"/>\n",
       "<polyline clip-path=\"url(#clip822)\" style=\"stroke:#000000; stroke-width:2; stroke-opacity:0.1; fill:none\" points=\"\n",
       "  206.667,162.047 2352.76,162.047 \n",
       "  \"/>\n",
       "<polyline clip-path=\"url(#clip820)\" style=\"stroke:#000000; stroke-width:4; stroke-opacity:1; fill:none\" points=\"\n",
       "  206.667,1486.45 206.667,123.472 \n",
       "  \"/>\n",
       "<polyline clip-path=\"url(#clip820)\" style=\"stroke:#000000; stroke-width:4; stroke-opacity:1; fill:none\" points=\"\n",
       "  206.667,1447.87 232.42,1447.87 \n",
       "  \"/>\n",
       "<polyline clip-path=\"url(#clip820)\" style=\"stroke:#000000; stroke-width:4; stroke-opacity:1; fill:none\" points=\"\n",
       "  206.667,1126.42 232.42,1126.42 \n",
       "  \"/>\n",
       "<polyline clip-path=\"url(#clip820)\" style=\"stroke:#000000; stroke-width:4; stroke-opacity:1; fill:none\" points=\"\n",
       "  206.667,804.96 232.42,804.96 \n",
       "  \"/>\n",
       "<polyline clip-path=\"url(#clip820)\" style=\"stroke:#000000; stroke-width:4; stroke-opacity:1; fill:none\" points=\"\n",
       "  206.667,483.503 232.42,483.503 \n",
       "  \"/>\n",
       "<polyline clip-path=\"url(#clip820)\" style=\"stroke:#000000; stroke-width:4; stroke-opacity:1; fill:none\" points=\"\n",
       "  206.667,162.047 232.42,162.047 \n",
       "  \"/>\n",
       "<path clip-path=\"url(#clip820)\" d=\"M 0 0 M51.2236 1448.32 L80.8994 1448.32 L80.8994 1452.26 L51.2236 1452.26 L51.2236 1448.32 Z\" fill=\"#000000\" fill-rule=\"evenodd\" fill-opacity=\"1\" /><path clip-path=\"url(#clip820)\" d=\"M 0 0 M86.779 1461.22 L94.4178 1461.22 L94.4178 1434.85 L86.1077 1436.52 L86.1077 1432.26 L94.3715 1430.59 L99.0474 1430.59 L99.0474 1461.22 L106.686 1461.22 L106.686 1465.15 L86.779 1465.15 L86.779 1461.22 Z\" fill=\"#000000\" fill-rule=\"evenodd\" fill-opacity=\"1\" /><path clip-path=\"url(#clip820)\" d=\"M 0 0 M111.756 1459.27 L116.64 1459.27 L116.64 1465.15 L111.756 1465.15 L111.756 1459.27 Z\" fill=\"#000000\" fill-rule=\"evenodd\" fill-opacity=\"1\" /><path clip-path=\"url(#clip820)\" d=\"M 0 0 M131.709 1433.67 Q128.098 1433.67 126.27 1437.24 Q124.464 1440.78 124.464 1447.91 Q124.464 1455.01 126.27 1458.58 Q128.098 1462.12 131.709 1462.12 Q135.344 1462.12 137.149 1458.58 Q138.978 1455.01 138.978 1447.91 Q138.978 1440.78 137.149 1437.24 Q135.344 1433.67 131.709 1433.67 M131.709 1429.97 Q137.519 1429.97 140.575 1434.57 Q143.654 1439.16 143.654 1447.91 Q143.654 1456.63 140.575 1461.24 Q137.519 1465.82 131.709 1465.82 Q125.899 1465.82 122.82 1461.24 Q119.765 1456.63 119.765 1447.91 Q119.765 1439.16 122.82 1434.57 Q125.899 1429.97 131.709 1429.97 Z\" fill=\"#000000\" fill-rule=\"evenodd\" fill-opacity=\"1\" /><path clip-path=\"url(#clip820)\" d=\"M 0 0 M158.723 1433.67 Q155.112 1433.67 153.283 1437.24 Q151.478 1440.78 151.478 1447.91 Q151.478 1455.01 153.283 1458.58 Q155.112 1462.12 158.723 1462.12 Q162.357 1462.12 164.163 1458.58 Q165.992 1455.01 165.992 1447.91 Q165.992 1440.78 164.163 1437.24 Q162.357 1433.67 158.723 1433.67 M158.723 1429.97 Q164.533 1429.97 167.589 1434.57 Q170.667 1439.16 170.667 1447.91 Q170.667 1456.63 167.589 1461.24 Q164.533 1465.82 158.723 1465.82 Q152.913 1465.82 149.834 1461.24 Q146.779 1456.63 146.779 1447.91 Q146.779 1439.16 149.834 1434.57 Q152.913 1429.97 158.723 1429.97 Z\" fill=\"#000000\" fill-rule=\"evenodd\" fill-opacity=\"1\" /><path clip-path=\"url(#clip820)\" d=\"M 0 0 M51.8949 1126.87 L81.5707 1126.87 L81.5707 1130.8 L51.8949 1130.8 L51.8949 1126.87 Z\" fill=\"#000000\" fill-rule=\"evenodd\" fill-opacity=\"1\" /><path clip-path=\"url(#clip820)\" d=\"M 0 0 M96.64 1112.22 Q93.0289 1112.22 91.2002 1115.78 Q89.3947 1119.32 89.3947 1126.45 Q89.3947 1133.56 91.2002 1137.12 Q93.0289 1140.66 96.64 1140.66 Q100.274 1140.66 102.08 1137.12 Q103.909 1133.56 103.909 1126.45 Q103.909 1119.32 102.08 1115.78 Q100.274 1112.22 96.64 1112.22 M96.64 1108.51 Q102.45 1108.51 105.506 1113.12 Q108.584 1117.7 108.584 1126.45 Q108.584 1135.18 105.506 1139.78 Q102.45 1144.37 96.64 1144.37 Q90.8299 1144.37 87.7512 1139.78 Q84.6956 1135.18 84.6956 1126.45 Q84.6956 1117.7 87.7512 1113.12 Q90.8299 1108.51 96.64 1108.51 Z\" fill=\"#000000\" fill-rule=\"evenodd\" fill-opacity=\"1\" /><path clip-path=\"url(#clip820)\" d=\"M 0 0 M113.654 1137.82 L118.538 1137.82 L118.538 1143.7 L113.654 1143.7 L113.654 1137.82 Z\" fill=\"#000000\" fill-rule=\"evenodd\" fill-opacity=\"1\" /><path clip-path=\"url(#clip820)\" d=\"M 0 0 M122.427 1109.14 L144.649 1109.14 L144.649 1111.13 L132.103 1143.7 L127.219 1143.7 L139.024 1113.07 L122.427 1113.07 L122.427 1109.14 Z\" fill=\"#000000\" fill-rule=\"evenodd\" fill-opacity=\"1\" /><path clip-path=\"url(#clip820)\" d=\"M 0 0 M149.765 1109.14 L168.121 1109.14 L168.121 1113.07 L154.047 1113.07 L154.047 1121.54 Q155.066 1121.2 156.084 1121.03 Q157.103 1120.85 158.121 1120.85 Q163.908 1120.85 167.288 1124.02 Q170.667 1127.19 170.667 1132.61 Q170.667 1138.19 167.195 1141.29 Q163.723 1144.37 157.404 1144.37 Q155.228 1144.37 152.959 1144 Q150.714 1143.63 148.306 1142.89 L148.306 1138.19 Q150.39 1139.32 152.612 1139.88 Q154.834 1140.43 157.311 1140.43 Q161.316 1140.43 163.654 1138.33 Q165.992 1136.22 165.992 1132.61 Q165.992 1129 163.654 1126.89 Q161.316 1124.78 157.311 1124.78 Q155.436 1124.78 153.561 1125.2 Q151.709 1125.62 149.765 1126.5 L149.765 1109.14 Z\" fill=\"#000000\" fill-rule=\"evenodd\" fill-opacity=\"1\" /><path clip-path=\"url(#clip820)\" d=\"M 0 0 M50.9921 805.411 L80.6679 805.411 L80.6679 809.347 L50.9921 809.347 L50.9921 805.411 Z\" fill=\"#000000\" fill-rule=\"evenodd\" fill-opacity=\"1\" /><path clip-path=\"url(#clip820)\" d=\"M 0 0 M95.7373 790.759 Q92.1262 790.759 90.2975 794.323 Q88.4919 797.865 88.4919 804.995 Q88.4919 812.101 90.2975 815.666 Q92.1262 819.208 95.7373 819.208 Q99.3715 819.208 101.177 815.666 Q103.006 812.101 103.006 804.995 Q103.006 797.865 101.177 794.323 Q99.3715 790.759 95.7373 790.759 M95.7373 787.055 Q101.547 787.055 104.603 791.661 Q107.682 796.245 107.682 804.995 Q107.682 813.722 104.603 818.328 Q101.547 822.911 95.7373 822.911 Q89.9271 822.911 86.8484 818.328 Q83.7929 813.722 83.7929 804.995 Q83.7929 796.245 86.8484 791.661 Q89.9271 787.055 95.7373 787.055 Z\" fill=\"#000000\" fill-rule=\"evenodd\" fill-opacity=\"1\" /><path clip-path=\"url(#clip820)\" d=\"M 0 0 M112.751 816.36 L117.635 816.36 L117.635 822.24 L112.751 822.24 L112.751 816.36 Z\" fill=\"#000000\" fill-rule=\"evenodd\" fill-opacity=\"1\" /><path clip-path=\"url(#clip820)\" d=\"M 0 0 M122.751 787.68 L141.107 787.68 L141.107 791.615 L127.033 791.615 L127.033 800.087 Q128.052 799.74 129.07 799.578 Q130.089 799.393 131.107 799.393 Q136.894 799.393 140.274 802.564 Q143.654 805.735 143.654 811.152 Q143.654 816.731 140.181 819.833 Q136.709 822.911 130.39 822.911 Q128.214 822.911 125.945 822.541 Q123.7 822.171 121.293 821.43 L121.293 816.731 Q123.376 817.865 125.598 818.421 Q127.82 818.976 130.297 818.976 Q134.302 818.976 136.64 816.87 Q138.978 814.763 138.978 811.152 Q138.978 807.541 136.64 805.435 Q134.302 803.328 130.297 803.328 Q128.422 803.328 126.547 803.745 Q124.695 804.161 122.751 805.041 L122.751 787.68 Z\" fill=\"#000000\" fill-rule=\"evenodd\" fill-opacity=\"1\" /><path clip-path=\"url(#clip820)\" d=\"M 0 0 M158.723 790.759 Q155.112 790.759 153.283 794.323 Q151.478 797.865 151.478 804.995 Q151.478 812.101 153.283 815.666 Q155.112 819.208 158.723 819.208 Q162.357 819.208 164.163 815.666 Q165.992 812.101 165.992 804.995 Q165.992 797.865 164.163 794.323 Q162.357 790.759 158.723 790.759 M158.723 787.055 Q164.533 787.055 167.589 791.661 Q170.667 796.245 170.667 804.995 Q170.667 813.722 167.589 818.328 Q164.533 822.911 158.723 822.911 Q152.913 822.911 149.834 818.328 Q146.779 813.722 146.779 804.995 Q146.779 796.245 149.834 791.661 Q152.913 787.055 158.723 787.055 Z\" fill=\"#000000\" fill-rule=\"evenodd\" fill-opacity=\"1\" /><path clip-path=\"url(#clip820)\" d=\"M 0 0 M52.5893 483.955 L82.2651 483.955 L82.2651 487.89 L52.5893 487.89 L52.5893 483.955 Z\" fill=\"#000000\" fill-rule=\"evenodd\" fill-opacity=\"1\" /><path clip-path=\"url(#clip820)\" d=\"M 0 0 M97.3345 469.302 Q93.7234 469.302 91.8947 472.867 Q90.0891 476.409 90.0891 483.538 Q90.0891 490.645 91.8947 494.209 Q93.7234 497.751 97.3345 497.751 Q100.969 497.751 102.774 494.209 Q104.603 490.645 104.603 483.538 Q104.603 476.409 102.774 472.867 Q100.969 469.302 97.3345 469.302 M97.3345 465.598 Q103.145 465.598 106.2 470.205 Q109.279 474.788 109.279 483.538 Q109.279 492.265 106.2 496.871 Q103.145 501.455 97.3345 501.455 Q91.5243 501.455 88.4456 496.871 Q85.3901 492.265 85.3901 483.538 Q85.3901 474.788 88.4456 470.205 Q91.5243 465.598 97.3345 465.598 Z\" fill=\"#000000\" fill-rule=\"evenodd\" fill-opacity=\"1\" /><path clip-path=\"url(#clip820)\" d=\"M 0 0 M114.348 494.904 L119.233 494.904 L119.233 500.783 L114.348 500.783 L114.348 494.904 Z\" fill=\"#000000\" fill-rule=\"evenodd\" fill-opacity=\"1\" /><path clip-path=\"url(#clip820)\" d=\"M 0 0 M128.33 496.848 L144.649 496.848 L144.649 500.783 L122.705 500.783 L122.705 496.848 Q125.367 494.094 129.95 489.464 Q134.556 484.811 135.737 483.469 Q137.982 480.946 138.862 479.209 Q139.765 477.45 139.765 475.76 Q139.765 473.006 137.82 471.27 Q135.899 469.534 132.797 469.534 Q130.598 469.534 128.144 470.298 Q125.714 471.061 122.936 472.612 L122.936 467.89 Q125.76 466.756 128.214 466.177 Q130.668 465.598 132.705 465.598 Q138.075 465.598 141.269 468.284 Q144.464 470.969 144.464 475.46 Q144.464 477.589 143.654 479.51 Q142.867 481.409 140.76 484.001 Q140.181 484.672 137.08 487.89 Q133.978 491.084 128.33 496.848 Z\" fill=\"#000000\" fill-rule=\"evenodd\" fill-opacity=\"1\" /><path clip-path=\"url(#clip820)\" d=\"M 0 0 M149.765 466.223 L168.121 466.223 L168.121 470.159 L154.047 470.159 L154.047 478.631 Q155.066 478.284 156.084 478.122 Q157.103 477.936 158.121 477.936 Q163.908 477.936 167.288 481.108 Q170.667 484.279 170.667 489.696 Q170.667 495.274 167.195 498.376 Q163.723 501.455 157.404 501.455 Q155.228 501.455 152.959 501.084 Q150.714 500.714 148.306 499.973 L148.306 495.274 Q150.39 496.408 152.612 496.964 Q154.834 497.52 157.311 497.52 Q161.316 497.52 163.654 495.413 Q165.992 493.307 165.992 489.696 Q165.992 486.084 163.654 483.978 Q161.316 481.872 157.311 481.872 Q155.436 481.872 153.561 482.288 Q151.709 482.705 149.765 483.584 L149.765 466.223 Z\" fill=\"#000000\" fill-rule=\"evenodd\" fill-opacity=\"1\" /><path clip-path=\"url(#clip820)\" d=\"M 0 0 M94.7419 147.846 Q91.1308 147.846 89.3021 151.41 Q87.4966 154.952 87.4966 162.082 Q87.4966 169.188 89.3021 172.753 Q91.1308 176.295 94.7419 176.295 Q98.3761 176.295 100.182 172.753 Q102.01 169.188 102.01 162.082 Q102.01 154.952 100.182 151.41 Q98.3761 147.846 94.7419 147.846 M94.7419 144.142 Q100.552 144.142 103.608 148.748 Q106.686 153.332 106.686 162.082 Q106.686 170.808 103.608 175.415 Q100.552 179.998 94.7419 179.998 Q88.9317 179.998 85.8531 175.415 Q82.7975 170.808 82.7975 162.082 Q82.7975 153.332 85.8531 148.748 Q88.9317 144.142 94.7419 144.142 Z\" fill=\"#000000\" fill-rule=\"evenodd\" fill-opacity=\"1\" /><path clip-path=\"url(#clip820)\" d=\"M 0 0 M111.756 173.447 L116.64 173.447 L116.64 179.327 L111.756 179.327 L111.756 173.447 Z\" fill=\"#000000\" fill-rule=\"evenodd\" fill-opacity=\"1\" /><path clip-path=\"url(#clip820)\" d=\"M 0 0 M131.709 147.846 Q128.098 147.846 126.27 151.41 Q124.464 154.952 124.464 162.082 Q124.464 169.188 126.27 172.753 Q128.098 176.295 131.709 176.295 Q135.344 176.295 137.149 172.753 Q138.978 169.188 138.978 162.082 Q138.978 154.952 137.149 151.41 Q135.344 147.846 131.709 147.846 M131.709 144.142 Q137.519 144.142 140.575 148.748 Q143.654 153.332 143.654 162.082 Q143.654 170.808 140.575 175.415 Q137.519 179.998 131.709 179.998 Q125.899 179.998 122.82 175.415 Q119.765 170.808 119.765 162.082 Q119.765 153.332 122.82 148.748 Q125.899 144.142 131.709 144.142 Z\" fill=\"#000000\" fill-rule=\"evenodd\" fill-opacity=\"1\" /><path clip-path=\"url(#clip820)\" d=\"M 0 0 M158.723 147.846 Q155.112 147.846 153.283 151.41 Q151.478 154.952 151.478 162.082 Q151.478 169.188 153.283 172.753 Q155.112 176.295 158.723 176.295 Q162.357 176.295 164.163 172.753 Q165.992 169.188 165.992 162.082 Q165.992 154.952 164.163 151.41 Q162.357 147.846 158.723 147.846 M158.723 144.142 Q164.533 144.142 167.589 148.748 Q170.667 153.332 170.667 162.082 Q170.667 170.808 167.589 175.415 Q164.533 179.998 158.723 179.998 Q152.913 179.998 149.834 175.415 Q146.779 170.808 146.779 162.082 Q146.779 153.332 149.834 148.748 Q152.913 144.142 158.723 144.142 Z\" fill=\"#000000\" fill-rule=\"evenodd\" fill-opacity=\"1\" /><path clip-path=\"url(#clip820)\" d=\"M 0 0 M1026.79 28.9478 L1026.79 35.9153 Q1023.63 34.1734 1020.43 33.3227 Q1017.27 32.4315 1014.03 32.4315 Q1006.78 32.4315 1002.77 37.0496 Q998.761 41.6271 998.761 49.9314 Q998.761 58.2358 1002.77 62.8538 Q1006.78 67.4314 1014.03 67.4314 Q1017.27 67.4314 1020.43 66.5807 Q1023.63 65.6895 1026.79 63.9476 L1026.79 70.8341 Q1023.67 72.2924 1020.31 73.0216 Q1016.99 73.7508 1013.22 73.7508 Q1002.97 73.7508 996.938 67.3098 Q990.902 60.8689 990.902 49.9314 Q990.902 38.832 996.979 32.472 Q1003.1 26.1121 1013.71 26.1121 Q1017.15 26.1121 1020.43 26.8413 Q1023.71 27.5299 1026.79 28.9478 Z\" fill=\"#000000\" fill-rule=\"evenodd\" fill-opacity=\"1\" /><path clip-path=\"url(#clip820)\" d=\"M 0 0 M1061.96 34.9026 L1113.89 34.9026 L1113.89 41.7081 L1061.96 41.7081 L1061.96 34.9026 M1061.96 51.4303 L1113.89 51.4303 L1113.89 58.3168 L1061.96 58.3168 L1061.96 51.4303 Z\" fill=\"#000000\" fill-rule=\"evenodd\" fill-opacity=\"1\" /><path clip-path=\"url(#clip820)\" d=\"M 0 0 M1144.31 46.5287 L1166.14 46.5287 L1166.14 53.1722 L1144.31 53.1722 L1144.31 46.5287 Z\" fill=\"#000000\" fill-rule=\"evenodd\" fill-opacity=\"1\" /><path clip-path=\"url(#clip820)\" d=\"M 0 0 M1176.43 65.6895 L1189.8 65.6895 L1189.8 19.5497 L1175.26 22.4663 L1175.26 15.0127 L1189.72 12.096 L1197.9 12.096 L1197.9 65.6895 L1211.27 65.6895 L1211.27 72.576 L1176.43 72.576 L1176.43 65.6895 Z\" fill=\"#000000\" fill-rule=\"evenodd\" fill-opacity=\"1\" /><path clip-path=\"url(#clip820)\" d=\"M 0 0 M1335.92 27.2059 L1319.51 49.2833 L1336.77 72.576 L1327.98 72.576 L1314.77 54.752 L1301.57 72.576 L1292.78 72.576 L1310.4 48.8377 L1294.27 27.2059 L1303.07 27.2059 L1315.1 43.369 L1327.13 27.2059 L1335.92 27.2059 Z\" fill=\"#000000\" fill-rule=\"evenodd\" fill-opacity=\"1\" /><path clip-path=\"url(#clip820)\" d=\"M 0 0 M1363.14 17.4837 Q1356.82 17.4837 1353.62 23.7221 Q1350.46 29.92 1350.46 42.3968 Q1350.46 54.833 1353.62 61.0714 Q1356.82 67.2693 1363.14 67.2693 Q1369.5 67.2693 1372.66 61.0714 Q1375.86 54.833 1375.86 42.3968 Q1375.86 29.92 1372.66 23.7221 Q1369.5 17.4837 1363.14 17.4837 M1363.14 11.0023 Q1373.31 11.0023 1378.65 19.0636 Q1384.04 27.0843 1384.04 42.3968 Q1384.04 57.6687 1378.65 65.73 Q1373.31 73.7508 1363.14 73.7508 Q1352.97 73.7508 1347.58 65.73 Q1342.24 57.6687 1342.24 42.3968 Q1342.24 27.0843 1347.58 19.0636 Q1352.97 11.0023 1363.14 11.0023 Z\" fill=\"#000000\" fill-rule=\"evenodd\" fill-opacity=\"1\" /><path clip-path=\"url(#clip820)\" d=\"M 0 0 M1419.2 34.9026 L1471.14 34.9026 L1471.14 41.7081 L1419.2 41.7081 L1419.2 34.9026 M1419.2 51.4303 L1471.14 51.4303 L1471.14 58.3168 L1419.2 58.3168 L1419.2 51.4303 Z\" fill=\"#000000\" fill-rule=\"evenodd\" fill-opacity=\"1\" /><path clip-path=\"url(#clip820)\" d=\"M 0 0 M1501.56 46.5287 L1523.39 46.5287 L1523.39 53.1722 L1501.56 53.1722 L1501.56 46.5287 Z\" fill=\"#000000\" fill-rule=\"evenodd\" fill-opacity=\"1\" /><path clip-path=\"url(#clip820)\" d=\"M 0 0 M1533.68 65.6895 L1547.05 65.6895 L1547.05 19.5497 L1532.51 22.4663 L1532.51 15.0127 L1546.97 12.096 L1555.15 12.096 L1555.15 65.6895 L1568.52 65.6895 L1568.52 72.576 L1533.68 72.576 L1533.68 65.6895 Z\" fill=\"#000000\" fill-rule=\"evenodd\" fill-opacity=\"1\" /><circle clip-path=\"url(#clip822)\" cx=\"267.406\" cy=\"162.047\" r=\"14\" fill=\"#009af9\" fill-rule=\"evenodd\" fill-opacity=\"1\" stroke=\"#000000\" stroke-opacity=\"1\" stroke-width=\"3.2\"/>\n",
       "<circle clip-path=\"url(#clip822)\" cx=\"319.319\" cy=\"1447.87\" r=\"14\" fill=\"#009af9\" fill-rule=\"evenodd\" fill-opacity=\"1\" stroke=\"#000000\" stroke-opacity=\"1\" stroke-width=\"3.2\"/>\n",
       "<circle clip-path=\"url(#clip822)\" cx=\"371.232\" cy=\"162.047\" r=\"14\" fill=\"#009af9\" fill-rule=\"evenodd\" fill-opacity=\"1\" stroke=\"#000000\" stroke-opacity=\"1\" stroke-width=\"3.2\"/>\n",
       "<circle clip-path=\"url(#clip822)\" cx=\"423.145\" cy=\"1447.87\" r=\"14\" fill=\"#009af9\" fill-rule=\"evenodd\" fill-opacity=\"1\" stroke=\"#000000\" stroke-opacity=\"1\" stroke-width=\"3.2\"/>\n",
       "<circle clip-path=\"url(#clip822)\" cx=\"475.058\" cy=\"162.047\" r=\"14\" fill=\"#009af9\" fill-rule=\"evenodd\" fill-opacity=\"1\" stroke=\"#000000\" stroke-opacity=\"1\" stroke-width=\"3.2\"/>\n",
       "<circle clip-path=\"url(#clip822)\" cx=\"526.971\" cy=\"1447.87\" r=\"14\" fill=\"#009af9\" fill-rule=\"evenodd\" fill-opacity=\"1\" stroke=\"#000000\" stroke-opacity=\"1\" stroke-width=\"3.2\"/>\n",
       "<circle clip-path=\"url(#clip822)\" cx=\"578.885\" cy=\"162.047\" r=\"14\" fill=\"#009af9\" fill-rule=\"evenodd\" fill-opacity=\"1\" stroke=\"#000000\" stroke-opacity=\"1\" stroke-width=\"3.2\"/>\n",
       "<circle clip-path=\"url(#clip822)\" cx=\"630.798\" cy=\"1447.87\" r=\"14\" fill=\"#009af9\" fill-rule=\"evenodd\" fill-opacity=\"1\" stroke=\"#000000\" stroke-opacity=\"1\" stroke-width=\"3.2\"/>\n",
       "<circle clip-path=\"url(#clip822)\" cx=\"682.711\" cy=\"162.047\" r=\"14\" fill=\"#009af9\" fill-rule=\"evenodd\" fill-opacity=\"1\" stroke=\"#000000\" stroke-opacity=\"1\" stroke-width=\"3.2\"/>\n",
       "<circle clip-path=\"url(#clip822)\" cx=\"734.624\" cy=\"1447.87\" r=\"14\" fill=\"#009af9\" fill-rule=\"evenodd\" fill-opacity=\"1\" stroke=\"#000000\" stroke-opacity=\"1\" stroke-width=\"3.2\"/>\n",
       "<circle clip-path=\"url(#clip822)\" cx=\"786.537\" cy=\"162.047\" r=\"14\" fill=\"#009af9\" fill-rule=\"evenodd\" fill-opacity=\"1\" stroke=\"#000000\" stroke-opacity=\"1\" stroke-width=\"3.2\"/>\n",
       "<circle clip-path=\"url(#clip822)\" cx=\"838.45\" cy=\"1447.87\" r=\"14\" fill=\"#009af9\" fill-rule=\"evenodd\" fill-opacity=\"1\" stroke=\"#000000\" stroke-opacity=\"1\" stroke-width=\"3.2\"/>\n",
       "<circle clip-path=\"url(#clip822)\" cx=\"890.363\" cy=\"162.047\" r=\"14\" fill=\"#009af9\" fill-rule=\"evenodd\" fill-opacity=\"1\" stroke=\"#000000\" stroke-opacity=\"1\" stroke-width=\"3.2\"/>\n",
       "<circle clip-path=\"url(#clip822)\" cx=\"942.276\" cy=\"1447.87\" r=\"14\" fill=\"#009af9\" fill-rule=\"evenodd\" fill-opacity=\"1\" stroke=\"#000000\" stroke-opacity=\"1\" stroke-width=\"3.2\"/>\n",
       "<circle clip-path=\"url(#clip822)\" cx=\"994.189\" cy=\"162.047\" r=\"14\" fill=\"#009af9\" fill-rule=\"evenodd\" fill-opacity=\"1\" stroke=\"#000000\" stroke-opacity=\"1\" stroke-width=\"3.2\"/>\n",
       "<circle clip-path=\"url(#clip822)\" cx=\"1046.1\" cy=\"1447.87\" r=\"14\" fill=\"#009af9\" fill-rule=\"evenodd\" fill-opacity=\"1\" stroke=\"#000000\" stroke-opacity=\"1\" stroke-width=\"3.2\"/>\n",
       "<circle clip-path=\"url(#clip822)\" cx=\"1098.02\" cy=\"162.047\" r=\"14\" fill=\"#009af9\" fill-rule=\"evenodd\" fill-opacity=\"1\" stroke=\"#000000\" stroke-opacity=\"1\" stroke-width=\"3.2\"/>\n",
       "<circle clip-path=\"url(#clip822)\" cx=\"1149.93\" cy=\"1447.87\" r=\"14\" fill=\"#009af9\" fill-rule=\"evenodd\" fill-opacity=\"1\" stroke=\"#000000\" stroke-opacity=\"1\" stroke-width=\"3.2\"/>\n",
       "<circle clip-path=\"url(#clip822)\" cx=\"1201.84\" cy=\"162.047\" r=\"14\" fill=\"#009af9\" fill-rule=\"evenodd\" fill-opacity=\"1\" stroke=\"#000000\" stroke-opacity=\"1\" stroke-width=\"3.2\"/>\n",
       "<circle clip-path=\"url(#clip822)\" cx=\"1253.76\" cy=\"1447.87\" r=\"14\" fill=\"#009af9\" fill-rule=\"evenodd\" fill-opacity=\"1\" stroke=\"#000000\" stroke-opacity=\"1\" stroke-width=\"3.2\"/>\n",
       "<circle clip-path=\"url(#clip822)\" cx=\"1305.67\" cy=\"162.047\" r=\"14\" fill=\"#009af9\" fill-rule=\"evenodd\" fill-opacity=\"1\" stroke=\"#000000\" stroke-opacity=\"1\" stroke-width=\"3.2\"/>\n",
       "<circle clip-path=\"url(#clip822)\" cx=\"1357.58\" cy=\"1447.87\" r=\"14\" fill=\"#009af9\" fill-rule=\"evenodd\" fill-opacity=\"1\" stroke=\"#000000\" stroke-opacity=\"1\" stroke-width=\"3.2\"/>\n",
       "<circle clip-path=\"url(#clip822)\" cx=\"1409.49\" cy=\"162.047\" r=\"14\" fill=\"#009af9\" fill-rule=\"evenodd\" fill-opacity=\"1\" stroke=\"#000000\" stroke-opacity=\"1\" stroke-width=\"3.2\"/>\n",
       "<circle clip-path=\"url(#clip822)\" cx=\"1461.41\" cy=\"1447.87\" r=\"14\" fill=\"#009af9\" fill-rule=\"evenodd\" fill-opacity=\"1\" stroke=\"#000000\" stroke-opacity=\"1\" stroke-width=\"3.2\"/>\n",
       "<circle clip-path=\"url(#clip822)\" cx=\"1513.32\" cy=\"162.047\" r=\"14\" fill=\"#009af9\" fill-rule=\"evenodd\" fill-opacity=\"1\" stroke=\"#000000\" stroke-opacity=\"1\" stroke-width=\"3.2\"/>\n",
       "<circle clip-path=\"url(#clip822)\" cx=\"1565.23\" cy=\"1447.87\" r=\"14\" fill=\"#009af9\" fill-rule=\"evenodd\" fill-opacity=\"1\" stroke=\"#000000\" stroke-opacity=\"1\" stroke-width=\"3.2\"/>\n",
       "<circle clip-path=\"url(#clip822)\" cx=\"1617.15\" cy=\"162.047\" r=\"14\" fill=\"#009af9\" fill-rule=\"evenodd\" fill-opacity=\"1\" stroke=\"#000000\" stroke-opacity=\"1\" stroke-width=\"3.2\"/>\n",
       "<circle clip-path=\"url(#clip822)\" cx=\"1669.06\" cy=\"1447.87\" r=\"14\" fill=\"#009af9\" fill-rule=\"evenodd\" fill-opacity=\"1\" stroke=\"#000000\" stroke-opacity=\"1\" stroke-width=\"3.2\"/>\n",
       "<circle clip-path=\"url(#clip822)\" cx=\"1720.97\" cy=\"162.047\" r=\"14\" fill=\"#009af9\" fill-rule=\"evenodd\" fill-opacity=\"1\" stroke=\"#000000\" stroke-opacity=\"1\" stroke-width=\"3.2\"/>\n",
       "<circle clip-path=\"url(#clip822)\" cx=\"1772.89\" cy=\"1447.87\" r=\"14\" fill=\"#009af9\" fill-rule=\"evenodd\" fill-opacity=\"1\" stroke=\"#000000\" stroke-opacity=\"1\" stroke-width=\"3.2\"/>\n",
       "<circle clip-path=\"url(#clip822)\" cx=\"1824.8\" cy=\"162.047\" r=\"14\" fill=\"#009af9\" fill-rule=\"evenodd\" fill-opacity=\"1\" stroke=\"#000000\" stroke-opacity=\"1\" stroke-width=\"3.2\"/>\n",
       "<circle clip-path=\"url(#clip822)\" cx=\"1876.71\" cy=\"1447.87\" r=\"14\" fill=\"#009af9\" fill-rule=\"evenodd\" fill-opacity=\"1\" stroke=\"#000000\" stroke-opacity=\"1\" stroke-width=\"3.2\"/>\n",
       "<circle clip-path=\"url(#clip822)\" cx=\"1928.63\" cy=\"162.047\" r=\"14\" fill=\"#009af9\" fill-rule=\"evenodd\" fill-opacity=\"1\" stroke=\"#000000\" stroke-opacity=\"1\" stroke-width=\"3.2\"/>\n",
       "<circle clip-path=\"url(#clip822)\" cx=\"1980.54\" cy=\"1447.87\" r=\"14\" fill=\"#009af9\" fill-rule=\"evenodd\" fill-opacity=\"1\" stroke=\"#000000\" stroke-opacity=\"1\" stroke-width=\"3.2\"/>\n",
       "<circle clip-path=\"url(#clip822)\" cx=\"2032.45\" cy=\"162.047\" r=\"14\" fill=\"#009af9\" fill-rule=\"evenodd\" fill-opacity=\"1\" stroke=\"#000000\" stroke-opacity=\"1\" stroke-width=\"3.2\"/>\n",
       "<circle clip-path=\"url(#clip822)\" cx=\"2084.37\" cy=\"1447.87\" r=\"14\" fill=\"#009af9\" fill-rule=\"evenodd\" fill-opacity=\"1\" stroke=\"#000000\" stroke-opacity=\"1\" stroke-width=\"3.2\"/>\n",
       "<circle clip-path=\"url(#clip822)\" cx=\"2136.28\" cy=\"162.047\" r=\"14\" fill=\"#009af9\" fill-rule=\"evenodd\" fill-opacity=\"1\" stroke=\"#000000\" stroke-opacity=\"1\" stroke-width=\"3.2\"/>\n",
       "<circle clip-path=\"url(#clip822)\" cx=\"2188.19\" cy=\"1447.87\" r=\"14\" fill=\"#009af9\" fill-rule=\"evenodd\" fill-opacity=\"1\" stroke=\"#000000\" stroke-opacity=\"1\" stroke-width=\"3.2\"/>\n",
       "<circle clip-path=\"url(#clip822)\" cx=\"2240.1\" cy=\"162.047\" r=\"14\" fill=\"#009af9\" fill-rule=\"evenodd\" fill-opacity=\"1\" stroke=\"#000000\" stroke-opacity=\"1\" stroke-width=\"3.2\"/>\n",
       "<circle clip-path=\"url(#clip822)\" cx=\"2292.02\" cy=\"1447.87\" r=\"14\" fill=\"#009af9\" fill-rule=\"evenodd\" fill-opacity=\"1\" stroke=\"#000000\" stroke-opacity=\"1\" stroke-width=\"3.2\"/>\n",
       "<path clip-path=\"url(#clip820)\" d=\"\n",
       "M1991.75 289.865 L2281.22 289.865 L2281.22 168.905 L1991.75 168.905  Z\n",
       "  \" fill=\"#ffffff\" fill-rule=\"evenodd\" fill-opacity=\"1\"/>\n",
       "<polyline clip-path=\"url(#clip820)\" style=\"stroke:#000000; stroke-width:4; stroke-opacity:1; fill:none\" points=\"\n",
       "  1991.75,289.865 2281.22,289.865 2281.22,168.905 1991.75,168.905 1991.75,289.865 \n",
       "  \"/>\n",
       "<circle clip-path=\"url(#clip820)\" cx=\"2087.13\" cy=\"229.385\" r=\"23\" fill=\"#009af9\" fill-rule=\"evenodd\" fill-opacity=\"1\" stroke=\"#000000\" stroke-opacity=\"1\" stroke-width=\"5.12\"/>\n",
       "<path clip-path=\"url(#clip820)\" d=\"M 0 0 M2196.35 249.072 Q2194.55 253.702 2192.83 255.114 Q2191.12 256.526 2188.25 256.526 L2184.85 256.526 L2184.85 252.961 L2187.35 252.961 Q2189.11 252.961 2190.08 252.128 Q2191.05 251.294 2192.23 248.192 L2193 246.248 L2182.51 220.739 L2187.02 220.739 L2195.13 241.017 L2203.23 220.739 L2207.74 220.739 L2196.35 249.072 Z\" fill=\"#000000\" fill-rule=\"evenodd\" fill-opacity=\"1\" /><path clip-path=\"url(#clip820)\" d=\"M 0 0 M2213.62 242.729 L2221.26 242.729 L2221.26 216.364 L2212.95 218.031 L2212.95 213.771 L2221.21 212.105 L2225.89 212.105 L2225.89 242.729 L2233.53 242.729 L2233.53 246.665 L2213.62 246.665 L2213.62 242.729 Z\" fill=\"#000000\" fill-rule=\"evenodd\" fill-opacity=\"1\" /></svg>\n"
      ]
     },
     "execution_count": 30,
     "metadata": {},
     "output_type": "execute_result"
    }
   ],
   "source": [
    "plot(arg_x, recursion([-1, -1]), seriestype = :scatter, title = \"c = -1   x0 = -1\")"
   ]
  },
  {
   "cell_type": "code",
   "execution_count": 31,
   "metadata": {},
   "outputs": [
    {
     "data": {
      "image/svg+xml": [
       "<?xml version=\"1.0\" encoding=\"utf-8\"?>\n",
       "<svg xmlns=\"http://www.w3.org/2000/svg\" xmlns:xlink=\"http://www.w3.org/1999/xlink\" width=\"600\" height=\"400\" viewBox=\"0 0 2400 1600\">\n",
       "<defs>\n",
       "  <clipPath id=\"clip860\">\n",
       "    <rect x=\"0\" y=\"0\" width=\"2400\" height=\"1600\"/>\n",
       "  </clipPath>\n",
       "</defs>\n",
       "<path clip-path=\"url(#clip860)\" d=\"\n",
       "M0 1600 L2400 1600 L2400 0 L0 0  Z\n",
       "  \" fill=\"#ffffff\" fill-rule=\"evenodd\" fill-opacity=\"1\"/>\n",
       "<defs>\n",
       "  <clipPath id=\"clip861\">\n",
       "    <rect x=\"480\" y=\"0\" width=\"1681\" height=\"1600\"/>\n",
       "  </clipPath>\n",
       "</defs>\n",
       "<path clip-path=\"url(#clip860)\" d=\"\n",
       "M206.667 1486.45 L2352.76 1486.45 L2352.76 123.472 L206.667 123.472  Z\n",
       "  \" fill=\"#ffffff\" fill-rule=\"evenodd\" fill-opacity=\"1\"/>\n",
       "<defs>\n",
       "  <clipPath id=\"clip862\">\n",
       "    <rect x=\"206\" y=\"123\" width=\"2147\" height=\"1364\"/>\n",
       "  </clipPath>\n",
       "</defs>\n",
       "<polyline clip-path=\"url(#clip862)\" style=\"stroke:#000000; stroke-width:2; stroke-opacity:0.1; fill:none\" points=\"\n",
       "  215.493,1486.45 215.493,123.472 \n",
       "  \"/>\n",
       "<polyline clip-path=\"url(#clip862)\" style=\"stroke:#000000; stroke-width:2; stroke-opacity:0.1; fill:none\" points=\"\n",
       "  734.624,1486.45 734.624,123.472 \n",
       "  \"/>\n",
       "<polyline clip-path=\"url(#clip862)\" style=\"stroke:#000000; stroke-width:2; stroke-opacity:0.1; fill:none\" points=\"\n",
       "  1253.76,1486.45 1253.76,123.472 \n",
       "  \"/>\n",
       "<polyline clip-path=\"url(#clip862)\" style=\"stroke:#000000; stroke-width:2; stroke-opacity:0.1; fill:none\" points=\"\n",
       "  1772.89,1486.45 1772.89,123.472 \n",
       "  \"/>\n",
       "<polyline clip-path=\"url(#clip862)\" style=\"stroke:#000000; stroke-width:2; stroke-opacity:0.1; fill:none\" points=\"\n",
       "  2292.02,1486.45 2292.02,123.472 \n",
       "  \"/>\n",
       "<polyline clip-path=\"url(#clip860)\" style=\"stroke:#000000; stroke-width:4; stroke-opacity:1; fill:none\" points=\"\n",
       "  206.667,1486.45 2352.76,1486.45 \n",
       "  \"/>\n",
       "<polyline clip-path=\"url(#clip860)\" style=\"stroke:#000000; stroke-width:4; stroke-opacity:1; fill:none\" points=\"\n",
       "  215.493,1486.45 215.493,1470.09 \n",
       "  \"/>\n",
       "<polyline clip-path=\"url(#clip860)\" style=\"stroke:#000000; stroke-width:4; stroke-opacity:1; fill:none\" points=\"\n",
       "  734.624,1486.45 734.624,1470.09 \n",
       "  \"/>\n",
       "<polyline clip-path=\"url(#clip860)\" style=\"stroke:#000000; stroke-width:4; stroke-opacity:1; fill:none\" points=\"\n",
       "  1253.76,1486.45 1253.76,1470.09 \n",
       "  \"/>\n",
       "<polyline clip-path=\"url(#clip860)\" style=\"stroke:#000000; stroke-width:4; stroke-opacity:1; fill:none\" points=\"\n",
       "  1772.89,1486.45 1772.89,1470.09 \n",
       "  \"/>\n",
       "<polyline clip-path=\"url(#clip860)\" style=\"stroke:#000000; stroke-width:4; stroke-opacity:1; fill:none\" points=\"\n",
       "  2292.02,1486.45 2292.02,1470.09 \n",
       "  \"/>\n",
       "<path clip-path=\"url(#clip860)\" d=\"M 0 0 M215.493 1515.64 Q211.882 1515.64 210.053 1519.2 Q208.247 1522.75 208.247 1529.87 Q208.247 1536.98 210.053 1540.55 Q211.882 1544.09 215.493 1544.09 Q219.127 1544.09 220.932 1540.55 Q222.761 1536.98 222.761 1529.87 Q222.761 1522.75 220.932 1519.2 Q219.127 1515.64 215.493 1515.64 M215.493 1511.93 Q221.303 1511.93 224.358 1516.54 Q227.437 1521.12 227.437 1529.87 Q227.437 1538.6 224.358 1543.21 Q221.303 1547.79 215.493 1547.79 Q209.682 1547.79 206.604 1543.21 Q203.548 1538.6 203.548 1529.87 Q203.548 1521.12 206.604 1516.54 Q209.682 1511.93 215.493 1511.93 Z\" fill=\"#000000\" fill-rule=\"evenodd\" fill-opacity=\"1\" /><path clip-path=\"url(#clip860)\" d=\"M 0 0 M711.499 1543.18 L719.138 1543.18 L719.138 1516.82 L710.828 1518.49 L710.828 1514.23 L719.092 1512.56 L723.767 1512.56 L723.767 1543.18 L731.406 1543.18 L731.406 1547.12 L711.499 1547.12 L711.499 1543.18 Z\" fill=\"#000000\" fill-rule=\"evenodd\" fill-opacity=\"1\" /><path clip-path=\"url(#clip860)\" d=\"M 0 0 M746.476 1515.64 Q742.865 1515.64 741.036 1519.2 Q739.23 1522.75 739.23 1529.87 Q739.23 1536.98 741.036 1540.55 Q742.865 1544.09 746.476 1544.09 Q750.11 1544.09 751.915 1540.55 Q753.744 1536.98 753.744 1529.87 Q753.744 1522.75 751.915 1519.2 Q750.11 1515.64 746.476 1515.64 M746.476 1511.93 Q752.286 1511.93 755.341 1516.54 Q758.42 1521.12 758.42 1529.87 Q758.42 1538.6 755.341 1543.21 Q752.286 1547.79 746.476 1547.79 Q740.666 1547.79 737.587 1543.21 Q734.531 1538.6 734.531 1529.87 Q734.531 1521.12 737.587 1516.54 Q740.666 1511.93 746.476 1511.93 Z\" fill=\"#000000\" fill-rule=\"evenodd\" fill-opacity=\"1\" /><path clip-path=\"url(#clip860)\" d=\"M 0 0 M1234.9 1543.18 L1251.22 1543.18 L1251.22 1547.12 L1229.28 1547.12 L1229.28 1543.18 Q1231.94 1540.43 1236.52 1535.8 Q1241.13 1531.15 1242.31 1529.81 Q1244.55 1527.28 1245.43 1525.55 Q1246.34 1523.79 1246.34 1522.1 Q1246.34 1519.34 1244.39 1517.61 Q1242.47 1515.87 1239.37 1515.87 Q1237.17 1515.87 1234.72 1516.63 Q1232.29 1517.4 1229.51 1518.95 L1229.51 1514.23 Q1232.33 1513.09 1234.79 1512.51 Q1237.24 1511.93 1239.28 1511.93 Q1244.65 1511.93 1247.84 1514.62 Q1251.04 1517.31 1251.04 1521.8 Q1251.04 1523.93 1250.23 1525.85 Q1249.44 1527.74 1247.33 1530.34 Q1246.75 1531.01 1243.65 1534.23 Q1240.55 1537.42 1234.9 1543.18 Z\" fill=\"#000000\" fill-rule=\"evenodd\" fill-opacity=\"1\" /><path clip-path=\"url(#clip860)\" d=\"M 0 0 M1266.29 1515.64 Q1262.68 1515.64 1260.85 1519.2 Q1259.04 1522.75 1259.04 1529.87 Q1259.04 1536.98 1260.85 1540.55 Q1262.68 1544.09 1266.29 1544.09 Q1269.92 1544.09 1271.73 1540.55 Q1273.56 1536.98 1273.56 1529.87 Q1273.56 1522.75 1271.73 1519.2 Q1269.92 1515.64 1266.29 1515.64 M1266.29 1511.93 Q1272.1 1511.93 1275.16 1516.54 Q1278.23 1521.12 1278.23 1529.87 Q1278.23 1538.6 1275.16 1543.21 Q1272.1 1547.79 1266.29 1547.79 Q1260.48 1547.79 1257.4 1543.21 Q1254.35 1538.6 1254.35 1529.87 Q1254.35 1521.12 1257.4 1516.54 Q1260.48 1511.93 1266.29 1511.93 Z\" fill=\"#000000\" fill-rule=\"evenodd\" fill-opacity=\"1\" /><path clip-path=\"url(#clip860)\" d=\"M 0 0 M1763.63 1528.49 Q1766.98 1529.2 1768.86 1531.47 Q1770.76 1533.74 1770.76 1537.07 Q1770.76 1542.19 1767.24 1544.99 Q1763.72 1547.79 1757.24 1547.79 Q1755.06 1547.79 1752.75 1547.35 Q1750.46 1546.93 1748 1546.08 L1748 1541.56 Q1749.95 1542.7 1752.26 1543.28 Q1754.58 1543.86 1757.1 1543.86 Q1761.5 1543.86 1763.79 1542.12 Q1766.1 1540.38 1766.1 1537.07 Q1766.1 1534.02 1763.95 1532.31 Q1761.82 1530.57 1758 1530.57 L1753.97 1530.57 L1753.97 1526.73 L1758.19 1526.73 Q1761.64 1526.73 1763.47 1525.36 Q1765.29 1523.97 1765.29 1521.38 Q1765.29 1518.72 1763.4 1517.31 Q1761.52 1515.87 1758 1515.87 Q1756.08 1515.87 1753.88 1516.29 Q1751.68 1516.7 1749.04 1517.58 L1749.04 1513.42 Q1751.71 1512.68 1754.02 1512.31 Q1756.36 1511.93 1758.42 1511.93 Q1763.74 1511.93 1766.84 1514.37 Q1769.95 1516.77 1769.95 1520.89 Q1769.95 1523.76 1768.3 1525.75 Q1766.66 1527.72 1763.63 1528.49 Z\" fill=\"#000000\" fill-rule=\"evenodd\" fill-opacity=\"1\" /><path clip-path=\"url(#clip860)\" d=\"M 0 0 M1785.83 1515.64 Q1782.21 1515.64 1780.39 1519.2 Q1778.58 1522.75 1778.58 1529.87 Q1778.58 1536.98 1780.39 1540.55 Q1782.21 1544.09 1785.83 1544.09 Q1789.46 1544.09 1791.27 1540.55 Q1793.09 1536.98 1793.09 1529.87 Q1793.09 1522.75 1791.27 1519.2 Q1789.46 1515.64 1785.83 1515.64 M1785.83 1511.93 Q1791.64 1511.93 1794.69 1516.54 Q1797.77 1521.12 1797.77 1529.87 Q1797.77 1538.6 1794.69 1543.21 Q1791.64 1547.79 1785.83 1547.79 Q1780.02 1547.79 1776.94 1543.21 Q1773.88 1538.6 1773.88 1529.87 Q1773.88 1521.12 1776.94 1516.54 Q1780.02 1511.93 1785.83 1511.93 Z\" fill=\"#000000\" fill-rule=\"evenodd\" fill-opacity=\"1\" /><path clip-path=\"url(#clip860)\" d=\"M 0 0 M2281.52 1516.63 L2269.71 1535.08 L2281.52 1535.08 L2281.52 1516.63 M2280.29 1512.56 L2286.17 1512.56 L2286.17 1535.08 L2291.1 1535.08 L2291.1 1538.97 L2286.17 1538.97 L2286.17 1547.12 L2281.52 1547.12 L2281.52 1538.97 L2265.92 1538.97 L2265.92 1534.46 L2280.29 1512.56 Z\" fill=\"#000000\" fill-rule=\"evenodd\" fill-opacity=\"1\" /><path clip-path=\"url(#clip860)\" d=\"M 0 0 M2306.17 1515.64 Q2302.56 1515.64 2300.73 1519.2 Q2298.93 1522.75 2298.93 1529.87 Q2298.93 1536.98 2300.73 1540.55 Q2302.56 1544.09 2306.17 1544.09 Q2309.81 1544.09 2311.61 1540.55 Q2313.44 1536.98 2313.44 1529.87 Q2313.44 1522.75 2311.61 1519.2 Q2309.81 1515.64 2306.17 1515.64 M2306.17 1511.93 Q2311.98 1511.93 2315.04 1516.54 Q2318.12 1521.12 2318.12 1529.87 Q2318.12 1538.6 2315.04 1543.21 Q2311.98 1547.79 2306.17 1547.79 Q2300.36 1547.79 2297.28 1543.21 Q2294.23 1538.6 2294.23 1529.87 Q2294.23 1521.12 2297.28 1516.54 Q2300.36 1511.93 2306.17 1511.93 Z\" fill=\"#000000\" fill-rule=\"evenodd\" fill-opacity=\"1\" /><polyline clip-path=\"url(#clip862)\" style=\"stroke:#000000; stroke-width:2; stroke-opacity:0.1; fill:none\" points=\"\n",
       "  206.667,1447.87 2352.76,1447.87 \n",
       "  \"/>\n",
       "<polyline clip-path=\"url(#clip862)\" style=\"stroke:#000000; stroke-width:2; stroke-opacity:0.1; fill:none\" points=\"\n",
       "  206.667,1126.42 2352.76,1126.42 \n",
       "  \"/>\n",
       "<polyline clip-path=\"url(#clip862)\" style=\"stroke:#000000; stroke-width:2; stroke-opacity:0.1; fill:none\" points=\"\n",
       "  206.667,804.96 2352.76,804.96 \n",
       "  \"/>\n",
       "<polyline clip-path=\"url(#clip862)\" style=\"stroke:#000000; stroke-width:2; stroke-opacity:0.1; fill:none\" points=\"\n",
       "  206.667,483.503 2352.76,483.503 \n",
       "  \"/>\n",
       "<polyline clip-path=\"url(#clip862)\" style=\"stroke:#000000; stroke-width:2; stroke-opacity:0.1; fill:none\" points=\"\n",
       "  206.667,162.047 2352.76,162.047 \n",
       "  \"/>\n",
       "<polyline clip-path=\"url(#clip860)\" style=\"stroke:#000000; stroke-width:4; stroke-opacity:1; fill:none\" points=\"\n",
       "  206.667,1486.45 206.667,123.472 \n",
       "  \"/>\n",
       "<polyline clip-path=\"url(#clip860)\" style=\"stroke:#000000; stroke-width:4; stroke-opacity:1; fill:none\" points=\"\n",
       "  206.667,1447.87 232.42,1447.87 \n",
       "  \"/>\n",
       "<polyline clip-path=\"url(#clip860)\" style=\"stroke:#000000; stroke-width:4; stroke-opacity:1; fill:none\" points=\"\n",
       "  206.667,1126.42 232.42,1126.42 \n",
       "  \"/>\n",
       "<polyline clip-path=\"url(#clip860)\" style=\"stroke:#000000; stroke-width:4; stroke-opacity:1; fill:none\" points=\"\n",
       "  206.667,804.96 232.42,804.96 \n",
       "  \"/>\n",
       "<polyline clip-path=\"url(#clip860)\" style=\"stroke:#000000; stroke-width:4; stroke-opacity:1; fill:none\" points=\"\n",
       "  206.667,483.503 232.42,483.503 \n",
       "  \"/>\n",
       "<polyline clip-path=\"url(#clip860)\" style=\"stroke:#000000; stroke-width:4; stroke-opacity:1; fill:none\" points=\"\n",
       "  206.667,162.047 232.42,162.047 \n",
       "  \"/>\n",
       "<path clip-path=\"url(#clip860)\" d=\"M 0 0 M51.2236 1448.32 L80.8994 1448.32 L80.8994 1452.26 L51.2236 1452.26 L51.2236 1448.32 Z\" fill=\"#000000\" fill-rule=\"evenodd\" fill-opacity=\"1\" /><path clip-path=\"url(#clip860)\" d=\"M 0 0 M86.779 1461.22 L94.4178 1461.22 L94.4178 1434.85 L86.1077 1436.52 L86.1077 1432.26 L94.3715 1430.59 L99.0474 1430.59 L99.0474 1461.22 L106.686 1461.22 L106.686 1465.15 L86.779 1465.15 L86.779 1461.22 Z\" fill=\"#000000\" fill-rule=\"evenodd\" fill-opacity=\"1\" /><path clip-path=\"url(#clip860)\" d=\"M 0 0 M111.756 1459.27 L116.64 1459.27 L116.64 1465.15 L111.756 1465.15 L111.756 1459.27 Z\" fill=\"#000000\" fill-rule=\"evenodd\" fill-opacity=\"1\" /><path clip-path=\"url(#clip860)\" d=\"M 0 0 M131.709 1433.67 Q128.098 1433.67 126.27 1437.24 Q124.464 1440.78 124.464 1447.91 Q124.464 1455.01 126.27 1458.58 Q128.098 1462.12 131.709 1462.12 Q135.344 1462.12 137.149 1458.58 Q138.978 1455.01 138.978 1447.91 Q138.978 1440.78 137.149 1437.24 Q135.344 1433.67 131.709 1433.67 M131.709 1429.97 Q137.519 1429.97 140.575 1434.57 Q143.654 1439.16 143.654 1447.91 Q143.654 1456.63 140.575 1461.24 Q137.519 1465.82 131.709 1465.82 Q125.899 1465.82 122.82 1461.24 Q119.765 1456.63 119.765 1447.91 Q119.765 1439.16 122.82 1434.57 Q125.899 1429.97 131.709 1429.97 Z\" fill=\"#000000\" fill-rule=\"evenodd\" fill-opacity=\"1\" /><path clip-path=\"url(#clip860)\" d=\"M 0 0 M158.723 1433.67 Q155.112 1433.67 153.283 1437.24 Q151.478 1440.78 151.478 1447.91 Q151.478 1455.01 153.283 1458.58 Q155.112 1462.12 158.723 1462.12 Q162.357 1462.12 164.163 1458.58 Q165.992 1455.01 165.992 1447.91 Q165.992 1440.78 164.163 1437.24 Q162.357 1433.67 158.723 1433.67 M158.723 1429.97 Q164.533 1429.97 167.589 1434.57 Q170.667 1439.16 170.667 1447.91 Q170.667 1456.63 167.589 1461.24 Q164.533 1465.82 158.723 1465.82 Q152.913 1465.82 149.834 1461.24 Q146.779 1456.63 146.779 1447.91 Q146.779 1439.16 149.834 1434.57 Q152.913 1429.97 158.723 1429.97 Z\" fill=\"#000000\" fill-rule=\"evenodd\" fill-opacity=\"1\" /><path clip-path=\"url(#clip860)\" d=\"M 0 0 M51.8949 1126.87 L81.5707 1126.87 L81.5707 1130.8 L51.8949 1130.8 L51.8949 1126.87 Z\" fill=\"#000000\" fill-rule=\"evenodd\" fill-opacity=\"1\" /><path clip-path=\"url(#clip860)\" d=\"M 0 0 M96.64 1112.22 Q93.0289 1112.22 91.2002 1115.78 Q89.3947 1119.32 89.3947 1126.45 Q89.3947 1133.56 91.2002 1137.12 Q93.0289 1140.66 96.64 1140.66 Q100.274 1140.66 102.08 1137.12 Q103.909 1133.56 103.909 1126.45 Q103.909 1119.32 102.08 1115.78 Q100.274 1112.22 96.64 1112.22 M96.64 1108.51 Q102.45 1108.51 105.506 1113.12 Q108.584 1117.7 108.584 1126.45 Q108.584 1135.18 105.506 1139.78 Q102.45 1144.37 96.64 1144.37 Q90.8299 1144.37 87.7512 1139.78 Q84.6956 1135.18 84.6956 1126.45 Q84.6956 1117.7 87.7512 1113.12 Q90.8299 1108.51 96.64 1108.51 Z\" fill=\"#000000\" fill-rule=\"evenodd\" fill-opacity=\"1\" /><path clip-path=\"url(#clip860)\" d=\"M 0 0 M113.654 1137.82 L118.538 1137.82 L118.538 1143.7 L113.654 1143.7 L113.654 1137.82 Z\" fill=\"#000000\" fill-rule=\"evenodd\" fill-opacity=\"1\" /><path clip-path=\"url(#clip860)\" d=\"M 0 0 M122.427 1109.14 L144.649 1109.14 L144.649 1111.13 L132.103 1143.7 L127.219 1143.7 L139.024 1113.07 L122.427 1113.07 L122.427 1109.14 Z\" fill=\"#000000\" fill-rule=\"evenodd\" fill-opacity=\"1\" /><path clip-path=\"url(#clip860)\" d=\"M 0 0 M149.765 1109.14 L168.121 1109.14 L168.121 1113.07 L154.047 1113.07 L154.047 1121.54 Q155.066 1121.2 156.084 1121.03 Q157.103 1120.85 158.121 1120.85 Q163.908 1120.85 167.288 1124.02 Q170.667 1127.19 170.667 1132.61 Q170.667 1138.19 167.195 1141.29 Q163.723 1144.37 157.404 1144.37 Q155.228 1144.37 152.959 1144 Q150.714 1143.63 148.306 1142.89 L148.306 1138.19 Q150.39 1139.32 152.612 1139.88 Q154.834 1140.43 157.311 1140.43 Q161.316 1140.43 163.654 1138.33 Q165.992 1136.22 165.992 1132.61 Q165.992 1129 163.654 1126.89 Q161.316 1124.78 157.311 1124.78 Q155.436 1124.78 153.561 1125.2 Q151.709 1125.62 149.765 1126.5 L149.765 1109.14 Z\" fill=\"#000000\" fill-rule=\"evenodd\" fill-opacity=\"1\" /><path clip-path=\"url(#clip860)\" d=\"M 0 0 M50.9921 805.411 L80.6679 805.411 L80.6679 809.347 L50.9921 809.347 L50.9921 805.411 Z\" fill=\"#000000\" fill-rule=\"evenodd\" fill-opacity=\"1\" /><path clip-path=\"url(#clip860)\" d=\"M 0 0 M95.7373 790.759 Q92.1262 790.759 90.2975 794.323 Q88.4919 797.865 88.4919 804.995 Q88.4919 812.101 90.2975 815.666 Q92.1262 819.208 95.7373 819.208 Q99.3715 819.208 101.177 815.666 Q103.006 812.101 103.006 804.995 Q103.006 797.865 101.177 794.323 Q99.3715 790.759 95.7373 790.759 M95.7373 787.055 Q101.547 787.055 104.603 791.661 Q107.682 796.245 107.682 804.995 Q107.682 813.722 104.603 818.328 Q101.547 822.911 95.7373 822.911 Q89.9271 822.911 86.8484 818.328 Q83.7929 813.722 83.7929 804.995 Q83.7929 796.245 86.8484 791.661 Q89.9271 787.055 95.7373 787.055 Z\" fill=\"#000000\" fill-rule=\"evenodd\" fill-opacity=\"1\" /><path clip-path=\"url(#clip860)\" d=\"M 0 0 M112.751 816.36 L117.635 816.36 L117.635 822.24 L112.751 822.24 L112.751 816.36 Z\" fill=\"#000000\" fill-rule=\"evenodd\" fill-opacity=\"1\" /><path clip-path=\"url(#clip860)\" d=\"M 0 0 M122.751 787.68 L141.107 787.68 L141.107 791.615 L127.033 791.615 L127.033 800.087 Q128.052 799.74 129.07 799.578 Q130.089 799.393 131.107 799.393 Q136.894 799.393 140.274 802.564 Q143.654 805.735 143.654 811.152 Q143.654 816.731 140.181 819.833 Q136.709 822.911 130.39 822.911 Q128.214 822.911 125.945 822.541 Q123.7 822.171 121.293 821.43 L121.293 816.731 Q123.376 817.865 125.598 818.421 Q127.82 818.976 130.297 818.976 Q134.302 818.976 136.64 816.87 Q138.978 814.763 138.978 811.152 Q138.978 807.541 136.64 805.435 Q134.302 803.328 130.297 803.328 Q128.422 803.328 126.547 803.745 Q124.695 804.161 122.751 805.041 L122.751 787.68 Z\" fill=\"#000000\" fill-rule=\"evenodd\" fill-opacity=\"1\" /><path clip-path=\"url(#clip860)\" d=\"M 0 0 M158.723 790.759 Q155.112 790.759 153.283 794.323 Q151.478 797.865 151.478 804.995 Q151.478 812.101 153.283 815.666 Q155.112 819.208 158.723 819.208 Q162.357 819.208 164.163 815.666 Q165.992 812.101 165.992 804.995 Q165.992 797.865 164.163 794.323 Q162.357 790.759 158.723 790.759 M158.723 787.055 Q164.533 787.055 167.589 791.661 Q170.667 796.245 170.667 804.995 Q170.667 813.722 167.589 818.328 Q164.533 822.911 158.723 822.911 Q152.913 822.911 149.834 818.328 Q146.779 813.722 146.779 804.995 Q146.779 796.245 149.834 791.661 Q152.913 787.055 158.723 787.055 Z\" fill=\"#000000\" fill-rule=\"evenodd\" fill-opacity=\"1\" /><path clip-path=\"url(#clip860)\" d=\"M 0 0 M52.5893 483.955 L82.2651 483.955 L82.2651 487.89 L52.5893 487.89 L52.5893 483.955 Z\" fill=\"#000000\" fill-rule=\"evenodd\" fill-opacity=\"1\" /><path clip-path=\"url(#clip860)\" d=\"M 0 0 M97.3345 469.302 Q93.7234 469.302 91.8947 472.867 Q90.0891 476.409 90.0891 483.538 Q90.0891 490.645 91.8947 494.209 Q93.7234 497.751 97.3345 497.751 Q100.969 497.751 102.774 494.209 Q104.603 490.645 104.603 483.538 Q104.603 476.409 102.774 472.867 Q100.969 469.302 97.3345 469.302 M97.3345 465.598 Q103.145 465.598 106.2 470.205 Q109.279 474.788 109.279 483.538 Q109.279 492.265 106.2 496.871 Q103.145 501.455 97.3345 501.455 Q91.5243 501.455 88.4456 496.871 Q85.3901 492.265 85.3901 483.538 Q85.3901 474.788 88.4456 470.205 Q91.5243 465.598 97.3345 465.598 Z\" fill=\"#000000\" fill-rule=\"evenodd\" fill-opacity=\"1\" /><path clip-path=\"url(#clip860)\" d=\"M 0 0 M114.348 494.904 L119.233 494.904 L119.233 500.783 L114.348 500.783 L114.348 494.904 Z\" fill=\"#000000\" fill-rule=\"evenodd\" fill-opacity=\"1\" /><path clip-path=\"url(#clip860)\" d=\"M 0 0 M128.33 496.848 L144.649 496.848 L144.649 500.783 L122.705 500.783 L122.705 496.848 Q125.367 494.094 129.95 489.464 Q134.556 484.811 135.737 483.469 Q137.982 480.946 138.862 479.209 Q139.765 477.45 139.765 475.76 Q139.765 473.006 137.82 471.27 Q135.899 469.534 132.797 469.534 Q130.598 469.534 128.144 470.298 Q125.714 471.061 122.936 472.612 L122.936 467.89 Q125.76 466.756 128.214 466.177 Q130.668 465.598 132.705 465.598 Q138.075 465.598 141.269 468.284 Q144.464 470.969 144.464 475.46 Q144.464 477.589 143.654 479.51 Q142.867 481.409 140.76 484.001 Q140.181 484.672 137.08 487.89 Q133.978 491.084 128.33 496.848 Z\" fill=\"#000000\" fill-rule=\"evenodd\" fill-opacity=\"1\" /><path clip-path=\"url(#clip860)\" d=\"M 0 0 M149.765 466.223 L168.121 466.223 L168.121 470.159 L154.047 470.159 L154.047 478.631 Q155.066 478.284 156.084 478.122 Q157.103 477.936 158.121 477.936 Q163.908 477.936 167.288 481.108 Q170.667 484.279 170.667 489.696 Q170.667 495.274 167.195 498.376 Q163.723 501.455 157.404 501.455 Q155.228 501.455 152.959 501.084 Q150.714 500.714 148.306 499.973 L148.306 495.274 Q150.39 496.408 152.612 496.964 Q154.834 497.52 157.311 497.52 Q161.316 497.52 163.654 495.413 Q165.992 493.307 165.992 489.696 Q165.992 486.084 163.654 483.978 Q161.316 481.872 157.311 481.872 Q155.436 481.872 153.561 482.288 Q151.709 482.705 149.765 483.584 L149.765 466.223 Z\" fill=\"#000000\" fill-rule=\"evenodd\" fill-opacity=\"1\" /><path clip-path=\"url(#clip860)\" d=\"M 0 0 M94.7419 147.846 Q91.1308 147.846 89.3021 151.41 Q87.4966 154.952 87.4966 162.082 Q87.4966 169.188 89.3021 172.753 Q91.1308 176.295 94.7419 176.295 Q98.3761 176.295 100.182 172.753 Q102.01 169.188 102.01 162.082 Q102.01 154.952 100.182 151.41 Q98.3761 147.846 94.7419 147.846 M94.7419 144.142 Q100.552 144.142 103.608 148.748 Q106.686 153.332 106.686 162.082 Q106.686 170.808 103.608 175.415 Q100.552 179.998 94.7419 179.998 Q88.9317 179.998 85.8531 175.415 Q82.7975 170.808 82.7975 162.082 Q82.7975 153.332 85.8531 148.748 Q88.9317 144.142 94.7419 144.142 Z\" fill=\"#000000\" fill-rule=\"evenodd\" fill-opacity=\"1\" /><path clip-path=\"url(#clip860)\" d=\"M 0 0 M111.756 173.447 L116.64 173.447 L116.64 179.327 L111.756 179.327 L111.756 173.447 Z\" fill=\"#000000\" fill-rule=\"evenodd\" fill-opacity=\"1\" /><path clip-path=\"url(#clip860)\" d=\"M 0 0 M131.709 147.846 Q128.098 147.846 126.27 151.41 Q124.464 154.952 124.464 162.082 Q124.464 169.188 126.27 172.753 Q128.098 176.295 131.709 176.295 Q135.344 176.295 137.149 172.753 Q138.978 169.188 138.978 162.082 Q138.978 154.952 137.149 151.41 Q135.344 147.846 131.709 147.846 M131.709 144.142 Q137.519 144.142 140.575 148.748 Q143.654 153.332 143.654 162.082 Q143.654 170.808 140.575 175.415 Q137.519 179.998 131.709 179.998 Q125.899 179.998 122.82 175.415 Q119.765 170.808 119.765 162.082 Q119.765 153.332 122.82 148.748 Q125.899 144.142 131.709 144.142 Z\" fill=\"#000000\" fill-rule=\"evenodd\" fill-opacity=\"1\" /><path clip-path=\"url(#clip860)\" d=\"M 0 0 M158.723 147.846 Q155.112 147.846 153.283 151.41 Q151.478 154.952 151.478 162.082 Q151.478 169.188 153.283 172.753 Q155.112 176.295 158.723 176.295 Q162.357 176.295 164.163 172.753 Q165.992 169.188 165.992 162.082 Q165.992 154.952 164.163 151.41 Q162.357 147.846 158.723 147.846 M158.723 144.142 Q164.533 144.142 167.589 148.748 Q170.667 153.332 170.667 162.082 Q170.667 170.808 167.589 175.415 Q164.533 179.998 158.723 179.998 Q152.913 179.998 149.834 175.415 Q146.779 170.808 146.779 162.082 Q146.779 153.332 149.834 148.748 Q152.913 144.142 158.723 144.142 Z\" fill=\"#000000\" fill-rule=\"evenodd\" fill-opacity=\"1\" /><path clip-path=\"url(#clip860)\" d=\"M 0 0 M984.34 28.9478 L984.34 35.9153 Q981.18 34.1734 977.98 33.3227 Q974.82 32.4315 971.58 32.4315 Q964.329 32.4315 960.318 37.0496 Q956.308 41.6271 956.308 49.9314 Q956.308 58.2358 960.318 62.8538 Q964.329 67.4314 971.58 67.4314 Q974.82 67.4314 977.98 66.5807 Q981.18 65.6895 984.34 63.9476 L984.34 70.8341 Q981.221 72.2924 977.859 73.0216 Q974.537 73.7508 970.769 73.7508 Q960.521 73.7508 954.485 67.3098 Q948.449 60.8689 948.449 49.9314 Q948.449 38.832 954.525 32.472 Q960.642 26.1121 971.256 26.1121 Q974.699 26.1121 977.98 26.8413 Q981.261 27.5299 984.34 28.9478 Z\" fill=\"#000000\" fill-rule=\"evenodd\" fill-opacity=\"1\" /><path clip-path=\"url(#clip860)\" d=\"M 0 0 M1019.5 34.9026 L1071.43 34.9026 L1071.43 41.7081 L1019.5 41.7081 L1019.5 34.9026 M1019.5 51.4303 L1071.43 51.4303 L1071.43 58.3168 L1019.5 58.3168 L1019.5 51.4303 Z\" fill=\"#000000\" fill-rule=\"evenodd\" fill-opacity=\"1\" /><path clip-path=\"url(#clip860)\" d=\"M 0 0 M1101.86 46.5287 L1123.69 46.5287 L1123.69 53.1722 L1101.86 53.1722 L1101.86 46.5287 Z\" fill=\"#000000\" fill-rule=\"evenodd\" fill-opacity=\"1\" /><path clip-path=\"url(#clip860)\" d=\"M 0 0 M1133.98 65.6895 L1147.35 65.6895 L1147.35 19.5497 L1132.81 22.4663 L1132.81 15.0127 L1147.27 12.096 L1155.45 12.096 L1155.45 65.6895 L1168.82 65.6895 L1168.82 72.576 L1133.98 72.576 L1133.98 65.6895 Z\" fill=\"#000000\" fill-rule=\"evenodd\" fill-opacity=\"1\" /><path clip-path=\"url(#clip860)\" d=\"M 0 0 M1293.46 27.2059 L1277.06 49.2833 L1294.32 72.576 L1285.52 72.576 L1272.32 54.752 L1259.11 72.576 L1250.32 72.576 L1267.94 48.8377 L1251.82 27.2059 L1260.61 27.2059 L1272.64 43.369 L1284.67 27.2059 L1293.46 27.2059 Z\" fill=\"#000000\" fill-rule=\"evenodd\" fill-opacity=\"1\" /><path clip-path=\"url(#clip860)\" d=\"M 0 0 M1320.69 17.4837 Q1314.37 17.4837 1311.17 23.7221 Q1308.01 29.92 1308.01 42.3968 Q1308.01 54.833 1311.17 61.0714 Q1314.37 67.2693 1320.69 67.2693 Q1327.05 67.2693 1330.21 61.0714 Q1333.41 54.833 1333.41 42.3968 Q1333.41 29.92 1330.21 23.7221 Q1327.05 17.4837 1320.69 17.4837 M1320.69 11.0023 Q1330.85 11.0023 1336.2 19.0636 Q1341.59 27.0843 1341.59 42.3968 Q1341.59 57.6687 1336.2 65.73 Q1330.85 73.7508 1320.69 73.7508 Q1310.52 73.7508 1305.13 65.73 Q1299.78 57.6687 1299.78 42.3968 Q1299.78 27.0843 1305.13 19.0636 Q1310.52 11.0023 1320.69 11.0023 Z\" fill=\"#000000\" fill-rule=\"evenodd\" fill-opacity=\"1\" /><path clip-path=\"url(#clip860)\" d=\"M 0 0 M1376.75 34.9026 L1428.68 34.9026 L1428.68 41.7081 L1376.75 41.7081 L1376.75 34.9026 M1376.75 51.4303 L1428.68 51.4303 L1428.68 58.3168 L1376.75 58.3168 L1376.75 51.4303 Z\" fill=\"#000000\" fill-rule=\"evenodd\" fill-opacity=\"1\" /><path clip-path=\"url(#clip860)\" d=\"M 0 0 M1481.43 17.4837 Q1475.11 17.4837 1471.91 23.7221 Q1468.75 29.92 1468.75 42.3968 Q1468.75 54.833 1471.91 61.0714 Q1475.11 67.2693 1481.43 67.2693 Q1487.79 67.2693 1490.95 61.0714 Q1494.15 54.833 1494.15 42.3968 Q1494.15 29.92 1490.95 23.7221 Q1487.79 17.4837 1481.43 17.4837 M1481.43 11.0023 Q1491.59 11.0023 1496.94 19.0636 Q1502.33 27.0843 1502.33 42.3968 Q1502.33 57.6687 1496.94 65.73 Q1491.59 73.7508 1481.43 73.7508 Q1471.26 73.7508 1465.87 65.73 Q1460.52 57.6687 1460.52 42.3968 Q1460.52 27.0843 1465.87 19.0636 Q1471.26 11.0023 1481.43 11.0023 Z\" fill=\"#000000\" fill-rule=\"evenodd\" fill-opacity=\"1\" /><path clip-path=\"url(#clip860)\" d=\"M 0 0 M1511.2 62.2867 L1519.75 62.2867 L1519.75 72.576 L1511.2 72.576 L1511.2 62.2867 Z\" fill=\"#000000\" fill-rule=\"evenodd\" fill-opacity=\"1\" /><path clip-path=\"url(#clip860)\" d=\"M 0 0 M1526.55 12.096 L1565.44 12.096 L1565.44 15.5798 L1543.49 72.576 L1534.94 72.576 L1555.6 18.9825 L1526.55 18.9825 L1526.55 12.096 Z\" fill=\"#000000\" fill-rule=\"evenodd\" fill-opacity=\"1\" /><path clip-path=\"url(#clip860)\" d=\"M 0 0 M1574.39 12.096 L1606.52 12.096 L1606.52 18.9825 L1581.89 18.9825 L1581.89 33.8088 Q1583.67 33.2012 1585.45 32.9176 Q1587.24 32.5936 1589.02 32.5936 Q1599.15 32.5936 1605.06 38.1433 Q1610.97 43.6931 1610.97 53.1722 Q1610.97 62.9348 1604.9 68.3631 Q1598.82 73.7508 1587.76 73.7508 Q1583.95 73.7508 1579.98 73.1026 Q1576.06 72.4545 1571.84 71.1582 L1571.84 62.9348 Q1575.49 64.9198 1579.38 65.892 Q1583.27 66.8642 1587.6 66.8642 Q1594.61 66.8642 1598.7 63.1779 Q1602.79 59.4916 1602.79 53.1722 Q1602.79 46.8528 1598.7 43.1664 Q1594.61 39.4801 1587.6 39.4801 Q1584.32 39.4801 1581.04 40.2093 Q1577.8 40.9384 1574.39 42.4778 L1574.39 12.096 Z\" fill=\"#000000\" fill-rule=\"evenodd\" fill-opacity=\"1\" /><circle clip-path=\"url(#clip862)\" cx=\"267.406\" cy=\"724.596\" r=\"14\" fill=\"#009af9\" fill-rule=\"evenodd\" fill-opacity=\"1\" stroke=\"#000000\" stroke-opacity=\"1\" stroke-width=\"3.2\"/>\n",
       "<circle clip-path=\"url(#clip862)\" cx=\"319.319\" cy=\"1201.76\" r=\"14\" fill=\"#009af9\" fill-rule=\"evenodd\" fill-opacity=\"1\" stroke=\"#000000\" stroke-opacity=\"1\" stroke-width=\"3.2\"/>\n",
       "<circle clip-path=\"url(#clip862)\" cx=\"371.232\" cy=\"607.169\" r=\"14\" fill=\"#009af9\" fill-rule=\"evenodd\" fill-opacity=\"1\" stroke=\"#000000\" stroke-opacity=\"1\" stroke-width=\"3.2\"/>\n",
       "<circle clip-path=\"url(#clip862)\" cx=\"423.145\" cy=\"1293.78\" r=\"14\" fill=\"#009af9\" fill-rule=\"evenodd\" fill-opacity=\"1\" stroke=\"#000000\" stroke-opacity=\"1\" stroke-width=\"3.2\"/>\n",
       "<circle clip-path=\"url(#clip862)\" cx=\"475.058\" cy=\"451.762\" r=\"14\" fill=\"#009af9\" fill-rule=\"evenodd\" fill-opacity=\"1\" stroke=\"#000000\" stroke-opacity=\"1\" stroke-width=\"3.2\"/>\n",
       "<circle clip-path=\"url(#clip862)\" cx=\"526.971\" cy=\"1382.6\" r=\"14\" fill=\"#009af9\" fill-rule=\"evenodd\" fill-opacity=\"1\" stroke=\"#000000\" stroke-opacity=\"1\" stroke-width=\"3.2\"/>\n",
       "<circle clip-path=\"url(#clip862)\" cx=\"578.885\" cy=\"289.287\" r=\"14\" fill=\"#009af9\" fill-rule=\"evenodd\" fill-opacity=\"1\" stroke=\"#000000\" stroke-opacity=\"1\" stroke-width=\"3.2\"/>\n",
       "<circle clip-path=\"url(#clip862)\" cx=\"630.798\" cy=\"1435.28\" r=\"14\" fill=\"#009af9\" fill-rule=\"evenodd\" fill-opacity=\"1\" stroke=\"#000000\" stroke-opacity=\"1\" stroke-width=\"3.2\"/>\n",
       "<circle clip-path=\"url(#clip862)\" cx=\"682.711\" cy=\"187.106\" r=\"14\" fill=\"#009af9\" fill-rule=\"evenodd\" fill-opacity=\"1\" stroke=\"#000000\" stroke-opacity=\"1\" stroke-width=\"3.2\"/>\n",
       "<circle clip-path=\"url(#clip862)\" cx=\"734.624\" cy=\"1447.38\" r=\"14\" fill=\"#009af9\" fill-rule=\"evenodd\" fill-opacity=\"1\" stroke=\"#000000\" stroke-opacity=\"1\" stroke-width=\"3.2\"/>\n",
       "<circle clip-path=\"url(#clip862)\" cx=\"786.537\" cy=\"163.023\" r=\"14\" fill=\"#009af9\" fill-rule=\"evenodd\" fill-opacity=\"1\" stroke=\"#000000\" stroke-opacity=\"1\" stroke-width=\"3.2\"/>\n",
       "<circle clip-path=\"url(#clip862)\" cx=\"838.45\" cy=\"1447.87\" r=\"14\" fill=\"#009af9\" fill-rule=\"evenodd\" fill-opacity=\"1\" stroke=\"#000000\" stroke-opacity=\"1\" stroke-width=\"3.2\"/>\n",
       "<circle clip-path=\"url(#clip862)\" cx=\"890.363\" cy=\"162.048\" r=\"14\" fill=\"#009af9\" fill-rule=\"evenodd\" fill-opacity=\"1\" stroke=\"#000000\" stroke-opacity=\"1\" stroke-width=\"3.2\"/>\n",
       "<circle clip-path=\"url(#clip862)\" cx=\"942.276\" cy=\"1447.87\" r=\"14\" fill=\"#009af9\" fill-rule=\"evenodd\" fill-opacity=\"1\" stroke=\"#000000\" stroke-opacity=\"1\" stroke-width=\"3.2\"/>\n",
       "<circle clip-path=\"url(#clip862)\" cx=\"994.189\" cy=\"162.047\" r=\"14\" fill=\"#009af9\" fill-rule=\"evenodd\" fill-opacity=\"1\" stroke=\"#000000\" stroke-opacity=\"1\" stroke-width=\"3.2\"/>\n",
       "<circle clip-path=\"url(#clip862)\" cx=\"1046.1\" cy=\"1447.87\" r=\"14\" fill=\"#009af9\" fill-rule=\"evenodd\" fill-opacity=\"1\" stroke=\"#000000\" stroke-opacity=\"1\" stroke-width=\"3.2\"/>\n",
       "<circle clip-path=\"url(#clip862)\" cx=\"1098.02\" cy=\"162.047\" r=\"14\" fill=\"#009af9\" fill-rule=\"evenodd\" fill-opacity=\"1\" stroke=\"#000000\" stroke-opacity=\"1\" stroke-width=\"3.2\"/>\n",
       "<circle clip-path=\"url(#clip862)\" cx=\"1149.93\" cy=\"1447.87\" r=\"14\" fill=\"#009af9\" fill-rule=\"evenodd\" fill-opacity=\"1\" stroke=\"#000000\" stroke-opacity=\"1\" stroke-width=\"3.2\"/>\n",
       "<circle clip-path=\"url(#clip862)\" cx=\"1201.84\" cy=\"162.047\" r=\"14\" fill=\"#009af9\" fill-rule=\"evenodd\" fill-opacity=\"1\" stroke=\"#000000\" stroke-opacity=\"1\" stroke-width=\"3.2\"/>\n",
       "<circle clip-path=\"url(#clip862)\" cx=\"1253.76\" cy=\"1447.87\" r=\"14\" fill=\"#009af9\" fill-rule=\"evenodd\" fill-opacity=\"1\" stroke=\"#000000\" stroke-opacity=\"1\" stroke-width=\"3.2\"/>\n",
       "<circle clip-path=\"url(#clip862)\" cx=\"1305.67\" cy=\"162.047\" r=\"14\" fill=\"#009af9\" fill-rule=\"evenodd\" fill-opacity=\"1\" stroke=\"#000000\" stroke-opacity=\"1\" stroke-width=\"3.2\"/>\n",
       "<circle clip-path=\"url(#clip862)\" cx=\"1357.58\" cy=\"1447.87\" r=\"14\" fill=\"#009af9\" fill-rule=\"evenodd\" fill-opacity=\"1\" stroke=\"#000000\" stroke-opacity=\"1\" stroke-width=\"3.2\"/>\n",
       "<circle clip-path=\"url(#clip862)\" cx=\"1409.49\" cy=\"162.047\" r=\"14\" fill=\"#009af9\" fill-rule=\"evenodd\" fill-opacity=\"1\" stroke=\"#000000\" stroke-opacity=\"1\" stroke-width=\"3.2\"/>\n",
       "<circle clip-path=\"url(#clip862)\" cx=\"1461.41\" cy=\"1447.87\" r=\"14\" fill=\"#009af9\" fill-rule=\"evenodd\" fill-opacity=\"1\" stroke=\"#000000\" stroke-opacity=\"1\" stroke-width=\"3.2\"/>\n",
       "<circle clip-path=\"url(#clip862)\" cx=\"1513.32\" cy=\"162.047\" r=\"14\" fill=\"#009af9\" fill-rule=\"evenodd\" fill-opacity=\"1\" stroke=\"#000000\" stroke-opacity=\"1\" stroke-width=\"3.2\"/>\n",
       "<circle clip-path=\"url(#clip862)\" cx=\"1565.23\" cy=\"1447.87\" r=\"14\" fill=\"#009af9\" fill-rule=\"evenodd\" fill-opacity=\"1\" stroke=\"#000000\" stroke-opacity=\"1\" stroke-width=\"3.2\"/>\n",
       "<circle clip-path=\"url(#clip862)\" cx=\"1617.15\" cy=\"162.047\" r=\"14\" fill=\"#009af9\" fill-rule=\"evenodd\" fill-opacity=\"1\" stroke=\"#000000\" stroke-opacity=\"1\" stroke-width=\"3.2\"/>\n",
       "<circle clip-path=\"url(#clip862)\" cx=\"1669.06\" cy=\"1447.87\" r=\"14\" fill=\"#009af9\" fill-rule=\"evenodd\" fill-opacity=\"1\" stroke=\"#000000\" stroke-opacity=\"1\" stroke-width=\"3.2\"/>\n",
       "<circle clip-path=\"url(#clip862)\" cx=\"1720.97\" cy=\"162.047\" r=\"14\" fill=\"#009af9\" fill-rule=\"evenodd\" fill-opacity=\"1\" stroke=\"#000000\" stroke-opacity=\"1\" stroke-width=\"3.2\"/>\n",
       "<circle clip-path=\"url(#clip862)\" cx=\"1772.89\" cy=\"1447.87\" r=\"14\" fill=\"#009af9\" fill-rule=\"evenodd\" fill-opacity=\"1\" stroke=\"#000000\" stroke-opacity=\"1\" stroke-width=\"3.2\"/>\n",
       "<circle clip-path=\"url(#clip862)\" cx=\"1824.8\" cy=\"162.047\" r=\"14\" fill=\"#009af9\" fill-rule=\"evenodd\" fill-opacity=\"1\" stroke=\"#000000\" stroke-opacity=\"1\" stroke-width=\"3.2\"/>\n",
       "<circle clip-path=\"url(#clip862)\" cx=\"1876.71\" cy=\"1447.87\" r=\"14\" fill=\"#009af9\" fill-rule=\"evenodd\" fill-opacity=\"1\" stroke=\"#000000\" stroke-opacity=\"1\" stroke-width=\"3.2\"/>\n",
       "<circle clip-path=\"url(#clip862)\" cx=\"1928.63\" cy=\"162.047\" r=\"14\" fill=\"#009af9\" fill-rule=\"evenodd\" fill-opacity=\"1\" stroke=\"#000000\" stroke-opacity=\"1\" stroke-width=\"3.2\"/>\n",
       "<circle clip-path=\"url(#clip862)\" cx=\"1980.54\" cy=\"1447.87\" r=\"14\" fill=\"#009af9\" fill-rule=\"evenodd\" fill-opacity=\"1\" stroke=\"#000000\" stroke-opacity=\"1\" stroke-width=\"3.2\"/>\n",
       "<circle clip-path=\"url(#clip862)\" cx=\"2032.45\" cy=\"162.047\" r=\"14\" fill=\"#009af9\" fill-rule=\"evenodd\" fill-opacity=\"1\" stroke=\"#000000\" stroke-opacity=\"1\" stroke-width=\"3.2\"/>\n",
       "<circle clip-path=\"url(#clip862)\" cx=\"2084.37\" cy=\"1447.87\" r=\"14\" fill=\"#009af9\" fill-rule=\"evenodd\" fill-opacity=\"1\" stroke=\"#000000\" stroke-opacity=\"1\" stroke-width=\"3.2\"/>\n",
       "<circle clip-path=\"url(#clip862)\" cx=\"2136.28\" cy=\"162.047\" r=\"14\" fill=\"#009af9\" fill-rule=\"evenodd\" fill-opacity=\"1\" stroke=\"#000000\" stroke-opacity=\"1\" stroke-width=\"3.2\"/>\n",
       "<circle clip-path=\"url(#clip862)\" cx=\"2188.19\" cy=\"1447.87\" r=\"14\" fill=\"#009af9\" fill-rule=\"evenodd\" fill-opacity=\"1\" stroke=\"#000000\" stroke-opacity=\"1\" stroke-width=\"3.2\"/>\n",
       "<circle clip-path=\"url(#clip862)\" cx=\"2240.1\" cy=\"162.047\" r=\"14\" fill=\"#009af9\" fill-rule=\"evenodd\" fill-opacity=\"1\" stroke=\"#000000\" stroke-opacity=\"1\" stroke-width=\"3.2\"/>\n",
       "<circle clip-path=\"url(#clip862)\" cx=\"2292.02\" cy=\"1447.87\" r=\"14\" fill=\"#009af9\" fill-rule=\"evenodd\" fill-opacity=\"1\" stroke=\"#000000\" stroke-opacity=\"1\" stroke-width=\"3.2\"/>\n",
       "<path clip-path=\"url(#clip860)\" d=\"\n",
       "M1991.75 289.865 L2281.22 289.865 L2281.22 168.905 L1991.75 168.905  Z\n",
       "  \" fill=\"#ffffff\" fill-rule=\"evenodd\" fill-opacity=\"1\"/>\n",
       "<polyline clip-path=\"url(#clip860)\" style=\"stroke:#000000; stroke-width:4; stroke-opacity:1; fill:none\" points=\"\n",
       "  1991.75,289.865 2281.22,289.865 2281.22,168.905 1991.75,168.905 1991.75,289.865 \n",
       "  \"/>\n",
       "<circle clip-path=\"url(#clip860)\" cx=\"2087.13\" cy=\"229.385\" r=\"23\" fill=\"#009af9\" fill-rule=\"evenodd\" fill-opacity=\"1\" stroke=\"#000000\" stroke-opacity=\"1\" stroke-width=\"5.12\"/>\n",
       "<path clip-path=\"url(#clip860)\" d=\"M 0 0 M2196.35 249.072 Q2194.55 253.702 2192.83 255.114 Q2191.12 256.526 2188.25 256.526 L2184.85 256.526 L2184.85 252.961 L2187.35 252.961 Q2189.11 252.961 2190.08 252.128 Q2191.05 251.294 2192.23 248.192 L2193 246.248 L2182.51 220.739 L2187.02 220.739 L2195.13 241.017 L2203.23 220.739 L2207.74 220.739 L2196.35 249.072 Z\" fill=\"#000000\" fill-rule=\"evenodd\" fill-opacity=\"1\" /><path clip-path=\"url(#clip860)\" d=\"M 0 0 M2213.62 242.729 L2221.26 242.729 L2221.26 216.364 L2212.95 218.031 L2212.95 213.771 L2221.21 212.105 L2225.89 212.105 L2225.89 242.729 L2233.53 242.729 L2233.53 246.665 L2213.62 246.665 L2213.62 242.729 Z\" fill=\"#000000\" fill-rule=\"evenodd\" fill-opacity=\"1\" /></svg>\n"
      ]
     },
     "execution_count": 31,
     "metadata": {},
     "output_type": "execute_result"
    }
   ],
   "source": [
    "plot(arg_x, recursion([-1, 0.75]), seriestype = :scatter, title = \"c = -1   x0 = 0.75\")"
   ]
  },
  {
   "cell_type": "code",
   "execution_count": 32,
   "metadata": {},
   "outputs": [
    {
     "data": {
      "image/svg+xml": [
       "<?xml version=\"1.0\" encoding=\"utf-8\"?>\n",
       "<svg xmlns=\"http://www.w3.org/2000/svg\" xmlns:xlink=\"http://www.w3.org/1999/xlink\" width=\"600\" height=\"400\" viewBox=\"0 0 2400 1600\">\n",
       "<defs>\n",
       "  <clipPath id=\"clip900\">\n",
       "    <rect x=\"0\" y=\"0\" width=\"2400\" height=\"1600\"/>\n",
       "  </clipPath>\n",
       "</defs>\n",
       "<path clip-path=\"url(#clip900)\" d=\"\n",
       "M0 1600 L2400 1600 L2400 0 L0 0  Z\n",
       "  \" fill=\"#ffffff\" fill-rule=\"evenodd\" fill-opacity=\"1\"/>\n",
       "<defs>\n",
       "  <clipPath id=\"clip901\">\n",
       "    <rect x=\"480\" y=\"0\" width=\"1681\" height=\"1600\"/>\n",
       "  </clipPath>\n",
       "</defs>\n",
       "<path clip-path=\"url(#clip900)\" d=\"\n",
       "M206.667 1486.45 L2352.76 1486.45 L2352.76 123.472 L206.667 123.472  Z\n",
       "  \" fill=\"#ffffff\" fill-rule=\"evenodd\" fill-opacity=\"1\"/>\n",
       "<defs>\n",
       "  <clipPath id=\"clip902\">\n",
       "    <rect x=\"206\" y=\"123\" width=\"2147\" height=\"1364\"/>\n",
       "  </clipPath>\n",
       "</defs>\n",
       "<polyline clip-path=\"url(#clip902)\" style=\"stroke:#000000; stroke-width:2; stroke-opacity:0.1; fill:none\" points=\"\n",
       "  215.493,1486.45 215.493,123.472 \n",
       "  \"/>\n",
       "<polyline clip-path=\"url(#clip902)\" style=\"stroke:#000000; stroke-width:2; stroke-opacity:0.1; fill:none\" points=\"\n",
       "  734.624,1486.45 734.624,123.472 \n",
       "  \"/>\n",
       "<polyline clip-path=\"url(#clip902)\" style=\"stroke:#000000; stroke-width:2; stroke-opacity:0.1; fill:none\" points=\"\n",
       "  1253.76,1486.45 1253.76,123.472 \n",
       "  \"/>\n",
       "<polyline clip-path=\"url(#clip902)\" style=\"stroke:#000000; stroke-width:2; stroke-opacity:0.1; fill:none\" points=\"\n",
       "  1772.89,1486.45 1772.89,123.472 \n",
       "  \"/>\n",
       "<polyline clip-path=\"url(#clip902)\" style=\"stroke:#000000; stroke-width:2; stroke-opacity:0.1; fill:none\" points=\"\n",
       "  2292.02,1486.45 2292.02,123.472 \n",
       "  \"/>\n",
       "<polyline clip-path=\"url(#clip900)\" style=\"stroke:#000000; stroke-width:4; stroke-opacity:1; fill:none\" points=\"\n",
       "  206.667,1486.45 2352.76,1486.45 \n",
       "  \"/>\n",
       "<polyline clip-path=\"url(#clip900)\" style=\"stroke:#000000; stroke-width:4; stroke-opacity:1; fill:none\" points=\"\n",
       "  215.493,1486.45 215.493,1470.09 \n",
       "  \"/>\n",
       "<polyline clip-path=\"url(#clip900)\" style=\"stroke:#000000; stroke-width:4; stroke-opacity:1; fill:none\" points=\"\n",
       "  734.624,1486.45 734.624,1470.09 \n",
       "  \"/>\n",
       "<polyline clip-path=\"url(#clip900)\" style=\"stroke:#000000; stroke-width:4; stroke-opacity:1; fill:none\" points=\"\n",
       "  1253.76,1486.45 1253.76,1470.09 \n",
       "  \"/>\n",
       "<polyline clip-path=\"url(#clip900)\" style=\"stroke:#000000; stroke-width:4; stroke-opacity:1; fill:none\" points=\"\n",
       "  1772.89,1486.45 1772.89,1470.09 \n",
       "  \"/>\n",
       "<polyline clip-path=\"url(#clip900)\" style=\"stroke:#000000; stroke-width:4; stroke-opacity:1; fill:none\" points=\"\n",
       "  2292.02,1486.45 2292.02,1470.09 \n",
       "  \"/>\n",
       "<path clip-path=\"url(#clip900)\" d=\"M 0 0 M215.493 1515.64 Q211.882 1515.64 210.053 1519.2 Q208.247 1522.75 208.247 1529.87 Q208.247 1536.98 210.053 1540.55 Q211.882 1544.09 215.493 1544.09 Q219.127 1544.09 220.932 1540.55 Q222.761 1536.98 222.761 1529.87 Q222.761 1522.75 220.932 1519.2 Q219.127 1515.64 215.493 1515.64 M215.493 1511.93 Q221.303 1511.93 224.358 1516.54 Q227.437 1521.12 227.437 1529.87 Q227.437 1538.6 224.358 1543.21 Q221.303 1547.79 215.493 1547.79 Q209.682 1547.79 206.604 1543.21 Q203.548 1538.6 203.548 1529.87 Q203.548 1521.12 206.604 1516.54 Q209.682 1511.93 215.493 1511.93 Z\" fill=\"#000000\" fill-rule=\"evenodd\" fill-opacity=\"1\" /><path clip-path=\"url(#clip900)\" d=\"M 0 0 M711.499 1543.18 L719.138 1543.18 L719.138 1516.82 L710.828 1518.49 L710.828 1514.23 L719.092 1512.56 L723.767 1512.56 L723.767 1543.18 L731.406 1543.18 L731.406 1547.12 L711.499 1547.12 L711.499 1543.18 Z\" fill=\"#000000\" fill-rule=\"evenodd\" fill-opacity=\"1\" /><path clip-path=\"url(#clip900)\" d=\"M 0 0 M746.476 1515.64 Q742.865 1515.64 741.036 1519.2 Q739.23 1522.75 739.23 1529.87 Q739.23 1536.98 741.036 1540.55 Q742.865 1544.09 746.476 1544.09 Q750.11 1544.09 751.915 1540.55 Q753.744 1536.98 753.744 1529.87 Q753.744 1522.75 751.915 1519.2 Q750.11 1515.64 746.476 1515.64 M746.476 1511.93 Q752.286 1511.93 755.341 1516.54 Q758.42 1521.12 758.42 1529.87 Q758.42 1538.6 755.341 1543.21 Q752.286 1547.79 746.476 1547.79 Q740.666 1547.79 737.587 1543.21 Q734.531 1538.6 734.531 1529.87 Q734.531 1521.12 737.587 1516.54 Q740.666 1511.93 746.476 1511.93 Z\" fill=\"#000000\" fill-rule=\"evenodd\" fill-opacity=\"1\" /><path clip-path=\"url(#clip900)\" d=\"M 0 0 M1234.9 1543.18 L1251.22 1543.18 L1251.22 1547.12 L1229.28 1547.12 L1229.28 1543.18 Q1231.94 1540.43 1236.52 1535.8 Q1241.13 1531.15 1242.31 1529.81 Q1244.55 1527.28 1245.43 1525.55 Q1246.34 1523.79 1246.34 1522.1 Q1246.34 1519.34 1244.39 1517.61 Q1242.47 1515.87 1239.37 1515.87 Q1237.17 1515.87 1234.72 1516.63 Q1232.29 1517.4 1229.51 1518.95 L1229.51 1514.23 Q1232.33 1513.09 1234.79 1512.51 Q1237.24 1511.93 1239.28 1511.93 Q1244.65 1511.93 1247.84 1514.62 Q1251.04 1517.31 1251.04 1521.8 Q1251.04 1523.93 1250.23 1525.85 Q1249.44 1527.74 1247.33 1530.34 Q1246.75 1531.01 1243.65 1534.23 Q1240.55 1537.42 1234.9 1543.18 Z\" fill=\"#000000\" fill-rule=\"evenodd\" fill-opacity=\"1\" /><path clip-path=\"url(#clip900)\" d=\"M 0 0 M1266.29 1515.64 Q1262.68 1515.64 1260.85 1519.2 Q1259.04 1522.75 1259.04 1529.87 Q1259.04 1536.98 1260.85 1540.55 Q1262.68 1544.09 1266.29 1544.09 Q1269.92 1544.09 1271.73 1540.55 Q1273.56 1536.98 1273.56 1529.87 Q1273.56 1522.75 1271.73 1519.2 Q1269.92 1515.64 1266.29 1515.64 M1266.29 1511.93 Q1272.1 1511.93 1275.16 1516.54 Q1278.23 1521.12 1278.23 1529.87 Q1278.23 1538.6 1275.16 1543.21 Q1272.1 1547.79 1266.29 1547.79 Q1260.48 1547.79 1257.4 1543.21 Q1254.35 1538.6 1254.35 1529.87 Q1254.35 1521.12 1257.4 1516.54 Q1260.48 1511.93 1266.29 1511.93 Z\" fill=\"#000000\" fill-rule=\"evenodd\" fill-opacity=\"1\" /><path clip-path=\"url(#clip900)\" d=\"M 0 0 M1763.63 1528.49 Q1766.98 1529.2 1768.86 1531.47 Q1770.76 1533.74 1770.76 1537.07 Q1770.76 1542.19 1767.24 1544.99 Q1763.72 1547.79 1757.24 1547.79 Q1755.06 1547.79 1752.75 1547.35 Q1750.46 1546.93 1748 1546.08 L1748 1541.56 Q1749.95 1542.7 1752.26 1543.28 Q1754.58 1543.86 1757.1 1543.86 Q1761.5 1543.86 1763.79 1542.12 Q1766.1 1540.38 1766.1 1537.07 Q1766.1 1534.02 1763.95 1532.31 Q1761.82 1530.57 1758 1530.57 L1753.97 1530.57 L1753.97 1526.73 L1758.19 1526.73 Q1761.64 1526.73 1763.47 1525.36 Q1765.29 1523.97 1765.29 1521.38 Q1765.29 1518.72 1763.4 1517.31 Q1761.52 1515.87 1758 1515.87 Q1756.08 1515.87 1753.88 1516.29 Q1751.68 1516.7 1749.04 1517.58 L1749.04 1513.42 Q1751.71 1512.68 1754.02 1512.31 Q1756.36 1511.93 1758.42 1511.93 Q1763.74 1511.93 1766.84 1514.37 Q1769.95 1516.77 1769.95 1520.89 Q1769.95 1523.76 1768.3 1525.75 Q1766.66 1527.72 1763.63 1528.49 Z\" fill=\"#000000\" fill-rule=\"evenodd\" fill-opacity=\"1\" /><path clip-path=\"url(#clip900)\" d=\"M 0 0 M1785.83 1515.64 Q1782.21 1515.64 1780.39 1519.2 Q1778.58 1522.75 1778.58 1529.87 Q1778.58 1536.98 1780.39 1540.55 Q1782.21 1544.09 1785.83 1544.09 Q1789.46 1544.09 1791.27 1540.55 Q1793.09 1536.98 1793.09 1529.87 Q1793.09 1522.75 1791.27 1519.2 Q1789.46 1515.64 1785.83 1515.64 M1785.83 1511.93 Q1791.64 1511.93 1794.69 1516.54 Q1797.77 1521.12 1797.77 1529.87 Q1797.77 1538.6 1794.69 1543.21 Q1791.64 1547.79 1785.83 1547.79 Q1780.02 1547.79 1776.94 1543.21 Q1773.88 1538.6 1773.88 1529.87 Q1773.88 1521.12 1776.94 1516.54 Q1780.02 1511.93 1785.83 1511.93 Z\" fill=\"#000000\" fill-rule=\"evenodd\" fill-opacity=\"1\" /><path clip-path=\"url(#clip900)\" d=\"M 0 0 M2281.52 1516.63 L2269.71 1535.08 L2281.52 1535.08 L2281.52 1516.63 M2280.29 1512.56 L2286.17 1512.56 L2286.17 1535.08 L2291.1 1535.08 L2291.1 1538.97 L2286.17 1538.97 L2286.17 1547.12 L2281.52 1547.12 L2281.52 1538.97 L2265.92 1538.97 L2265.92 1534.46 L2280.29 1512.56 Z\" fill=\"#000000\" fill-rule=\"evenodd\" fill-opacity=\"1\" /><path clip-path=\"url(#clip900)\" d=\"M 0 0 M2306.17 1515.64 Q2302.56 1515.64 2300.73 1519.2 Q2298.93 1522.75 2298.93 1529.87 Q2298.93 1536.98 2300.73 1540.55 Q2302.56 1544.09 2306.17 1544.09 Q2309.81 1544.09 2311.61 1540.55 Q2313.44 1536.98 2313.44 1529.87 Q2313.44 1522.75 2311.61 1519.2 Q2309.81 1515.64 2306.17 1515.64 M2306.17 1511.93 Q2311.98 1511.93 2315.04 1516.54 Q2318.12 1521.12 2318.12 1529.87 Q2318.12 1538.6 2315.04 1543.21 Q2311.98 1547.79 2306.17 1547.79 Q2300.36 1547.79 2297.28 1543.21 Q2294.23 1538.6 2294.23 1529.87 Q2294.23 1521.12 2297.28 1516.54 Q2300.36 1511.93 2306.17 1511.93 Z\" fill=\"#000000\" fill-rule=\"evenodd\" fill-opacity=\"1\" /><polyline clip-path=\"url(#clip902)\" style=\"stroke:#000000; stroke-width:2; stroke-opacity:0.1; fill:none\" points=\"\n",
       "  206.667,1447.87 2352.76,1447.87 \n",
       "  \"/>\n",
       "<polyline clip-path=\"url(#clip902)\" style=\"stroke:#000000; stroke-width:2; stroke-opacity:0.1; fill:none\" points=\"\n",
       "  206.667,1126.42 2352.76,1126.42 \n",
       "  \"/>\n",
       "<polyline clip-path=\"url(#clip902)\" style=\"stroke:#000000; stroke-width:2; stroke-opacity:0.1; fill:none\" points=\"\n",
       "  206.667,804.96 2352.76,804.96 \n",
       "  \"/>\n",
       "<polyline clip-path=\"url(#clip902)\" style=\"stroke:#000000; stroke-width:2; stroke-opacity:0.1; fill:none\" points=\"\n",
       "  206.667,483.503 2352.76,483.503 \n",
       "  \"/>\n",
       "<polyline clip-path=\"url(#clip902)\" style=\"stroke:#000000; stroke-width:2; stroke-opacity:0.1; fill:none\" points=\"\n",
       "  206.667,162.047 2352.76,162.047 \n",
       "  \"/>\n",
       "<polyline clip-path=\"url(#clip900)\" style=\"stroke:#000000; stroke-width:4; stroke-opacity:1; fill:none\" points=\"\n",
       "  206.667,1486.45 206.667,123.472 \n",
       "  \"/>\n",
       "<polyline clip-path=\"url(#clip900)\" style=\"stroke:#000000; stroke-width:4; stroke-opacity:1; fill:none\" points=\"\n",
       "  206.667,1447.87 232.42,1447.87 \n",
       "  \"/>\n",
       "<polyline clip-path=\"url(#clip900)\" style=\"stroke:#000000; stroke-width:4; stroke-opacity:1; fill:none\" points=\"\n",
       "  206.667,1126.42 232.42,1126.42 \n",
       "  \"/>\n",
       "<polyline clip-path=\"url(#clip900)\" style=\"stroke:#000000; stroke-width:4; stroke-opacity:1; fill:none\" points=\"\n",
       "  206.667,804.96 232.42,804.96 \n",
       "  \"/>\n",
       "<polyline clip-path=\"url(#clip900)\" style=\"stroke:#000000; stroke-width:4; stroke-opacity:1; fill:none\" points=\"\n",
       "  206.667,483.503 232.42,483.503 \n",
       "  \"/>\n",
       "<polyline clip-path=\"url(#clip900)\" style=\"stroke:#000000; stroke-width:4; stroke-opacity:1; fill:none\" points=\"\n",
       "  206.667,162.047 232.42,162.047 \n",
       "  \"/>\n",
       "<path clip-path=\"url(#clip900)\" d=\"M 0 0 M51.2236 1448.32 L80.8994 1448.32 L80.8994 1452.26 L51.2236 1452.26 L51.2236 1448.32 Z\" fill=\"#000000\" fill-rule=\"evenodd\" fill-opacity=\"1\" /><path clip-path=\"url(#clip900)\" d=\"M 0 0 M86.779 1461.22 L94.4178 1461.22 L94.4178 1434.85 L86.1077 1436.52 L86.1077 1432.26 L94.3715 1430.59 L99.0474 1430.59 L99.0474 1461.22 L106.686 1461.22 L106.686 1465.15 L86.779 1465.15 L86.779 1461.22 Z\" fill=\"#000000\" fill-rule=\"evenodd\" fill-opacity=\"1\" /><path clip-path=\"url(#clip900)\" d=\"M 0 0 M111.756 1459.27 L116.64 1459.27 L116.64 1465.15 L111.756 1465.15 L111.756 1459.27 Z\" fill=\"#000000\" fill-rule=\"evenodd\" fill-opacity=\"1\" /><path clip-path=\"url(#clip900)\" d=\"M 0 0 M131.709 1433.67 Q128.098 1433.67 126.27 1437.24 Q124.464 1440.78 124.464 1447.91 Q124.464 1455.01 126.27 1458.58 Q128.098 1462.12 131.709 1462.12 Q135.344 1462.12 137.149 1458.58 Q138.978 1455.01 138.978 1447.91 Q138.978 1440.78 137.149 1437.24 Q135.344 1433.67 131.709 1433.67 M131.709 1429.97 Q137.519 1429.97 140.575 1434.57 Q143.654 1439.16 143.654 1447.91 Q143.654 1456.63 140.575 1461.24 Q137.519 1465.82 131.709 1465.82 Q125.899 1465.82 122.82 1461.24 Q119.765 1456.63 119.765 1447.91 Q119.765 1439.16 122.82 1434.57 Q125.899 1429.97 131.709 1429.97 Z\" fill=\"#000000\" fill-rule=\"evenodd\" fill-opacity=\"1\" /><path clip-path=\"url(#clip900)\" d=\"M 0 0 M158.723 1433.67 Q155.112 1433.67 153.283 1437.24 Q151.478 1440.78 151.478 1447.91 Q151.478 1455.01 153.283 1458.58 Q155.112 1462.12 158.723 1462.12 Q162.357 1462.12 164.163 1458.58 Q165.992 1455.01 165.992 1447.91 Q165.992 1440.78 164.163 1437.24 Q162.357 1433.67 158.723 1433.67 M158.723 1429.97 Q164.533 1429.97 167.589 1434.57 Q170.667 1439.16 170.667 1447.91 Q170.667 1456.63 167.589 1461.24 Q164.533 1465.82 158.723 1465.82 Q152.913 1465.82 149.834 1461.24 Q146.779 1456.63 146.779 1447.91 Q146.779 1439.16 149.834 1434.57 Q152.913 1429.97 158.723 1429.97 Z\" fill=\"#000000\" fill-rule=\"evenodd\" fill-opacity=\"1\" /><path clip-path=\"url(#clip900)\" d=\"M 0 0 M51.8949 1126.87 L81.5707 1126.87 L81.5707 1130.8 L51.8949 1130.8 L51.8949 1126.87 Z\" fill=\"#000000\" fill-rule=\"evenodd\" fill-opacity=\"1\" /><path clip-path=\"url(#clip900)\" d=\"M 0 0 M96.64 1112.22 Q93.0289 1112.22 91.2002 1115.78 Q89.3947 1119.32 89.3947 1126.45 Q89.3947 1133.56 91.2002 1137.12 Q93.0289 1140.66 96.64 1140.66 Q100.274 1140.66 102.08 1137.12 Q103.909 1133.56 103.909 1126.45 Q103.909 1119.32 102.08 1115.78 Q100.274 1112.22 96.64 1112.22 M96.64 1108.51 Q102.45 1108.51 105.506 1113.12 Q108.584 1117.7 108.584 1126.45 Q108.584 1135.18 105.506 1139.78 Q102.45 1144.37 96.64 1144.37 Q90.8299 1144.37 87.7512 1139.78 Q84.6956 1135.18 84.6956 1126.45 Q84.6956 1117.7 87.7512 1113.12 Q90.8299 1108.51 96.64 1108.51 Z\" fill=\"#000000\" fill-rule=\"evenodd\" fill-opacity=\"1\" /><path clip-path=\"url(#clip900)\" d=\"M 0 0 M113.654 1137.82 L118.538 1137.82 L118.538 1143.7 L113.654 1143.7 L113.654 1137.82 Z\" fill=\"#000000\" fill-rule=\"evenodd\" fill-opacity=\"1\" /><path clip-path=\"url(#clip900)\" d=\"M 0 0 M122.427 1109.14 L144.649 1109.14 L144.649 1111.13 L132.103 1143.7 L127.219 1143.7 L139.024 1113.07 L122.427 1113.07 L122.427 1109.14 Z\" fill=\"#000000\" fill-rule=\"evenodd\" fill-opacity=\"1\" /><path clip-path=\"url(#clip900)\" d=\"M 0 0 M149.765 1109.14 L168.121 1109.14 L168.121 1113.07 L154.047 1113.07 L154.047 1121.54 Q155.066 1121.2 156.084 1121.03 Q157.103 1120.85 158.121 1120.85 Q163.908 1120.85 167.288 1124.02 Q170.667 1127.19 170.667 1132.61 Q170.667 1138.19 167.195 1141.29 Q163.723 1144.37 157.404 1144.37 Q155.228 1144.37 152.959 1144 Q150.714 1143.63 148.306 1142.89 L148.306 1138.19 Q150.39 1139.32 152.612 1139.88 Q154.834 1140.43 157.311 1140.43 Q161.316 1140.43 163.654 1138.33 Q165.992 1136.22 165.992 1132.61 Q165.992 1129 163.654 1126.89 Q161.316 1124.78 157.311 1124.78 Q155.436 1124.78 153.561 1125.2 Q151.709 1125.62 149.765 1126.5 L149.765 1109.14 Z\" fill=\"#000000\" fill-rule=\"evenodd\" fill-opacity=\"1\" /><path clip-path=\"url(#clip900)\" d=\"M 0 0 M50.9921 805.411 L80.6679 805.411 L80.6679 809.347 L50.9921 809.347 L50.9921 805.411 Z\" fill=\"#000000\" fill-rule=\"evenodd\" fill-opacity=\"1\" /><path clip-path=\"url(#clip900)\" d=\"M 0 0 M95.7373 790.759 Q92.1262 790.759 90.2975 794.323 Q88.4919 797.865 88.4919 804.995 Q88.4919 812.101 90.2975 815.666 Q92.1262 819.208 95.7373 819.208 Q99.3715 819.208 101.177 815.666 Q103.006 812.101 103.006 804.995 Q103.006 797.865 101.177 794.323 Q99.3715 790.759 95.7373 790.759 M95.7373 787.055 Q101.547 787.055 104.603 791.661 Q107.682 796.245 107.682 804.995 Q107.682 813.722 104.603 818.328 Q101.547 822.911 95.7373 822.911 Q89.9271 822.911 86.8484 818.328 Q83.7929 813.722 83.7929 804.995 Q83.7929 796.245 86.8484 791.661 Q89.9271 787.055 95.7373 787.055 Z\" fill=\"#000000\" fill-rule=\"evenodd\" fill-opacity=\"1\" /><path clip-path=\"url(#clip900)\" d=\"M 0 0 M112.751 816.36 L117.635 816.36 L117.635 822.24 L112.751 822.24 L112.751 816.36 Z\" fill=\"#000000\" fill-rule=\"evenodd\" fill-opacity=\"1\" /><path clip-path=\"url(#clip900)\" d=\"M 0 0 M122.751 787.68 L141.107 787.68 L141.107 791.615 L127.033 791.615 L127.033 800.087 Q128.052 799.74 129.07 799.578 Q130.089 799.393 131.107 799.393 Q136.894 799.393 140.274 802.564 Q143.654 805.735 143.654 811.152 Q143.654 816.731 140.181 819.833 Q136.709 822.911 130.39 822.911 Q128.214 822.911 125.945 822.541 Q123.7 822.171 121.293 821.43 L121.293 816.731 Q123.376 817.865 125.598 818.421 Q127.82 818.976 130.297 818.976 Q134.302 818.976 136.64 816.87 Q138.978 814.763 138.978 811.152 Q138.978 807.541 136.64 805.435 Q134.302 803.328 130.297 803.328 Q128.422 803.328 126.547 803.745 Q124.695 804.161 122.751 805.041 L122.751 787.68 Z\" fill=\"#000000\" fill-rule=\"evenodd\" fill-opacity=\"1\" /><path clip-path=\"url(#clip900)\" d=\"M 0 0 M158.723 790.759 Q155.112 790.759 153.283 794.323 Q151.478 797.865 151.478 804.995 Q151.478 812.101 153.283 815.666 Q155.112 819.208 158.723 819.208 Q162.357 819.208 164.163 815.666 Q165.992 812.101 165.992 804.995 Q165.992 797.865 164.163 794.323 Q162.357 790.759 158.723 790.759 M158.723 787.055 Q164.533 787.055 167.589 791.661 Q170.667 796.245 170.667 804.995 Q170.667 813.722 167.589 818.328 Q164.533 822.911 158.723 822.911 Q152.913 822.911 149.834 818.328 Q146.779 813.722 146.779 804.995 Q146.779 796.245 149.834 791.661 Q152.913 787.055 158.723 787.055 Z\" fill=\"#000000\" fill-rule=\"evenodd\" fill-opacity=\"1\" /><path clip-path=\"url(#clip900)\" d=\"M 0 0 M52.5893 483.955 L82.2651 483.955 L82.2651 487.89 L52.5893 487.89 L52.5893 483.955 Z\" fill=\"#000000\" fill-rule=\"evenodd\" fill-opacity=\"1\" /><path clip-path=\"url(#clip900)\" d=\"M 0 0 M97.3345 469.302 Q93.7234 469.302 91.8947 472.867 Q90.0891 476.409 90.0891 483.538 Q90.0891 490.645 91.8947 494.209 Q93.7234 497.751 97.3345 497.751 Q100.969 497.751 102.774 494.209 Q104.603 490.645 104.603 483.538 Q104.603 476.409 102.774 472.867 Q100.969 469.302 97.3345 469.302 M97.3345 465.598 Q103.145 465.598 106.2 470.205 Q109.279 474.788 109.279 483.538 Q109.279 492.265 106.2 496.871 Q103.145 501.455 97.3345 501.455 Q91.5243 501.455 88.4456 496.871 Q85.3901 492.265 85.3901 483.538 Q85.3901 474.788 88.4456 470.205 Q91.5243 465.598 97.3345 465.598 Z\" fill=\"#000000\" fill-rule=\"evenodd\" fill-opacity=\"1\" /><path clip-path=\"url(#clip900)\" d=\"M 0 0 M114.348 494.904 L119.233 494.904 L119.233 500.783 L114.348 500.783 L114.348 494.904 Z\" fill=\"#000000\" fill-rule=\"evenodd\" fill-opacity=\"1\" /><path clip-path=\"url(#clip900)\" d=\"M 0 0 M128.33 496.848 L144.649 496.848 L144.649 500.783 L122.705 500.783 L122.705 496.848 Q125.367 494.094 129.95 489.464 Q134.556 484.811 135.737 483.469 Q137.982 480.946 138.862 479.209 Q139.765 477.45 139.765 475.76 Q139.765 473.006 137.82 471.27 Q135.899 469.534 132.797 469.534 Q130.598 469.534 128.144 470.298 Q125.714 471.061 122.936 472.612 L122.936 467.89 Q125.76 466.756 128.214 466.177 Q130.668 465.598 132.705 465.598 Q138.075 465.598 141.269 468.284 Q144.464 470.969 144.464 475.46 Q144.464 477.589 143.654 479.51 Q142.867 481.409 140.76 484.001 Q140.181 484.672 137.08 487.89 Q133.978 491.084 128.33 496.848 Z\" fill=\"#000000\" fill-rule=\"evenodd\" fill-opacity=\"1\" /><path clip-path=\"url(#clip900)\" d=\"M 0 0 M149.765 466.223 L168.121 466.223 L168.121 470.159 L154.047 470.159 L154.047 478.631 Q155.066 478.284 156.084 478.122 Q157.103 477.936 158.121 477.936 Q163.908 477.936 167.288 481.108 Q170.667 484.279 170.667 489.696 Q170.667 495.274 167.195 498.376 Q163.723 501.455 157.404 501.455 Q155.228 501.455 152.959 501.084 Q150.714 500.714 148.306 499.973 L148.306 495.274 Q150.39 496.408 152.612 496.964 Q154.834 497.52 157.311 497.52 Q161.316 497.52 163.654 495.413 Q165.992 493.307 165.992 489.696 Q165.992 486.084 163.654 483.978 Q161.316 481.872 157.311 481.872 Q155.436 481.872 153.561 482.288 Q151.709 482.705 149.765 483.584 L149.765 466.223 Z\" fill=\"#000000\" fill-rule=\"evenodd\" fill-opacity=\"1\" /><path clip-path=\"url(#clip900)\" d=\"M 0 0 M94.7419 147.846 Q91.1308 147.846 89.3021 151.41 Q87.4966 154.952 87.4966 162.082 Q87.4966 169.188 89.3021 172.753 Q91.1308 176.295 94.7419 176.295 Q98.3761 176.295 100.182 172.753 Q102.01 169.188 102.01 162.082 Q102.01 154.952 100.182 151.41 Q98.3761 147.846 94.7419 147.846 M94.7419 144.142 Q100.552 144.142 103.608 148.748 Q106.686 153.332 106.686 162.082 Q106.686 170.808 103.608 175.415 Q100.552 179.998 94.7419 179.998 Q88.9317 179.998 85.8531 175.415 Q82.7975 170.808 82.7975 162.082 Q82.7975 153.332 85.8531 148.748 Q88.9317 144.142 94.7419 144.142 Z\" fill=\"#000000\" fill-rule=\"evenodd\" fill-opacity=\"1\" /><path clip-path=\"url(#clip900)\" d=\"M 0 0 M111.756 173.447 L116.64 173.447 L116.64 179.327 L111.756 179.327 L111.756 173.447 Z\" fill=\"#000000\" fill-rule=\"evenodd\" fill-opacity=\"1\" /><path clip-path=\"url(#clip900)\" d=\"M 0 0 M131.709 147.846 Q128.098 147.846 126.27 151.41 Q124.464 154.952 124.464 162.082 Q124.464 169.188 126.27 172.753 Q128.098 176.295 131.709 176.295 Q135.344 176.295 137.149 172.753 Q138.978 169.188 138.978 162.082 Q138.978 154.952 137.149 151.41 Q135.344 147.846 131.709 147.846 M131.709 144.142 Q137.519 144.142 140.575 148.748 Q143.654 153.332 143.654 162.082 Q143.654 170.808 140.575 175.415 Q137.519 179.998 131.709 179.998 Q125.899 179.998 122.82 175.415 Q119.765 170.808 119.765 162.082 Q119.765 153.332 122.82 148.748 Q125.899 144.142 131.709 144.142 Z\" fill=\"#000000\" fill-rule=\"evenodd\" fill-opacity=\"1\" /><path clip-path=\"url(#clip900)\" d=\"M 0 0 M158.723 147.846 Q155.112 147.846 153.283 151.41 Q151.478 154.952 151.478 162.082 Q151.478 169.188 153.283 172.753 Q155.112 176.295 158.723 176.295 Q162.357 176.295 164.163 172.753 Q165.992 169.188 165.992 162.082 Q165.992 154.952 164.163 151.41 Q162.357 147.846 158.723 147.846 M158.723 144.142 Q164.533 144.142 167.589 148.748 Q170.667 153.332 170.667 162.082 Q170.667 170.808 167.589 175.415 Q164.533 179.998 158.723 179.998 Q152.913 179.998 149.834 175.415 Q146.779 170.808 146.779 162.082 Q146.779 153.332 149.834 148.748 Q152.913 144.142 158.723 144.142 Z\" fill=\"#000000\" fill-rule=\"evenodd\" fill-opacity=\"1\" /><path clip-path=\"url(#clip900)\" d=\"M 0 0 M984.948 28.9478 L984.948 35.9153 Q981.788 34.1734 978.588 33.3227 Q975.428 32.4315 972.187 32.4315 Q964.936 32.4315 960.926 37.0496 Q956.915 41.6271 956.915 49.9314 Q956.915 58.2358 960.926 62.8538 Q964.936 67.4314 972.187 67.4314 Q975.428 67.4314 978.588 66.5807 Q981.788 65.6895 984.948 63.9476 L984.948 70.8341 Q981.828 72.2924 978.466 73.0216 Q975.144 73.7508 971.377 73.7508 Q961.128 73.7508 955.092 67.3098 Q949.057 60.8689 949.057 49.9314 Q949.057 38.832 955.133 32.472 Q961.25 26.1121 971.863 26.1121 Q975.306 26.1121 978.588 26.8413 Q981.869 27.5299 984.948 28.9478 Z\" fill=\"#000000\" fill-rule=\"evenodd\" fill-opacity=\"1\" /><path clip-path=\"url(#clip900)\" d=\"M 0 0 M1020.11 34.9026 L1072.04 34.9026 L1072.04 41.7081 L1020.11 41.7081 L1020.11 34.9026 M1020.11 51.4303 L1072.04 51.4303 L1072.04 58.3168 L1020.11 58.3168 L1020.11 51.4303 Z\" fill=\"#000000\" fill-rule=\"evenodd\" fill-opacity=\"1\" /><path clip-path=\"url(#clip900)\" d=\"M 0 0 M1102.46 46.5287 L1124.3 46.5287 L1124.3 53.1722 L1102.46 53.1722 L1102.46 46.5287 Z\" fill=\"#000000\" fill-rule=\"evenodd\" fill-opacity=\"1\" /><path clip-path=\"url(#clip900)\" d=\"M 0 0 M1134.59 65.6895 L1147.96 65.6895 L1147.96 19.5497 L1133.41 22.4663 L1133.41 15.0127 L1147.87 12.096 L1156.06 12.096 L1156.06 65.6895 L1169.43 65.6895 L1169.43 72.576 L1134.59 72.576 L1134.59 65.6895 Z\" fill=\"#000000\" fill-rule=\"evenodd\" fill-opacity=\"1\" /><path clip-path=\"url(#clip900)\" d=\"M 0 0 M1294.07 27.2059 L1277.67 49.2833 L1294.92 72.576 L1286.13 72.576 L1272.93 54.752 L1259.72 72.576 L1250.93 72.576 L1268.55 48.8377 L1252.43 27.2059 L1261.22 27.2059 L1273.25 43.369 L1285.28 27.2059 L1294.07 27.2059 Z\" fill=\"#000000\" fill-rule=\"evenodd\" fill-opacity=\"1\" /><path clip-path=\"url(#clip900)\" d=\"M 0 0 M1321.29 17.4837 Q1314.97 17.4837 1311.77 23.7221 Q1308.61 29.92 1308.61 42.3968 Q1308.61 54.833 1311.77 61.0714 Q1314.97 67.2693 1321.29 67.2693 Q1327.65 67.2693 1330.81 61.0714 Q1334.01 54.833 1334.01 42.3968 Q1334.01 29.92 1330.81 23.7221 Q1327.65 17.4837 1321.29 17.4837 M1321.29 11.0023 Q1331.46 11.0023 1336.81 19.0636 Q1342.2 27.0843 1342.2 42.3968 Q1342.2 57.6687 1336.81 65.73 Q1331.46 73.7508 1321.29 73.7508 Q1311.13 73.7508 1305.74 65.73 Q1300.39 57.6687 1300.39 42.3968 Q1300.39 27.0843 1305.74 19.0636 Q1311.13 11.0023 1321.29 11.0023 Z\" fill=\"#000000\" fill-rule=\"evenodd\" fill-opacity=\"1\" /><path clip-path=\"url(#clip900)\" d=\"M 0 0 M1377.36 34.9026 L1429.29 34.9026 L1429.29 41.7081 L1377.36 41.7081 L1377.36 34.9026 M1377.36 51.4303 L1429.29 51.4303 L1429.29 58.3168 L1377.36 58.3168 L1377.36 51.4303 Z\" fill=\"#000000\" fill-rule=\"evenodd\" fill-opacity=\"1\" /><path clip-path=\"url(#clip900)\" d=\"M 0 0 M1482.03 17.4837 Q1475.71 17.4837 1472.51 23.7221 Q1469.35 29.92 1469.35 42.3968 Q1469.35 54.833 1472.51 61.0714 Q1475.71 67.2693 1482.03 67.2693 Q1488.39 67.2693 1491.55 61.0714 Q1494.75 54.833 1494.75 42.3968 Q1494.75 29.92 1491.55 23.7221 Q1488.39 17.4837 1482.03 17.4837 M1482.03 11.0023 Q1492.2 11.0023 1497.55 19.0636 Q1502.94 27.0843 1502.94 42.3968 Q1502.94 57.6687 1497.55 65.73 Q1492.2 73.7508 1482.03 73.7508 Q1471.87 73.7508 1466.48 65.73 Q1461.13 57.6687 1461.13 42.3968 Q1461.13 27.0843 1466.48 19.0636 Q1471.87 11.0023 1482.03 11.0023 Z\" fill=\"#000000\" fill-rule=\"evenodd\" fill-opacity=\"1\" /><path clip-path=\"url(#clip900)\" d=\"M 0 0 M1511.81 62.2867 L1520.36 62.2867 L1520.36 72.576 L1511.81 72.576 L1511.81 62.2867 Z\" fill=\"#000000\" fill-rule=\"evenodd\" fill-opacity=\"1\" /><path clip-path=\"url(#clip900)\" d=\"M 0 0 M1536.28 65.6895 L1564.83 65.6895 L1564.83 72.576 L1526.43 72.576 L1526.43 65.6895 Q1531.09 60.8689 1539.11 52.7671 Q1547.17 44.6248 1549.24 42.2752 Q1553.17 37.8598 1554.71 34.8216 Q1556.29 31.7429 1556.29 28.7857 Q1556.29 23.9651 1552.88 20.927 Q1549.52 17.8888 1544.09 17.8888 Q1540.25 17.8888 1535.95 19.2256 Q1531.7 20.5624 1526.84 23.2765 L1526.84 15.0127 Q1531.78 13.0277 1536.07 12.015 Q1540.37 11.0023 1543.93 11.0023 Q1553.33 11.0023 1558.92 15.7013 Q1564.51 20.4004 1564.51 28.2591 Q1564.51 31.9859 1563.09 35.3482 Q1561.72 38.6699 1558.03 43.2069 Q1557.02 44.3817 1551.59 50.0125 Q1546.16 55.6027 1536.28 65.6895 Z\" fill=\"#000000\" fill-rule=\"evenodd\" fill-opacity=\"1\" /><path clip-path=\"url(#clip900)\" d=\"M 0 0 M1573.79 12.096 L1605.91 12.096 L1605.91 18.9825 L1581.28 18.9825 L1581.28 33.8088 Q1583.06 33.2012 1584.85 32.9176 Q1586.63 32.5936 1588.41 32.5936 Q1598.54 32.5936 1604.45 38.1433 Q1610.37 43.6931 1610.37 53.1722 Q1610.37 62.9348 1604.29 68.3631 Q1598.21 73.7508 1587.16 73.7508 Q1583.35 73.7508 1579.38 73.1026 Q1575.45 72.4545 1571.23 71.1582 L1571.23 62.9348 Q1574.88 64.9198 1578.77 65.892 Q1582.66 66.8642 1586.99 66.8642 Q1594 66.8642 1598.09 63.1779 Q1602.18 59.4916 1602.18 53.1722 Q1602.18 46.8528 1598.09 43.1664 Q1594 39.4801 1586.99 39.4801 Q1583.71 39.4801 1580.43 40.2093 Q1577.19 40.9384 1573.79 42.4778 L1573.79 12.096 Z\" fill=\"#000000\" fill-rule=\"evenodd\" fill-opacity=\"1\" /><circle clip-path=\"url(#clip902)\" cx=\"267.406\" cy=\"1367.51\" r=\"14\" fill=\"#009af9\" fill-rule=\"evenodd\" fill-opacity=\"1\" stroke=\"#000000\" stroke-opacity=\"1\" stroke-width=\"3.2\"/>\n",
       "<circle clip-path=\"url(#clip902)\" cx=\"319.319\" cy=\"317.752\" r=\"14\" fill=\"#009af9\" fill-rule=\"evenodd\" fill-opacity=\"1\" stroke=\"#000000\" stroke-opacity=\"1\" stroke-width=\"3.2\"/>\n",
       "<circle clip-path=\"url(#clip902)\" cx=\"371.232\" cy=\"1429.02\" r=\"14\" fill=\"#009af9\" fill-rule=\"evenodd\" fill-opacity=\"1\" stroke=\"#000000\" stroke-opacity=\"1\" stroke-width=\"3.2\"/>\n",
       "<circle clip-path=\"url(#clip902)\" cx=\"423.145\" cy=\"199.48\" r=\"14\" fill=\"#009af9\" fill-rule=\"evenodd\" fill-opacity=\"1\" stroke=\"#000000\" stroke-opacity=\"1\" stroke-width=\"3.2\"/>\n",
       "<circle clip-path=\"url(#clip902)\" cx=\"475.058\" cy=\"1446.78\" r=\"14\" fill=\"#009af9\" fill-rule=\"evenodd\" fill-opacity=\"1\" stroke=\"#000000\" stroke-opacity=\"1\" stroke-width=\"3.2\"/>\n",
       "<circle clip-path=\"url(#clip902)\" cx=\"526.971\" cy=\"164.226\" r=\"14\" fill=\"#009af9\" fill-rule=\"evenodd\" fill-opacity=\"1\" stroke=\"#000000\" stroke-opacity=\"1\" stroke-width=\"3.2\"/>\n",
       "<circle clip-path=\"url(#clip902)\" cx=\"578.885\" cy=\"1447.87\" r=\"14\" fill=\"#009af9\" fill-rule=\"evenodd\" fill-opacity=\"1\" stroke=\"#000000\" stroke-opacity=\"1\" stroke-width=\"3.2\"/>\n",
       "<circle clip-path=\"url(#clip902)\" cx=\"630.798\" cy=\"162.054\" r=\"14\" fill=\"#009af9\" fill-rule=\"evenodd\" fill-opacity=\"1\" stroke=\"#000000\" stroke-opacity=\"1\" stroke-width=\"3.2\"/>\n",
       "<circle clip-path=\"url(#clip902)\" cx=\"682.711\" cy=\"1447.87\" r=\"14\" fill=\"#009af9\" fill-rule=\"evenodd\" fill-opacity=\"1\" stroke=\"#000000\" stroke-opacity=\"1\" stroke-width=\"3.2\"/>\n",
       "<circle clip-path=\"url(#clip902)\" cx=\"734.624\" cy=\"162.047\" r=\"14\" fill=\"#009af9\" fill-rule=\"evenodd\" fill-opacity=\"1\" stroke=\"#000000\" stroke-opacity=\"1\" stroke-width=\"3.2\"/>\n",
       "<circle clip-path=\"url(#clip902)\" cx=\"786.537\" cy=\"1447.87\" r=\"14\" fill=\"#009af9\" fill-rule=\"evenodd\" fill-opacity=\"1\" stroke=\"#000000\" stroke-opacity=\"1\" stroke-width=\"3.2\"/>\n",
       "<circle clip-path=\"url(#clip902)\" cx=\"838.45\" cy=\"162.047\" r=\"14\" fill=\"#009af9\" fill-rule=\"evenodd\" fill-opacity=\"1\" stroke=\"#000000\" stroke-opacity=\"1\" stroke-width=\"3.2\"/>\n",
       "<circle clip-path=\"url(#clip902)\" cx=\"890.363\" cy=\"1447.87\" r=\"14\" fill=\"#009af9\" fill-rule=\"evenodd\" fill-opacity=\"1\" stroke=\"#000000\" stroke-opacity=\"1\" stroke-width=\"3.2\"/>\n",
       "<circle clip-path=\"url(#clip902)\" cx=\"942.276\" cy=\"162.047\" r=\"14\" fill=\"#009af9\" fill-rule=\"evenodd\" fill-opacity=\"1\" stroke=\"#000000\" stroke-opacity=\"1\" stroke-width=\"3.2\"/>\n",
       "<circle clip-path=\"url(#clip902)\" cx=\"994.189\" cy=\"1447.87\" r=\"14\" fill=\"#009af9\" fill-rule=\"evenodd\" fill-opacity=\"1\" stroke=\"#000000\" stroke-opacity=\"1\" stroke-width=\"3.2\"/>\n",
       "<circle clip-path=\"url(#clip902)\" cx=\"1046.1\" cy=\"162.047\" r=\"14\" fill=\"#009af9\" fill-rule=\"evenodd\" fill-opacity=\"1\" stroke=\"#000000\" stroke-opacity=\"1\" stroke-width=\"3.2\"/>\n",
       "<circle clip-path=\"url(#clip902)\" cx=\"1098.02\" cy=\"1447.87\" r=\"14\" fill=\"#009af9\" fill-rule=\"evenodd\" fill-opacity=\"1\" stroke=\"#000000\" stroke-opacity=\"1\" stroke-width=\"3.2\"/>\n",
       "<circle clip-path=\"url(#clip902)\" cx=\"1149.93\" cy=\"162.047\" r=\"14\" fill=\"#009af9\" fill-rule=\"evenodd\" fill-opacity=\"1\" stroke=\"#000000\" stroke-opacity=\"1\" stroke-width=\"3.2\"/>\n",
       "<circle clip-path=\"url(#clip902)\" cx=\"1201.84\" cy=\"1447.87\" r=\"14\" fill=\"#009af9\" fill-rule=\"evenodd\" fill-opacity=\"1\" stroke=\"#000000\" stroke-opacity=\"1\" stroke-width=\"3.2\"/>\n",
       "<circle clip-path=\"url(#clip902)\" cx=\"1253.76\" cy=\"162.047\" r=\"14\" fill=\"#009af9\" fill-rule=\"evenodd\" fill-opacity=\"1\" stroke=\"#000000\" stroke-opacity=\"1\" stroke-width=\"3.2\"/>\n",
       "<circle clip-path=\"url(#clip902)\" cx=\"1305.67\" cy=\"1447.87\" r=\"14\" fill=\"#009af9\" fill-rule=\"evenodd\" fill-opacity=\"1\" stroke=\"#000000\" stroke-opacity=\"1\" stroke-width=\"3.2\"/>\n",
       "<circle clip-path=\"url(#clip902)\" cx=\"1357.58\" cy=\"162.047\" r=\"14\" fill=\"#009af9\" fill-rule=\"evenodd\" fill-opacity=\"1\" stroke=\"#000000\" stroke-opacity=\"1\" stroke-width=\"3.2\"/>\n",
       "<circle clip-path=\"url(#clip902)\" cx=\"1409.49\" cy=\"1447.87\" r=\"14\" fill=\"#009af9\" fill-rule=\"evenodd\" fill-opacity=\"1\" stroke=\"#000000\" stroke-opacity=\"1\" stroke-width=\"3.2\"/>\n",
       "<circle clip-path=\"url(#clip902)\" cx=\"1461.41\" cy=\"162.047\" r=\"14\" fill=\"#009af9\" fill-rule=\"evenodd\" fill-opacity=\"1\" stroke=\"#000000\" stroke-opacity=\"1\" stroke-width=\"3.2\"/>\n",
       "<circle clip-path=\"url(#clip902)\" cx=\"1513.32\" cy=\"1447.87\" r=\"14\" fill=\"#009af9\" fill-rule=\"evenodd\" fill-opacity=\"1\" stroke=\"#000000\" stroke-opacity=\"1\" stroke-width=\"3.2\"/>\n",
       "<circle clip-path=\"url(#clip902)\" cx=\"1565.23\" cy=\"162.047\" r=\"14\" fill=\"#009af9\" fill-rule=\"evenodd\" fill-opacity=\"1\" stroke=\"#000000\" stroke-opacity=\"1\" stroke-width=\"3.2\"/>\n",
       "<circle clip-path=\"url(#clip902)\" cx=\"1617.15\" cy=\"1447.87\" r=\"14\" fill=\"#009af9\" fill-rule=\"evenodd\" fill-opacity=\"1\" stroke=\"#000000\" stroke-opacity=\"1\" stroke-width=\"3.2\"/>\n",
       "<circle clip-path=\"url(#clip902)\" cx=\"1669.06\" cy=\"162.047\" r=\"14\" fill=\"#009af9\" fill-rule=\"evenodd\" fill-opacity=\"1\" stroke=\"#000000\" stroke-opacity=\"1\" stroke-width=\"3.2\"/>\n",
       "<circle clip-path=\"url(#clip902)\" cx=\"1720.97\" cy=\"1447.87\" r=\"14\" fill=\"#009af9\" fill-rule=\"evenodd\" fill-opacity=\"1\" stroke=\"#000000\" stroke-opacity=\"1\" stroke-width=\"3.2\"/>\n",
       "<circle clip-path=\"url(#clip902)\" cx=\"1772.89\" cy=\"162.047\" r=\"14\" fill=\"#009af9\" fill-rule=\"evenodd\" fill-opacity=\"1\" stroke=\"#000000\" stroke-opacity=\"1\" stroke-width=\"3.2\"/>\n",
       "<circle clip-path=\"url(#clip902)\" cx=\"1824.8\" cy=\"1447.87\" r=\"14\" fill=\"#009af9\" fill-rule=\"evenodd\" fill-opacity=\"1\" stroke=\"#000000\" stroke-opacity=\"1\" stroke-width=\"3.2\"/>\n",
       "<circle clip-path=\"url(#clip902)\" cx=\"1876.71\" cy=\"162.047\" r=\"14\" fill=\"#009af9\" fill-rule=\"evenodd\" fill-opacity=\"1\" stroke=\"#000000\" stroke-opacity=\"1\" stroke-width=\"3.2\"/>\n",
       "<circle clip-path=\"url(#clip902)\" cx=\"1928.63\" cy=\"1447.87\" r=\"14\" fill=\"#009af9\" fill-rule=\"evenodd\" fill-opacity=\"1\" stroke=\"#000000\" stroke-opacity=\"1\" stroke-width=\"3.2\"/>\n",
       "<circle clip-path=\"url(#clip902)\" cx=\"1980.54\" cy=\"162.047\" r=\"14\" fill=\"#009af9\" fill-rule=\"evenodd\" fill-opacity=\"1\" stroke=\"#000000\" stroke-opacity=\"1\" stroke-width=\"3.2\"/>\n",
       "<circle clip-path=\"url(#clip902)\" cx=\"2032.45\" cy=\"1447.87\" r=\"14\" fill=\"#009af9\" fill-rule=\"evenodd\" fill-opacity=\"1\" stroke=\"#000000\" stroke-opacity=\"1\" stroke-width=\"3.2\"/>\n",
       "<circle clip-path=\"url(#clip902)\" cx=\"2084.37\" cy=\"162.047\" r=\"14\" fill=\"#009af9\" fill-rule=\"evenodd\" fill-opacity=\"1\" stroke=\"#000000\" stroke-opacity=\"1\" stroke-width=\"3.2\"/>\n",
       "<circle clip-path=\"url(#clip902)\" cx=\"2136.28\" cy=\"1447.87\" r=\"14\" fill=\"#009af9\" fill-rule=\"evenodd\" fill-opacity=\"1\" stroke=\"#000000\" stroke-opacity=\"1\" stroke-width=\"3.2\"/>\n",
       "<circle clip-path=\"url(#clip902)\" cx=\"2188.19\" cy=\"162.047\" r=\"14\" fill=\"#009af9\" fill-rule=\"evenodd\" fill-opacity=\"1\" stroke=\"#000000\" stroke-opacity=\"1\" stroke-width=\"3.2\"/>\n",
       "<circle clip-path=\"url(#clip902)\" cx=\"2240.1\" cy=\"1447.87\" r=\"14\" fill=\"#009af9\" fill-rule=\"evenodd\" fill-opacity=\"1\" stroke=\"#000000\" stroke-opacity=\"1\" stroke-width=\"3.2\"/>\n",
       "<circle clip-path=\"url(#clip902)\" cx=\"2292.02\" cy=\"162.047\" r=\"14\" fill=\"#009af9\" fill-rule=\"evenodd\" fill-opacity=\"1\" stroke=\"#000000\" stroke-opacity=\"1\" stroke-width=\"3.2\"/>\n",
       "<path clip-path=\"url(#clip900)\" d=\"\n",
       "M1991.75 289.865 L2281.22 289.865 L2281.22 168.905 L1991.75 168.905  Z\n",
       "  \" fill=\"#ffffff\" fill-rule=\"evenodd\" fill-opacity=\"1\"/>\n",
       "<polyline clip-path=\"url(#clip900)\" style=\"stroke:#000000; stroke-width:4; stroke-opacity:1; fill:none\" points=\"\n",
       "  1991.75,289.865 2281.22,289.865 2281.22,168.905 1991.75,168.905 1991.75,289.865 \n",
       "  \"/>\n",
       "<circle clip-path=\"url(#clip900)\" cx=\"2087.13\" cy=\"229.385\" r=\"23\" fill=\"#009af9\" fill-rule=\"evenodd\" fill-opacity=\"1\" stroke=\"#000000\" stroke-opacity=\"1\" stroke-width=\"5.12\"/>\n",
       "<path clip-path=\"url(#clip900)\" d=\"M 0 0 M2196.35 249.072 Q2194.55 253.702 2192.83 255.114 Q2191.12 256.526 2188.25 256.526 L2184.85 256.526 L2184.85 252.961 L2187.35 252.961 Q2189.11 252.961 2190.08 252.128 Q2191.05 251.294 2192.23 248.192 L2193 246.248 L2182.51 220.739 L2187.02 220.739 L2195.13 241.017 L2203.23 220.739 L2207.74 220.739 L2196.35 249.072 Z\" fill=\"#000000\" fill-rule=\"evenodd\" fill-opacity=\"1\" /><path clip-path=\"url(#clip900)\" d=\"M 0 0 M2213.62 242.729 L2221.26 242.729 L2221.26 216.364 L2212.95 218.031 L2212.95 213.771 L2221.21 212.105 L2225.89 212.105 L2225.89 242.729 L2233.53 242.729 L2233.53 246.665 L2213.62 246.665 L2213.62 242.729 Z\" fill=\"#000000\" fill-rule=\"evenodd\" fill-opacity=\"1\" /></svg>\n"
      ]
     },
     "execution_count": 32,
     "metadata": {},
     "output_type": "execute_result"
    }
   ],
   "source": [
    "plot(arg_x, recursion([-1, 0.25]), seriestype = :scatter, title = \"c = -1   x0 = 0.25\")"
   ]
  },
  {
   "cell_type": "markdown",
   "metadata": {},
   "source": [
    "W tym zadaniu, podobnie jak w poprzednim badamy zjawisko stabilności numerycznej. Przypadek trzeci ( $c$=-2   $x_0$= 1.99999999999999) dostarcza nam najwięcej praktycznych informacji (reszta przypadków jest stabilna), ponieważ to w tym przypadku obserwujemy numeryczną niestabilność. Małe błędy nawarstwiają się powodując, że punkty należące do wykresu, od pewnego momentu są bardzo \"rozrzucone\". Zadanie jest zatem źle uwarunkowane, w szczególności dla danych w przykładzie 3."
   ]
  }
 ],
 "metadata": {
  "kernelspec": {
   "display_name": "Julia 1.5.2",
   "language": "julia",
   "name": "julia-1.5"
  },
  "language_info": {
   "file_extension": ".jl",
   "mimetype": "application/julia",
   "name": "julia",
   "version": "1.5.2"
  }
 },
 "nbformat": 4,
 "nbformat_minor": 4
}
