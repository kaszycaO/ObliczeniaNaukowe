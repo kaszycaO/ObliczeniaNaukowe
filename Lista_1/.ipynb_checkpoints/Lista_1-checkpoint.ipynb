{
 "cells": [
  {
   "cell_type": "markdown",
   "metadata": {},
   "source": [
    "# Zadanie 1."
   ]
  },
  {
   "cell_type": "markdown",
   "metadata": {},
   "source": [
    "Napisz program wyznaczający iteracyjnie epsilony maszynowe, dla wszystkich dostępnych typów zmiennopozycyjnych: Float16, Float32, Float64, zgodnych ze standardem IEEE 754."
   ]
  },
  {
   "cell_type": "code",
   "execution_count": 25,
   "metadata": {},
   "outputs": [
    {
     "data": {
      "text/plain": [
       "macheps (generic function with 1 method)"
      ]
     },
     "execution_count": 25,
     "metadata": {},
     "output_type": "execute_result"
    }
   ],
   "source": [
    "function macheps(my_type)\n",
    "    \n",
    "    macheps::my_type = 1.0\n",
    "    one::my_type = 1.0\n",
    "    divider::my_type = 2.0\n",
    "    \n",
    "    while one + macheps > one && one + macheps == 1 + macheps\n",
    "        macheps /= divider\n",
    "    end\n",
    "    \n",
    "    return macheps * 2\n",
    "end"
   ]
  },
  {
   "cell_type": "code",
   "execution_count": 26,
   "metadata": {},
   "outputs": [
    {
     "name": "stdout",
     "output_type": "stream",
     "text": [
      "0.000977 0.000977\n",
      "1.1920929e-7 1.1920929e-7\n",
      "2.220446049250313e-16 2.220446049250313e-16\n"
     ]
    }
   ],
   "source": [
    "println(macheps(Float16), \" \", eps(Float16))\n",
    "println(macheps(Float32), \" \", eps(Float32))\n",
    "println(macheps(Float64), \" \", eps(Float64))"
   ]
  },
  {
   "cell_type": "markdown",
   "metadata": {},
   "source": [
    "<br/><br/>"
   ]
  },
  {
   "cell_type": "markdown",
   "metadata": {},
   "source": [
    "![Porównanie machepsa z informacjami zawartymi we float.h](img/e.png)"
   ]
  },
  {
   "cell_type": "markdown",
   "metadata": {},
   "source": [
    "<center><i>Informacje o machepsie zawarte w bibliotece float.h</i></center>"
   ]
  },
  {
   "cell_type": "markdown",
   "metadata": {},
   "source": [
    "<br/><br/>"
   ]
  },
  {
   "cell_type": "markdown",
   "metadata": {},
   "source": [
    "Wyniki zwracane przez moją funkcję *macheps* są identyczne z wartościami zwracanymi przez funkcję Julii - *eps*\n",
    "Uzyskane epsilony maszynowe są rzeczywistą odległością liczby 1.0 od kolejnej liczby x (x > 1) w podanych typach zmiennopozycyjnych. "
   ]
  },
  {
   "cell_type": "markdown",
   "metadata": {},
   "source": [
    "Czy liczba macheps ma związek z precyzją arytmetyki?"
   ]
  },
  {
   "cell_type": "code",
   "execution_count": 2,
   "metadata": {},
   "outputs": [
    {
     "name": "stdout",
     "output_type": "stream",
     "text": [
      "Precyzja Float16: 0.00048828125\n"
     ]
    }
   ],
   "source": [
    "println(\"Precyzja Float16: \", 2^-11)"
   ]
  },
  {
   "cell_type": "code",
   "execution_count": 3,
   "metadata": {},
   "outputs": [
    {
     "name": "stdout",
     "output_type": "stream",
     "text": [
      "Precyzja Float32: 5.960464477539063e-8\n"
     ]
    }
   ],
   "source": [
    "println(\"Precyzja Float32: \", 2^-24)"
   ]
  },
  {
   "cell_type": "code",
   "execution_count": 5,
   "metadata": {},
   "outputs": [
    {
     "name": "stdout",
     "output_type": "stream",
     "text": [
      "Precyzja Float64: 1.1102230246251565e-16\n"
     ]
    }
   ],
   "source": [
    "println(\"Precyzja Float64: \", 2^-53)"
   ]
  },
  {
   "cell_type": "markdown",
   "metadata": {},
   "source": [
    "Precyzja arytmetyki mówi o tym ile cyfr znaczących (stanowiących mantysę w IEEE 754) jest reprezentowanych dokładnie, innymi słowy, na którym mniejscu znajduje się ostatni bit reprezentowany dokładnie. Precyzja jest związana z długością mantysy (która wynosi kolejno 10, 23, 52 bity/ów dla Float16, Float32, Float64).\n",
    "Z pomocą powyższych obliczeń można zauważyć, że epsilon maszynowy różni się o jeden rząd wielkości (jest 2x większy) od precyzji poszczególnych typów, zatem mieści się w mantysie."
   ]
  },
  {
   "cell_type": "markdown",
   "metadata": {},
   "source": [
    "Następnym zadaniem jest wyznaczenie iteracyjnie liczby maszynowej *eta*, czyli najmniejszej możliwej liczby, \n",
    "dla poszczególnych typów zmiennoprzecinkowych."
   ]
  },
  {
   "cell_type": "code",
   "execution_count": 27,
   "metadata": {},
   "outputs": [
    {
     "data": {
      "text/plain": [
       "eta (generic function with 1 method)"
      ]
     },
     "execution_count": 27,
     "metadata": {},
     "output_type": "execute_result"
    }
   ],
   "source": [
    "function eta(my_type)\n",
    "    \n",
    "    eta::my_type = 1.0\n",
    "    divider::my_type = 2.0\n",
    "    zero::my_type = 0.0\n",
    "    \n",
    "    while eta / divider > zero\n",
    "        eta /= divider\n",
    "    end\n",
    "    \n",
    "    return eta\n",
    "end"
   ]
  },
  {
   "cell_type": "code",
   "execution_count": 28,
   "metadata": {},
   "outputs": [
    {
     "name": "stdout",
     "output_type": "stream",
     "text": [
      "6.0e-8 6.0e-8\n",
      "1.0e-45 1.0e-45\n",
      "5.0e-324 5.0e-324\n"
     ]
    }
   ],
   "source": [
    "println(eta(Float16), \" \", nextfloat(Float16(0.0)))\n",
    "println(eta(Float32), \" \", nextfloat(Float32(0.0)))\n",
    "println(eta(Float64), \" \", nextfloat(Float64(0.0)))"
   ]
  },
  {
   "cell_type": "markdown",
   "metadata": {},
   "source": [
    "Otrzymane przeze mnie wyniki są identyczne z wartościami zwracanymi przez *nextfloat*. \n",
    "Ponadto *eta* jest równa $MIN_{SUB}$."
   ]
  },
  {
   "cell_type": "code",
   "execution_count": 42,
   "metadata": {},
   "outputs": [
    {
     "name": "stdout",
     "output_type": "stream",
     "text": [
      "1.1754944e-38\n",
      "2.2250738585072014e-308\n"
     ]
    }
   ],
   "source": [
    "println(floatmin(Float32))\n",
    "println(floatmin(Float64))"
   ]
  },
  {
   "cell_type": "markdown",
   "metadata": {},
   "source": [
    "Funkcja *floatmin* zwraca minimum znormalizowane dla odpowiedniej arytmetyki. "
   ]
  },
  {
   "cell_type": "markdown",
   "metadata": {},
   "source": [
    "Następnie wyznaczę iteracyjnie maksymalną liczbę dla wszystkich typów zmiennopozycyjnych."
   ]
  },
  {
   "cell_type": "code",
   "execution_count": 30,
   "metadata": {},
   "outputs": [
    {
     "data": {
      "text/plain": [
       "max_func (generic function with 1 method)"
      ]
     },
     "execution_count": 30,
     "metadata": {},
     "output_type": "execute_result"
    }
   ],
   "source": [
    "function max_func(my_type)\n",
    "    \n",
    "    my_max::my_type = 0.0\n",
    "    helper::my_type = 1.0\n",
    "    two::my_type = 2.0\n",
    "    zero::my_type = 0.0\n",
    "    \n",
    "    while my_max + helper < two\n",
    "        my_max += helper\n",
    "        helper /= two\n",
    "    end\n",
    "    \n",
    "    while !isinf(my_max * two)\n",
    "        my_max *= two\n",
    "    end\n",
    "    \n",
    "    return my_max\n",
    "end"
   ]
  },
  {
   "cell_type": "code",
   "execution_count": 31,
   "metadata": {},
   "outputs": [
    {
     "name": "stdout",
     "output_type": "stream",
     "text": [
      "6.55e4 6.55e4\n",
      "3.4028235e38 3.4028235e38\n",
      "1.7976931348623157e308 1.7976931348623157e308\n"
     ]
    }
   ],
   "source": [
    "println(max_func(Float16), \" \", floatmax(Float16))\n",
    "println(max_func(Float32), \" \", floatmax(Float32))\n",
    "println(max_func(Float64), \" \", floatmax(Float64))"
   ]
  },
  {
   "cell_type": "markdown",
   "metadata": {},
   "source": [
    "Maksymalna liczba wyliczona przeze mnie pokrywa się z wartościami przedstawionymi na wykładzie. "
   ]
  },
  {
   "cell_type": "markdown",
   "metadata": {},
   "source": [
    "![Porównanie machepsa z informacjami zawartymi we float.h](img/max.png)"
   ]
  },
  {
   "cell_type": "markdown",
   "metadata": {},
   "source": [
    "<center><i>Podstawowe informacje o każdym formacie, przedstawione na wykładzie</i></center>\n"
   ]
  },
  {
   "cell_type": "markdown",
   "metadata": {},
   "source": [
    "Podsumowując, należy pamiętać, że każdy typ zmiennopozycyjny arytmetyki IEEE 754 ma skończoną dokładność, co bezpośrednio wpływa na otrzymywane wyniki."
   ]
  },
  {
   "cell_type": "markdown",
   "metadata": {},
   "source": [
    "# Zadanie 2 "
   ]
  },
  {
   "cell_type": "markdown",
   "metadata": {},
   "source": [
    "Sprawdź czy wzór na epsilon maszynowy, podany przez Kahana jest prawdziwy."
   ]
  },
  {
   "cell_type": "code",
   "execution_count": 83,
   "metadata": {},
   "outputs": [
    {
     "data": {
      "text/plain": [
       "kahan (generic function with 1 method)"
      ]
     },
     "execution_count": 83,
     "metadata": {},
     "output_type": "execute_result"
    }
   ],
   "source": [
    "function kahan(my_type)\n",
    "    \n",
    "    three::my_type = 3\n",
    "    one::my_type = 1\n",
    "    four::my_type = 4\n",
    "    \n",
    "    return three * (four/three - one) - one\n",
    "end"
   ]
  },
  {
   "cell_type": "code",
   "execution_count": 85,
   "metadata": {},
   "outputs": [
    {
     "name": "stdout",
     "output_type": "stream",
     "text": [
      "-0.000977 0.000977\n",
      "1.1920929e-7 1.1920929e-7\n",
      "-2.220446049250313e-16 2.220446049250313e-16\n"
     ]
    }
   ],
   "source": [
    "println(kahan(Float16), \" \", eps(Float16))\n",
    "println(kahan(Float32), \" \", eps(Float32))\n",
    "println(kahan(Float64), \" \", eps(Float64))"
   ]
  },
  {
   "cell_type": "markdown",
   "metadata": {},
   "source": [
    "Wzór Kahana rzeczywiście zwraca nam epsilony maszynowe dla poszczególnych typów zmiennoprzecinkowych. Zważywszy jednak na definicję machepsa (który jest najmniejszą odległością 1.0 od x (x > 1)), należy na wzór nałożyć wartość bezwzględną, żeby wynik był formalnie poprawny."
   ]
  },
  {
   "cell_type": "markdown",
   "metadata": {},
   "source": [
    "# Zadanie 3"
   ]
  },
  {
   "cell_type": "markdown",
   "metadata": {},
   "source": [
    "Czy liczby zmiennopozycyjne są równomiernie rozmieszczone w przedziale $[1,2]$ z krokiem $\\delta = 2^{-52}$?\n",
    "\n",
    "Jak rozmieszczone są w przedziałach $[\\frac{1}{2}, 1]$ i $[2,4]$?"
   ]
  },
  {
   "cell_type": "code",
   "execution_count": 79,
   "metadata": {
    "scrolled": false
   },
   "outputs": [
    {
     "data": {
      "text/plain": [
       "numbers (generic function with 5 methods)"
      ]
     },
     "execution_count": 79,
     "metadata": {},
     "output_type": "execute_result"
    }
   ],
   "source": [
    "function numbers(start, fin, delta, results=5)\n",
    "    \n",
    "    for i = floor(start):fin - 1 \n",
    "        println(\"Starting point: \", start)\n",
    "        k::Float64 = 1.0\n",
    "        while k <= Float64(results)\n",
    "            println(bitstring(Float64(start) + k*Float64(delta)))\n",
    "            k += Float64(1.0)\n",
    "        end\n",
    "        start += 1\n",
    "    end\n",
    "end\n"
   ]
  },
  {
   "cell_type": "code",
   "execution_count": 80,
   "metadata": {},
   "outputs": [
    {
     "name": "stdout",
     "output_type": "stream",
     "text": [
      "Starting point: 1\n",
      "0011111111110000000000000000000000000000000000000000000000000001\n",
      "0011111111110000000000000000000000000000000000000000000000000010\n",
      "0011111111110000000000000000000000000000000000000000000000000011\n",
      "0011111111110000000000000000000000000000000000000000000000000100\n",
      "0011111111110000000000000000000000000000000000000000000000000101\n"
     ]
    }
   ],
   "source": [
    "numbers(1, 2, 2^-52)"
   ]
  },
  {
   "cell_type": "code",
   "execution_count": 81,
   "metadata": {},
   "outputs": [
    {
     "name": "stdout",
     "output_type": "stream",
     "text": [
      "Starting point: 0.5\n",
      "0011111111100000000000000000000000000000000000000000000000000001\n",
      "0011111111100000000000000000000000000000000000000000000000000010\n",
      "0011111111100000000000000000000000000000000000000000000000000011\n",
      "0011111111100000000000000000000000000000000000000000000000000100\n",
      "0011111111100000000000000000000000000000000000000000000000000101\n"
     ]
    }
   ],
   "source": [
    "numbers(0.5,1, 2^-53)"
   ]
  },
  {
   "cell_type": "code",
   "execution_count": 82,
   "metadata": {},
   "outputs": [
    {
     "name": "stdout",
     "output_type": "stream",
     "text": [
      "Starting point: 2\n",
      "0100000000000000000000000000000000000000000000000000000000000001\n",
      "0100000000000000000000000000000000000000000000000000000000000010\n",
      "0100000000000000000000000000000000000000000000000000000000000011\n",
      "0100000000000000000000000000000000000000000000000000000000000100\n",
      "0100000000000000000000000000000000000000000000000000000000000101\n",
      "Starting point: 3\n",
      "0100000000001000000000000000000000000000000000000000000000000001\n",
      "0100000000001000000000000000000000000000000000000000000000000010\n",
      "0100000000001000000000000000000000000000000000000000000000000011\n",
      "0100000000001000000000000000000000000000000000000000000000000100\n",
      "0100000000001000000000000000000000000000000000000000000000000101\n"
     ]
    }
   ],
   "source": [
    "numbers(2, 4, 2^-51)"
   ]
  },
  {
   "cell_type": "markdown",
   "metadata": {},
   "source": [
    "Na podstawie powyższych eksperymentów można stwierdzić, że liczby w podanych przedziałach są równomiernie rozłożone (każda kolejna liczba jest o 1 większa), zgodnie ze wzorem $x = 1 + k\\delta$, dla różnych kroków $\\delta$. Krok dla danego przedziału zależy od cechy - rośnie wraz z jej wzrostem. Stały odstęp między liczbami z podanych przedziałów, wynika z niezmiennej liczby bitów mantysy. Można zatem stwierdzić, że w każdym takim przedziale można reprezentować tyle samo liczb.\n",
    "Dla przedziału $[1,2]$, równomierne rozmieszczenie dla kroku $\\delta = 2^{-52}$, \n",
    "dla $[\\frac{1}{2}, 1]$, równomierne rozmieszczenie dla kroku $\\delta = 2^{-53}$, \n",
    "dla przedziału $[2,4]$, równomierne rozmieszczenie dla kroku $\\delta = 2^{-51}$."
   ]
  },
  {
   "cell_type": "markdown",
   "metadata": {},
   "source": [
    "# Zadanie 4"
   ]
  },
  {
   "cell_type": "markdown",
   "metadata": {},
   "source": [
    "Znajdź najmniejszą liczbę w przedziale $1 < x < 2$, która nie jest odwracalna, tzn. $x * \\frac{1}{x} \\ne 1 $"
   ]
  },
  {
   "cell_type": "code",
   "execution_count": 2,
   "metadata": {},
   "outputs": [
    {
     "data": {
      "text/plain": [
       "min_reversible (generic function with 1 method)"
      ]
     },
     "execution_count": 2,
     "metadata": {},
     "output_type": "execute_result"
    }
   ],
   "source": [
    "function min_reversible(start::Float64)\n",
    "    result::Float64 = start\n",
    "    one::Float64 = 1.0\n",
    "    \n",
    "    while result * (one/result) == one && result < 2.0\n",
    "        result = nextfloat(result)  \n",
    "    end\n",
    "    \n",
    "    return result\n",
    "end"
   ]
  },
  {
   "cell_type": "code",
   "execution_count": 11,
   "metadata": {
    "scrolled": true
   },
   "outputs": [
    {
     "name": "stdout",
     "output_type": "stream",
     "text": [
      "0.9999999427710061\n",
      "Wynik: 1.000000057228997, ponieważ x * 1/x = 0.9999999999999999\n"
     ]
    }
   ],
   "source": [
    "x = min_reversible(1.0)\n",
    "println(\"Wynik: \", x, \", ponieważ x * 1/x = \", x * (Float64(1.0)/x))"
   ]
  },
  {
   "cell_type": "code",
   "execution_count": 4,
   "metadata": {},
   "outputs": [
    {
     "name": "stdout",
     "output_type": "stream",
     "text": [
      "Wynik: 5.0e-324, ponieważ x * 1/x = Inf\n"
     ]
    }
   ],
   "source": [
    "x = min_reversible(nextfloat(0.0))\n",
    "println(\"Wynik: \", x, \", ponieważ x * 1/x = \", x * (Float64(1.0)/x))"
   ]
  },
  {
   "cell_type": "markdown",
   "metadata": {},
   "source": [
    "Na podstawie powyższych obliczeń można zauważyć, że w arytmetyce Float64, nierówność  $x * \\frac{1}{x} \\ne 1 $ jest prawdziwa dla niektórych liczb. Zjawisko to występuje, ponieważ następuje redukcja cyfr znaczących, wynikająca z ograniczeń precyzji zadanej arytmetyki. Problem ten będzie najbardziej widoczny na liczbach rzeczywistych, posiadających dziesiętne rozwinięcie skończone, a binarne nieskończone. "
   ]
  },
  {
   "cell_type": "markdown",
   "metadata": {},
   "source": [
    "# Zadanie 5"
   ]
  },
  {
   "cell_type": "markdown",
   "metadata": {},
   "source": [
    "Napisz program do obliczania iloczynu skalarnego dwóch wektorów, wykorzystując 4 różne algorytmy sumowania."
   ]
  },
  {
   "cell_type": "code",
   "execution_count": 6,
   "metadata": {},
   "outputs": [
    {
     "data": {
      "text/plain": [
       "ascending"
      ]
     },
     "execution_count": 6,
     "metadata": {},
     "output_type": "execute_result"
    }
   ],
   "source": [
    "\"Dodawanie w przód\"\n",
    "function front(vector_1, vector_2, my_type)\n",
    "  sum::my_type = 0.0\n",
    "  for i = 1:length(vector_1)\n",
    "    sum += my_type(vector_1[i]) * my_type(vector_2[i])\n",
    "  end\n",
    "  return sum\n",
    "end\n",
    "\n",
    "\"Dodawanie w tył\"\n",
    "function back(vector_1, vector_2, my_type)\n",
    "  sum::my_type = 0.0\n",
    "  for i = length(vector_1):-1:1\n",
    "    sum += my_type(vector_1[i]) * my_type(vector_2[i])\n",
    "  end\n",
    "  return sum\n",
    "end\n",
    "\n",
    "\"Dodawanie od największego do najmniejszego\"\n",
    "function descending(vector_1, vector_2, my_type)\n",
    "    \n",
    "    positives = zeros(my_type, 0)\n",
    "    negatives = zeros(my_type, 0)\n",
    "    \n",
    "    for i = 1 : length(vector_1)\n",
    "        \n",
    "        mul = my_type(vector_1[i]) * my_type(vector_2[i])\n",
    "        \n",
    "        if mul < 0.0\n",
    "            push!(negatives, mul)\n",
    "        else\n",
    "            push!(positives, mul)\n",
    "        end\n",
    "    end\n",
    "    \n",
    "    return my_type(sum(sort(positives, rev=true)) + sum(sort(negatives, rev=true)))\n",
    "    \n",
    "    \n",
    "end\n",
    "\n",
    "\"Dodawanie od najmniejszego do największego\"\n",
    "function ascending(vector_1, vector_2, my_type)\n",
    "    \n",
    "    positives = zeros(my_type, 0)\n",
    "    negatives = zeros(my_type, 0)\n",
    "    \n",
    "    for i = 1 : length(vector_1)\n",
    "        \n",
    "        mul = my_type(vector_1[i]) * my_type(vector_2[i])\n",
    "        \n",
    "        if mul < 0.0\n",
    "            push!(negatives, mul)\n",
    "        else\n",
    "            push!(positives, mul)\n",
    "        end\n",
    "    end\n",
    "    \n",
    "    return my_type(sum(sort(positives)) + sum(sort(negatives)))\n",
    "        \n",
    "end"
   ]
  },
  {
   "cell_type": "code",
   "execution_count": 7,
   "metadata": {
    "scrolled": true
   },
   "outputs": [
    {
     "name": "stdout",
     "output_type": "stream",
     "text": [
      "Float32\n",
      "W przód: -0.4999443, błąd: 0.49994429944939167\n",
      "W tył: -0.4543457, błąd: 0.4543457031149343\n",
      "Malejąco: -0.5, błąd: 0.4999999999899343\n",
      "Rosnąco: -0.5, błąd: 0.4999999999899343\n",
      "\n",
      "Float64\n",
      "W przód: 1.0251881368296672e-10, błąd: 1.1258452438296672e-10\n",
      "W tył: -1.5643308870494366e-10, błąd: 1.4636737800494365e-10\n",
      "Malejąco: 0.0, błąd: 1.0065710700000004e-11\n",
      "Rosnąco: 0.0, błąd: 1.0065710700000004e-11\n"
     ]
    }
   ],
   "source": [
    "x =  [2.718281828,-3.141592654,1.414213562,0.5772156649,0.3010299957]\n",
    "y =  [1486.2497,878366.9879,-22.37492,4773714.647,0.000185049]\n",
    "result = -1.00657107000000 * (1/10)^11\n",
    "\n",
    "println(\"Float32\")\n",
    "f = front(x, y, Float32)\n",
    "b = back(x, y, Float32)\n",
    "d = descending(x, y, Float32)\n",
    "a = ascending(x, y, Float32)\n",
    "\n",
    "println(\"W przód: \", f, \", błąd: \", abs(result - f))\n",
    "println(\"W tył: \", b, \", błąd: \", abs(result - b))\n",
    "println(\"Malejąco: \", d, \", błąd: \", abs(result - d))\n",
    "println(\"Rosnąco: \", a, \", błąd: \", abs(result - a))\n",
    "\n",
    "\n",
    "println(\"\\nFloat64\")\n",
    "f = front(x, y, Float64)\n",
    "b = back(x, y, Float64)\n",
    "d = descending(x, y, Float64)\n",
    "a = ascending(x, y, Float64)\n",
    "\n",
    "println(\"W przód: \", f, \", błąd: \", abs(result - f))\n",
    "println(\"W tył: \", b, \", błąd: \", abs(result - b))\n",
    "println(\"Malejąco: \", d, \", błąd: \", abs(result - d))\n",
    "println(\"Rosnąco: \", a, \", błąd: \", abs(result - a))\n"
   ]
  },
  {
   "cell_type": "markdown",
   "metadata": {},
   "source": [
    "Na podstawie powyższego eksperymentu, łatwo zauważyć, że zarówno precyzja (typ zmiennoprzecinkowy), jak i wykorzystywany algorytm sumowania mają wpływ na otrzymywane wyniki. Należy zatem pamiętać, że dodawanie w typach zmiennoprzecinkowych nie jest przemienne!"
   ]
  },
  {
   "cell_type": "markdown",
   "metadata": {},
   "source": [
    "# Zadanie 6"
   ]
  },
  {
   "cell_type": "markdown",
   "metadata": {},
   "source": [
    "Policz w arytmetyce Float64 wartości następujących funkcji: $f(x) = \\sqrt{x^2 + 1} - 1$,  $g(x) = \\frac{x^2}{\\sqrt{x^2 + 1} + 1}$ dla $x = 8^{-n}$, gdzie n = 1, 2, 3 $\\dots$ "
   ]
  },
  {
   "cell_type": "code",
   "execution_count": 12,
   "metadata": {},
   "outputs": [
    {
     "data": {
      "text/plain": [
       "compare (generic function with 1 method)"
      ]
     },
     "execution_count": 12,
     "metadata": {},
     "output_type": "execute_result"
    }
   ],
   "source": [
    "function f(x::Float64)\n",
    "    return sqrt(x^2.0 + 1.0) - 1.0\n",
    "end\n",
    "\n",
    "function g(x::Float64) \n",
    "    return x^2.0/(sqrt(x^2.0 + 1.0) + 1.0)\n",
    "end\n",
    "        \n",
    "        \n",
    "function compare(results::Int)\n",
    "    \n",
    "    for i = 1:results\n",
    "        println(\"f(x): \", f((1/8)^i),\"  g(x): \", g((1/8)^i))\n",
    "    end\n",
    "    \n",
    "end\n",
    "    "
   ]
  },
  {
   "cell_type": "code",
   "execution_count": 15,
   "metadata": {},
   "outputs": [
    {
     "name": "stdout",
     "output_type": "stream",
     "text": [
      "f(x): 0.0077822185373186414  g(x): 0.0077822185373187065\n",
      "f(x): 0.00012206286282867573  g(x): 0.00012206286282875901\n",
      "f(x): 1.9073468138230965e-6  g(x): 1.907346813826566e-6\n",
      "f(x): 2.9802321943606103e-8  g(x): 2.9802321943606116e-8\n",
      "f(x): 4.656612873077393e-10  g(x): 4.6566128719931904e-10\n",
      "f(x): 7.275957614183426e-12  g(x): 7.275957614156956e-12\n",
      "f(x): 1.1368683772161603e-13  g(x): 1.1368683772160957e-13\n",
      "f(x): 1.7763568394002505e-15  g(x): 1.7763568394002489e-15\n",
      "f(x): 0.0  g(x): 2.7755575615628914e-17\n",
      "f(x): 0.0  g(x): 4.336808689942018e-19\n",
      "f(x): 0.0  g(x): 6.776263578034403e-21\n",
      "f(x): 0.0  g(x): 1.0587911840678754e-22\n",
      "f(x): 0.0  g(x): 1.6543612251060553e-24\n",
      "f(x): 0.0  g(x): 2.5849394142282115e-26\n",
      "f(x): 0.0  g(x): 4.0389678347315804e-28\n",
      "f(x): 0.0  g(x): 6.310887241768095e-30\n",
      "f(x): 0.0  g(x): 9.860761315262648e-32\n",
      "f(x): 0.0  g(x): 1.5407439555097887e-33\n",
      "f(x): 0.0  g(x): 2.407412430484045e-35\n",
      "f(x): 0.0  g(x): 3.76158192263132e-37\n"
     ]
    }
   ],
   "source": [
    "compare(20)"
   ]
  },
  {
   "cell_type": "markdown",
   "metadata": {},
   "source": [
    "Od pewnego momentu (już dla n = 9) funkcja f zaczyna zwracać 0.0. Podczas obliczania ($f(x) = \\sqrt{x^2 + 1} - 1$) następuje redukcja cyfr znaczących, odejmowane są bliskie sobie liczby. Aby uniknąć błędów obliczeniowych, należy unikać odejmowania liczb znajdujących się blisko siebie, przykładowo zmieniając sposób w jaki opisujemy zadany problem."
   ]
  },
  {
   "cell_type": "markdown",
   "metadata": {},
   "source": [
    "# Zadanie 7"
   ]
  },
  {
   "cell_type": "markdown",
   "metadata": {},
   "source": [
    "Policz przybliżoną wartość pochodnej $f(x) = sinx + cos3x$ za pomocą wzoru $f'(x_0) = \\frac{f(x_0 + h) - f(x_0)}{h}$. Wyniki porównaj z dokładną wartością pochodnej."
   ]
  },
  {
   "cell_type": "markdown",
   "metadata": {},
   "source": [
    "W poniższych obliczeniach będę rozważał $h$ zgodnie ze wzorem: $h = 2^{-n}$ dla n = 0, 1, 2, $\\dots$, 54. "
   ]
  },
  {
   "cell_type": "code",
   "execution_count": 20,
   "metadata": {},
   "outputs": [
    {
     "data": {
      "text/plain": [
       "compare_derivative (generic function with 1 method)"
      ]
     },
     "execution_count": 20,
     "metadata": {},
     "output_type": "execute_result"
    }
   ],
   "source": [
    "function approx_derivative(func, x0, h)\n",
    "    return (func(x0 + h) - func(x0)) / h\n",
    "end\n",
    "\n",
    "\n",
    "function func(x)\n",
    "    return sin(x) + cos(3x)\n",
    "end\n",
    "\n",
    "   \n",
    "function compare_derivative(x0::Float64)\n",
    "    \n",
    "    derivative = Float64(cos(x0) - 3 * sin(3 * x0))\n",
    "    best::Float64 = 1.0\n",
    "    result::Float64 = 0.0\n",
    "    for n = 0 : 54\n",
    "        h = Float64((1/2)^n)\n",
    "        approx = approx_derivative(func, x0, h)\n",
    "        error = abs(derivative - approx)\n",
    "        println(\"Dla h = \", h, \", wartość przybliżanej pochodnej wynosi: \", approx)\n",
    "        println(\"Błąd takiego przybliżenia to: \", error)\n",
    "        if best > error\n",
    "            best = error\n",
    "            result = approx\n",
    "        end\n",
    "    end\n",
    "    \n",
    "    println(\"\")\n",
    "    println(\"Dokładna wartość pochodnej wynosi: \", derivative)\n",
    "    println(\"Najlepsze przybliżenie pochodnej wynosi: \", result, \" z błędem \", best)\n",
    "    \n",
    "end\n",
    "     "
   ]
  },
  {
   "cell_type": "code",
   "execution_count": 19,
   "metadata": {},
   "outputs": [
    {
     "name": "stdout",
     "output_type": "stream",
     "text": [
      "Dla h = 1.0 0, wartość przybliżanej pochodnej wynosi: 2.0179892252685967\n",
      "Błąd takiego przybliżenia to: 1.9010469435800585\n",
      "Dla h = 0.5 1, wartość przybliżanej pochodnej wynosi: 1.8704413979316472\n",
      "Błąd takiego przybliżenia to: 1.753499116243109\n",
      "Dla h = 0.25 2, wartość przybliżanej pochodnej wynosi: 1.1077870952342974\n",
      "Błąd takiego przybliżenia to: 0.9908448135457593\n",
      "Dla h = 0.125 3, wartość przybliżanej pochodnej wynosi: 0.6232412792975817\n",
      "Błąd takiego przybliżenia to: 0.5062989976090435\n",
      "Dla h = 0.0625 4, wartość przybliżanej pochodnej wynosi: 0.3704000662035192\n",
      "Błąd takiego przybliżenia to: 0.253457784514981\n",
      "Dla h = 0.03125 5, wartość przybliżanej pochodnej wynosi: 0.24344307439754687\n",
      "Błąd takiego przybliżenia to: 0.1265007927090087\n",
      "Dla h = 0.015625 6, wartość przybliżanej pochodnej wynosi: 0.18009756330732785\n",
      "Błąd takiego przybliżenia to: 0.0631552816187897\n",
      "Dla h = 0.0078125 7, wartość przybliżanej pochodnej wynosi: 0.1484913953710958\n",
      "Błąd takiego przybliżenia to: 0.03154911368255764\n",
      "Dla h = 0.00390625 8, wartość przybliżanej pochodnej wynosi: 0.1327091142805159\n",
      "Błąd takiego przybliżenia to: 0.015766832591977753\n",
      "Dla h = 0.001953125 9, wartość przybliżanej pochodnej wynosi: 0.1248236929407085\n",
      "Błąd takiego przybliżenia to: 0.007881411252170345\n",
      "Dla h = 0.0009765625 10, wartość przybliżanej pochodnej wynosi: 0.12088247681106168\n",
      "Błąd takiego przybliżenia to: 0.0039401951225235265\n",
      "Dla h = 0.00048828125 11, wartość przybliżanej pochodnej wynosi: 0.11891225046883847\n",
      "Błąd takiego przybliżenia to: 0.001969968780300313\n",
      "Dla h = 0.000244140625 12, wartość przybliżanej pochodnej wynosi: 0.11792723373901026\n",
      "Błąd takiego przybliżenia to: 0.0009849520504721099\n",
      "Dla h = 0.0001220703125 13, wartość przybliżanej pochodnej wynosi: 0.11743474961076572\n",
      "Błąd takiego przybliżenia to: 0.0004924679222275685\n",
      "Dla h = 6.103515625e-5 14, wartość przybliżanej pochodnej wynosi: 0.11718851362093119\n",
      "Błąd takiego przybliżenia to: 0.0002462319323930373\n",
      "Dla h = 3.0517578125e-5 15, wartość przybliżanej pochodnej wynosi: 0.11706539714577957\n",
      "Błąd takiego przybliżenia to: 0.00012311545724141837\n",
      "Dla h = 1.52587890625e-5 16, wartość przybliżanej pochodnej wynosi: 0.11700383928837255\n",
      "Błąd takiego przybliżenia to: 6.155759983439424e-5\n",
      "Dla h = 7.62939453125e-6 17, wartość przybliżanej pochodnej wynosi: 0.11697306045971345\n",
      "Błąd takiego przybliżenia to: 3.077877117529937e-5\n",
      "Dla h = 3.814697265625e-6 18, wartość przybliżanej pochodnej wynosi: 0.11695767106721178\n",
      "Błąd takiego przybliżenia to: 1.5389378673624776e-5\n",
      "Dla h = 1.9073486328125e-6 19, wartość przybliżanej pochodnej wynosi: 0.11694997636368498\n",
      "Błąd takiego przybliżenia to: 7.694675146829866e-6\n",
      "Dla h = 9.5367431640625e-7 20, wartość przybliżanej pochodnej wynosi: 0.11694612901192158\n",
      "Błąd takiego przybliżenia to: 3.8473233834324105e-6\n",
      "Dla h = 4.76837158203125e-7 21, wartość przybliżanej pochodnej wynosi: 0.1169442052487284\n",
      "Błąd takiego przybliżenia to: 1.9235601902423127e-6\n",
      "Dla h = 2.384185791015625e-7 22, wartość przybliżanej pochodnej wynosi: 0.11694324295967817\n",
      "Błąd takiego przybliżenia to: 9.612711400208696e-7\n",
      "Dla h = 1.1920928955078125e-7 23, wartość przybliżanej pochodnej wynosi: 0.11694276239722967\n",
      "Błąd takiego przybliżenia to: 4.807086915192826e-7\n",
      "Dla h = 5.960464477539063e-8 24, wartość przybliżanej pochodnej wynosi: 0.11694252118468285\n",
      "Błąd takiego przybliżenia to: 2.394961446938737e-7\n",
      "Dla h = 2.9802322387695312e-8 25, wartość przybliżanej pochodnej wynosi: 0.116942398250103\n",
      "Błąd takiego przybliżenia to: 1.1656156484463054e-7\n",
      "Dla h = 1.4901161193847656e-8 26, wartość przybliżanej pochodnej wynosi: 0.11694233864545822\n",
      "Błąd takiego przybliżenia to: 5.6956920069239914e-8\n",
      "Dla h = 7.450580596923828e-9 27, wartość przybliżanej pochodnej wynosi: 0.11694231629371643\n",
      "Błąd takiego przybliżenia to: 3.460517827846843e-8\n",
      "Dla h = 3.725290298461914e-9 28, wartość przybliżanej pochodnej wynosi: 0.11694228649139404\n",
      "Błąd takiego przybliżenia to: 4.802855890773117e-9\n",
      "Dla h = 1.862645149230957e-9 29, wartość przybliżanej pochodnej wynosi: 0.11694222688674927\n",
      "Błąd takiego przybliżenia to: 5.480178888461751e-8\n",
      "Dla h = 9.313225746154785e-10 30, wartość przybliżanej pochodnej wynosi: 0.11694216728210449\n",
      "Błąd takiego przybliżenia to: 1.1440643366000813e-7\n",
      "Dla h = 4.656612873077393e-10 31, wartość przybliżanej pochodnej wynosi: 0.11694216728210449\n",
      "Błąd takiego przybliżenia to: 1.1440643366000813e-7\n",
      "Dla h = 2.3283064365386963e-10 32, wartość przybliżanej pochodnej wynosi: 0.11694192886352539\n",
      "Błąd takiego przybliżenia to: 3.5282501276157063e-7\n",
      "Dla h = 1.1641532182693481e-10 33, wartość przybliżanej pochodnej wynosi: 0.11694145202636719\n",
      "Błąd takiego przybliżenia to: 8.296621709646956e-7\n",
      "Dla h = 5.820766091346741e-11 34, wartość przybliżanej pochodnej wynosi: 0.11694145202636719\n",
      "Błąd takiego przybliżenia to: 8.296621709646956e-7\n",
      "Dla h = 2.9103830456733704e-11 35, wartość przybliżanej pochodnej wynosi: 0.11693954467773438\n",
      "Błąd takiego przybliżenia to: 2.7370108037771956e-6\n",
      "Dla h = 1.4551915228366852e-11 36, wartość przybliżanej pochodnej wynosi: 0.116943359375\n",
      "Błąd takiego przybliżenia to: 1.0776864618478044e-6\n",
      "Dla h = 7.275957614183426e-12 37, wartość przybliżanej pochodnej wynosi: 0.1169281005859375\n",
      "Błąd takiego przybliżenia to: 1.4181102600652196e-5\n",
      "Dla h = 3.637978807091713e-12 38, wartość przybliżanej pochodnej wynosi: 0.116943359375\n",
      "Błąd takiego przybliżenia to: 1.0776864618478044e-6\n",
      "Dla h = 1.8189894035458565e-12 39, wartość przybliżanej pochodnej wynosi: 0.11688232421875\n",
      "Błąd takiego przybliżenia to: 5.9957469788152196e-5\n",
      "Dla h = 9.094947017729282e-13 40, wartość przybliżanej pochodnej wynosi: 0.1168212890625\n",
      "Błąd takiego przybliżenia to: 0.0001209926260381522\n",
      "Dla h = 4.547473508864641e-13 41, wartość przybliżanej pochodnej wynosi: 0.116943359375\n",
      "Błąd takiego przybliżenia to: 1.0776864618478044e-6\n",
      "Dla h = 2.2737367544323206e-13 42, wartość przybliżanej pochodnej wynosi: 0.11669921875\n",
      "Błąd takiego przybliżenia to: 0.0002430629385381522\n",
      "Dla h = 1.1368683772161603e-13 43, wartość przybliżanej pochodnej wynosi: 0.1162109375\n",
      "Błąd takiego przybliżenia to: 0.0007313441885381522\n",
      "Dla h = 5.684341886080802e-14 44, wartość przybliżanej pochodnej wynosi: 0.1171875\n",
      "Błąd takiego przybliżenia to: 0.0002452183114618478\n",
      "Dla h = 2.842170943040401e-14 45, wartość przybliżanej pochodnej wynosi: 0.11328125\n",
      "Błąd takiego przybliżenia to: 0.003661031688538152\n",
      "Dla h = 1.4210854715202004e-14 46, wartość przybliżanej pochodnej wynosi: 0.109375\n",
      "Błąd takiego przybliżenia to: 0.007567281688538152\n",
      "Dla h = 7.105427357601002e-15 47, wartość przybliżanej pochodnej wynosi: 0.109375\n",
      "Błąd takiego przybliżenia to: 0.007567281688538152\n",
      "Dla h = 3.552713678800501e-15 48, wartość przybliżanej pochodnej wynosi: 0.09375\n",
      "Błąd takiego przybliżenia to: 0.023192281688538152\n",
      "Dla h = 1.7763568394002505e-15 49, wartość przybliżanej pochodnej wynosi: 0.125\n",
      "Błąd takiego przybliżenia to: 0.008057718311461848\n",
      "Dla h = 8.881784197001252e-16 50, wartość przybliżanej pochodnej wynosi: 0.0\n",
      "Błąd takiego przybliżenia to: 0.11694228168853815\n",
      "Dla h = 4.440892098500626e-16 51, wartość przybliżanej pochodnej wynosi: 0.0\n",
      "Błąd takiego przybliżenia to: 0.11694228168853815\n",
      "Dla h = 2.220446049250313e-16 52, wartość przybliżanej pochodnej wynosi: -0.5\n",
      "Błąd takiego przybliżenia to: 0.6169422816885382\n",
      "Dla h = 1.1102230246251565e-16 53, wartość przybliżanej pochodnej wynosi: 0.0\n",
      "Błąd takiego przybliżenia to: 0.11694228168853815\n",
      "Dla h = 5.551115123125783e-17 54, wartość przybliżanej pochodnej wynosi: 0.0\n",
      "Błąd takiego przybliżenia to: 0.11694228168853815\n",
      "\n",
      "Dokładna wartość pochodnej wynosi: 0.11694228168853815\n",
      "Najlepsze przybliżenie pochodnej wynosi: 0.11694228649139404 z błędem 4.802855890773117e-9\n"
     ]
    }
   ],
   "source": [
    "compare_derivative(1.0)"
   ]
  },
  {
   "cell_type": "markdown",
   "metadata": {},
   "source": [
    "Zmniejszanie $h$ od pewnego momentu (dla n = 28) nie powoduje poprawy wyniku. Przyczyną jest suma pojawiająca się we wzorze $f(x_0 + h)$, która jest podatna na zjawisko pochłaniania (dla podanej arytmetyki zachodzi $1 + h = 1$, dla bardzo małych $h$). Powinniśmy zatem unikać dodawania liczb znacząco rózniących się rzędem. "
   ]
  }
 ],
 "metadata": {
  "kernelspec": {
   "display_name": "Julia 1.5.2",
   "language": "julia",
   "name": "julia-1.5"
  },
  "language_info": {
   "file_extension": ".jl",
   "mimetype": "application/julia",
   "name": "julia",
   "version": "1.5.2"
  }
 },
 "nbformat": 4,
 "nbformat_minor": 4
}
